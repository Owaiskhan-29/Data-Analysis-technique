{
 "cells": [
  {
   "cell_type": "code",
   "execution_count": 99,
   "metadata": {},
   "outputs": [],
   "source": [
    "import pandas as pd\n",
    "json1 = pd.read_json(\"mobie_reviews.json\")"
   ]
  },
  {
   "cell_type": "code",
   "execution_count": 100,
   "metadata": {},
   "outputs": [
    {
     "data": {
      "text/html": [
       "<div>\n",
       "<style scoped>\n",
       "    .dataframe tbody tr th:only-of-type {\n",
       "        vertical-align: middle;\n",
       "    }\n",
       "\n",
       "    .dataframe tbody tr th {\n",
       "        vertical-align: top;\n",
       "    }\n",
       "\n",
       "    .dataframe thead th {\n",
       "        text-align: right;\n",
       "    }\n",
       "</style>\n",
       "<table border=\"1\" class=\"dataframe\">\n",
       "  <thead>\n",
       "    <tr style=\"text-align: right;\">\n",
       "      <th></th>\n",
       "      <th>name</th>\n",
       "      <th>url</th>\n",
       "      <th>price</th>\n",
       "      <th>reviews</th>\n",
       "    </tr>\n",
       "  </thead>\n",
       "  <tbody>\n",
       "    <tr>\n",
       "      <td>0</td>\n",
       "      <td>Samsung Galaxy A50 (Blue, 4GB RAM, 64GB Storag...</td>\n",
       "      <td>https://www.amazon.in/dp/B07KXBMYCW</td>\n",
       "      <td>₹ 16999.00</td>\n",
       "      <td>[{'review_posted_date': '05 Mar 2019', 'review...</td>\n",
       "    </tr>\n",
       "    <tr>\n",
       "      <td>1</td>\n",
       "      <td>Realme 3 Pro (Nitro Blue, 4GB RAM, 64GB Storage)</td>\n",
       "      <td>https://www.amazon.in/dp/B07QZZRD4N</td>\n",
       "      <td></td>\n",
       "      <td>[{'review_posted_date': '24 Jun 2019', 'review...</td>\n",
       "    </tr>\n",
       "    <tr>\n",
       "      <td>2</td>\n",
       "      <td>Samsung Guru FM Plus (SM-B110E/D, Black)</td>\n",
       "      <td>https://www.amazon.in/dp/B00ZWSB32O</td>\n",
       "      <td>₹ 1500.00</td>\n",
       "      <td>[{'review_posted_date': '20 Jul 2018', 'review...</td>\n",
       "    </tr>\n",
       "    <tr>\n",
       "      <td>3</td>\n",
       "      <td>Honor 10 Lite (Sapphire Blue, 6GB RAM, 64GB St...</td>\n",
       "      <td>https://www.amazon.in/dp/B07NDCD9K9</td>\n",
       "      <td>₹ 14999.00</td>\n",
       "      <td>[{'review_posted_date': '04 May 2019', 'review...</td>\n",
       "    </tr>\n",
       "    <tr>\n",
       "      <td>4</td>\n",
       "      <td>Apple iPhone Xs (64GB) - Gold</td>\n",
       "      <td>https://www.amazon.in/dp/B07J316BT2</td>\n",
       "      <td>₹ 84990.00</td>\n",
       "      <td>[{'review_posted_date': '09 Mar 2019', 'review...</td>\n",
       "    </tr>\n",
       "  </tbody>\n",
       "</table>\n",
       "</div>"
      ],
      "text/plain": [
       "                                                name  \\\n",
       "0  Samsung Galaxy A50 (Blue, 4GB RAM, 64GB Storag...   \n",
       "1   Realme 3 Pro (Nitro Blue, 4GB RAM, 64GB Storage)   \n",
       "2           Samsung Guru FM Plus (SM-B110E/D, Black)   \n",
       "3  Honor 10 Lite (Sapphire Blue, 6GB RAM, 64GB St...   \n",
       "4                      Apple iPhone Xs (64GB) - Gold   \n",
       "\n",
       "                                   url       price  \\\n",
       "0  https://www.amazon.in/dp/B07KXBMYCW  ₹ 16999.00   \n",
       "1  https://www.amazon.in/dp/B07QZZRD4N               \n",
       "2  https://www.amazon.in/dp/B00ZWSB32O   ₹ 1500.00   \n",
       "3  https://www.amazon.in/dp/B07NDCD9K9  ₹ 14999.00   \n",
       "4  https://www.amazon.in/dp/B07J316BT2  ₹ 84990.00   \n",
       "\n",
       "                                             reviews  \n",
       "0  [{'review_posted_date': '05 Mar 2019', 'review...  \n",
       "1  [{'review_posted_date': '24 Jun 2019', 'review...  \n",
       "2  [{'review_posted_date': '20 Jul 2018', 'review...  \n",
       "3  [{'review_posted_date': '04 May 2019', 'review...  \n",
       "4  [{'review_posted_date': '09 Mar 2019', 'review...  "
      ]
     },
     "execution_count": 100,
     "metadata": {},
     "output_type": "execute_result"
    }
   ],
   "source": [
    "json1.head()"
   ]
  },
  {
   "cell_type": "code",
   "execution_count": 101,
   "metadata": {},
   "outputs": [
    {
     "data": {
      "text/html": [
       "<div>\n",
       "<style scoped>\n",
       "    .dataframe tbody tr th:only-of-type {\n",
       "        vertical-align: middle;\n",
       "    }\n",
       "\n",
       "    .dataframe tbody tr th {\n",
       "        vertical-align: top;\n",
       "    }\n",
       "\n",
       "    .dataframe thead th {\n",
       "        text-align: right;\n",
       "    }\n",
       "</style>\n",
       "<table border=\"1\" class=\"dataframe\">\n",
       "  <thead>\n",
       "    <tr style=\"text-align: right;\">\n",
       "      <th></th>\n",
       "      <th>name</th>\n",
       "      <th>url</th>\n",
       "      <th>price</th>\n",
       "      <th>reviews</th>\n",
       "    </tr>\n",
       "  </thead>\n",
       "  <tbody>\n",
       "    <tr>\n",
       "      <td>233</td>\n",
       "      <td>Apple iPhone XR (64GB) (Product) RED</td>\n",
       "      <td>https://www.amazon.in/dp/B07JWVNKRL</td>\n",
       "      <td>₹ 47900.00</td>\n",
       "      <td>[{'review_posted_date': '12 Dec 2018', 'review...</td>\n",
       "    </tr>\n",
       "    <tr>\n",
       "      <td>234</td>\n",
       "      <td>Redmi Note 5 Pro (Black, 4GB RAM, 64GB Storage)</td>\n",
       "      <td>https://www.amazon.in/dp/B07FK4DNRS</td>\n",
       "      <td>₹ 10999.00</td>\n",
       "      <td>[{'review_posted_date': '27 Nov 2018', 'review...</td>\n",
       "    </tr>\n",
       "    <tr>\n",
       "      <td>235</td>\n",
       "      <td>Xiaomi Mi A3 (More Than White, 4GB RAM, AMOLED...</td>\n",
       "      <td>https://www.amazon.in/dp/B07HGJKDVJ</td>\n",
       "      <td></td>\n",
       "      <td>[{'review_posted_date': '15 Oct 2019', 'review...</td>\n",
       "    </tr>\n",
       "    <tr>\n",
       "      <td>236</td>\n",
       "      <td>Samsung Galaxy M30 (Gradation Blue, 6+128 GB)</td>\n",
       "      <td>https://www.amazon.in/dp/B07HGMLBZ1</td>\n",
       "      <td></td>\n",
       "      <td>[{'review_posted_date': '14 Mar 2019', 'review...</td>\n",
       "    </tr>\n",
       "    <tr>\n",
       "      <td>237</td>\n",
       "      <td>Samsung Galaxy M10s (Stainless Black, 3GB RAM,...</td>\n",
       "      <td>https://www.amazon.in/dp/B07HGHZ2K9</td>\n",
       "      <td></td>\n",
       "      <td>[{'review_posted_date': '02 Oct 2019', 'review...</td>\n",
       "    </tr>\n",
       "  </tbody>\n",
       "</table>\n",
       "</div>"
      ],
      "text/plain": [
       "                                                  name  \\\n",
       "233               Apple iPhone XR (64GB) (Product) RED   \n",
       "234    Redmi Note 5 Pro (Black, 4GB RAM, 64GB Storage)   \n",
       "235  Xiaomi Mi A3 (More Than White, 4GB RAM, AMOLED...   \n",
       "236      Samsung Galaxy M30 (Gradation Blue, 6+128 GB)   \n",
       "237  Samsung Galaxy M10s (Stainless Black, 3GB RAM,...   \n",
       "\n",
       "                                     url       price  \\\n",
       "233  https://www.amazon.in/dp/B07JWVNKRL  ₹ 47900.00   \n",
       "234  https://www.amazon.in/dp/B07FK4DNRS  ₹ 10999.00   \n",
       "235  https://www.amazon.in/dp/B07HGJKDVJ               \n",
       "236  https://www.amazon.in/dp/B07HGMLBZ1               \n",
       "237  https://www.amazon.in/dp/B07HGHZ2K9               \n",
       "\n",
       "                                               reviews  \n",
       "233  [{'review_posted_date': '12 Dec 2018', 'review...  \n",
       "234  [{'review_posted_date': '27 Nov 2018', 'review...  \n",
       "235  [{'review_posted_date': '15 Oct 2019', 'review...  \n",
       "236  [{'review_posted_date': '14 Mar 2019', 'review...  \n",
       "237  [{'review_posted_date': '02 Oct 2019', 'review...  "
      ]
     },
     "execution_count": 101,
     "metadata": {},
     "output_type": "execute_result"
    }
   ],
   "source": [
    "json1.tail()"
   ]
  },
  {
   "cell_type": "code",
   "execution_count": 102,
   "metadata": {},
   "outputs": [
    {
     "data": {
      "text/plain": [
       "(238, 4)"
      ]
     },
     "execution_count": 102,
     "metadata": {},
     "output_type": "execute_result"
    }
   ],
   "source": [
    "json1.shape"
   ]
  },
  {
   "cell_type": "code",
   "execution_count": 103,
   "metadata": {},
   "outputs": [
    {
     "data": {
      "text/plain": [
       "pandas.core.frame.DataFrame"
      ]
     },
     "execution_count": 103,
     "metadata": {},
     "output_type": "execute_result"
    }
   ],
   "source": [
    "type(json1)"
   ]
  },
  {
   "cell_type": "code",
   "execution_count": 104,
   "metadata": {},
   "outputs": [
    {
     "data": {
      "text/plain": [
       "[{'review_posted_date': '24 Jun 2019',\n",
       "  'review_author': 'Bhaskar Bora',\n",
       "  'review_header': 'Everything is up to the mark!',\n",
       "  'review_text': \"I ordered the 6 GB/128 GB variant on 20th June and received it on 22nd June with Amazon prime. Packaging was nice.Here is a short review of the product- Pros: 1) Excellent cameras.(both front and rear) 2) Amazing battery backup and ultra fast charging ( lasts more than a full day with more than moderate usage) 3) Screen resolution is satisfying ( FHD+) 4) Blazing fast while operating with almost any app. 5) Both SIM 4g mode at the same time. 6) Dedicated memory card slot. 7) Sound quality is superb.( Both with and without earphones) 8) Killer design and colour. Cons: Haven't found any till date. Go for it! You won't regret.👍\",\n",
       "  'review_rating': '5.0 '},\n",
       " {'review_posted_date': '09 May 2019',\n",
       "  'review_author': 'Prashanthi',\n",
       "  'review_header': 'Most worthy in my budget',\n",
       "  'review_text': 'Amazing features.. the phone has all the qualities to my expectation. Camera and design of the phone is ultimate. Thank you Real Me for bringing the best phone ever... Thank you Amazon for the safe delivery',\n",
       "  'review_rating': '5.0 '},\n",
       " {'review_posted_date': '25 Jun 2019',\n",
       "  'review_author': 'Suresh D',\n",
       "  'review_header': 'Best mobile...',\n",
       "  'review_text': 'Best mobile. Recommend to by. Cost is 2500 higher than others. May be because of shortage.',\n",
       "  'review_rating': '4.0 '},\n",
       " {'review_posted_date': '25 Oct 2019',\n",
       "  'review_author': 'Karmic Voice',\n",
       "  'review_header': 'Great value for money phone. 😍',\n",
       "  'review_text': \"have been using the phone for the past 2 and half months and quite happy with its performance. PROS....... It has vooc charger included. Which is very good in this price segment. The phone gets fully charged and in just one hour 20 minutes. It has a dedicated dual Sim and microSD card slot The speakers are good and audio is loud and clear. The front camera or the selfie camera of this phone is good and Performed very well in lowlight. It has slow Motion video recording option which even redmi is not giving so the only phone in this category to give a Slo-mo. It can support HDR content in the videos It supports fortnite battle royale game in high graphics. Supports pubg well...so you gamers out there.....this is a better choice The battery life is good and on average usage it lasts for over a day. Major cons The portrait mode is average. The EIS is not effective as the videos are not that stable The colours are bit over saturated After playing high graphic games for an hour or so there is some heating Build – .Realme 3 pro has a polycarbonate body which needs to be protected by a good cover to save it from scratches. But the blue colour is quite attractive with its S shaped gradient finish on Realme. And the cover provided is good enough, no need to buy a separate one Display – is great and the colors pop and the bezels are small The processors – its good and fast and the apps open fast and multitasking is smooth It has android 9 pie and the security patches are up to Fingerprint sensor and face unlock are both good. The camera is capable of giving good pictures at this price point. The pictures in realme are bit saturated ( you can adjust it while editing) but the performance in lowlight conditions or night photography is lot better. Its 16+ 5 MP lens give very good pictures at this price The front camera of realme is quite good. It can shoot 4K videos and has EIS but videos are not that stable. It has USB port for charging but that's a minor con. Having talked of its pros and cons and with the price dropping further this has become the best you can get in this price point and you should grab the deal without any doubt. Do express if you find the review helpful\",\n",
       "  'review_rating': '5.0 '},\n",
       " {'review_posted_date': '15 Jul 2019',\n",
       "  'review_author': 'Vasudev',\n",
       "  'review_header': 'Excellent Product',\n",
       "  'review_text': 'Excellent battery life. I play games , listen to music still I charge once in 30 hrs. I use it for music composition purpose too. Excellent display. Ultimate camera quality. This photo is of Kodagu District Karnataka. I purchased the same for my mother too. She too likes it. Speaker quality is decent . It is worth for the price.',\n",
       "  'review_rating': '5.0 '},\n",
       " {'review_posted_date': '04 Aug 2019',\n",
       "  'review_author': 'Sharad',\n",
       "  'review_header': 'Worthy at this price segment',\n",
       "  'review_text': \"Okay I'm writing a detailed review of the product with pros and cons. Pros :- 1. The VoCC charger is a great accessory and it is actually charging up the device very fast (0-75% in 30 mins) 2. The Snapdragon chipset 710 is powerful enough to tackle high end games like Ashfalt Nd PUBG Mobile. 3. The Color OS is beautifully designed unlike the stock Android OS its has colorful designs and layouts. 4. Daylight photography is quite natural with a slight added saturation on photos which makes them punchy. The surprise 25MP Selfie Camera is absolutely stunning. 5. Dedicated SD Card support + 2 Sim Card Slots Cons :- 1.The back body is the same old polycarbonate though has a shiny finish but the premium thing is missing. 2. No Notifications LED light which is absolutely shocking. 3. The company claims to give 920fps slo-mo videos but trust me its just a gimmick. 4. A mild heating issue is there while playing high graphic games for more than 30-40mins\",\n",
       "  'review_rating': '4.0 '},\n",
       " {'review_posted_date': '24 Jul 2019',\n",
       "  'review_author': 'Sandeep Kumar',\n",
       "  'review_header': 'Very bad techinal support and not satisfied with quality',\n",
       "  'review_text': \"Night mode camera very bad quality. Front camera and rear camera very bad. I raise a request for change. A technical person send by you but he say me he don't know about this phone function. He will visit again after 2 days\",\n",
       "  'review_rating': '1.0 '},\n",
       " {'review_posted_date': '24 Jun 2019',\n",
       "  'review_author': 'Ankush cobra',\n",
       "  'review_header': 'Fantastic,i love it',\n",
       "  'review_text': 'Amezing phone brilliant back camera great looks',\n",
       "  'review_rating': '5.0 '}]"
      ]
     },
     "execution_count": 104,
     "metadata": {},
     "output_type": "execute_result"
    }
   ],
   "source": [
    "json1['reviews'][1]"
   ]
  },
  {
   "cell_type": "code",
   "execution_count": 105,
   "metadata": {},
   "outputs": [
    {
     "data": {
      "text/plain": [
       "{'review_posted_date': '09 May 2019',\n",
       " 'review_author': 'Prashanthi',\n",
       " 'review_header': 'Most worthy in my budget',\n",
       " 'review_text': 'Amazing features.. the phone has all the qualities to my expectation. Camera and design of the phone is ultimate. Thank you Real Me for bringing the best phone ever... Thank you Amazon for the safe delivery',\n",
       " 'review_rating': '5.0 '}"
      ]
     },
     "execution_count": 105,
     "metadata": {},
     "output_type": "execute_result"
    }
   ],
   "source": [
    "json1['reviews'][1][1]"
   ]
  },
  {
   "cell_type": "code",
   "execution_count": 106,
   "metadata": {},
   "outputs": [],
   "source": [
    "review = json1.get('reviews')"
   ]
  },
  {
   "cell_type": "code",
   "execution_count": null,
   "metadata": {},
   "outputs": [],
   "source": []
  },
  {
   "cell_type": "code",
   "execution_count": 107,
   "metadata": {},
   "outputs": [
    {
     "ename": "NameError",
     "evalue": "name 'df' is not defined",
     "output_type": "error",
     "traceback": [
      "\u001b[0;31m---------------------------------------------------------------------------\u001b[0m",
      "\u001b[0;31mNameError\u001b[0m                                 Traceback (most recent call last)",
      "\u001b[0;32m<ipython-input-107-20bb20ac99cd>\u001b[0m in \u001b[0;36m<module>\u001b[0;34m\u001b[0m\n\u001b[0;32m----> 1\u001b[0;31m \u001b[0mdf\u001b[0m\u001b[0;34m.\u001b[0m\u001b[0miterrows\u001b[0m\u001b[0;34m(\u001b[0m\u001b[0;34m)\u001b[0m\u001b[0;34m\u001b[0m\u001b[0;34m\u001b[0m\u001b[0m\n\u001b[0m\u001b[1;32m      2\u001b[0m \u001b[0mi\u001b[0m\u001b[0;34m=\u001b[0m\u001b[0;36m0\u001b[0m\u001b[0;34m\u001b[0m\u001b[0;34m\u001b[0m\u001b[0m\n\u001b[1;32m      3\u001b[0m \u001b[0;32mfor\u001b[0m \u001b[0meach\u001b[0m \u001b[0;32min\u001b[0m \u001b[0mjson1\u001b[0m\u001b[0;34m.\u001b[0m\u001b[0mrows\u001b[0m\u001b[0;34m:\u001b[0m\u001b[0;34m\u001b[0m\u001b[0;34m\u001b[0m\u001b[0m\n\u001b[1;32m      4\u001b[0m     \u001b[0;32mfor\u001b[0m \u001b[0meach\u001b[0m \u001b[0;32min\u001b[0m \u001b[0mreview\u001b[0m\u001b[0;34m:\u001b[0m\u001b[0;34m\u001b[0m\u001b[0;34m\u001b[0m\u001b[0m\n\u001b[1;32m      5\u001b[0m         \u001b[0;32mfor\u001b[0m \u001b[0meach1\u001b[0m \u001b[0;32min\u001b[0m \u001b[0meach\u001b[0m\u001b[0;34m:\u001b[0m\u001b[0;34m\u001b[0m\u001b[0;34m\u001b[0m\u001b[0m\n",
      "\u001b[0;31mNameError\u001b[0m: name 'df' is not defined"
     ]
    }
   ],
   "source": [
    "df.iterrows()\n",
    "i=0\n",
    "for each in json1.rows:\n",
    "    for each in review:\n",
    "        for each1 in each:\n",
    "            for each2 in each1:\n",
    "                if each2 == 'review_text':\n",
    "                    i += 1\n",
    "                    col = str('review_text'+str(i))\n",
    "                    print(col)\n",
    "                else:\n",
    "                    pass\n",
    "            break;\n",
    "\n",
    "print(i)    "
   ]
  },
  {
   "cell_type": "code",
   "execution_count": 108,
   "metadata": {},
   "outputs": [],
   "source": [
    "for every in json1.iterrows():\n",
    "    #print(every[1][3])\n",
    "    j = 0\n",
    "    i = 0\n",
    "    for each in every[1][3]:\n",
    "        for each1 in each:\n",
    "            for each2 in each1:\n",
    "                if each2 == 'review_text':\n",
    "                    print(each2)\n",
    "                    #i += 1\n",
    "                    #col = str('review_text'+str(i))\n",
    "                    #json1['col'][j] = each1['review_text']\n",
    "    j += 1\n",
    "    "
   ]
  },
  {
   "cell_type": "code",
   "execution_count": 109,
   "metadata": {},
   "outputs": [
    {
     "data": {
      "text/html": [
       "<div>\n",
       "<style scoped>\n",
       "    .dataframe tbody tr th:only-of-type {\n",
       "        vertical-align: middle;\n",
       "    }\n",
       "\n",
       "    .dataframe tbody tr th {\n",
       "        vertical-align: top;\n",
       "    }\n",
       "\n",
       "    .dataframe thead th {\n",
       "        text-align: right;\n",
       "    }\n",
       "</style>\n",
       "<table border=\"1\" class=\"dataframe\">\n",
       "  <thead>\n",
       "    <tr style=\"text-align: right;\">\n",
       "      <th></th>\n",
       "      <th>name</th>\n",
       "      <th>url</th>\n",
       "      <th>price</th>\n",
       "      <th>reviews</th>\n",
       "    </tr>\n",
       "  </thead>\n",
       "  <tbody>\n",
       "    <tr>\n",
       "      <td>0</td>\n",
       "      <td>Samsung Galaxy A50 (Blue, 4GB RAM, 64GB Storag...</td>\n",
       "      <td>https://www.amazon.in/dp/B07KXBMYCW</td>\n",
       "      <td>₹ 16999.00</td>\n",
       "      <td>[{'review_posted_date': '05 Mar 2019', 'review...</td>\n",
       "    </tr>\n",
       "    <tr>\n",
       "      <td>1</td>\n",
       "      <td>Realme 3 Pro (Nitro Blue, 4GB RAM, 64GB Storage)</td>\n",
       "      <td>https://www.amazon.in/dp/B07QZZRD4N</td>\n",
       "      <td></td>\n",
       "      <td>[{'review_posted_date': '24 Jun 2019', 'review...</td>\n",
       "    </tr>\n",
       "    <tr>\n",
       "      <td>2</td>\n",
       "      <td>Samsung Guru FM Plus (SM-B110E/D, Black)</td>\n",
       "      <td>https://www.amazon.in/dp/B00ZWSB32O</td>\n",
       "      <td>₹ 1500.00</td>\n",
       "      <td>[{'review_posted_date': '20 Jul 2018', 'review...</td>\n",
       "    </tr>\n",
       "    <tr>\n",
       "      <td>3</td>\n",
       "      <td>Honor 10 Lite (Sapphire Blue, 6GB RAM, 64GB St...</td>\n",
       "      <td>https://www.amazon.in/dp/B07NDCD9K9</td>\n",
       "      <td>₹ 14999.00</td>\n",
       "      <td>[{'review_posted_date': '04 May 2019', 'review...</td>\n",
       "    </tr>\n",
       "    <tr>\n",
       "      <td>4</td>\n",
       "      <td>Apple iPhone Xs (64GB) - Gold</td>\n",
       "      <td>https://www.amazon.in/dp/B07J316BT2</td>\n",
       "      <td>₹ 84990.00</td>\n",
       "      <td>[{'review_posted_date': '09 Mar 2019', 'review...</td>\n",
       "    </tr>\n",
       "  </tbody>\n",
       "</table>\n",
       "</div>"
      ],
      "text/plain": [
       "                                                name  \\\n",
       "0  Samsung Galaxy A50 (Blue, 4GB RAM, 64GB Storag...   \n",
       "1   Realme 3 Pro (Nitro Blue, 4GB RAM, 64GB Storage)   \n",
       "2           Samsung Guru FM Plus (SM-B110E/D, Black)   \n",
       "3  Honor 10 Lite (Sapphire Blue, 6GB RAM, 64GB St...   \n",
       "4                      Apple iPhone Xs (64GB) - Gold   \n",
       "\n",
       "                                   url       price  \\\n",
       "0  https://www.amazon.in/dp/B07KXBMYCW  ₹ 16999.00   \n",
       "1  https://www.amazon.in/dp/B07QZZRD4N               \n",
       "2  https://www.amazon.in/dp/B00ZWSB32O   ₹ 1500.00   \n",
       "3  https://www.amazon.in/dp/B07NDCD9K9  ₹ 14999.00   \n",
       "4  https://www.amazon.in/dp/B07J316BT2  ₹ 84990.00   \n",
       "\n",
       "                                             reviews  \n",
       "0  [{'review_posted_date': '05 Mar 2019', 'review...  \n",
       "1  [{'review_posted_date': '24 Jun 2019', 'review...  \n",
       "2  [{'review_posted_date': '20 Jul 2018', 'review...  \n",
       "3  [{'review_posted_date': '04 May 2019', 'review...  \n",
       "4  [{'review_posted_date': '09 Mar 2019', 'review...  "
      ]
     },
     "execution_count": 109,
     "metadata": {},
     "output_type": "execute_result"
    }
   ],
   "source": [
    "json1.head()"
   ]
  },
  {
   "cell_type": "code",
   "execution_count": null,
   "metadata": {},
   "outputs": [],
   "source": [
    "json"
   ]
  }
 ],
 "metadata": {
  "kernelspec": {
   "display_name": "Python 3 (ipykernel)",
   "language": "python",
   "name": "python3"
  },
  "language_info": {
   "codemirror_mode": {
    "name": "ipython",
    "version": 3
   },
   "file_extension": ".py",
   "mimetype": "text/x-python",
   "name": "python",
   "nbconvert_exporter": "python",
   "pygments_lexer": "ipython3",
   "version": "3.9.12"
  }
 },
 "nbformat": 4,
 "nbformat_minor": 2
}
