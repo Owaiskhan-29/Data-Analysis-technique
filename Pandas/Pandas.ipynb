{
 "cells": [
  {
   "cell_type": "code",
   "execution_count": 1,
   "id": "debf5dba",
   "metadata": {},
   "outputs": [],
   "source": [
    "import pandas as pd"
   ]
  },
  {
   "cell_type": "code",
   "execution_count": 2,
   "id": "5cbe0505",
   "metadata": {},
   "outputs": [],
   "source": [
    "df=pd.read_csv(\"https://raw.githubusercontent.com/harissriramoju/DataScience-Samples/master/scientists.csv\")"
   ]
  },
  {
   "cell_type": "code",
   "execution_count": 3,
   "id": "e5fabde4",
   "metadata": {},
   "outputs": [
    {
     "data": {
      "text/html": [
       "<div>\n",
       "<style scoped>\n",
       "    .dataframe tbody tr th:only-of-type {\n",
       "        vertical-align: middle;\n",
       "    }\n",
       "\n",
       "    .dataframe tbody tr th {\n",
       "        vertical-align: top;\n",
       "    }\n",
       "\n",
       "    .dataframe thead th {\n",
       "        text-align: right;\n",
       "    }\n",
       "</style>\n",
       "<table border=\"1\" class=\"dataframe\">\n",
       "  <thead>\n",
       "    <tr style=\"text-align: right;\">\n",
       "      <th></th>\n",
       "      <th>Name</th>\n",
       "      <th>Born</th>\n",
       "      <th>Died</th>\n",
       "      <th>Age</th>\n",
       "      <th>Occupation</th>\n",
       "    </tr>\n",
       "  </thead>\n",
       "  <tbody>\n",
       "    <tr>\n",
       "      <th>0</th>\n",
       "      <td>Rosaline Franklin</td>\n",
       "      <td>1920-07-25</td>\n",
       "      <td>1958-04-16</td>\n",
       "      <td>37</td>\n",
       "      <td>Chemist</td>\n",
       "    </tr>\n",
       "    <tr>\n",
       "      <th>1</th>\n",
       "      <td>William Gosset</td>\n",
       "      <td>1876-06-13</td>\n",
       "      <td>1937-10-16</td>\n",
       "      <td>61</td>\n",
       "      <td>Statistician</td>\n",
       "    </tr>\n",
       "    <tr>\n",
       "      <th>2</th>\n",
       "      <td>Florence Nightingale</td>\n",
       "      <td>1820-05-12</td>\n",
       "      <td>1910-08-13</td>\n",
       "      <td>90</td>\n",
       "      <td>Nurse</td>\n",
       "    </tr>\n",
       "    <tr>\n",
       "      <th>3</th>\n",
       "      <td>Marie Curie</td>\n",
       "      <td>1867-11-07</td>\n",
       "      <td>1934-07-04</td>\n",
       "      <td>66</td>\n",
       "      <td>Chemist</td>\n",
       "    </tr>\n",
       "    <tr>\n",
       "      <th>4</th>\n",
       "      <td>Rachel Carson</td>\n",
       "      <td>1907-05-27</td>\n",
       "      <td>1964-04-14</td>\n",
       "      <td>56</td>\n",
       "      <td>Biologist</td>\n",
       "    </tr>\n",
       "    <tr>\n",
       "      <th>5</th>\n",
       "      <td>John Snow</td>\n",
       "      <td>1813-03-15</td>\n",
       "      <td>1858-06-16</td>\n",
       "      <td>45</td>\n",
       "      <td>Physician</td>\n",
       "    </tr>\n",
       "    <tr>\n",
       "      <th>6</th>\n",
       "      <td>Alan Turing</td>\n",
       "      <td>1912-06-23</td>\n",
       "      <td>1954-06-07</td>\n",
       "      <td>41</td>\n",
       "      <td>Computer Scientist</td>\n",
       "    </tr>\n",
       "    <tr>\n",
       "      <th>7</th>\n",
       "      <td>Johann Gauss</td>\n",
       "      <td>1777-04-30</td>\n",
       "      <td>1855-02-23</td>\n",
       "      <td>77</td>\n",
       "      <td>Mathematician</td>\n",
       "    </tr>\n",
       "  </tbody>\n",
       "</table>\n",
       "</div>"
      ],
      "text/plain": [
       "                   Name        Born        Died  Age          Occupation\n",
       "0     Rosaline Franklin  1920-07-25  1958-04-16   37             Chemist\n",
       "1        William Gosset  1876-06-13  1937-10-16   61        Statistician\n",
       "2  Florence Nightingale  1820-05-12  1910-08-13   90               Nurse\n",
       "3           Marie Curie  1867-11-07  1934-07-04   66             Chemist\n",
       "4         Rachel Carson  1907-05-27  1964-04-14   56           Biologist\n",
       "5             John Snow  1813-03-15  1858-06-16   45           Physician\n",
       "6           Alan Turing  1912-06-23  1954-06-07   41  Computer Scientist\n",
       "7          Johann Gauss  1777-04-30  1855-02-23   77       Mathematician"
      ]
     },
     "execution_count": 3,
     "metadata": {},
     "output_type": "execute_result"
    }
   ],
   "source": [
    "df"
   ]
  },
  {
   "cell_type": "code",
   "execution_count": 4,
   "id": "0a377939",
   "metadata": {},
   "outputs": [
    {
     "data": {
      "text/plain": [
       "(8, 5)"
      ]
     },
     "execution_count": 4,
     "metadata": {},
     "output_type": "execute_result"
    }
   ],
   "source": [
    "df.shape\n"
   ]
  },
  {
   "cell_type": "code",
   "execution_count": 5,
   "id": "6530ebb1",
   "metadata": {},
   "outputs": [
    {
     "name": "stdout",
     "output_type": "stream",
     "text": [
      "<class 'pandas.core.frame.DataFrame'>\n",
      "RangeIndex: 8 entries, 0 to 7\n",
      "Data columns (total 5 columns):\n",
      " #   Column      Non-Null Count  Dtype \n",
      "---  ------      --------------  ----- \n",
      " 0   Name        8 non-null      object\n",
      " 1   Born        8 non-null      object\n",
      " 2   Died        8 non-null      object\n",
      " 3   Age         8 non-null      int64 \n",
      " 4   Occupation  8 non-null      object\n",
      "dtypes: int64(1), object(4)\n",
      "memory usage: 448.0+ bytes\n"
     ]
    }
   ],
   "source": [
    "df.info()"
   ]
  },
  {
   "cell_type": "code",
   "execution_count": 6,
   "id": "1c60d69d",
   "metadata": {},
   "outputs": [
    {
     "data": {
      "text/plain": [
       "pandas.core.frame.DataFrame"
      ]
     },
     "execution_count": 6,
     "metadata": {},
     "output_type": "execute_result"
    }
   ],
   "source": [
    "type(df)"
   ]
  },
  {
   "cell_type": "code",
   "execution_count": 7,
   "id": "9013e9c8",
   "metadata": {},
   "outputs": [
    {
     "data": {
      "text/plain": [
       "(8,)"
      ]
     },
     "execution_count": 7,
     "metadata": {},
     "output_type": "execute_result"
    }
   ],
   "source": [
    "\n",
    "df.Born.shape"
   ]
  },
  {
   "cell_type": "code",
   "execution_count": 8,
   "id": "21371b87",
   "metadata": {},
   "outputs": [
    {
     "data": {
      "text/plain": [
       "pandas.core.series.Series"
      ]
     },
     "execution_count": 8,
     "metadata": {},
     "output_type": "execute_result"
    }
   ],
   "source": [
    "type(df.Born)"
   ]
  },
  {
   "cell_type": "code",
   "execution_count": 9,
   "id": "4ef19648",
   "metadata": {},
   "outputs": [
    {
     "data": {
      "text/plain": [
       "dtype('O')"
      ]
     },
     "execution_count": 9,
     "metadata": {},
     "output_type": "execute_result"
    }
   ],
   "source": [
    "df.Born.dtype"
   ]
  },
  {
   "cell_type": "code",
   "execution_count": 10,
   "id": "d82ff575",
   "metadata": {},
   "outputs": [
    {
     "data": {
      "text/html": [
       "<div>\n",
       "<style scoped>\n",
       "    .dataframe tbody tr th:only-of-type {\n",
       "        vertical-align: middle;\n",
       "    }\n",
       "\n",
       "    .dataframe tbody tr th {\n",
       "        vertical-align: top;\n",
       "    }\n",
       "\n",
       "    .dataframe thead th {\n",
       "        text-align: right;\n",
       "    }\n",
       "</style>\n",
       "<table border=\"1\" class=\"dataframe\">\n",
       "  <thead>\n",
       "    <tr style=\"text-align: right;\">\n",
       "      <th></th>\n",
       "      <th>Name</th>\n",
       "      <th>Born</th>\n",
       "      <th>Died</th>\n",
       "      <th>Age</th>\n",
       "      <th>Occupation</th>\n",
       "    </tr>\n",
       "  </thead>\n",
       "  <tbody>\n",
       "    <tr>\n",
       "      <th>0</th>\n",
       "      <td>Rosaline Franklin</td>\n",
       "      <td>1920-07-25</td>\n",
       "      <td>1958-04-16</td>\n",
       "      <td>37</td>\n",
       "      <td>Chemist</td>\n",
       "    </tr>\n",
       "    <tr>\n",
       "      <th>1</th>\n",
       "      <td>William Gosset</td>\n",
       "      <td>1876-06-13</td>\n",
       "      <td>1937-10-16</td>\n",
       "      <td>61</td>\n",
       "      <td>Statistician</td>\n",
       "    </tr>\n",
       "    <tr>\n",
       "      <th>2</th>\n",
       "      <td>Florence Nightingale</td>\n",
       "      <td>1820-05-12</td>\n",
       "      <td>1910-08-13</td>\n",
       "      <td>90</td>\n",
       "      <td>Nurse</td>\n",
       "    </tr>\n",
       "    <tr>\n",
       "      <th>3</th>\n",
       "      <td>Marie Curie</td>\n",
       "      <td>1867-11-07</td>\n",
       "      <td>1934-07-04</td>\n",
       "      <td>66</td>\n",
       "      <td>Chemist</td>\n",
       "    </tr>\n",
       "    <tr>\n",
       "      <th>4</th>\n",
       "      <td>Rachel Carson</td>\n",
       "      <td>1907-05-27</td>\n",
       "      <td>1964-04-14</td>\n",
       "      <td>56</td>\n",
       "      <td>Biologist</td>\n",
       "    </tr>\n",
       "    <tr>\n",
       "      <th>5</th>\n",
       "      <td>John Snow</td>\n",
       "      <td>1813-03-15</td>\n",
       "      <td>1858-06-16</td>\n",
       "      <td>45</td>\n",
       "      <td>Physician</td>\n",
       "    </tr>\n",
       "    <tr>\n",
       "      <th>6</th>\n",
       "      <td>Alan Turing</td>\n",
       "      <td>1912-06-23</td>\n",
       "      <td>1954-06-07</td>\n",
       "      <td>41</td>\n",
       "      <td>Computer Scientist</td>\n",
       "    </tr>\n",
       "    <tr>\n",
       "      <th>7</th>\n",
       "      <td>Johann Gauss</td>\n",
       "      <td>1777-04-30</td>\n",
       "      <td>1855-02-23</td>\n",
       "      <td>77</td>\n",
       "      <td>Mathematician</td>\n",
       "    </tr>\n",
       "  </tbody>\n",
       "</table>\n",
       "</div>"
      ],
      "text/plain": [
       "                   Name        Born        Died  Age          Occupation\n",
       "0     Rosaline Franklin  1920-07-25  1958-04-16   37             Chemist\n",
       "1        William Gosset  1876-06-13  1937-10-16   61        Statistician\n",
       "2  Florence Nightingale  1820-05-12  1910-08-13   90               Nurse\n",
       "3           Marie Curie  1867-11-07  1934-07-04   66             Chemist\n",
       "4         Rachel Carson  1907-05-27  1964-04-14   56           Biologist\n",
       "5             John Snow  1813-03-15  1858-06-16   45           Physician\n",
       "6           Alan Turing  1912-06-23  1954-06-07   41  Computer Scientist\n",
       "7          Johann Gauss  1777-04-30  1855-02-23   77       Mathematician"
      ]
     },
     "execution_count": 10,
     "metadata": {},
     "output_type": "execute_result"
    }
   ],
   "source": [
    "df"
   ]
  },
  {
   "cell_type": "code",
   "execution_count": 11,
   "id": "48dbc00c",
   "metadata": {},
   "outputs": [],
   "source": [
    "df[\"Born_datetime\"]=pd.to_datetime(df[\"Born\"],format=\"%Y-%m-%d\")"
   ]
  },
  {
   "cell_type": "code",
   "execution_count": 12,
   "id": "aac1f9be",
   "metadata": {},
   "outputs": [
    {
     "data": {
      "text/html": [
       "<div>\n",
       "<style scoped>\n",
       "    .dataframe tbody tr th:only-of-type {\n",
       "        vertical-align: middle;\n",
       "    }\n",
       "\n",
       "    .dataframe tbody tr th {\n",
       "        vertical-align: top;\n",
       "    }\n",
       "\n",
       "    .dataframe thead th {\n",
       "        text-align: right;\n",
       "    }\n",
       "</style>\n",
       "<table border=\"1\" class=\"dataframe\">\n",
       "  <thead>\n",
       "    <tr style=\"text-align: right;\">\n",
       "      <th></th>\n",
       "      <th>Name</th>\n",
       "      <th>Born</th>\n",
       "      <th>Died</th>\n",
       "      <th>Age</th>\n",
       "      <th>Occupation</th>\n",
       "      <th>Born_datetime</th>\n",
       "    </tr>\n",
       "  </thead>\n",
       "  <tbody>\n",
       "    <tr>\n",
       "      <th>0</th>\n",
       "      <td>Rosaline Franklin</td>\n",
       "      <td>1920-07-25</td>\n",
       "      <td>1958-04-16</td>\n",
       "      <td>37</td>\n",
       "      <td>Chemist</td>\n",
       "      <td>1920-07-25</td>\n",
       "    </tr>\n",
       "    <tr>\n",
       "      <th>1</th>\n",
       "      <td>William Gosset</td>\n",
       "      <td>1876-06-13</td>\n",
       "      <td>1937-10-16</td>\n",
       "      <td>61</td>\n",
       "      <td>Statistician</td>\n",
       "      <td>1876-06-13</td>\n",
       "    </tr>\n",
       "    <tr>\n",
       "      <th>2</th>\n",
       "      <td>Florence Nightingale</td>\n",
       "      <td>1820-05-12</td>\n",
       "      <td>1910-08-13</td>\n",
       "      <td>90</td>\n",
       "      <td>Nurse</td>\n",
       "      <td>1820-05-12</td>\n",
       "    </tr>\n",
       "    <tr>\n",
       "      <th>3</th>\n",
       "      <td>Marie Curie</td>\n",
       "      <td>1867-11-07</td>\n",
       "      <td>1934-07-04</td>\n",
       "      <td>66</td>\n",
       "      <td>Chemist</td>\n",
       "      <td>1867-11-07</td>\n",
       "    </tr>\n",
       "    <tr>\n",
       "      <th>4</th>\n",
       "      <td>Rachel Carson</td>\n",
       "      <td>1907-05-27</td>\n",
       "      <td>1964-04-14</td>\n",
       "      <td>56</td>\n",
       "      <td>Biologist</td>\n",
       "      <td>1907-05-27</td>\n",
       "    </tr>\n",
       "    <tr>\n",
       "      <th>5</th>\n",
       "      <td>John Snow</td>\n",
       "      <td>1813-03-15</td>\n",
       "      <td>1858-06-16</td>\n",
       "      <td>45</td>\n",
       "      <td>Physician</td>\n",
       "      <td>1813-03-15</td>\n",
       "    </tr>\n",
       "    <tr>\n",
       "      <th>6</th>\n",
       "      <td>Alan Turing</td>\n",
       "      <td>1912-06-23</td>\n",
       "      <td>1954-06-07</td>\n",
       "      <td>41</td>\n",
       "      <td>Computer Scientist</td>\n",
       "      <td>1912-06-23</td>\n",
       "    </tr>\n",
       "    <tr>\n",
       "      <th>7</th>\n",
       "      <td>Johann Gauss</td>\n",
       "      <td>1777-04-30</td>\n",
       "      <td>1855-02-23</td>\n",
       "      <td>77</td>\n",
       "      <td>Mathematician</td>\n",
       "      <td>1777-04-30</td>\n",
       "    </tr>\n",
       "  </tbody>\n",
       "</table>\n",
       "</div>"
      ],
      "text/plain": [
       "                   Name        Born        Died  Age          Occupation  \\\n",
       "0     Rosaline Franklin  1920-07-25  1958-04-16   37             Chemist   \n",
       "1        William Gosset  1876-06-13  1937-10-16   61        Statistician   \n",
       "2  Florence Nightingale  1820-05-12  1910-08-13   90               Nurse   \n",
       "3           Marie Curie  1867-11-07  1934-07-04   66             Chemist   \n",
       "4         Rachel Carson  1907-05-27  1964-04-14   56           Biologist   \n",
       "5             John Snow  1813-03-15  1858-06-16   45           Physician   \n",
       "6           Alan Turing  1912-06-23  1954-06-07   41  Computer Scientist   \n",
       "7          Johann Gauss  1777-04-30  1855-02-23   77       Mathematician   \n",
       "\n",
       "  Born_datetime  \n",
       "0    1920-07-25  \n",
       "1    1876-06-13  \n",
       "2    1820-05-12  \n",
       "3    1867-11-07  \n",
       "4    1907-05-27  \n",
       "5    1813-03-15  \n",
       "6    1912-06-23  \n",
       "7    1777-04-30  "
      ]
     },
     "execution_count": 12,
     "metadata": {},
     "output_type": "execute_result"
    }
   ],
   "source": [
    "df"
   ]
  },
  {
   "cell_type": "code",
   "execution_count": 13,
   "id": "ade6df8c",
   "metadata": {},
   "outputs": [
    {
     "name": "stdout",
     "output_type": "stream",
     "text": [
      "<class 'pandas.core.frame.DataFrame'>\n",
      "RangeIndex: 8 entries, 0 to 7\n",
      "Data columns (total 6 columns):\n",
      " #   Column         Non-Null Count  Dtype         \n",
      "---  ------         --------------  -----         \n",
      " 0   Name           8 non-null      object        \n",
      " 1   Born           8 non-null      object        \n",
      " 2   Died           8 non-null      object        \n",
      " 3   Age            8 non-null      int64         \n",
      " 4   Occupation     8 non-null      object        \n",
      " 5   Born_datetime  8 non-null      datetime64[ns]\n",
      "dtypes: datetime64[ns](1), int64(1), object(4)\n",
      "memory usage: 512.0+ bytes\n"
     ]
    }
   ],
   "source": [
    "df.info()"
   ]
  },
  {
   "cell_type": "code",
   "execution_count": 14,
   "id": "31733b86",
   "metadata": {},
   "outputs": [],
   "source": [
    "df[\"Died_datetime\"]=pd.to_datetime(df[\"Died\"],format=\"%Y-%m-%d\")"
   ]
  },
  {
   "cell_type": "code",
   "execution_count": 15,
   "id": "c80b4961",
   "metadata": {},
   "outputs": [
    {
     "data": {
      "text/html": [
       "<div>\n",
       "<style scoped>\n",
       "    .dataframe tbody tr th:only-of-type {\n",
       "        vertical-align: middle;\n",
       "    }\n",
       "\n",
       "    .dataframe tbody tr th {\n",
       "        vertical-align: top;\n",
       "    }\n",
       "\n",
       "    .dataframe thead th {\n",
       "        text-align: right;\n",
       "    }\n",
       "</style>\n",
       "<table border=\"1\" class=\"dataframe\">\n",
       "  <thead>\n",
       "    <tr style=\"text-align: right;\">\n",
       "      <th></th>\n",
       "      <th>Name</th>\n",
       "      <th>Born</th>\n",
       "      <th>Died</th>\n",
       "      <th>Age</th>\n",
       "      <th>Occupation</th>\n",
       "      <th>Born_datetime</th>\n",
       "      <th>Died_datetime</th>\n",
       "    </tr>\n",
       "  </thead>\n",
       "  <tbody>\n",
       "    <tr>\n",
       "      <th>0</th>\n",
       "      <td>Rosaline Franklin</td>\n",
       "      <td>1920-07-25</td>\n",
       "      <td>1958-04-16</td>\n",
       "      <td>37</td>\n",
       "      <td>Chemist</td>\n",
       "      <td>1920-07-25</td>\n",
       "      <td>1958-04-16</td>\n",
       "    </tr>\n",
       "    <tr>\n",
       "      <th>1</th>\n",
       "      <td>William Gosset</td>\n",
       "      <td>1876-06-13</td>\n",
       "      <td>1937-10-16</td>\n",
       "      <td>61</td>\n",
       "      <td>Statistician</td>\n",
       "      <td>1876-06-13</td>\n",
       "      <td>1937-10-16</td>\n",
       "    </tr>\n",
       "    <tr>\n",
       "      <th>2</th>\n",
       "      <td>Florence Nightingale</td>\n",
       "      <td>1820-05-12</td>\n",
       "      <td>1910-08-13</td>\n",
       "      <td>90</td>\n",
       "      <td>Nurse</td>\n",
       "      <td>1820-05-12</td>\n",
       "      <td>1910-08-13</td>\n",
       "    </tr>\n",
       "    <tr>\n",
       "      <th>3</th>\n",
       "      <td>Marie Curie</td>\n",
       "      <td>1867-11-07</td>\n",
       "      <td>1934-07-04</td>\n",
       "      <td>66</td>\n",
       "      <td>Chemist</td>\n",
       "      <td>1867-11-07</td>\n",
       "      <td>1934-07-04</td>\n",
       "    </tr>\n",
       "    <tr>\n",
       "      <th>4</th>\n",
       "      <td>Rachel Carson</td>\n",
       "      <td>1907-05-27</td>\n",
       "      <td>1964-04-14</td>\n",
       "      <td>56</td>\n",
       "      <td>Biologist</td>\n",
       "      <td>1907-05-27</td>\n",
       "      <td>1964-04-14</td>\n",
       "    </tr>\n",
       "    <tr>\n",
       "      <th>5</th>\n",
       "      <td>John Snow</td>\n",
       "      <td>1813-03-15</td>\n",
       "      <td>1858-06-16</td>\n",
       "      <td>45</td>\n",
       "      <td>Physician</td>\n",
       "      <td>1813-03-15</td>\n",
       "      <td>1858-06-16</td>\n",
       "    </tr>\n",
       "    <tr>\n",
       "      <th>6</th>\n",
       "      <td>Alan Turing</td>\n",
       "      <td>1912-06-23</td>\n",
       "      <td>1954-06-07</td>\n",
       "      <td>41</td>\n",
       "      <td>Computer Scientist</td>\n",
       "      <td>1912-06-23</td>\n",
       "      <td>1954-06-07</td>\n",
       "    </tr>\n",
       "    <tr>\n",
       "      <th>7</th>\n",
       "      <td>Johann Gauss</td>\n",
       "      <td>1777-04-30</td>\n",
       "      <td>1855-02-23</td>\n",
       "      <td>77</td>\n",
       "      <td>Mathematician</td>\n",
       "      <td>1777-04-30</td>\n",
       "      <td>1855-02-23</td>\n",
       "    </tr>\n",
       "  </tbody>\n",
       "</table>\n",
       "</div>"
      ],
      "text/plain": [
       "                   Name        Born        Died  Age          Occupation  \\\n",
       "0     Rosaline Franklin  1920-07-25  1958-04-16   37             Chemist   \n",
       "1        William Gosset  1876-06-13  1937-10-16   61        Statistician   \n",
       "2  Florence Nightingale  1820-05-12  1910-08-13   90               Nurse   \n",
       "3           Marie Curie  1867-11-07  1934-07-04   66             Chemist   \n",
       "4         Rachel Carson  1907-05-27  1964-04-14   56           Biologist   \n",
       "5             John Snow  1813-03-15  1858-06-16   45           Physician   \n",
       "6           Alan Turing  1912-06-23  1954-06-07   41  Computer Scientist   \n",
       "7          Johann Gauss  1777-04-30  1855-02-23   77       Mathematician   \n",
       "\n",
       "  Born_datetime Died_datetime  \n",
       "0    1920-07-25    1958-04-16  \n",
       "1    1876-06-13    1937-10-16  \n",
       "2    1820-05-12    1910-08-13  \n",
       "3    1867-11-07    1934-07-04  \n",
       "4    1907-05-27    1964-04-14  \n",
       "5    1813-03-15    1858-06-16  \n",
       "6    1912-06-23    1954-06-07  \n",
       "7    1777-04-30    1855-02-23  "
      ]
     },
     "execution_count": 15,
     "metadata": {},
     "output_type": "execute_result"
    }
   ],
   "source": [
    "df"
   ]
  },
  {
   "cell_type": "code",
   "execution_count": 16,
   "id": "558a1d24",
   "metadata": {},
   "outputs": [
    {
     "name": "stdout",
     "output_type": "stream",
     "text": [
      "<class 'pandas.core.frame.DataFrame'>\n",
      "RangeIndex: 8 entries, 0 to 7\n",
      "Data columns (total 7 columns):\n",
      " #   Column         Non-Null Count  Dtype         \n",
      "---  ------         --------------  -----         \n",
      " 0   Name           8 non-null      object        \n",
      " 1   Born           8 non-null      object        \n",
      " 2   Died           8 non-null      object        \n",
      " 3   Age            8 non-null      int64         \n",
      " 4   Occupation     8 non-null      object        \n",
      " 5   Born_datetime  8 non-null      datetime64[ns]\n",
      " 6   Died_datetime  8 non-null      datetime64[ns]\n",
      "dtypes: datetime64[ns](2), int64(1), object(4)\n",
      "memory usage: 576.0+ bytes\n"
     ]
    }
   ],
   "source": [
    "df.info()"
   ]
  },
  {
   "cell_type": "code",
   "execution_count": 17,
   "id": "fcccbed0",
   "metadata": {},
   "outputs": [
    {
     "data": {
      "text/plain": [
       "Name                     object\n",
       "Born                     object\n",
       "Died                     object\n",
       "Age                       int64\n",
       "Occupation               object\n",
       "Born_datetime    datetime64[ns]\n",
       "Died_datetime    datetime64[ns]\n",
       "dtype: object"
      ]
     },
     "execution_count": 17,
     "metadata": {},
     "output_type": "execute_result"
    }
   ],
   "source": [
    "df.dtypes"
   ]
  },
  {
   "cell_type": "code",
   "execution_count": 18,
   "id": "be6936d5",
   "metadata": {},
   "outputs": [],
   "source": [
    "df[\"days_diff\"]=df[\"Died_datetime\"]-df[\"Born_datetime\"]"
   ]
  },
  {
   "cell_type": "code",
   "execution_count": 19,
   "id": "b8353464",
   "metadata": {},
   "outputs": [
    {
     "data": {
      "text/html": [
       "<div>\n",
       "<style scoped>\n",
       "    .dataframe tbody tr th:only-of-type {\n",
       "        vertical-align: middle;\n",
       "    }\n",
       "\n",
       "    .dataframe tbody tr th {\n",
       "        vertical-align: top;\n",
       "    }\n",
       "\n",
       "    .dataframe thead th {\n",
       "        text-align: right;\n",
       "    }\n",
       "</style>\n",
       "<table border=\"1\" class=\"dataframe\">\n",
       "  <thead>\n",
       "    <tr style=\"text-align: right;\">\n",
       "      <th></th>\n",
       "      <th>Name</th>\n",
       "      <th>Born</th>\n",
       "      <th>Died</th>\n",
       "      <th>Age</th>\n",
       "      <th>Occupation</th>\n",
       "      <th>Born_datetime</th>\n",
       "      <th>Died_datetime</th>\n",
       "      <th>days_diff</th>\n",
       "    </tr>\n",
       "  </thead>\n",
       "  <tbody>\n",
       "    <tr>\n",
       "      <th>0</th>\n",
       "      <td>Rosaline Franklin</td>\n",
       "      <td>1920-07-25</td>\n",
       "      <td>1958-04-16</td>\n",
       "      <td>37</td>\n",
       "      <td>Chemist</td>\n",
       "      <td>1920-07-25</td>\n",
       "      <td>1958-04-16</td>\n",
       "      <td>13779 days</td>\n",
       "    </tr>\n",
       "    <tr>\n",
       "      <th>1</th>\n",
       "      <td>William Gosset</td>\n",
       "      <td>1876-06-13</td>\n",
       "      <td>1937-10-16</td>\n",
       "      <td>61</td>\n",
       "      <td>Statistician</td>\n",
       "      <td>1876-06-13</td>\n",
       "      <td>1937-10-16</td>\n",
       "      <td>22404 days</td>\n",
       "    </tr>\n",
       "    <tr>\n",
       "      <th>2</th>\n",
       "      <td>Florence Nightingale</td>\n",
       "      <td>1820-05-12</td>\n",
       "      <td>1910-08-13</td>\n",
       "      <td>90</td>\n",
       "      <td>Nurse</td>\n",
       "      <td>1820-05-12</td>\n",
       "      <td>1910-08-13</td>\n",
       "      <td>32964 days</td>\n",
       "    </tr>\n",
       "    <tr>\n",
       "      <th>3</th>\n",
       "      <td>Marie Curie</td>\n",
       "      <td>1867-11-07</td>\n",
       "      <td>1934-07-04</td>\n",
       "      <td>66</td>\n",
       "      <td>Chemist</td>\n",
       "      <td>1867-11-07</td>\n",
       "      <td>1934-07-04</td>\n",
       "      <td>24345 days</td>\n",
       "    </tr>\n",
       "    <tr>\n",
       "      <th>4</th>\n",
       "      <td>Rachel Carson</td>\n",
       "      <td>1907-05-27</td>\n",
       "      <td>1964-04-14</td>\n",
       "      <td>56</td>\n",
       "      <td>Biologist</td>\n",
       "      <td>1907-05-27</td>\n",
       "      <td>1964-04-14</td>\n",
       "      <td>20777 days</td>\n",
       "    </tr>\n",
       "    <tr>\n",
       "      <th>5</th>\n",
       "      <td>John Snow</td>\n",
       "      <td>1813-03-15</td>\n",
       "      <td>1858-06-16</td>\n",
       "      <td>45</td>\n",
       "      <td>Physician</td>\n",
       "      <td>1813-03-15</td>\n",
       "      <td>1858-06-16</td>\n",
       "      <td>16529 days</td>\n",
       "    </tr>\n",
       "    <tr>\n",
       "      <th>6</th>\n",
       "      <td>Alan Turing</td>\n",
       "      <td>1912-06-23</td>\n",
       "      <td>1954-06-07</td>\n",
       "      <td>41</td>\n",
       "      <td>Computer Scientist</td>\n",
       "      <td>1912-06-23</td>\n",
       "      <td>1954-06-07</td>\n",
       "      <td>15324 days</td>\n",
       "    </tr>\n",
       "    <tr>\n",
       "      <th>7</th>\n",
       "      <td>Johann Gauss</td>\n",
       "      <td>1777-04-30</td>\n",
       "      <td>1855-02-23</td>\n",
       "      <td>77</td>\n",
       "      <td>Mathematician</td>\n",
       "      <td>1777-04-30</td>\n",
       "      <td>1855-02-23</td>\n",
       "      <td>28422 days</td>\n",
       "    </tr>\n",
       "  </tbody>\n",
       "</table>\n",
       "</div>"
      ],
      "text/plain": [
       "                   Name        Born        Died  Age          Occupation  \\\n",
       "0     Rosaline Franklin  1920-07-25  1958-04-16   37             Chemist   \n",
       "1        William Gosset  1876-06-13  1937-10-16   61        Statistician   \n",
       "2  Florence Nightingale  1820-05-12  1910-08-13   90               Nurse   \n",
       "3           Marie Curie  1867-11-07  1934-07-04   66             Chemist   \n",
       "4         Rachel Carson  1907-05-27  1964-04-14   56           Biologist   \n",
       "5             John Snow  1813-03-15  1858-06-16   45           Physician   \n",
       "6           Alan Turing  1912-06-23  1954-06-07   41  Computer Scientist   \n",
       "7          Johann Gauss  1777-04-30  1855-02-23   77       Mathematician   \n",
       "\n",
       "  Born_datetime Died_datetime  days_diff  \n",
       "0    1920-07-25    1958-04-16 13779 days  \n",
       "1    1876-06-13    1937-10-16 22404 days  \n",
       "2    1820-05-12    1910-08-13 32964 days  \n",
       "3    1867-11-07    1934-07-04 24345 days  \n",
       "4    1907-05-27    1964-04-14 20777 days  \n",
       "5    1813-03-15    1858-06-16 16529 days  \n",
       "6    1912-06-23    1954-06-07 15324 days  \n",
       "7    1777-04-30    1855-02-23 28422 days  "
      ]
     },
     "execution_count": 19,
     "metadata": {},
     "output_type": "execute_result"
    }
   ],
   "source": [
    "df"
   ]
  },
  {
   "cell_type": "code",
   "execution_count": 20,
   "id": "70c3600c",
   "metadata": {},
   "outputs": [],
   "source": [
    "df.drop(\"Born\",axis=1,inplace=True)"
   ]
  },
  {
   "cell_type": "code",
   "execution_count": 21,
   "id": "354cee90",
   "metadata": {},
   "outputs": [
    {
     "data": {
      "text/html": [
       "<div>\n",
       "<style scoped>\n",
       "    .dataframe tbody tr th:only-of-type {\n",
       "        vertical-align: middle;\n",
       "    }\n",
       "\n",
       "    .dataframe tbody tr th {\n",
       "        vertical-align: top;\n",
       "    }\n",
       "\n",
       "    .dataframe thead th {\n",
       "        text-align: right;\n",
       "    }\n",
       "</style>\n",
       "<table border=\"1\" class=\"dataframe\">\n",
       "  <thead>\n",
       "    <tr style=\"text-align: right;\">\n",
       "      <th></th>\n",
       "      <th>Name</th>\n",
       "      <th>Died</th>\n",
       "      <th>Age</th>\n",
       "      <th>Occupation</th>\n",
       "      <th>Born_datetime</th>\n",
       "      <th>Died_datetime</th>\n",
       "      <th>days_diff</th>\n",
       "    </tr>\n",
       "  </thead>\n",
       "  <tbody>\n",
       "    <tr>\n",
       "      <th>0</th>\n",
       "      <td>Rosaline Franklin</td>\n",
       "      <td>1958-04-16</td>\n",
       "      <td>37</td>\n",
       "      <td>Chemist</td>\n",
       "      <td>1920-07-25</td>\n",
       "      <td>1958-04-16</td>\n",
       "      <td>13779 days</td>\n",
       "    </tr>\n",
       "    <tr>\n",
       "      <th>1</th>\n",
       "      <td>William Gosset</td>\n",
       "      <td>1937-10-16</td>\n",
       "      <td>61</td>\n",
       "      <td>Statistician</td>\n",
       "      <td>1876-06-13</td>\n",
       "      <td>1937-10-16</td>\n",
       "      <td>22404 days</td>\n",
       "    </tr>\n",
       "    <tr>\n",
       "      <th>2</th>\n",
       "      <td>Florence Nightingale</td>\n",
       "      <td>1910-08-13</td>\n",
       "      <td>90</td>\n",
       "      <td>Nurse</td>\n",
       "      <td>1820-05-12</td>\n",
       "      <td>1910-08-13</td>\n",
       "      <td>32964 days</td>\n",
       "    </tr>\n",
       "    <tr>\n",
       "      <th>3</th>\n",
       "      <td>Marie Curie</td>\n",
       "      <td>1934-07-04</td>\n",
       "      <td>66</td>\n",
       "      <td>Chemist</td>\n",
       "      <td>1867-11-07</td>\n",
       "      <td>1934-07-04</td>\n",
       "      <td>24345 days</td>\n",
       "    </tr>\n",
       "    <tr>\n",
       "      <th>4</th>\n",
       "      <td>Rachel Carson</td>\n",
       "      <td>1964-04-14</td>\n",
       "      <td>56</td>\n",
       "      <td>Biologist</td>\n",
       "      <td>1907-05-27</td>\n",
       "      <td>1964-04-14</td>\n",
       "      <td>20777 days</td>\n",
       "    </tr>\n",
       "    <tr>\n",
       "      <th>5</th>\n",
       "      <td>John Snow</td>\n",
       "      <td>1858-06-16</td>\n",
       "      <td>45</td>\n",
       "      <td>Physician</td>\n",
       "      <td>1813-03-15</td>\n",
       "      <td>1858-06-16</td>\n",
       "      <td>16529 days</td>\n",
       "    </tr>\n",
       "    <tr>\n",
       "      <th>6</th>\n",
       "      <td>Alan Turing</td>\n",
       "      <td>1954-06-07</td>\n",
       "      <td>41</td>\n",
       "      <td>Computer Scientist</td>\n",
       "      <td>1912-06-23</td>\n",
       "      <td>1954-06-07</td>\n",
       "      <td>15324 days</td>\n",
       "    </tr>\n",
       "    <tr>\n",
       "      <th>7</th>\n",
       "      <td>Johann Gauss</td>\n",
       "      <td>1855-02-23</td>\n",
       "      <td>77</td>\n",
       "      <td>Mathematician</td>\n",
       "      <td>1777-04-30</td>\n",
       "      <td>1855-02-23</td>\n",
       "      <td>28422 days</td>\n",
       "    </tr>\n",
       "  </tbody>\n",
       "</table>\n",
       "</div>"
      ],
      "text/plain": [
       "                   Name        Died  Age          Occupation Born_datetime  \\\n",
       "0     Rosaline Franklin  1958-04-16   37             Chemist    1920-07-25   \n",
       "1        William Gosset  1937-10-16   61        Statistician    1876-06-13   \n",
       "2  Florence Nightingale  1910-08-13   90               Nurse    1820-05-12   \n",
       "3           Marie Curie  1934-07-04   66             Chemist    1867-11-07   \n",
       "4         Rachel Carson  1964-04-14   56           Biologist    1907-05-27   \n",
       "5             John Snow  1858-06-16   45           Physician    1813-03-15   \n",
       "6           Alan Turing  1954-06-07   41  Computer Scientist    1912-06-23   \n",
       "7          Johann Gauss  1855-02-23   77       Mathematician    1777-04-30   \n",
       "\n",
       "  Died_datetime  days_diff  \n",
       "0    1958-04-16 13779 days  \n",
       "1    1937-10-16 22404 days  \n",
       "2    1910-08-13 32964 days  \n",
       "3    1934-07-04 24345 days  \n",
       "4    1964-04-14 20777 days  \n",
       "5    1858-06-16 16529 days  \n",
       "6    1954-06-07 15324 days  \n",
       "7    1855-02-23 28422 days  "
      ]
     },
     "execution_count": 21,
     "metadata": {},
     "output_type": "execute_result"
    }
   ],
   "source": [
    "df"
   ]
  },
  {
   "cell_type": "code",
   "execution_count": 22,
   "id": "9a847976",
   "metadata": {},
   "outputs": [],
   "source": [
    "df.drop(\"Died\",axis=1,inplace=True)"
   ]
  },
  {
   "cell_type": "code",
   "execution_count": 23,
   "id": "0880ac54",
   "metadata": {},
   "outputs": [
    {
     "data": {
      "text/html": [
       "<div>\n",
       "<style scoped>\n",
       "    .dataframe tbody tr th:only-of-type {\n",
       "        vertical-align: middle;\n",
       "    }\n",
       "\n",
       "    .dataframe tbody tr th {\n",
       "        vertical-align: top;\n",
       "    }\n",
       "\n",
       "    .dataframe thead th {\n",
       "        text-align: right;\n",
       "    }\n",
       "</style>\n",
       "<table border=\"1\" class=\"dataframe\">\n",
       "  <thead>\n",
       "    <tr style=\"text-align: right;\">\n",
       "      <th></th>\n",
       "      <th>Name</th>\n",
       "      <th>Age</th>\n",
       "      <th>Occupation</th>\n",
       "      <th>Born_datetime</th>\n",
       "      <th>Died_datetime</th>\n",
       "      <th>days_diff</th>\n",
       "    </tr>\n",
       "  </thead>\n",
       "  <tbody>\n",
       "    <tr>\n",
       "      <th>0</th>\n",
       "      <td>Rosaline Franklin</td>\n",
       "      <td>37</td>\n",
       "      <td>Chemist</td>\n",
       "      <td>1920-07-25</td>\n",
       "      <td>1958-04-16</td>\n",
       "      <td>13779 days</td>\n",
       "    </tr>\n",
       "    <tr>\n",
       "      <th>1</th>\n",
       "      <td>William Gosset</td>\n",
       "      <td>61</td>\n",
       "      <td>Statistician</td>\n",
       "      <td>1876-06-13</td>\n",
       "      <td>1937-10-16</td>\n",
       "      <td>22404 days</td>\n",
       "    </tr>\n",
       "    <tr>\n",
       "      <th>2</th>\n",
       "      <td>Florence Nightingale</td>\n",
       "      <td>90</td>\n",
       "      <td>Nurse</td>\n",
       "      <td>1820-05-12</td>\n",
       "      <td>1910-08-13</td>\n",
       "      <td>32964 days</td>\n",
       "    </tr>\n",
       "    <tr>\n",
       "      <th>3</th>\n",
       "      <td>Marie Curie</td>\n",
       "      <td>66</td>\n",
       "      <td>Chemist</td>\n",
       "      <td>1867-11-07</td>\n",
       "      <td>1934-07-04</td>\n",
       "      <td>24345 days</td>\n",
       "    </tr>\n",
       "    <tr>\n",
       "      <th>4</th>\n",
       "      <td>Rachel Carson</td>\n",
       "      <td>56</td>\n",
       "      <td>Biologist</td>\n",
       "      <td>1907-05-27</td>\n",
       "      <td>1964-04-14</td>\n",
       "      <td>20777 days</td>\n",
       "    </tr>\n",
       "    <tr>\n",
       "      <th>5</th>\n",
       "      <td>John Snow</td>\n",
       "      <td>45</td>\n",
       "      <td>Physician</td>\n",
       "      <td>1813-03-15</td>\n",
       "      <td>1858-06-16</td>\n",
       "      <td>16529 days</td>\n",
       "    </tr>\n",
       "    <tr>\n",
       "      <th>6</th>\n",
       "      <td>Alan Turing</td>\n",
       "      <td>41</td>\n",
       "      <td>Computer Scientist</td>\n",
       "      <td>1912-06-23</td>\n",
       "      <td>1954-06-07</td>\n",
       "      <td>15324 days</td>\n",
       "    </tr>\n",
       "    <tr>\n",
       "      <th>7</th>\n",
       "      <td>Johann Gauss</td>\n",
       "      <td>77</td>\n",
       "      <td>Mathematician</td>\n",
       "      <td>1777-04-30</td>\n",
       "      <td>1855-02-23</td>\n",
       "      <td>28422 days</td>\n",
       "    </tr>\n",
       "  </tbody>\n",
       "</table>\n",
       "</div>"
      ],
      "text/plain": [
       "                   Name  Age          Occupation Born_datetime Died_datetime  \\\n",
       "0     Rosaline Franklin   37             Chemist    1920-07-25    1958-04-16   \n",
       "1        William Gosset   61        Statistician    1876-06-13    1937-10-16   \n",
       "2  Florence Nightingale   90               Nurse    1820-05-12    1910-08-13   \n",
       "3           Marie Curie   66             Chemist    1867-11-07    1934-07-04   \n",
       "4         Rachel Carson   56           Biologist    1907-05-27    1964-04-14   \n",
       "5             John Snow   45           Physician    1813-03-15    1858-06-16   \n",
       "6           Alan Turing   41  Computer Scientist    1912-06-23    1954-06-07   \n",
       "7          Johann Gauss   77       Mathematician    1777-04-30    1855-02-23   \n",
       "\n",
       "   days_diff  \n",
       "0 13779 days  \n",
       "1 22404 days  \n",
       "2 32964 days  \n",
       "3 24345 days  \n",
       "4 20777 days  \n",
       "5 16529 days  \n",
       "6 15324 days  \n",
       "7 28422 days  "
      ]
     },
     "execution_count": 23,
     "metadata": {},
     "output_type": "execute_result"
    }
   ],
   "source": [
    "df"
   ]
  },
  {
   "cell_type": "markdown",
   "id": "30cc0c24",
   "metadata": {},
   "source": [
    ">>>><h1><font color=\"meganta\">Tips Dataset</font></h1>\n"
   ]
  },
  {
   "cell_type": "code",
   "execution_count": 24,
   "id": "4f69e146",
   "metadata": {},
   "outputs": [],
   "source": [
    "#!pip install seaborn\n",
    "import seaborn as sns\n"
   ]
  },
  {
   "cell_type": "code",
   "execution_count": 25,
   "id": "68d5c31b",
   "metadata": {},
   "outputs": [],
   "source": [
    "df=sns.load_dataset(\"tips\")"
   ]
  },
  {
   "cell_type": "code",
   "execution_count": 26,
   "id": "731846e9",
   "metadata": {},
   "outputs": [
    {
     "data": {
      "text/html": [
       "<div>\n",
       "<style scoped>\n",
       "    .dataframe tbody tr th:only-of-type {\n",
       "        vertical-align: middle;\n",
       "    }\n",
       "\n",
       "    .dataframe tbody tr th {\n",
       "        vertical-align: top;\n",
       "    }\n",
       "\n",
       "    .dataframe thead th {\n",
       "        text-align: right;\n",
       "    }\n",
       "</style>\n",
       "<table border=\"1\" class=\"dataframe\">\n",
       "  <thead>\n",
       "    <tr style=\"text-align: right;\">\n",
       "      <th></th>\n",
       "      <th>total_bill</th>\n",
       "      <th>tip</th>\n",
       "      <th>sex</th>\n",
       "      <th>smoker</th>\n",
       "      <th>day</th>\n",
       "      <th>time</th>\n",
       "      <th>size</th>\n",
       "    </tr>\n",
       "  </thead>\n",
       "  <tbody>\n",
       "    <tr>\n",
       "      <th>0</th>\n",
       "      <td>16.99</td>\n",
       "      <td>1.01</td>\n",
       "      <td>Female</td>\n",
       "      <td>No</td>\n",
       "      <td>Sun</td>\n",
       "      <td>Dinner</td>\n",
       "      <td>2</td>\n",
       "    </tr>\n",
       "    <tr>\n",
       "      <th>1</th>\n",
       "      <td>10.34</td>\n",
       "      <td>1.66</td>\n",
       "      <td>Male</td>\n",
       "      <td>No</td>\n",
       "      <td>Sun</td>\n",
       "      <td>Dinner</td>\n",
       "      <td>3</td>\n",
       "    </tr>\n",
       "    <tr>\n",
       "      <th>2</th>\n",
       "      <td>21.01</td>\n",
       "      <td>3.50</td>\n",
       "      <td>Male</td>\n",
       "      <td>No</td>\n",
       "      <td>Sun</td>\n",
       "      <td>Dinner</td>\n",
       "      <td>3</td>\n",
       "    </tr>\n",
       "    <tr>\n",
       "      <th>3</th>\n",
       "      <td>23.68</td>\n",
       "      <td>3.31</td>\n",
       "      <td>Male</td>\n",
       "      <td>No</td>\n",
       "      <td>Sun</td>\n",
       "      <td>Dinner</td>\n",
       "      <td>2</td>\n",
       "    </tr>\n",
       "    <tr>\n",
       "      <th>4</th>\n",
       "      <td>24.59</td>\n",
       "      <td>3.61</td>\n",
       "      <td>Female</td>\n",
       "      <td>No</td>\n",
       "      <td>Sun</td>\n",
       "      <td>Dinner</td>\n",
       "      <td>4</td>\n",
       "    </tr>\n",
       "    <tr>\n",
       "      <th>...</th>\n",
       "      <td>...</td>\n",
       "      <td>...</td>\n",
       "      <td>...</td>\n",
       "      <td>...</td>\n",
       "      <td>...</td>\n",
       "      <td>...</td>\n",
       "      <td>...</td>\n",
       "    </tr>\n",
       "    <tr>\n",
       "      <th>239</th>\n",
       "      <td>29.03</td>\n",
       "      <td>5.92</td>\n",
       "      <td>Male</td>\n",
       "      <td>No</td>\n",
       "      <td>Sat</td>\n",
       "      <td>Dinner</td>\n",
       "      <td>3</td>\n",
       "    </tr>\n",
       "    <tr>\n",
       "      <th>240</th>\n",
       "      <td>27.18</td>\n",
       "      <td>2.00</td>\n",
       "      <td>Female</td>\n",
       "      <td>Yes</td>\n",
       "      <td>Sat</td>\n",
       "      <td>Dinner</td>\n",
       "      <td>2</td>\n",
       "    </tr>\n",
       "    <tr>\n",
       "      <th>241</th>\n",
       "      <td>22.67</td>\n",
       "      <td>2.00</td>\n",
       "      <td>Male</td>\n",
       "      <td>Yes</td>\n",
       "      <td>Sat</td>\n",
       "      <td>Dinner</td>\n",
       "      <td>2</td>\n",
       "    </tr>\n",
       "    <tr>\n",
       "      <th>242</th>\n",
       "      <td>17.82</td>\n",
       "      <td>1.75</td>\n",
       "      <td>Male</td>\n",
       "      <td>No</td>\n",
       "      <td>Sat</td>\n",
       "      <td>Dinner</td>\n",
       "      <td>2</td>\n",
       "    </tr>\n",
       "    <tr>\n",
       "      <th>243</th>\n",
       "      <td>18.78</td>\n",
       "      <td>3.00</td>\n",
       "      <td>Female</td>\n",
       "      <td>No</td>\n",
       "      <td>Thur</td>\n",
       "      <td>Dinner</td>\n",
       "      <td>2</td>\n",
       "    </tr>\n",
       "  </tbody>\n",
       "</table>\n",
       "<p>244 rows × 7 columns</p>\n",
       "</div>"
      ],
      "text/plain": [
       "     total_bill   tip     sex smoker   day    time  size\n",
       "0         16.99  1.01  Female     No   Sun  Dinner     2\n",
       "1         10.34  1.66    Male     No   Sun  Dinner     3\n",
       "2         21.01  3.50    Male     No   Sun  Dinner     3\n",
       "3         23.68  3.31    Male     No   Sun  Dinner     2\n",
       "4         24.59  3.61  Female     No   Sun  Dinner     4\n",
       "..          ...   ...     ...    ...   ...     ...   ...\n",
       "239       29.03  5.92    Male     No   Sat  Dinner     3\n",
       "240       27.18  2.00  Female    Yes   Sat  Dinner     2\n",
       "241       22.67  2.00    Male    Yes   Sat  Dinner     2\n",
       "242       17.82  1.75    Male     No   Sat  Dinner     2\n",
       "243       18.78  3.00  Female     No  Thur  Dinner     2\n",
       "\n",
       "[244 rows x 7 columns]"
      ]
     },
     "execution_count": 26,
     "metadata": {},
     "output_type": "execute_result"
    }
   ],
   "source": [
    "df"
   ]
  },
  {
   "cell_type": "markdown",
   "id": "3637688d",
   "metadata": {},
   "source": [
    "<h1><font color=\"green\">Answer the following questionst</font></h1>\n"
   ]
  },
  {
   "cell_type": "markdown",
   "id": "d4d1649c",
   "metadata": {},
   "source": [
    "#  1. How many males and females are there?"
   ]
  },
  {
   "cell_type": "code",
   "execution_count": 27,
   "id": "cb4ca2d4",
   "metadata": {},
   "outputs": [
    {
     "data": {
      "text/plain": [
       "Male      157\n",
       "Female     87\n",
       "Name: sex, dtype: int64"
      ]
     },
     "execution_count": 27,
     "metadata": {},
     "output_type": "execute_result"
    }
   ],
   "source": [
    "df[\"sex\"].value_counts()"
   ]
  },
  {
   "cell_type": "markdown",
   "id": "0e7f8768",
   "metadata": {},
   "source": [
    "# 2. The one how paying the more total_bill,is males or female?\n"
   ]
  },
  {
   "cell_type": "code",
   "execution_count": 29,
   "id": "3ca61b1b",
   "metadata": {},
   "outputs": [
    {
     "data": {
      "text/plain": [
       "50.81"
      ]
     },
     "execution_count": 29,
     "metadata": {},
     "output_type": "execute_result"
    }
   ],
   "source": [
    "df[\"total_bill\"].max()"
   ]
  },
  {
   "cell_type": "code",
   "execution_count": 30,
   "id": "1976787f",
   "metadata": {},
   "outputs": [
    {
     "data": {
      "text/plain": [
       "170    Male\n",
       "Name: sex, dtype: category\n",
       "Categories (2, object): ['Male', 'Female']"
      ]
     },
     "execution_count": 30,
     "metadata": {},
     "output_type": "execute_result"
    }
   ],
   "source": [
    "df.query(\"total_bill == total_bill.max()\")[\"sex\"]"
   ]
  },
  {
   "cell_type": "code",
   "execution_count": null,
   "id": "cc3ec63b",
   "metadata": {},
   "outputs": [],
   "source": []
  },
  {
   "cell_type": "markdown",
   "id": "d5f3cf72",
   "metadata": {},
   "source": [
    "# 3. On which day more customers are comming?\n"
   ]
  },
  {
   "cell_type": "code",
   "execution_count": null,
   "id": "3a395bed",
   "metadata": {},
   "outputs": [],
   "source": [
    "df[\"day\"].value_counts()     "
   ]
  },
  {
   "cell_type": "markdown",
   "id": "45b1ab88",
   "metadata": {},
   "source": [
    "# 4. Who paying the more tip on sunday?( means male or female?)\n"
   ]
  },
  {
   "cell_type": "code",
   "execution_count": null,
   "id": "bae189c7",
   "metadata": {},
   "outputs": [],
   "source": [
    "df[df[\"day\"]==\"Sun\"].nlargest(1,\"tip\")[\"sex\"]"
   ]
  },
  {
   "cell_type": "code",
   "execution_count": null,
   "id": "ee2bd308",
   "metadata": {},
   "outputs": [],
   "source": [
    "df[df[\"day\"]==\"Sun\"].query(\"tip==tip.max()\")[\"sex\"]"
   ]
  },
  {
   "cell_type": "raw",
   "id": "5962d0fd",
   "metadata": {},
   "source": []
  },
  {
   "cell_type": "code",
   "execution_count": null,
   "id": "57058473",
   "metadata": {},
   "outputs": [],
   "source": [
    "df.query(\"day=='Sun'\").query(\"tip==tip.max()\")[\"sex\"]"
   ]
  },
  {
   "cell_type": "code",
   "execution_count": null,
   "id": "e16055ef",
   "metadata": {},
   "outputs": [],
   "source": [
    "print(\"this is 'python' programming\")"
   ]
  },
  {
   "cell_type": "code",
   "execution_count": null,
   "id": "49b74dc9",
   "metadata": {},
   "outputs": [],
   "source": []
  },
  {
   "cell_type": "markdown",
   "id": "e05c2851",
   "metadata": {},
   "source": [
    "# 5. Find the average total bill of male and female based on smoker attribute? "
   ]
  },
  {
   "cell_type": "code",
   "execution_count": null,
   "id": "6d3e3979",
   "metadata": {},
   "outputs": [],
   "source": [
    "\n",
    "df.groupby(['sex','smoker'])[\"total_bill\"].mean()\n"
   ]
  },
  {
   "cell_type": "code",
   "execution_count": null,
   "id": "0f2a815f",
   "metadata": {},
   "outputs": [],
   "source": [
    "df[\"sex\"]\n"
   ]
  },
  {
   "cell_type": "code",
   "execution_count": null,
   "id": "0777d0f6",
   "metadata": {},
   "outputs": [],
   "source": [
    "df[df[\"sex\"]==\"Male\"]"
   ]
  },
  {
   "cell_type": "code",
   "execution_count": null,
   "id": "4f1af005",
   "metadata": {},
   "outputs": [],
   "source": [
    "df.loc[121,\"tip\"] ##colum name"
   ]
  },
  {
   "cell_type": "code",
   "execution_count": null,
   "id": "2771f24b",
   "metadata": {},
   "outputs": [],
   "source": [
    "df.iloc[121,1]  ##column numb"
   ]
  },
  {
   "cell_type": "code",
   "execution_count": null,
   "id": "2d81618a",
   "metadata": {},
   "outputs": [],
   "source": [
    "df.iloc[10:30:3,]"
   ]
  },
  {
   "cell_type": "code",
   "execution_count": null,
   "id": "eeafc9d0",
   "metadata": {
    "scrolled": true
   },
   "outputs": [],
   "source": [
    "#157\n",
    "df.iloc[[1,5,7],]"
   ]
  },
  {
   "cell_type": "code",
   "execution_count": null,
   "id": "c891f86c",
   "metadata": {},
   "outputs": [],
   "source": [
    "len(df)"
   ]
  },
  {
   "cell_type": "markdown",
   "id": "f662ecc8",
   "metadata": {},
   "source": [
    "# Q6. what is the percentage of smokers in the given dataset"
   ]
  },
  {
   "cell_type": "code",
   "execution_count": null,
   "id": "6e73115e",
   "metadata": {},
   "outputs": [],
   "source": [
    "len(df[df[\"smoker\"]==\"Yes\"].value_counts())*100/len(df)\n"
   ]
  },
  {
   "cell_type": "code",
   "execution_count": null,
   "id": "7f69cea4",
   "metadata": {},
   "outputs": [],
   "source": [
    "len(df[df[\"smoker\"]==\"Yes\"].value_counts())"
   ]
  },
  {
   "cell_type": "code",
   "execution_count": null,
   "id": "dfafc327",
   "metadata": {},
   "outputs": [],
   "source": [
    "len(df[df[\"smoker\"]==\"Yes\"])"
   ]
  },
  {
   "cell_type": "code",
   "execution_count": null,
   "id": "fead821c",
   "metadata": {},
   "outputs": [],
   "source": [
    "df[\"smoker\"].value_counts()"
   ]
  },
  {
   "cell_type": "code",
   "execution_count": null,
   "id": "66406219",
   "metadata": {},
   "outputs": [],
   "source": [
    "len(df[df[\"smoker\"]==\"Yes\"])*100/len(df)"
   ]
  },
  {
   "cell_type": "markdown",
   "id": "c882d2fe",
   "metadata": {},
   "source": [
    "\n",
    "# Q7 which gender has the most occupied space when the table size is 3"
   ]
  },
  {
   "cell_type": "code",
   "execution_count": null,
   "id": "d0834cd0",
   "metadata": {},
   "outputs": [],
   "source": [
    "df[df[\"size\"]==3][\"sex\"].value_counts()\n"
   ]
  },
  {
   "cell_type": "code",
   "execution_count": null,
   "id": "9182bfb0",
   "metadata": {},
   "outputs": [],
   "source": [
    "sns.countplot(data=df,x=\"sex\")"
   ]
  },
  {
   "cell_type": "code",
   "execution_count": null,
   "id": "7427840b",
   "metadata": {},
   "outputs": [],
   "source": [
    "dff=df[df[\"size\"]==3]\n",
    "sns.countplot(data=dff,x=\"sex\")"
   ]
  },
  {
   "cell_type": "markdown",
   "id": "6f05e11c",
   "metadata": {},
   "source": [
    "# Q8 what is the different amout of data percentage with respect to gender ?How much higher is comparind to opposite gender"
   ]
  },
  {
   "cell_type": "code",
   "execution_count": null,
   "id": "e93b200f",
   "metadata": {},
   "outputs": [],
   "source": [
    "print(len(df[df[\"sex\"]==\"Male\"])*100/len(df))\n",
    "print(len(df[df[\"sex\"]==\"Female\"])*100/len(df))"
   ]
  },
  {
   "cell_type": "code",
   "execution_count": null,
   "id": "3a1baeae",
   "metadata": {},
   "outputs": [],
   "source": [
    "(len(df[df[\"sex\"]==\"Male\"])-len(df[df[\"sex\"]==\"Female\"]))*100/len(df)\n"
   ]
  },
  {
   "cell_type": "markdown",
   "id": "63e72efa",
   "metadata": {},
   "source": [
    "# Q9 which gender has offered most valauble tips when the total bill value is btw 10 to 20 dollors"
   ]
  },
  {
   "cell_type": "code",
   "execution_count": null,
   "id": "cf99bb59",
   "metadata": {},
   "outputs": [],
   "source": [
    "df"
   ]
  },
  {
   "cell_type": "code",
   "execution_count": null,
   "id": "c2aa284a",
   "metadata": {},
   "outputs": [],
   "source": [
    "df.query(\"10 > total_bill < 20\").nlargest(1,\"tip\")[\"sex\"]"
   ]
  },
  {
   "cell_type": "markdown",
   "id": "d52dd0a0",
   "metadata": {},
   "source": [
    "# Q10 which time of restaurants  visit is mostly preffered by customers"
   ]
  },
  {
   "cell_type": "code",
   "execution_count": null,
   "id": "ea4d6ff5",
   "metadata": {},
   "outputs": [],
   "source": [
    "sns.countplot(data=df,x=\"time\")"
   ]
  },
  {
   "cell_type": "code",
   "execution_count": null,
   "id": "9cf97508",
   "metadata": {},
   "outputs": [],
   "source": [
    "df.groupby(\"sex\")[\"tip\"].mean()"
   ]
  },
  {
   "cell_type": "code",
   "execution_count": null,
   "id": "e65539cd",
   "metadata": {},
   "outputs": [],
   "source": [
    "sns.countplot(data=df,x=\"size\",hue=\"sex\")"
   ]
  },
  {
   "cell_type": "markdown",
   "id": "5ab574b0",
   "metadata": {},
   "source": [
    "# Q16) do you think friday has recieved highest sales when comparing to other days"
   ]
  },
  {
   "cell_type": "code",
   "execution_count": null,
   "id": "d4c86e40",
   "metadata": {},
   "outputs": [],
   "source": [
    "sns.countplot(data=df,x=\"day\")"
   ]
  },
  {
   "cell_type": "markdown",
   "id": "13a16c13",
   "metadata": {},
   "source": [
    "# Q17) btw table sizes 2 and 4 which one has prefered very offen"
   ]
  },
  {
   "cell_type": "code",
   "execution_count": null,
   "id": "10df0e72",
   "metadata": {},
   "outputs": [],
   "source": [
    "df"
   ]
  },
  {
   "cell_type": "code",
   "execution_count": null,
   "id": "71fc0ed7",
   "metadata": {},
   "outputs": [],
   "source": [
    "dff=df[df[\"size\"]==2][\"size\"]==4\n"
   ]
  },
  {
   "cell_type": "code",
   "execution_count": null,
   "id": "17d1354e",
   "metadata": {},
   "outputs": [],
   "source": [
    "len(df[df[\"size\"]==2])"
   ]
  },
  {
   "cell_type": "code",
   "execution_count": null,
   "id": "1058c5ec",
   "metadata": {},
   "outputs": [],
   "source": [
    "len(df[df[\"size\"]==4])"
   ]
  },
  {
   "cell_type": "code",
   "execution_count": null,
   "id": "4ee7f65a",
   "metadata": {},
   "outputs": [],
   "source": [
    "df1=df[((df[\"size\"]==2)|(df[\"size\"]==4))]\n",
    "df1"
   ]
  },
  {
   "cell_type": "code",
   "execution_count": null,
   "id": "4c29c6c8",
   "metadata": {},
   "outputs": [],
   "source": [
    "df[((df[\"size\"]==2)|(df[\"size\"]==4))][\"size\"].value_counts()\n"
   ]
  },
  {
   "cell_type": "markdown",
   "id": "29c63e2e",
   "metadata": {},
   "source": [
    "# Q 18) thursday has a great yes or no ? justify your answer."
   ]
  },
  {
   "cell_type": "code",
   "execution_count": null,
   "id": "f16f9d03",
   "metadata": {},
   "outputs": [],
   "source": [
    "sns.countplot(data=df,x=\"day\")"
   ]
  },
  {
   "cell_type": "markdown",
   "id": "db4e3885",
   "metadata": {},
   "source": [
    "# Q19 ) what is highest bill paid by the female"
   ]
  },
  {
   "cell_type": "code",
   "execution_count": null,
   "id": "76d50a58",
   "metadata": {},
   "outputs": [],
   "source": [
    "df[df[\"sex\"]=='Female'].nlargest(1,\"total_bill\")"
   ]
  },
  {
   "cell_type": "markdown",
   "id": "4de93c78",
   "metadata": {},
   "source": [
    "# Q 20) what is different btw the highest bill paid by the male and female"
   ]
  },
  {
   "cell_type": "code",
   "execution_count": null,
   "id": "49671f73",
   "metadata": {},
   "outputs": [],
   "source": [
    "df.groupby('sex')['total_bill'].max()"
   ]
  },
  {
   "cell_type": "code",
   "execution_count": null,
   "id": "d6f93254",
   "metadata": {},
   "outputs": [],
   "source": [
    "sns.displot(data=df,x='total_bill',hue='sex')"
   ]
  },
  {
   "cell_type": "markdown",
   "id": "14ad1132",
   "metadata": {},
   "source": [
    " # Q21) In bollywood dataset, what type of relationship having between the budget and the box office collection "
   ]
  },
  {
   "cell_type": "code",
   "execution_count": null,
   "id": "6650cf5b",
   "metadata": {},
   "outputs": [],
   "source": [
    "df2=pd.read_csv(\"bollywood.csv\")"
   ]
  },
  {
   "cell_type": "code",
   "execution_count": null,
   "id": "eec2087d",
   "metadata": {},
   "outputs": [],
   "source": [
    "import matplotlib.pyplot as plt"
   ]
  },
  {
   "cell_type": "code",
   "execution_count": null,
   "id": "6549781a",
   "metadata": {},
   "outputs": [],
   "source": [
    "sns.regplot(data=df2,x=\"Budget\",y=\"BoxOfficeCollection\")"
   ]
  },
  {
   "cell_type": "code",
   "execution_count": null,
   "id": "fa4e03fb",
   "metadata": {},
   "outputs": [],
   "source": [
    "plt.scatter(data['Budget'],data['BoxOfficeCollection'])"
   ]
  },
  {
   "cell_type": "markdown",
   "id": "72be8f49",
   "metadata": {},
   "source": [
    " # Q22) expalin the distribution of the budget"
   ]
  },
  {
   "cell_type": "code",
   "execution_count": null,
   "id": "bf48df9c",
   "metadata": {},
   "outputs": [],
   "source": [
    "sns.displot(df2['Budget'],kde=\"True\")"
   ]
  },
  {
   "cell_type": "markdown",
   "id": "05738c2b",
   "metadata": {},
   "source": [
    "# Q23) Is there any outliers in youtube likes when it is a comady movie"
   ]
  },
  {
   "cell_type": "code",
   "execution_count": null,
   "id": "6075deb5",
   "metadata": {},
   "outputs": [],
   "source": [
    "df2[df2[\"Genre\"]=='Comedy']"
   ]
  },
  {
   "cell_type": "code",
   "execution_count": null,
   "id": "95dae643",
   "metadata": {},
   "outputs": [],
   "source": [
    "sns.boxplot(data=df2[df2[\"Genre\"]=='Comedy'],y=\"YoutubeLikes\")"
   ]
  },
  {
   "cell_type": "markdown",
   "id": "d7d00f88",
   "metadata": {},
   "source": [
    "# Q24 ) do the univariate and bivariate and multivariate analysis of the tips dataset"
   ]
  },
  {
   "cell_type": "code",
   "execution_count": null,
   "id": "786d69b4",
   "metadata": {},
   "outputs": [],
   "source": [
    "data"
   ]
  },
  {
   "cell_type": "code",
   "execution_count": null,
   "id": "0935b210",
   "metadata": {},
   "outputs": [],
   "source": [
    "sns.countplot(data=data,x='Genre')"
   ]
  },
  {
   "cell_type": "code",
   "execution_count": null,
   "id": "e52696ce",
   "metadata": {},
   "outputs": [],
   "source": [
    "sns.countplot(data=data,x='Genre',hue='ReleaseTime')"
   ]
  },
  {
   "cell_type": "code",
   "execution_count": null,
   "id": "32d2ef79",
   "metadata": {},
   "outputs": [],
   "source": [
    "sns.countplot(data=data,x='Genre',hue='ReleaseTime')"
   ]
  },
  {
   "cell_type": "code",
   "execution_count": null,
   "id": "29412461",
   "metadata": {},
   "outputs": [],
   "source": [
    "data"
   ]
  },
  {
   "cell_type": "code",
   "execution_count": null,
   "id": "5edac592",
   "metadata": {},
   "outputs": [],
   "source": [
    "sns.displot(data=data,x=\"Budget\",col=\"Genre\")"
   ]
  },
  {
   "cell_type": "code",
   "execution_count": null,
   "id": "61bd930b",
   "metadata": {},
   "outputs": [],
   "source": [
    "sns.displot(data=data,x=\"Budget\")"
   ]
  },
  {
   "cell_type": "code",
   "execution_count": null,
   "id": "028c2bef",
   "metadata": {},
   "outputs": [],
   "source": [
    "sns.regplot(data=data,x=\"Budget\",y=\"YoutubeViews\")"
   ]
  },
  {
   "cell_type": "code",
   "execution_count": null,
   "id": "d7bc1f60",
   "metadata": {},
   "outputs": [],
   "source": [
    "df=pd.read_csv(\"Automobile_data.csv\")"
   ]
  },
  {
   "cell_type": "code",
   "execution_count": null,
   "id": "119764a5",
   "metadata": {},
   "outputs": [],
   "source": [
    "pip install missingno"
   ]
  },
  {
   "cell_type": "code",
   "execution_count": null,
   "id": "cecfb3fb",
   "metadata": {},
   "outputs": [],
   "source": [
    "import missingno as mn"
   ]
  },
  {
   "cell_type": "code",
   "execution_count": null,
   "id": "cca7f931",
   "metadata": {},
   "outputs": [],
   "source": [
    "df.isnull().sum()"
   ]
  },
  {
   "cell_type": "code",
   "execution_count": null,
   "id": "2e06e69b",
   "metadata": {},
   "outputs": [],
   "source": [
    "df"
   ]
  },
  {
   "cell_type": "code",
   "execution_count": null,
   "id": "e0b02004",
   "metadata": {},
   "outputs": [],
   "source": [
    "mn.bar(df,figsize=(10,8),color=\"yellowgreen\")"
   ]
  },
  {
   "cell_type": "code",
   "execution_count": null,
   "id": "82fd64d8",
   "metadata": {},
   "outputs": [],
   "source": []
  }
 ],
 "metadata": {
  "kernelspec": {
   "display_name": "Python 3 (ipykernel)",
   "language": "python",
   "name": "python3"
  },
  "language_info": {
   "codemirror_mode": {
    "name": "ipython",
    "version": 3
   },
   "file_extension": ".py",
   "mimetype": "text/x-python",
   "name": "python",
   "nbconvert_exporter": "python",
   "pygments_lexer": "ipython3",
   "version": "3.10.5"
  }
 },
 "nbformat": 4,
 "nbformat_minor": 5
}
