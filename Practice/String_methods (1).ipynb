{
 "cells": [
  {
   "cell_type": "markdown",
   "id": "9ed356d5",
   "metadata": {},
   "source": [
    "# String Methods"
   ]
  },
  {
   "cell_type": "code",
   "execution_count": 3,
   "id": "36ff8d0f",
   "metadata": {
    "scrolled": false
   },
   "outputs": [
    {
     "name": "stdout",
     "output_type": "stream",
     "text": [
      "Help on class list in module builtins:\n",
      "\n",
      "class list(object)\n",
      " |  list(iterable=(), /)\n",
      " |  \n",
      " |  Built-in mutable sequence.\n",
      " |  \n",
      " |  If no argument is given, the constructor creates a new empty list.\n",
      " |  The argument must be an iterable if specified.\n",
      " |  \n",
      " |  Methods defined here:\n",
      " |  \n",
      " |  __add__(self, value, /)\n",
      " |      Return self+value.\n",
      " |  \n",
      " |  __contains__(self, key, /)\n",
      " |      Return key in self.\n",
      " |  \n",
      " |  __delitem__(self, key, /)\n",
      " |      Delete self[key].\n",
      " |  \n",
      " |  __eq__(self, value, /)\n",
      " |      Return self==value.\n",
      " |  \n",
      " |  __ge__(self, value, /)\n",
      " |      Return self>=value.\n",
      " |  \n",
      " |  __getattribute__(self, name, /)\n",
      " |      Return getattr(self, name).\n",
      " |  \n",
      " |  __getitem__(...)\n",
      " |      x.__getitem__(y) <==> x[y]\n",
      " |  \n",
      " |  __gt__(self, value, /)\n",
      " |      Return self>value.\n",
      " |  \n",
      " |  __iadd__(self, value, /)\n",
      " |      Implement self+=value.\n",
      " |  \n",
      " |  __imul__(self, value, /)\n",
      " |      Implement self*=value.\n",
      " |  \n",
      " |  __init__(self, /, *args, **kwargs)\n",
      " |      Initialize self.  See help(type(self)) for accurate signature.\n",
      " |  \n",
      " |  __iter__(self, /)\n",
      " |      Implement iter(self).\n",
      " |  \n",
      " |  __le__(self, value, /)\n",
      " |      Return self<=value.\n",
      " |  \n",
      " |  __len__(self, /)\n",
      " |      Return len(self).\n",
      " |  \n",
      " |  __lt__(self, value, /)\n",
      " |      Return self<value.\n",
      " |  \n",
      " |  __mul__(self, value, /)\n",
      " |      Return self*value.\n",
      " |  \n",
      " |  __ne__(self, value, /)\n",
      " |      Return self!=value.\n",
      " |  \n",
      " |  __repr__(self, /)\n",
      " |      Return repr(self).\n",
      " |  \n",
      " |  __reversed__(self, /)\n",
      " |      Return a reverse iterator over the list.\n",
      " |  \n",
      " |  __rmul__(self, value, /)\n",
      " |      Return value*self.\n",
      " |  \n",
      " |  __setitem__(self, key, value, /)\n",
      " |      Set self[key] to value.\n",
      " |  \n",
      " |  __sizeof__(self, /)\n",
      " |      Return the size of the list in memory, in bytes.\n",
      " |  \n",
      " |  append(self, object, /)\n",
      " |      Append object to the end of the list.\n",
      " |  \n",
      " |  clear(self, /)\n",
      " |      Remove all items from list.\n",
      " |  \n",
      " |  copy(self, /)\n",
      " |      Return a shallow copy of the list.\n",
      " |  \n",
      " |  count(self, value, /)\n",
      " |      Return number of occurrences of value.\n",
      " |  \n",
      " |  extend(self, iterable, /)\n",
      " |      Extend list by appending elements from the iterable.\n",
      " |  \n",
      " |  index(self, value, start=0, stop=9223372036854775807, /)\n",
      " |      Return first index of value.\n",
      " |      \n",
      " |      Raises ValueError if the value is not present.\n",
      " |  \n",
      " |  insert(self, index, object, /)\n",
      " |      Insert object before index.\n",
      " |  \n",
      " |  pop(self, index=-1, /)\n",
      " |      Remove and return item at index (default last).\n",
      " |      \n",
      " |      Raises IndexError if list is empty or index is out of range.\n",
      " |  \n",
      " |  remove(self, value, /)\n",
      " |      Remove first occurrence of value.\n",
      " |      \n",
      " |      Raises ValueError if the value is not present.\n",
      " |  \n",
      " |  reverse(self, /)\n",
      " |      Reverse *IN PLACE*.\n",
      " |  \n",
      " |  sort(self, /, *, key=None, reverse=False)\n",
      " |      Sort the list in ascending order and return None.\n",
      " |      \n",
      " |      The sort is in-place (i.e. the list itself is modified) and stable (i.e. the\n",
      " |      order of two equal elements is maintained).\n",
      " |      \n",
      " |      If a key function is given, apply it once to each list item and sort them,\n",
      " |      ascending or descending, according to their function values.\n",
      " |      \n",
      " |      The reverse flag can be set to sort in descending order.\n",
      " |  \n",
      " |  ----------------------------------------------------------------------\n",
      " |  Class methods defined here:\n",
      " |  \n",
      " |  __class_getitem__(...) from builtins.type\n",
      " |      See PEP 585\n",
      " |  \n",
      " |  ----------------------------------------------------------------------\n",
      " |  Static methods defined here:\n",
      " |  \n",
      " |  __new__(*args, **kwargs) from builtins.type\n",
      " |      Create and return a new object.  See help(type) for accurate signature.\n",
      " |  \n",
      " |  ----------------------------------------------------------------------\n",
      " |  Data and other attributes defined here:\n",
      " |  \n",
      " |  __hash__ = None\n",
      "\n",
      "None\n"
     ]
    }
   ],
   "source": [
    "print(help(list))"
   ]
  },
  {
   "cell_type": "code",
   "execution_count": 2,
   "id": "8cd5e7f4",
   "metadata": {},
   "outputs": [
    {
     "name": "stdout",
     "output_type": "stream",
     "text": [
      "['__add__', '__class__', '__class_getitem__', '__contains__', '__delattr__', '__delitem__', '__dir__', '__doc__', '__eq__', '__format__', '__ge__', '__getattribute__', '__getitem__', '__gt__', '__hash__', '__iadd__', '__imul__', '__init__', '__init_subclass__', '__iter__', '__le__', '__len__', '__lt__', '__mul__', '__ne__', '__new__', '__reduce__', '__reduce_ex__', '__repr__', '__reversed__', '__rmul__', '__setattr__', '__setitem__', '__sizeof__', '__str__', '__subclasshook__', 'append', 'clear', 'copy', 'count', 'extend', 'index', 'insert', 'pop', 'remove', 'reverse', 'sort']\n"
     ]
    }
   ],
   "source": [
    "print(dir(list))"
   ]
  },
  {
   "cell_type": "code",
   "execution_count": 2,
   "id": "a20cdcce",
   "metadata": {
    "scrolled": false
   },
   "outputs": [
    {
     "name": "stdout",
     "output_type": "stream",
     "text": [
      "Help on class str in module builtins:\n",
      "\n",
      "class str(object)\n",
      " |  str(object='') -> str\n",
      " |  str(bytes_or_buffer[, encoding[, errors]]) -> str\n",
      " |  \n",
      " |  Create a new string object from the given object. If encoding or\n",
      " |  errors is specified, then the object must expose a data buffer\n",
      " |  that will be decoded using the given encoding and error handler.\n",
      " |  Otherwise, returns the result of object.__str__() (if defined)\n",
      " |  or repr(object).\n",
      " |  encoding defaults to sys.getdefaultencoding().\n",
      " |  errors defaults to 'strict'.\n",
      " |  \n",
      " |  Methods defined here:\n",
      " |  \n",
      " |  __add__(self, value, /)\n",
      " |      Return self+value.\n",
      " |  \n",
      " |  __contains__(self, key, /)\n",
      " |      Return key in self.\n",
      " |  \n",
      " |  __eq__(self, value, /)\n",
      " |      Return self==value.\n",
      " |  \n",
      " |  __format__(self, format_spec, /)\n",
      " |      Return a formatted version of the string as described by format_spec.\n",
      " |  \n",
      " |  __ge__(self, value, /)\n",
      " |      Return self>=value.\n",
      " |  \n",
      " |  __getattribute__(self, name, /)\n",
      " |      Return getattr(self, name).\n",
      " |  \n",
      " |  __getitem__(self, key, /)\n",
      " |      Return self[key].\n",
      " |  \n",
      " |  __getnewargs__(...)\n",
      " |  \n",
      " |  __gt__(self, value, /)\n",
      " |      Return self>value.\n",
      " |  \n",
      " |  __hash__(self, /)\n",
      " |      Return hash(self).\n",
      " |  \n",
      " |  __iter__(self, /)\n",
      " |      Implement iter(self).\n",
      " |  \n",
      " |  __le__(self, value, /)\n",
      " |      Return self<=value.\n",
      " |  \n",
      " |  __len__(self, /)\n",
      " |      Return len(self).\n",
      " |  \n",
      " |  __lt__(self, value, /)\n",
      " |      Return self<value.\n",
      " |  \n",
      " |  __mod__(self, value, /)\n",
      " |      Return self%value.\n",
      " |  \n",
      " |  __mul__(self, value, /)\n",
      " |      Return self*value.\n",
      " |  \n",
      " |  __ne__(self, value, /)\n",
      " |      Return self!=value.\n",
      " |  \n",
      " |  __repr__(self, /)\n",
      " |      Return repr(self).\n",
      " |  \n",
      " |  __rmod__(self, value, /)\n",
      " |      Return value%self.\n",
      " |  \n",
      " |  __rmul__(self, value, /)\n",
      " |      Return value*self.\n",
      " |  \n",
      " |  __sizeof__(self, /)\n",
      " |      Return the size of the string in memory, in bytes.\n",
      " |  \n",
      " |  __str__(self, /)\n",
      " |      Return str(self).\n",
      " |  \n",
      " |  capitalize(self, /)\n",
      " |      Return a capitalized version of the string.\n",
      " |      \n",
      " |      More specifically, make the first character have upper case and the rest lower\n",
      " |      case.\n",
      " |  \n",
      " |  casefold(self, /)\n",
      " |      Return a version of the string suitable for caseless comparisons.\n",
      " |  \n",
      " |  center(self, width, fillchar=' ', /)\n",
      " |      Return a centered string of length width.\n",
      " |      \n",
      " |      Padding is done using the specified fill character (default is a space).\n",
      " |  \n",
      " |  count(...)\n",
      " |      S.count(sub[, start[, end]]) -> int\n",
      " |      \n",
      " |      Return the number of non-overlapping occurrences of substring sub in\n",
      " |      string S[start:end].  Optional arguments start and end are\n",
      " |      interpreted as in slice notation.\n",
      " |  \n",
      " |  encode(self, /, encoding='utf-8', errors='strict')\n",
      " |      Encode the string using the codec registered for encoding.\n",
      " |      \n",
      " |      encoding\n",
      " |        The encoding in which to encode the string.\n",
      " |      errors\n",
      " |        The error handling scheme to use for encoding errors.\n",
      " |        The default is 'strict' meaning that encoding errors raise a\n",
      " |        UnicodeEncodeError.  Other possible values are 'ignore', 'replace' and\n",
      " |        'xmlcharrefreplace' as well as any other name registered with\n",
      " |        codecs.register_error that can handle UnicodeEncodeErrors.\n",
      " |  \n",
      " |  endswith(...)\n",
      " |      S.endswith(suffix[, start[, end]]) -> bool\n",
      " |      \n",
      " |      Return True if S ends with the specified suffix, False otherwise.\n",
      " |      With optional start, test S beginning at that position.\n",
      " |      With optional end, stop comparing S at that position.\n",
      " |      suffix can also be a tuple of strings to try.\n",
      " |  \n",
      " |  expandtabs(self, /, tabsize=8)\n",
      " |      Return a copy where all tab characters are expanded using spaces.\n",
      " |      \n",
      " |      If tabsize is not given, a tab size of 8 characters is assumed.\n",
      " |  \n",
      " |  find(...)\n",
      " |      S.find(sub[, start[, end]]) -> int\n",
      " |      \n",
      " |      Return the lowest index in S where substring sub is found,\n",
      " |      such that sub is contained within S[start:end].  Optional\n",
      " |      arguments start and end are interpreted as in slice notation.\n",
      " |      \n",
      " |      Return -1 on failure.\n",
      " |  \n",
      " |  format(...)\n",
      " |      S.format(*args, **kwargs) -> str\n",
      " |      \n",
      " |      Return a formatted version of S, using substitutions from args and kwargs.\n",
      " |      The substitutions are identified by braces ('{' and '}').\n",
      " |  \n",
      " |  format_map(...)\n",
      " |      S.format_map(mapping) -> str\n",
      " |      \n",
      " |      Return a formatted version of S, using substitutions from mapping.\n",
      " |      The substitutions are identified by braces ('{' and '}').\n",
      " |  \n",
      " |  index(...)\n",
      " |      S.index(sub[, start[, end]]) -> int\n",
      " |      \n",
      " |      Return the lowest index in S where substring sub is found,\n",
      " |      such that sub is contained within S[start:end].  Optional\n",
      " |      arguments start and end are interpreted as in slice notation.\n",
      " |      \n",
      " |      Raises ValueError when the substring is not found.\n",
      " |  \n",
      " |  isalnum(self, /)\n",
      " |      Return True if the string is an alpha-numeric string, False otherwise.\n",
      " |      \n",
      " |      A string is alpha-numeric if all characters in the string are alpha-numeric and\n",
      " |      there is at least one character in the string.\n",
      " |  \n",
      " |  isalpha(self, /)\n",
      " |      Return True if the string is an alphabetic string, False otherwise.\n",
      " |      \n",
      " |      A string is alphabetic if all characters in the string are alphabetic and there\n",
      " |      is at least one character in the string.\n",
      " |  \n",
      " |  isascii(self, /)\n",
      " |      Return True if all characters in the string are ASCII, False otherwise.\n",
      " |      \n",
      " |      ASCII characters have code points in the range U+0000-U+007F.\n",
      " |      Empty string is ASCII too.\n",
      " |  \n",
      " |  isdecimal(self, /)\n",
      " |      Return True if the string is a decimal string, False otherwise.\n",
      " |      \n",
      " |      A string is a decimal string if all characters in the string are decimal and\n",
      " |      there is at least one character in the string.\n",
      " |  \n",
      " |  isdigit(self, /)\n",
      " |      Return True if the string is a digit string, False otherwise.\n",
      " |      \n",
      " |      A string is a digit string if all characters in the string are digits and there\n",
      " |      is at least one character in the string.\n",
      " |  \n",
      " |  isidentifier(self, /)\n",
      " |      Return True if the string is a valid Python identifier, False otherwise.\n",
      " |      \n",
      " |      Call keyword.iskeyword(s) to test whether string s is a reserved identifier,\n",
      " |      such as \"def\" or \"class\".\n",
      " |  \n",
      " |  islower(self, /)\n",
      " |      Return True if the string is a lowercase string, False otherwise.\n",
      " |      \n",
      " |      A string is lowercase if all cased characters in the string are lowercase and\n",
      " |      there is at least one cased character in the string.\n",
      " |  \n",
      " |  isnumeric(self, /)\n",
      " |      Return True if the string is a numeric string, False otherwise.\n",
      " |      \n",
      " |      A string is numeric if all characters in the string are numeric and there is at\n",
      " |      least one character in the string.\n",
      " |  \n",
      " |  isprintable(self, /)\n",
      " |      Return True if the string is printable, False otherwise.\n",
      " |      \n",
      " |      A string is printable if all of its characters are considered printable in\n",
      " |      repr() or if it is empty.\n",
      " |  \n",
      " |  isspace(self, /)\n",
      " |      Return True if the string is a whitespace string, False otherwise.\n",
      " |      \n",
      " |      A string is whitespace if all characters in the string are whitespace and there\n",
      " |      is at least one character in the string.\n",
      " |  \n",
      " |  istitle(self, /)\n",
      " |      Return True if the string is a title-cased string, False otherwise.\n",
      " |      \n",
      " |      In a title-cased string, upper- and title-case characters may only\n",
      " |      follow uncased characters and lowercase characters only cased ones.\n",
      " |  \n",
      " |  isupper(self, /)\n",
      " |      Return True if the string is an uppercase string, False otherwise.\n",
      " |      \n",
      " |      A string is uppercase if all cased characters in the string are uppercase and\n",
      " |      there is at least one cased character in the string.\n",
      " |  \n",
      " |  join(self, iterable, /)\n",
      " |      Concatenate any number of strings.\n",
      " |      \n",
      " |      The string whose method is called is inserted in between each given string.\n",
      " |      The result is returned as a new string.\n",
      " |      \n",
      " |      Example: '.'.join(['ab', 'pq', 'rs']) -> 'ab.pq.rs'\n",
      " |  \n",
      " |  ljust(self, width, fillchar=' ', /)\n",
      " |      Return a left-justified string of length width.\n",
      " |      \n",
      " |      Padding is done using the specified fill character (default is a space).\n",
      " |  \n",
      " |  lower(self, /)\n",
      " |      Return a copy of the string converted to lowercase.\n",
      " |  \n",
      " |  lstrip(self, chars=None, /)\n",
      " |      Return a copy of the string with leading whitespace removed.\n",
      " |      \n",
      " |      If chars is given and not None, remove characters in chars instead.\n",
      " |  \n",
      " |  partition(self, sep, /)\n",
      " |      Partition the string into three parts using the given separator.\n",
      " |      \n",
      " |      This will search for the separator in the string.  If the separator is found,\n",
      " |      returns a 3-tuple containing the part before the separator, the separator\n",
      " |      itself, and the part after it.\n",
      " |      \n",
      " |      If the separator is not found, returns a 3-tuple containing the original string\n",
      " |      and two empty strings.\n",
      " |  \n",
      " |  removeprefix(self, prefix, /)\n",
      " |      Return a str with the given prefix string removed if present.\n",
      " |      \n",
      " |      If the string starts with the prefix string, return string[len(prefix):].\n",
      " |      Otherwise, return a copy of the original string.\n",
      " |  \n",
      " |  removesuffix(self, suffix, /)\n",
      " |      Return a str with the given suffix string removed if present.\n",
      " |      \n",
      " |      If the string ends with the suffix string and that suffix is not empty,\n",
      " |      return string[:-len(suffix)]. Otherwise, return a copy of the original\n",
      " |      string.\n",
      " |  \n",
      " |  replace(self, old, new, count=-1, /)\n",
      " |      Return a copy with all occurrences of substring old replaced by new.\n",
      " |      \n",
      " |        count\n",
      " |          Maximum number of occurrences to replace.\n",
      " |          -1 (the default value) means replace all occurrences.\n",
      " |      \n",
      " |      If the optional argument count is given, only the first count occurrences are\n",
      " |      replaced.\n",
      " |  \n",
      " |  rfind(...)\n",
      " |      S.rfind(sub[, start[, end]]) -> int\n",
      " |      \n",
      " |      Return the highest index in S where substring sub is found,\n",
      " |      such that sub is contained within S[start:end].  Optional\n",
      " |      arguments start and end are interpreted as in slice notation.\n",
      " |      \n",
      " |      Return -1 on failure.\n",
      " |  \n",
      " |  rindex(...)\n",
      " |      S.rindex(sub[, start[, end]]) -> int\n",
      " |      \n",
      " |      Return the highest index in S where substring sub is found,\n",
      " |      such that sub is contained within S[start:end].  Optional\n",
      " |      arguments start and end are interpreted as in slice notation.\n",
      " |      \n",
      " |      Raises ValueError when the substring is not found.\n",
      " |  \n",
      " |  rjust(self, width, fillchar=' ', /)\n",
      " |      Return a right-justified string of length width.\n",
      " |      \n",
      " |      Padding is done using the specified fill character (default is a space).\n",
      " |  \n",
      " |  rpartition(self, sep, /)\n",
      " |      Partition the string into three parts using the given separator.\n",
      " |      \n",
      " |      This will search for the separator in the string, starting at the end. If\n",
      " |      the separator is found, returns a 3-tuple containing the part before the\n",
      " |      separator, the separator itself, and the part after it.\n",
      " |      \n",
      " |      If the separator is not found, returns a 3-tuple containing two empty strings\n",
      " |      and the original string.\n",
      " |  \n",
      " |  rsplit(self, /, sep=None, maxsplit=-1)\n",
      " |      Return a list of the words in the string, using sep as the delimiter string.\n",
      " |      \n",
      " |        sep\n",
      " |          The delimiter according which to split the string.\n",
      " |          None (the default value) means split according to any whitespace,\n",
      " |          and discard empty strings from the result.\n",
      " |        maxsplit\n",
      " |          Maximum number of splits to do.\n",
      " |          -1 (the default value) means no limit.\n",
      " |      \n",
      " |      Splits are done starting at the end of the string and working to the front.\n",
      " |  \n",
      " |  rstrip(self, chars=None, /)\n",
      " |      Return a copy of the string with trailing whitespace removed.\n",
      " |      \n",
      " |      If chars is given and not None, remove characters in chars instead.\n",
      " |  \n",
      " |  split(self, /, sep=None, maxsplit=-1)\n",
      " |      Return a list of the words in the string, using sep as the delimiter string.\n",
      " |      \n",
      " |      sep\n",
      " |        The delimiter according which to split the string.\n",
      " |        None (the default value) means split according to any whitespace,\n",
      " |        and discard empty strings from the result.\n",
      " |      maxsplit\n",
      " |        Maximum number of splits to do.\n",
      " |        -1 (the default value) means no limit.\n",
      " |  \n",
      " |  splitlines(self, /, keepends=False)\n",
      " |      Return a list of the lines in the string, breaking at line boundaries.\n",
      " |      \n",
      " |      Line breaks are not included in the resulting list unless keepends is given and\n",
      " |      true.\n",
      " |  \n",
      " |  startswith(...)\n",
      " |      S.startswith(prefix[, start[, end]]) -> bool\n",
      " |      \n",
      " |      Return True if S starts with the specified prefix, False otherwise.\n",
      " |      With optional start, test S beginning at that position.\n",
      " |      With optional end, stop comparing S at that position.\n",
      " |      prefix can also be a tuple of strings to try.\n",
      " |  \n",
      " |  strip(self, chars=None, /)\n",
      " |      Return a copy of the string with leading and trailing whitespace removed.\n",
      " |      \n",
      " |      If chars is given and not None, remove characters in chars instead.\n",
      " |  \n",
      " |  swapcase(self, /)\n",
      " |      Convert uppercase characters to lowercase and lowercase characters to uppercase.\n",
      " |  \n",
      " |  title(self, /)\n",
      " |      Return a version of the string where each word is titlecased.\n",
      " |      \n",
      " |      More specifically, words start with uppercased characters and all remaining\n",
      " |      cased characters have lower case.\n",
      " |  \n",
      " |  translate(self, table, /)\n",
      " |      Replace each character in the string using the given translation table.\n",
      " |      \n",
      " |        table\n",
      " |          Translation table, which must be a mapping of Unicode ordinals to\n",
      " |          Unicode ordinals, strings, or None.\n",
      " |      \n",
      " |      The table must implement lookup/indexing via __getitem__, for instance a\n",
      " |      dictionary or list.  If this operation raises LookupError, the character is\n",
      " |      left untouched.  Characters mapped to None are deleted.\n",
      " |  \n",
      " |  upper(self, /)\n",
      " |      Return a copy of the string converted to uppercase.\n",
      " |  \n",
      " |  zfill(self, width, /)\n",
      " |      Pad a numeric string with zeros on the left, to fill a field of the given width.\n",
      " |      \n",
      " |      The string is never truncated.\n",
      " |  \n",
      " |  ----------------------------------------------------------------------\n",
      " |  Static methods defined here:\n",
      " |  \n",
      " |  __new__(*args, **kwargs) from builtins.type\n",
      " |      Create and return a new object.  See help(type) for accurate signature.\n",
      " |  \n",
      " |  maketrans(...)\n",
      " |      Return a translation table usable for str.translate().\n",
      " |      \n",
      " |      If there is only one argument, it must be a dictionary mapping Unicode\n",
      " |      ordinals (integers) or characters to Unicode ordinals, strings or None.\n",
      " |      Character keys will be then converted to ordinals.\n",
      " |      If there are two arguments, they must be strings of equal length, and\n",
      " |      in the resulting dictionary, each character in x will be mapped to the\n",
      " |      character at the same position in y. If there is a third argument, it\n",
      " |      must be a string, whose characters will be mapped to None in the result.\n",
      "\n",
      "None\n"
     ]
    }
   ],
   "source": [
    "print(help(str))"
   ]
  },
  {
   "cell_type": "code",
   "execution_count": 3,
   "id": "e811b54f",
   "metadata": {},
   "outputs": [
    {
     "name": "stdout",
     "output_type": "stream",
     "text": [
      "Help on method_descriptor:\n",
      "\n",
      "find(...)\n",
      "    S.find(sub[, start[, end]]) -> int\n",
      "    \n",
      "    Return the lowest index in S where substring sub is found,\n",
      "    such that sub is contained within S[start:end].  Optional\n",
      "    arguments start and end are interpreted as in slice notation.\n",
      "    \n",
      "    Return -1 on failure.\n",
      "\n",
      "None\n"
     ]
    }
   ],
   "source": [
    "print(help(str.find))"
   ]
  },
  {
   "cell_type": "markdown",
   "id": "500df9c4",
   "metadata": {},
   "source": [
    "### 1) capitalize() :\tConverts the first character to upper case"
   ]
  },
  {
   "cell_type": "code",
   "execution_count": 1,
   "id": "05b12f89",
   "metadata": {},
   "outputs": [
    {
     "name": "stdout",
     "output_type": "stream",
     "text": [
      "Hi....,i like statistics stuject\n"
     ]
    }
   ],
   "source": [
    "s=\"hi....,I like statistics stuject\"\n",
    "print(s.capitalize())"
   ]
  },
  {
   "cell_type": "markdown",
   "id": "3f266d93",
   "metadata": {},
   "source": [
    "### 2) casefold() :  Converts string into lower case"
   ]
  },
  {
   "cell_type": "code",
   "execution_count": 3,
   "id": "f1348fa0",
   "metadata": {},
   "outputs": [
    {
     "name": "stdout",
     "output_type": "stream",
     "text": [
      "hi....,i like statistics stuject\n"
     ]
    }
   ],
   "source": [
    "s=\"HI....,I Like StAtistiCs StujEct\"\n",
    "print(s.casefold())"
   ]
  },
  {
   "cell_type": "markdown",
   "id": "dc30eb8c",
   "metadata": {},
   "source": [
    "### 3) center() :\tReturns a centered string"
   ]
  },
  {
   "cell_type": "code",
   "execution_count": null,
   "id": "731413ad",
   "metadata": {},
   "outputs": [],
   "source": [
    "      "
   ]
  },
  {
   "cell_type": "code",
   "execution_count": 4,
   "id": "7a337e41",
   "metadata": {
    "scrolled": true
   },
   "outputs": [
    {
     "name": "stdout",
     "output_type": "stream",
     "text": [
      "  python  \n",
      "12345678901234567890\n"
     ]
    }
   ],
   "source": [
    "s=\"python\"\n",
    "print(s.center(10))   #Print the word \"python\", taking up the space of 20 characters, with \"python\" in the middle.\n",
    "print(\"12345678901234567890\")  # this line is just to understand how the above line work "
   ]
  },
  {
   "cell_type": "markdown",
   "id": "56917fb0",
   "metadata": {},
   "source": [
    "### 4) count():\tReturns the number of times a specified value occurs in a string"
   ]
  },
  {
   "cell_type": "code",
   "execution_count": 1,
   "id": "85032bfb",
   "metadata": {},
   "outputs": [
    {
     "name": "stdout",
     "output_type": "stream",
     "text": [
      "2\n"
     ]
    }
   ],
   "source": [
    "s=\"statistics\"\n",
    "print(s.count(\"i\"))  # it gives ,total number of \"i\" in \"s\" "
   ]
  },
  {
   "cell_type": "markdown",
   "id": "94eb0348",
   "metadata": {},
   "source": [
    "### 5) encode() :\tReturns an encoded version of the string"
   ]
  },
  {
   "cell_type": "code",
   "execution_count": 19,
   "id": "98220bf5",
   "metadata": {},
   "outputs": [
    {
     "name": "stdout",
     "output_type": "stream",
     "text": [
      "b'My name is St\\xc3\\xa5le'\n"
     ]
    }
   ],
   "source": [
    "txt = \"My name is Ståle\"\n",
    "x = txt.encode()\n",
    "print(x)\n"
   ]
  },
  {
   "cell_type": "markdown",
   "id": "c66c12e8",
   "metadata": {},
   "source": [
    "The encode() method encodes the string, using the specified encoding. If no encoding is specified, UTF-8 will be used.\n",
    "\n",
    "Syntax :-\n",
    "string.encode(encoding=encoding, errors=errors)\n",
    "\n",
    "\n",
    "Parameter Values :-\n",
    "\n",
    "encoding :\tOptional. A String specifying the encoding to use. Default is UTF-8\n",
    "\n",
    "errors :\tOptional. A String specifying the error method. Legal values are: \n",
    "\n",
    "            'backslashreplace'\t- uses a backslash instead of the character that could not be encoded\n",
    "            'ignore'\t- ignores the characters that cannot be encoded\n",
    "            'namereplace'\t- replaces the character with a text explaining the character\n",
    "            'strict'\t- Default, raises an error on failure\n",
    "            'replace'\t- replaces the character with a questionmark\n",
    "            'xmlcharrefreplace'\t- replaces the character with an xml characte\n",
    "            \n",
    "\n",
    "\n"
   ]
  },
  {
   "cell_type": "code",
   "execution_count": 5,
   "id": "4a7eea83",
   "metadata": {},
   "outputs": [
    {
     "name": "stdout",
     "output_type": "stream",
     "text": [
      "b'My name is St\\\\xe5le'\n",
      "b'My name is Stle'\n",
      "b'My name is St\\\\N{LATIN SMALL LETTER A WITH RING ABOVE}le'\n",
      "b'My name is St?le'\n",
      "b'My name is St&#229;le'\n"
     ]
    }
   ],
   "source": [
    "txt = \"My name is Ståle\"\n",
    "\n",
    "print(txt.encode(encoding=\"ascii\",errors=\"backslashreplace\"))\n",
    "print(txt.encode(encoding=\"ascii\",errors=\"ignore\"))\n",
    "print(txt.encode(encoding=\"ascii\",errors=\"namereplace\"))\n",
    "print(txt.encode(encoding=\"ascii\",errors=\"replace\"))\n",
    "print(txt.encode(encoding=\"ascii\",errors=\"xmlcharrefreplace\"))\n",
    "\n"
   ]
  },
  {
   "cell_type": "markdown",
   "id": "8173f44f",
   "metadata": {},
   "source": [
    "### 6) endswith() :\tReturns true if the string ends with the specified value"
   ]
  },
  {
   "cell_type": "code",
   "execution_count": 8,
   "id": "35408547",
   "metadata": {},
   "outputs": [
    {
     "name": "stdout",
     "output_type": "stream",
     "text": [
      "True\n",
      "False\n"
     ]
    }
   ],
   "source": [
    "s=\"How are you?\"\n",
    "print(s.endswith(\"you?\"))  # return \"True\" because it is ending with \"?\"\n",
    "print(s.endswith(\".\"))  # return \"False\" because it is not ending with \".\""
   ]
  },
  {
   "cell_type": "markdown",
   "id": "e708d4ee",
   "metadata": {},
   "source": [
    "### 7) expandtabs() :\tSets the tab size of the string"
   ]
  },
  {
   "cell_type": "markdown",
   "id": "dbaa20c8",
   "metadata": {},
   "source": [
    "Syntax :-\n",
    "string.expandtabs(tabsize)\n",
    "\n",
    "tabsize :\tOptional. A number specifying the tabsize. Default tabsize is 8"
   ]
  },
  {
   "cell_type": "code",
   "execution_count": 36,
   "id": "c72c97dc",
   "metadata": {},
   "outputs": [
    {
     "name": "stdout",
     "output_type": "stream",
     "text": [
      "p ytho  n\n",
      "p\n",
      "  ytho  n\n",
      "s                   tatistics\n"
     ]
    }
   ],
   "source": [
    "s=\"p\\tytho\\tn\"\n",
    "print(s.expandtabs(2))\n",
    "x=\"p\\n\\tytho\\tn\"\n",
    "print(x.expandtabs(2))\n",
    "y=\"s\\ttatistics\"\n",
    "print(y.expandtabs(20))\n",
    "\n"
   ]
  },
  {
   "cell_type": "code",
   "execution_count": 37,
   "id": "9fdc5556",
   "metadata": {},
   "outputs": [
    {
     "name": "stdout",
     "output_type": "stream",
     "text": [
      "P\ty\tt\th\ton\n",
      "P       y       t       h       on\n",
      "P y t h on\n",
      "P   y   t   h   on\n",
      "P         y         t         h         on\n"
     ]
    }
   ],
   "source": [
    "a = \"P\\ty\\tt\\th\\ton\"\n",
    "\n",
    "print(a)\n",
    "print(a.expandtabs())  # if we didn't give size, then it take one tab space by defalt. \n",
    "print(a.expandtabs(2))\n",
    "print(a.expandtabs(4))\n",
    "print(a.expandtabs(10))\n"
   ]
  },
  {
   "cell_type": "markdown",
   "id": "6e7cef31",
   "metadata": {},
   "source": [
    "### 8) find()  :\tSearches the string for a specified value and returns the position of where it was found"
   ]
  },
  {
   "cell_type": "markdown",
   "id": "7c8f02bf",
   "metadata": {},
   "source": [
    "\n",
    "The find() method finds the first occurrence of the specified value.\n",
    "\n",
    "The find() method returns -1 if the value is not found.\n",
    "\n",
    "The find() method is almost the same as the index() method, the only difference is that the index()\n",
    "method raises an exception if the value is not found."
   ]
  },
  {
   "cell_type": "markdown",
   "id": "5a987e8f",
   "metadata": {},
   "source": [
    "Syntax :-\n",
    "\n",
    "string.find(value, start, end)\n",
    "\n",
    "Parameter and Description\n",
    "\n",
    "value :\tRequired. The value to search for\n",
    "\n",
    "start :\tOptional. Where to start the search. Default is 0\n",
    "\n",
    "end :\tOptional. Where to end the search. Default is to the end of the string\n"
   ]
  },
  {
   "cell_type": "code",
   "execution_count": 2,
   "id": "ae3e28c9",
   "metadata": {
    "scrolled": true
   },
   "outputs": [
    {
     "name": "stdout",
     "output_type": "stream",
     "text": [
      "7\n"
     ]
    }
   ],
   "source": [
    "s=\"I like Statistics Statistics \"\n",
    "print(s.find(\"Statistics\"))"
   ]
  },
  {
   "cell_type": "code",
   "execution_count": 11,
   "id": "211655cc",
   "metadata": {},
   "outputs": [
    {
     "name": "stdout",
     "output_type": "stream",
     "text": [
      "2\n",
      "-1\n"
     ]
    }
   ],
   "source": [
    "s=\"I like Statistics\"\n",
    "print(s.find(\"like\",1,12))\n",
    "\n",
    "print(s.find(\"my\"))"
   ]
  },
  {
   "cell_type": "markdown",
   "id": "84ed380d",
   "metadata": {},
   "source": [
    "### 9) format() :\tFormats specified values in a string"
   ]
  },
  {
   "cell_type": "markdown",
   "id": "e27d5687",
   "metadata": {},
   "source": [
    "The format() method formats the specified value(s) and insert them inside the string's placeholder.\n",
    "\n",
    "The placeholder is defined using curly brackets: {}. Read more about the placeholders in the Placeholder section below.\n",
    "\n",
    "The format() method returns the formatted string."
   ]
  },
  {
   "cell_type": "markdown",
   "id": "d4428a97",
   "metadata": {},
   "source": [
    "The Placeholders :-\n",
    "\n",
    "The placeholders can be identified using named indexes {name}, numbered indexes {0}, or even empty placeholders {}."
   ]
  },
  {
   "cell_type": "code",
   "execution_count": 12,
   "id": "ac23f37f",
   "metadata": {},
   "outputs": [
    {
     "name": "stdout",
     "output_type": "stream",
     "text": [
      "name=python,version=3.7\n"
     ]
    }
   ],
   "source": [
    "print(\"name={},version={}\".format(\"python\",3.7))"
   ]
  },
  {
   "cell_type": "code",
   "execution_count": 9,
   "id": "3587208b",
   "metadata": {},
   "outputs": [
    {
     "name": "stdout",
     "output_type": "stream",
     "text": [
      "My name is Rin, I am 1729 years old.\n"
     ]
    }
   ],
   "source": [
    "print(\"My name is {}, I am {} years old.\".format(\"Rin\",1729))"
   ]
  },
  {
   "cell_type": "code",
   "execution_count": 14,
   "id": "988484f9",
   "metadata": {},
   "outputs": [
    {
     "name": "stdout",
     "output_type": "stream",
     "text": [
      "My name is Rin, I am 17 years old.\n"
     ]
    }
   ],
   "source": [
    "print(\"My name is {name}, I am {age} years old.\".format(name=\"Rin\",age=17))"
   ]
  },
  {
   "cell_type": "code",
   "execution_count": 17,
   "id": "5d33740b",
   "metadata": {},
   "outputs": [
    {
     "name": "stdout",
     "output_type": "stream",
     "text": [
      "My name is Rin, I am 17 years old.\n"
     ]
    }
   ],
   "source": [
    "print(\"My name is {name}, I am {age} years old.\".format(age=17,name=\"Rin\"))"
   ]
  },
  {
   "cell_type": "code",
   "execution_count": 16,
   "id": "9d3318b9",
   "metadata": {},
   "outputs": [
    {
     "name": "stdout",
     "output_type": "stream",
     "text": [
      "My name is Rin, I am 17 years old.\n"
     ]
    }
   ],
   "source": [
    "print(\"My name is {}, I am {} years old.\".format(\"Rin\",17))"
   ]
  },
  {
   "cell_type": "code",
   "execution_count": 15,
   "id": "50c57acf",
   "metadata": {},
   "outputs": [
    {
     "name": "stdout",
     "output_type": "stream",
     "text": [
      "My name is Rin, I am 17 years old.\n"
     ]
    }
   ],
   "source": [
    "print(\"My name is {0}, I am {1} years old.\".format(\"Rin\",17))"
   ]
  },
  {
   "cell_type": "code",
   "execution_count": 18,
   "id": "b6bce398",
   "metadata": {},
   "outputs": [
    {
     "name": "stdout",
     "output_type": "stream",
     "text": [
      "My name is 17, I am Rin years old.\n"
     ]
    }
   ],
   "source": [
    "print(\"My name is {1}, I am {0} years old.\".format(\"Rin\",17))"
   ]
  },
  {
   "cell_type": "code",
   "execution_count": 12,
   "id": "f4a366b7",
   "metadata": {},
   "outputs": [
    {
     "name": "stdout",
     "output_type": "stream",
     "text": [
      "Hi... , Rin,HOw are you Rin?.\n"
     ]
    }
   ],
   "source": [
    "print(\"Hi... , {0},HOw are you {0}?.\".format(\"Rin\"))"
   ]
  },
  {
   "cell_type": "markdown",
   "id": "2de90582",
   "metadata": {},
   "source": [
    "### 10) format_map() :  Python String format_map() method is an inbuilt function in Python, which is used to return a dictionary key’s value.\n"
   ]
  },
  {
   "cell_type": "markdown",
   "id": "16b44a74",
   "metadata": {},
   "source": [
    "Syntax: \n",
    "\n",
    "string.format_map(z)\n",
    "\n",
    "Parameters: \n",
    "\n",
    "Here z is a variable in which the input dictionary is stored and string is the key of the input dictionary. input_dict: Takes a single parameter which is the input dictionary."
   ]
  },
  {
   "cell_type": "code",
   "execution_count": 19,
   "id": "e94883f7",
   "metadata": {},
   "outputs": [
    {
     "name": "stdout",
     "output_type": "stream",
     "text": [
      "Hi..., I ma Rin, amd I am 17 years old.\n"
     ]
    }
   ],
   "source": [
    "d={\"name\":\"Rin\",\"age\":17}\n",
    "print(\"Hi..., I ma {name}, amd I am {age} years old.\".format_map(d))"
   ]
  },
  {
   "cell_type": "code",
   "execution_count": 15,
   "id": "5839b61e",
   "metadata": {},
   "outputs": [
    {
     "ename": "ValueError",
     "evalue": "Format string contains positional fields",
     "output_type": "error",
     "traceback": [
      "\u001b[1;31m---------------------------------------------------------------------------\u001b[0m",
      "\u001b[1;31mValueError\u001b[0m                                Traceback (most recent call last)",
      "\u001b[1;32mC:\\Users\\SHAILA~1\\AppData\\Local\\Temp/ipykernel_3628/1854155289.py\u001b[0m in \u001b[0;36m<module>\u001b[1;34m\u001b[0m\n\u001b[0;32m      1\u001b[0m \u001b[0md\u001b[0m\u001b[1;33m=\u001b[0m\u001b[1;33m{\u001b[0m\u001b[1;34m\"name\"\u001b[0m\u001b[1;33m:\u001b[0m\u001b[1;34m\"Rin\"\u001b[0m\u001b[1;33m,\u001b[0m\u001b[1;34m\"age\"\u001b[0m\u001b[1;33m:\u001b[0m\u001b[1;36m1729\u001b[0m\u001b[1;33m}\u001b[0m\u001b[1;33m\u001b[0m\u001b[1;33m\u001b[0m\u001b[0m\n\u001b[1;32m----> 2\u001b[1;33m \u001b[0mprint\u001b[0m\u001b[1;33m(\u001b[0m\u001b[1;34m\"Hi..., I ma {0}, amd I am {1} years old.\"\u001b[0m\u001b[1;33m.\u001b[0m\u001b[0mformat_map\u001b[0m\u001b[1;33m(\u001b[0m\u001b[0md\u001b[0m\u001b[1;33m)\u001b[0m\u001b[1;33m)\u001b[0m\u001b[1;33m\u001b[0m\u001b[1;33m\u001b[0m\u001b[0m\n\u001b[0m",
      "\u001b[1;31mValueError\u001b[0m: Format string contains positional fields"
     ]
    }
   ],
   "source": [
    "d={\"name\":\"Rin\",\"age\":1729}\n",
    "print(\"Hi..., I ma {0}, amd I am {1} years old.\".format_map(d))  # Error"
   ]
  },
  {
   "cell_type": "code",
   "execution_count": 25,
   "id": "6462ade5",
   "metadata": {},
   "outputs": [
    {
     "name": "stdout",
     "output_type": "stream",
     "text": [
      "Hi..., I ma Rin, amd I am 21 years old.\n",
      "Hi..., I ma Reshmi, amd I am 22 years old.\n"
     ]
    }
   ],
   "source": [
    "d={\"names\":[\"Rin\",\"Reshmi\"],\"ages\":[21,22]}\n",
    "print(\"Hi..., I ma {names[0]}, amd I am {ages[0]} years old.\".format_map(d))\n",
    "print(\"Hi..., I ma {names[1]}, amd I am {ages[1]} years old.\".format_map(d))"
   ]
  },
  {
   "cell_type": "markdown",
   "id": "9230b2ad",
   "metadata": {},
   "source": [
    "### 11) index() :\tSearches the string for a specified value and returns the position of where it was found otherwise return ERROR"
   ]
  },
  {
   "cell_type": "markdown",
   "id": "509f20f9",
   "metadata": {},
   "source": [
    "The index() method finds the first occurrence of the specified value.\n",
    "\n",
    "The index() method raises an exception if the value is not found.\n",
    "\n",
    "The index() method is almost the same as the find() method, the only difference is that the find() method returns -1 if the value is not found. \n",
    "\n"
   ]
  },
  {
   "cell_type": "markdown",
   "id": "d50e495a",
   "metadata": {},
   "source": [
    "Syntax :-\n",
    "\n",
    "string.index(value, start, end)\n",
    "\n",
    "Parameter and description :-\n",
    "\n",
    "value :\tRequired. The value to search for\n",
    "\n",
    "start :\tOptional. Where to start the search. Default is 0\n",
    "\n",
    "end :\tOptional. Where to end the search. Default is to the end of the string"
   ]
  },
  {
   "cell_type": "code",
   "execution_count": 23,
   "id": "94313d61",
   "metadata": {},
   "outputs": [
    {
     "name": "stdout",
     "output_type": "stream",
     "text": [
      "2\n"
     ]
    }
   ],
   "source": [
    "s=\"I like statistics\"\n",
    "print(s.index(\"like\"))"
   ]
  },
  {
   "cell_type": "code",
   "execution_count": 27,
   "id": "b655cb8e",
   "metadata": {},
   "outputs": [
    {
     "name": "stdout",
     "output_type": "stream",
     "text": [
      "2\n"
     ]
    }
   ],
   "source": [
    "s=\"I like statistics\"\n",
    "print(s.index(\"like\",1,13))"
   ]
  },
  {
   "cell_type": "code",
   "execution_count": 28,
   "id": "1b2c3a3d",
   "metadata": {},
   "outputs": [
    {
     "ename": "ValueError",
     "evalue": "substring not found",
     "output_type": "error",
     "traceback": [
      "\u001b[1;31m---------------------------------------------------------------------------\u001b[0m",
      "\u001b[1;31mValueError\u001b[0m                                Traceback (most recent call last)",
      "\u001b[1;32mC:\\Users\\SHAILA~1\\AppData\\Local\\Temp/ipykernel_3628/130804269.py\u001b[0m in \u001b[0;36m<module>\u001b[1;34m\u001b[0m\n\u001b[0;32m      1\u001b[0m \u001b[0ms\u001b[0m\u001b[1;33m=\u001b[0m\u001b[1;34m\"I like statistics\"\u001b[0m\u001b[1;33m\u001b[0m\u001b[1;33m\u001b[0m\u001b[0m\n\u001b[1;32m----> 2\u001b[1;33m \u001b[0mprint\u001b[0m\u001b[1;33m(\u001b[0m\u001b[0ms\u001b[0m\u001b[1;33m.\u001b[0m\u001b[0mindex\u001b[0m\u001b[1;33m(\u001b[0m\u001b[1;34m\"like\"\u001b[0m\u001b[1;33m,\u001b[0m\u001b[1;36m4\u001b[0m\u001b[1;33m,\u001b[0m\u001b[1;36m13\u001b[0m\u001b[1;33m)\u001b[0m\u001b[1;33m)\u001b[0m\u001b[1;33m\u001b[0m\u001b[1;33m\u001b[0m\u001b[0m\n\u001b[0m",
      "\u001b[1;31mValueError\u001b[0m: substring not found"
     ]
    }
   ],
   "source": [
    "s=\"I like statistics\"\n",
    "print(s.index(\"like\",4,13))  # gives an error,because \"like\" is at 2 index, but, I gave 4 as starting index to searching the \"like\""
   ]
  },
  {
   "cell_type": "code",
   "execution_count": 29,
   "id": "bcf6360a",
   "metadata": {},
   "outputs": [
    {
     "name": "stdout",
     "output_type": "stream",
     "text": [
      "2\n",
      "2\n"
     ]
    }
   ],
   "source": [
    "s=\"I like statistics\"\n",
    "\n",
    "print(s.find(\"like\"))\n",
    "print(s.index(\"like\"))"
   ]
  },
  {
   "cell_type": "code",
   "execution_count": 30,
   "id": "83fea9e9",
   "metadata": {},
   "outputs": [
    {
     "name": "stdout",
     "output_type": "stream",
     "text": [
      "-1\n"
     ]
    },
    {
     "ename": "ValueError",
     "evalue": "substring not found",
     "output_type": "error",
     "traceback": [
      "\u001b[1;31m---------------------------------------------------------------------------\u001b[0m",
      "\u001b[1;31mValueError\u001b[0m                                Traceback (most recent call last)",
      "\u001b[1;32mC:\\Users\\SHAILA~1\\AppData\\Local\\Temp/ipykernel_3628/3298323273.py\u001b[0m in \u001b[0;36m<module>\u001b[1;34m\u001b[0m\n\u001b[0;32m      2\u001b[0m \u001b[1;33m\u001b[0m\u001b[0m\n\u001b[0;32m      3\u001b[0m \u001b[0mprint\u001b[0m\u001b[1;33m(\u001b[0m\u001b[0ms\u001b[0m\u001b[1;33m.\u001b[0m\u001b[0mfind\u001b[0m\u001b[1;33m(\u001b[0m\u001b[1;34m\"zoo\"\u001b[0m\u001b[1;33m)\u001b[0m\u001b[1;33m)\u001b[0m\u001b[1;33m\u001b[0m\u001b[1;33m\u001b[0m\u001b[0m\n\u001b[1;32m----> 4\u001b[1;33m \u001b[0mprint\u001b[0m\u001b[1;33m(\u001b[0m\u001b[0ms\u001b[0m\u001b[1;33m.\u001b[0m\u001b[0mindex\u001b[0m\u001b[1;33m(\u001b[0m\u001b[1;34m\"zoo\"\u001b[0m\u001b[1;33m)\u001b[0m\u001b[1;33m)\u001b[0m\u001b[1;33m\u001b[0m\u001b[1;33m\u001b[0m\u001b[0m\n\u001b[0m",
      "\u001b[1;31mValueError\u001b[0m: substring not found"
     ]
    }
   ],
   "source": [
    "# understanding the difference between find() and index()\n",
    "\n",
    "s=\"I like statistics\"\n",
    "\n",
    "print(s.find(\"zoo\"))\n",
    "print(s.index(\"zoo\")) # raise exception"
   ]
  },
  {
   "cell_type": "markdown",
   "id": "027e81ad",
   "metadata": {},
   "source": [
    "### 12) isalnum()\tReturns True if all characters in the string are alphanumeric( alphabets and numbers )"
   ]
  },
  {
   "cell_type": "markdown",
   "id": "93f05c89",
   "metadata": {},
   "source": [
    "The isalnum() method returns True if all the characters are alphanumeric, meaning alphabet letter (a-z) and numbers (0-9).\n",
    "\n",
    "Example of characters that are not alphanumeric: (space)!#%&? etc.\n",
    "\n",
    "Syntax :-\n",
    "\n",
    "string.isalnum()  #No parameters"
   ]
  },
  {
   "cell_type": "code",
   "execution_count": 31,
   "id": "204d78c0",
   "metadata": {},
   "outputs": [
    {
     "name": "stdout",
     "output_type": "stream",
     "text": [
      "True\n"
     ]
    }
   ],
   "source": [
    "s=\"mathematics1729\"\n",
    "print(s.isalnum())"
   ]
  },
  {
   "cell_type": "code",
   "execution_count": 32,
   "id": "fbb3511b",
   "metadata": {},
   "outputs": [
    {
     "name": "stdout",
     "output_type": "stream",
     "text": [
      "True\n"
     ]
    }
   ],
   "source": [
    "s=\"mathematics\"\n",
    "print(s.isalnum())"
   ]
  },
  {
   "cell_type": "code",
   "execution_count": 33,
   "id": "225313d3",
   "metadata": {},
   "outputs": [
    {
     "name": "stdout",
     "output_type": "stream",
     "text": [
      "True\n"
     ]
    }
   ],
   "source": [
    "s=\"1729\"\n",
    "print(s.isalnum())"
   ]
  },
  {
   "cell_type": "code",
   "execution_count": 35,
   "id": "ca671d52",
   "metadata": {},
   "outputs": [
    {
     "name": "stdout",
     "output_type": "stream",
     "text": [
      "False\n"
     ]
    }
   ],
   "source": [
    "s=\"@%$mathematics1729\"\n",
    "print(s.isalnum())"
   ]
  },
  {
   "cell_type": "code",
   "execution_count": 37,
   "id": "3fd4151b",
   "metadata": {},
   "outputs": [
    {
     "name": "stdout",
     "output_type": "stream",
     "text": [
      "False\n"
     ]
    }
   ],
   "source": [
    "s=\"math.sqrt()\"\n",
    "print(s.isalnum())"
   ]
  },
  {
   "cell_type": "code",
   "execution_count": 10,
   "id": "ddd51105",
   "metadata": {},
   "outputs": [
    {
     "name": "stdout",
     "output_type": "stream",
     "text": [
      "False\n"
     ]
    }
   ],
   "source": [
    "s=\"Data science\"\n",
    "print(s.isalnum())"
   ]
  },
  {
   "cell_type": "markdown",
   "id": "e4cfeb1d",
   "metadata": {},
   "source": [
    "### 13)  isalpha() :\tReturns True if all characters in the string are in the alphabet"
   ]
  },
  {
   "cell_type": "markdown",
   "id": "794c37bc",
   "metadata": {},
   "source": [
    "The isalpha() method returns True if all the characters are alphabet letters (a-z).\n",
    "\n",
    "Example of characters that are not alphabet letters: (space)!#%&? etc.\n",
    "\n",
    "Syntax :-\n",
    "\n",
    "string.isalpha()  # No parameters"
   ]
  },
  {
   "cell_type": "code",
   "execution_count": 42,
   "id": "228f795b",
   "metadata": {},
   "outputs": [
    {
     "name": "stdout",
     "output_type": "stream",
     "text": [
      "True\n"
     ]
    }
   ],
   "source": [
    "s=\"statistics\"\n",
    "print(s.isalpha())"
   ]
  },
  {
   "cell_type": "code",
   "execution_count": 43,
   "id": "bb7a2300",
   "metadata": {},
   "outputs": [
    {
     "name": "stdout",
     "output_type": "stream",
     "text": [
      "False\n"
     ]
    }
   ],
   "source": [
    "s=\"statistics123\"\n",
    "print(s.isalpha())"
   ]
  },
  {
   "cell_type": "code",
   "execution_count": 44,
   "id": "1d4ce9d0",
   "metadata": {},
   "outputs": [
    {
     "name": "stdout",
     "output_type": "stream",
     "text": [
      "False\n"
     ]
    }
   ],
   "source": [
    "s=\"1729\"\n",
    "print(s.isalpha())"
   ]
  },
  {
   "cell_type": "code",
   "execution_count": 12,
   "id": "7ace7b3c",
   "metadata": {},
   "outputs": [
    {
     "name": "stdout",
     "output_type": "stream",
     "text": [
      "False\n"
     ]
    }
   ],
   "source": [
    "s=\"statistics and mathematics\"\n",
    "print(s.isalpha())"
   ]
  },
  {
   "cell_type": "markdown",
   "id": "3104ffb5",
   "metadata": {},
   "source": [
    "### 14) isascii() :\tReturns True if all characters in the string are ascii characters"
   ]
  },
  {
   "cell_type": "code",
   "execution_count": 46,
   "id": "b26fe969",
   "metadata": {},
   "outputs": [
    {
     "name": "stdout",
     "output_type": "stream",
     "text": [
      "True\n"
     ]
    }
   ],
   "source": [
    "s=\"stats\"\n",
    "print(s.isascii())"
   ]
  },
  {
   "cell_type": "code",
   "execution_count": 47,
   "id": "c9b06309",
   "metadata": {},
   "outputs": [
    {
     "name": "stdout",
     "output_type": "stream",
     "text": [
      "True\n"
     ]
    }
   ],
   "source": [
    "s=\"stats123\"\n",
    "print(s.isascii())"
   ]
  },
  {
   "cell_type": "code",
   "execution_count": 48,
   "id": "7cbabb59",
   "metadata": {},
   "outputs": [
    {
     "name": "stdout",
     "output_type": "stream",
     "text": [
      "True\n"
     ]
    }
   ],
   "source": [
    "s=\"stats#\"\n",
    "print(s.isascii())"
   ]
  },
  {
   "cell_type": "code",
   "execution_count": 49,
   "id": "d3c1c4ce",
   "metadata": {},
   "outputs": [
    {
     "name": "stdout",
     "output_type": "stream",
     "text": [
      "True\n"
     ]
    }
   ],
   "source": [
    "s=\"stats       \"\n",
    "print(s.isascii())"
   ]
  },
  {
   "cell_type": "code",
   "execution_count": 50,
   "id": "b91a3453",
   "metadata": {},
   "outputs": [
    {
     "ename": "SyntaxError",
     "evalue": "EOL while scanning string literal (Temp/ipykernel_3628/2526671661.py, line 1)",
     "output_type": "error",
     "traceback": [
      "\u001b[1;36m  File \u001b[1;32m\"C:\\Users\\SHAILA~1\\AppData\\Local\\Temp/ipykernel_3628/2526671661.py\"\u001b[1;36m, line \u001b[1;32m1\u001b[0m\n\u001b[1;33m    s=\"s=\"'Hêllo Wörld'\"\u001b[0m\n\u001b[1;37m                        ^\u001b[0m\n\u001b[1;31mSyntaxError\u001b[0m\u001b[1;31m:\u001b[0m EOL while scanning string literal\n"
     ]
    }
   ],
   "source": [
    "s=\"s=\"'Hêllo Wörld'\"\n",
    "print(s.isascii())  # gives error"
   ]
  },
  {
   "cell_type": "markdown",
   "id": "db4375b6",
   "metadata": {},
   "source": [
    "### 15) isdecimal() :\tReturns True if all characters in the string are decimals"
   ]
  },
  {
   "cell_type": "markdown",
   "id": "615a31f3",
   "metadata": {},
   "source": [
    "The isdecimal() method returns True if all the characters are decimals (0-9).\n",
    "\n",
    "This method is used on unicode objects.\n",
    "\n",
    "Syntax :-\n",
    "string.isdecimal()"
   ]
  },
  {
   "cell_type": "code",
   "execution_count": 14,
   "id": "bee96399",
   "metadata": {},
   "outputs": [
    {
     "name": "stdout",
     "output_type": "stream",
     "text": [
      "True\n",
      "False\n"
     ]
    }
   ],
   "source": [
    "a = \"\\u0030\" #unicode for 0\n",
    "b = \"\\u00B2\" #unicode for ²\n",
    "\n",
    "print(a.isdecimal())\n",
    "print(b.isdecimal())"
   ]
  },
  {
   "cell_type": "markdown",
   "id": "ed61c560",
   "metadata": {},
   "source": [
    "### 16) isdigit(): Returns True if all characters in the string are digits"
   ]
  },
  {
   "cell_type": "markdown",
   "id": "c1c8a8c6",
   "metadata": {},
   "source": [
    "The isdigit() method returns True if all the characters are digits, otherwise False.\n",
    "\n",
    "Exponents, like ², are also considered to be a digit.\n",
    "\n",
    "Syntax :-\n",
    "\n",
    "string.isdigit()"
   ]
  },
  {
   "cell_type": "code",
   "execution_count": 55,
   "id": "fafd6942",
   "metadata": {},
   "outputs": [
    {
     "name": "stdout",
     "output_type": "stream",
     "text": [
      "True\n"
     ]
    }
   ],
   "source": [
    "s=\"02998378\"\n",
    "print(s.isdigit())"
   ]
  },
  {
   "cell_type": "code",
   "execution_count": 56,
   "id": "8d5ebb1c",
   "metadata": {},
   "outputs": [
    {
     "name": "stdout",
     "output_type": "stream",
     "text": [
      "False\n"
     ]
    }
   ],
   "source": [
    "s=\"python\"\n",
    "print(s.isdigit())"
   ]
  },
  {
   "cell_type": "code",
   "execution_count": 57,
   "id": "02c260cd",
   "metadata": {},
   "outputs": [
    {
     "name": "stdout",
     "output_type": "stream",
     "text": [
      "False\n"
     ]
    }
   ],
   "source": [
    "s=\"python3\"\n",
    "print(s.isdigit())"
   ]
  },
  {
   "cell_type": "code",
   "execution_count": 58,
   "id": "de83cec1",
   "metadata": {},
   "outputs": [
    {
     "name": "stdout",
     "output_type": "stream",
     "text": [
      "True\n",
      "True\n"
     ]
    }
   ],
   "source": [
    "a = \"\\u0030\" #unicode for 0\n",
    "b = \"\\u00B2\" #unicode for ²\n",
    "\n",
    "print(a.isdigit())\n",
    "print(b.isdigit())"
   ]
  },
  {
   "cell_type": "markdown",
   "id": "687fd787",
   "metadata": {},
   "source": [
    "### 17) isidentifier() :\tReturns True if the string is an identifier"
   ]
  },
  {
   "cell_type": "markdown",
   "id": "5ccf7620",
   "metadata": {},
   "source": [
    "The isidentifier() method returns True if the string is a valid identifier, otherwise False.\n",
    "\n",
    "A string is considered a valid identifier if it only contains alphanumeric letters (a-z) and (0-9), or underscores (_). A valid identifier cannot start with a number, or contain any spaces.\n",
    "\n",
    "Syntax :-\n",
    "\n",
    "string.isidentifier()"
   ]
  },
  {
   "cell_type": "code",
   "execution_count": 15,
   "id": "eb15ab78",
   "metadata": {},
   "outputs": [
    {
     "name": "stdout",
     "output_type": "stream",
     "text": [
      "True\n",
      "True\n",
      "True\n",
      "False\n",
      "False\n",
      "True\n",
      "False\n"
     ]
    }
   ],
   "source": [
    "a=\"variable123\"\n",
    "print(a.isidentifier())\n",
    "\n",
    "a=\"variable123\"\n",
    "print(a.isidentifier())\n",
    "a=\"variable_1\"\n",
    "print(a.isidentifier())\n",
    "a=\"variable 1\"\n",
    "print(a.isidentifier())\n",
    "a=\"1variable\"\n",
    "print(a.isidentifier())\n",
    "a=\"_variable\"\n",
    "print(a.isidentifier())\n",
    "a=\"@variable\"\n",
    "print(a.isidentifier())"
   ]
  },
  {
   "cell_type": "markdown",
   "id": "4f3b17d1",
   "metadata": {},
   "source": [
    "### 18) islower() :\tReturns True if all characters in the string are lower case"
   ]
  },
  {
   "cell_type": "markdown",
   "id": "70f79941",
   "metadata": {},
   "source": [
    "The islower() method returns True if all the characters are in lower case, otherwise False.\n",
    "\n",
    "Numbers, symbols and spaces are not checked, only alphabet characters.\n",
    "\n",
    "Syntax :-\n",
    "\n",
    "string.islower()"
   ]
  },
  {
   "cell_type": "code",
   "execution_count": 71,
   "id": "5090a735",
   "metadata": {},
   "outputs": [
    {
     "name": "stdout",
     "output_type": "stream",
     "text": [
      "True\n",
      "True\n",
      "False\n",
      "False\n"
     ]
    }
   ],
   "source": [
    "a=\"mathematics\"\n",
    "print(s.islower())\n",
    "b=\"mathematics 123\"\n",
    "print(b.islower())\n",
    "c=\"Mathematics\"\n",
    "print(c.islower())\n",
    "d=\"MATHEMATICS\"\n",
    "print(d.islower())"
   ]
  },
  {
   "cell_type": "markdown",
   "id": "8629390c",
   "metadata": {},
   "source": [
    "### 19) isnumeric() :\tReturns True if all characters in the string are numeric"
   ]
  },
  {
   "cell_type": "markdown",
   "id": "1817f918",
   "metadata": {},
   "source": [
    "The isnumeric() method returns True if all the characters are numeric (0-9), otherwise False.\n",
    "\n",
    "Exponents, like ² and ¾ are also considered to be numeric values.\n",
    "\n",
    "\"-1\" and \"1.5\" are NOT considered numeric values, because all the characters in the string must be numeric, and the - and the . are not.\n",
    "\n",
    "Syntax :-\n",
    "\n",
    "string.isnumeric()"
   ]
  },
  {
   "cell_type": "code",
   "execution_count": 75,
   "id": "529267c6",
   "metadata": {},
   "outputs": [
    {
     "name": "stdout",
     "output_type": "stream",
     "text": [
      "True\n",
      "False\n",
      "False\n",
      "False\n"
     ]
    }
   ],
   "source": [
    "a=\"1729\"\n",
    "print(a.isnumeric())\n",
    "b=\"mathematics1729\"\n",
    "print(b.isnumeric())\n",
    "c=\"1729.0\"\n",
    "print(c.isnumeric())\n",
    "c=\"-1729\"\n",
    "print(c.isnumeric())"
   ]
  },
  {
   "cell_type": "code",
   "execution_count": 76,
   "id": "3aa475de",
   "metadata": {},
   "outputs": [
    {
     "name": "stdout",
     "output_type": "stream",
     "text": [
      "True\n",
      "True\n",
      "False\n",
      "False\n",
      "False\n"
     ]
    }
   ],
   "source": [
    "a = \"\\u0030\" #unicode for 0\n",
    "b = \"\\u00B2\" #unicode for &sup2;\n",
    "c = \"10km2\"\n",
    "d = \"-1\"\n",
    "e = \"1.5\"\n",
    "\n",
    "print(a.isnumeric())\n",
    "print(b.isnumeric())\n",
    "print(c.isnumeric())\n",
    "print(d.isnumeric())\n",
    "print(e.isnumeric())"
   ]
  },
  {
   "cell_type": "markdown",
   "id": "194a296e",
   "metadata": {},
   "source": [
    "### 20) isprintable() :\tReturns True if all characters in the string are printable"
   ]
  },
  {
   "cell_type": "markdown",
   "id": "e36f40fb",
   "metadata": {},
   "source": [
    "The isprintable() method returns True if all the characters are printable, otherwise False.\n",
    "\n",
    "Example of none printable character can be carriage return and line feed.\n",
    "\n",
    "Syntax :-\n",
    "\n",
    "string.isprintable()"
   ]
  },
  {
   "cell_type": "code",
   "execution_count": 79,
   "id": "bd785f86",
   "metadata": {},
   "outputs": [
    {
     "name": "stdout",
     "output_type": "stream",
     "text": [
      "True\n",
      "True\n",
      "False\n",
      "False\n"
     ]
    }
   ],
   "source": [
    "s=\"I like statistics\"\n",
    "print(s.isprintable())\n",
    "\n",
    "s=\"I like statistics...............\"\n",
    "print(s.isprintable())\n",
    "\n",
    "s=\"I\\t like statistics\"\n",
    "print(s.isprintable())\n",
    "\n",
    "s=\"I\\n like statistics\"\n",
    "print(s.isprintable())"
   ]
  },
  {
   "cell_type": "markdown",
   "id": "a6a691b0",
   "metadata": {},
   "source": [
    "### 21) isspace() :\tReturns True if all characters in the string are whitespaces"
   ]
  },
  {
   "cell_type": "markdown",
   "id": "8734d548",
   "metadata": {},
   "source": [
    "The isspace() method returns True if all the characters in a string are whitespaces, otherwise False.\n",
    "\n",
    "Syntax :-\n",
    "\n",
    "string.isspace()"
   ]
  },
  {
   "cell_type": "code",
   "execution_count": 83,
   "id": "257bf01e",
   "metadata": {},
   "outputs": [
    {
     "name": "stdout",
     "output_type": "stream",
     "text": [
      "False\n",
      "False\n",
      "True\n",
      "False\n"
     ]
    }
   ],
   "source": [
    "s=\"python\"\n",
    "print(s.isspace())\n",
    "\n",
    "s=\"data science\"\n",
    "print(s.isspace())\n",
    "\n",
    "s=\"    \"\n",
    "print(s.isspace())\n",
    "s=\"       s        \"\n",
    "print(s.isspace())"
   ]
  },
  {
   "cell_type": "markdown",
   "id": "c0a73622",
   "metadata": {},
   "source": [
    "### 22) istitle() :\tReturns True if the string follows the rules of a title"
   ]
  },
  {
   "cell_type": "markdown",
   "id": "6d1f5127",
   "metadata": {},
   "source": [
    "The istitle() method returns True if all words in a text start with a upper case letter, AND the rest of the word are lower case letters, otherwise False.\n",
    "\n",
    "Symbols and numbers are ignored.\n",
    "\n",
    "Syntax :\n",
    "\n",
    "string.istitle()"
   ]
  },
  {
   "cell_type": "code",
   "execution_count": 84,
   "id": "52654d33",
   "metadata": {},
   "outputs": [
    {
     "name": "stdout",
     "output_type": "stream",
     "text": [
      "False\n",
      "True\n",
      "True\n",
      "True\n"
     ]
    }
   ],
   "source": [
    "a = \"HELLO, AND WELCOME TO MY WORLD\"\n",
    "b = \"Hello\"\n",
    "c = \"22 Names\"\n",
    "d = \"This Is %'!?\"\n",
    "\n",
    "print(a.istitle())\n",
    "print(b.istitle())\n",
    "print(c.istitle())\n",
    "print(d.istitle())"
   ]
  },
  {
   "cell_type": "markdown",
   "id": "c29e0e51",
   "metadata": {},
   "source": [
    "### 23) isupper() :\tReturns True if all characters in the string are upper case"
   ]
  },
  {
   "cell_type": "markdown",
   "id": "4edffd1c",
   "metadata": {},
   "source": [
    "The isupper() method returns True if all the characters are in upper case, otherwise False.\n",
    "\n",
    "Numbers, symbols and spaces are not checked, only alphabet characters.\n",
    "\n",
    "Syntax :-\n",
    "\n",
    "string.isupper()"
   ]
  },
  {
   "cell_type": "code",
   "execution_count": 89,
   "id": "a96305b8",
   "metadata": {},
   "outputs": [
    {
     "name": "stdout",
     "output_type": "stream",
     "text": [
      "True\n",
      "False\n",
      "True\n"
     ]
    }
   ],
   "source": [
    "s=\"STATISTICS\"\n",
    "print(s.isupper())\n",
    "\n",
    "s=\"Statistics\"\n",
    "print(s.isupper())\n",
    "\n",
    "s=\"STATISTICS 123\"\n",
    "print(s.isupper())"
   ]
  },
  {
   "cell_type": "markdown",
   "id": "6bfbf2ad",
   "metadata": {},
   "source": [
    "### 24) join() : Converts the elements of an iterable into a string"
   ]
  },
  {
   "cell_type": "markdown",
   "id": "0b9b9e79",
   "metadata": {},
   "source": [
    "The join() method takes all items in an iterable and joins them into one string.\n",
    "\n",
    "A string must be specified as the separator.\n",
    "\n",
    "Syntax :-\n",
    "\n",
    "string.join(iterable)"
   ]
  },
  {
   "cell_type": "code",
   "execution_count": 16,
   "id": "9493cc24",
   "metadata": {},
   "outputs": [
    {
     "name": "stdout",
     "output_type": "stream",
     "text": [
      "M@A@T@H@E@M@A@T@I@C@S\n",
      "M (statistics) A (statistics) T (statistics) H (statistics) E (statistics) M (statistics) A (statistics) T (statistics) I (statistics) C (statistics) S\n"
     ]
    }
   ],
   "source": [
    "s=\" (                  tatistics) \"\n",
    "m=\"MATHEMATICS\"\n",
    "print(\"@\".join(m))\n",
    "print(s.join(m))\n"
   ]
  },
  {
   "cell_type": "code",
   "execution_count": 105,
   "id": "6174c618",
   "metadata": {},
   "outputs": [
    {
     "name": "stdout",
     "output_type": "stream",
     "text": [
      "AaaaaaaaB\n",
      "Aaaa bbbB\n",
      "S$h$a$i$l$a$j\n",
      "s.h.a.i.l.a.j.a\n"
     ]
    }
   ],
   "source": [
    "d={\"A\":1,\"B\":2}\n",
    "s=\"aaaaaaa\"\n",
    "print(s.join(d))\n",
    "\n",
    "d={\"A\":1,\"B\":2}\n",
    "s=\"aaa bbb\"\n",
    "print(s.join(d))\n",
    "\n",
    "\n",
    "print(\"$\".join(\"Shailaj\"))\n",
    "print(\".\".join(\"shailaja\"))"
   ]
  },
  {
   "cell_type": "code",
   "execution_count": 17,
   "id": "b617dc6e",
   "metadata": {},
   "outputs": [
    {
     "name": "stdout",
     "output_type": "stream",
     "text": [
      "S*H*A*I*L*A*J*A\n"
     ]
    }
   ],
   "source": [
    "l=[\"S\",\"H\",\"A\",\"I\",\"L\",\"A\",\"J\",\"A\"]\n",
    "print(\"*\".join(l))"
   ]
  },
  {
   "cell_type": "markdown",
   "id": "b9b4ab8f",
   "metadata": {},
   "source": [
    "### 25) ljust() :\tReturns a left justified version of the string"
   ]
  },
  {
   "cell_type": "markdown",
   "id": "1cc900e3",
   "metadata": {},
   "source": [
    "The ljust() method will left align the string, using a specified character (space is default) as the fill character.\n",
    "\n",
    "Syntax :\n",
    "\n",
    "string.ljust(length, character)\n",
    "\n",
    "\n",
    "Parameter AND\tDescription\n",
    "\n",
    "length :\tRequired. The length of the returned string\n",
    "\n",
    "character :\tOptional. A character to fill the missing space (to the right of the string). Default is \" \" (space).\n"
   ]
  },
  {
   "cell_type": "code",
   "execution_count": 112,
   "id": "3d43f4d1",
   "metadata": {},
   "outputs": [
    {
     "name": "stdout",
     "output_type": "stream",
     "text": [
      "shailaja@@@@@@@@@@@@\n"
     ]
    }
   ],
   "source": [
    "s=\"shailaja\"\n",
    "print(s.ljust(20,\"@\"))"
   ]
  },
  {
   "cell_type": "markdown",
   "id": "9d87b6ab",
   "metadata": {},
   "source": [
    "### 26) lower()\t: Converts a string into lower case"
   ]
  },
  {
   "cell_type": "markdown",
   "id": "36276fcb",
   "metadata": {},
   "source": [
    "The lower() method returns a string where all characters are lower case.\n",
    "\n",
    " Symbols and Numbers are ignored.\n",
    "\n",
    "Syntax :-\n",
    "\n",
    "string.lower()"
   ]
  },
  {
   "cell_type": "code",
   "execution_count": 117,
   "id": "f315d8e9",
   "metadata": {},
   "outputs": [
    {
     "name": "stdout",
     "output_type": "stream",
     "text": [
      "shailaja\n",
      "shailaja\n",
      "shailaja 1234\n",
      "shailaja 1234\n"
     ]
    }
   ],
   "source": [
    "s=\"Shailaja\"\n",
    "print(s.lower())\n",
    "\n",
    "s=\"SHAILAJA\"\n",
    "print(s.lower())\n",
    "\n",
    "s=\"Shailaja 1234\"\n",
    "print(s.lower())\n",
    "\n",
    "s=\"SHAILAJA 1234\"\n",
    "print(s.lower())"
   ]
  },
  {
   "cell_type": "markdown",
   "id": "ef0a9753",
   "metadata": {},
   "source": [
    "### 27) lstrip() :\tReturns a left trim version of the string"
   ]
  },
  {
   "cell_type": "markdown",
   "id": "e89bec98",
   "metadata": {},
   "source": [
    "The lstrip() method removes any leading characters (space is the default leading character to remove)\n",
    "\n",
    "Syntax :-\n",
    "\n",
    "string.lstrip(characters)"
   ]
  },
  {
   "cell_type": "code",
   "execution_count": 125,
   "id": "6e48f218",
   "metadata": {},
   "outputs": [
    {
     "name": "stdout",
     "output_type": "stream",
     "text": [
      "Hi\n",
      "Hi.................\n",
      "Hi\n",
      "..................Hi\n"
     ]
    }
   ],
   "source": [
    "s=\"..................Hi\"\n",
    "print(s.lstrip(\".\"))\n",
    "\n",
    "x=\"Hi.................\"\n",
    "print(x.lstrip(\".\"))\n",
    "\n",
    "y=\"........,,,,,,,,,@@@@ssss   Hi\"\n",
    "print(y.lstrip(\".,@ s\"))\n",
    "\n",
    "print(s.lstrip(\",\"))"
   ]
  },
  {
   "cell_type": "markdown",
   "id": "d2fa2b17",
   "metadata": {},
   "source": [
    "### 28) maketrans() :\tReturns a translation table to be used in translations"
   ]
  },
  {
   "cell_type": "markdown",
   "id": "239c82a1",
   "metadata": {},
   "source": [
    "The maketrans() method returns a mapping table that can be used with the translate() method to replace specified characters.\n",
    "\n",
    "Syntax :-\n",
    "\n",
    "string.maketrans(x, y, z)\n",
    "\n",
    "Parameter and\tDescription :-\n",
    "\n",
    "x :\tRequired. If only one parameter is specified, this has to be a dictionary describing how to perform the replace. If two or more parameters are specified, this parameter has to be a string specifying the characters you want to replace.\n",
    "\n",
    "y :\tOptional. A string with the same length as parameter x. Each character in the first parameter will be replaced with the corresponding character in this string.\n",
    "\n",
    "z :\tOptional. A string describing which characters to remove from the original string.\n"
   ]
  },
  {
   "cell_type": "code",
   "execution_count": 1,
   "id": "a1b35754",
   "metadata": {},
   "outputs": [
    {
     "name": "stdout",
     "output_type": "stream",
     "text": [
      "{83: 115}\n",
      "83\n",
      "80\n"
     ]
    }
   ],
   "source": [
    "s = \"Hello Sam!\"\n",
    "print(s.maketrans(\"S\", \"P\"))\n",
    "\n",
    "print(ord(\"S\"))\n",
    "print(ord(\"P\"))\n"
   ]
  },
  {
   "cell_type": "code",
   "execution_count": 133,
   "id": "96d22739",
   "metadata": {},
   "outputs": [
    {
     "name": "stdout",
     "output_type": "stream",
     "text": [
      "Hi Joe!\n"
     ]
    }
   ],
   "source": [
    "txt = \"Hi Sam!\"\n",
    "\n",
    "x = \"mSa\"\n",
    "y = \"eJo\"\n",
    "\n",
    "mytable = txt.maketrans(x, y)\n",
    "\n",
    "print(txt.translate(mytable))"
   ]
  },
  {
   "cell_type": "code",
   "execution_count": 1,
   "id": "3bf7a10a",
   "metadata": {
    "scrolled": true
   },
   "outputs": [
    {
     "name": "stdout",
     "output_type": "stream",
     "text": [
      "{109: 101, 83: 74, 97: 111}\n"
     ]
    }
   ],
   "source": [
    "txt = \"Hi Sam!\"\n",
    "\n",
    "x = \"mSa\"\n",
    "y = \"eJo\"\n",
    "\n",
    "print(txt.maketrans(x, y))"
   ]
  },
  {
   "cell_type": "code",
   "execution_count": null,
   "id": "601184a9",
   "metadata": {},
   "outputs": [],
   "source": [
    "print(char(109))"
   ]
  },
  {
   "cell_type": "code",
   "execution_count": null,
   "id": "5136cc3d",
   "metadata": {},
   "outputs": [],
   "source": []
  }
 ],
 "metadata": {
  "kernelspec": {
   "display_name": "Python 3 (ipykernel)",
   "language": "python",
   "name": "python3"
  },
  "language_info": {
   "codemirror_mode": {
    "name": "ipython",
    "version": 3
   },
   "file_extension": ".py",
   "mimetype": "text/x-python",
   "name": "python",
   "nbconvert_exporter": "python",
   "pygments_lexer": "ipython3",
   "version": "3.9.13"
  }
 },
 "nbformat": 4,
 "nbformat_minor": 5
}
