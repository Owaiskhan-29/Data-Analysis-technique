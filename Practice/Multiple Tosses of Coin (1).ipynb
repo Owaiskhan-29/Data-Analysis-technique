{
 "cells": [
  {
   "cell_type": "code",
   "execution_count": 13,
   "id": "5179e4a5",
   "metadata": {},
   "outputs": [
    {
     "name": "stdout",
     "output_type": "stream",
     "text": [
      "present side is : Head\n",
      " Now, i am tossing coin\n",
      "2\n"
     ]
    }
   ],
   "source": [
    "import random\n",
    "class Coin:\n",
    "    def __init__(self):\n",
    "        self.side=\"Head\"\n",
    "\n",
    "    def toss(self):\n",
    "        if random.randint(0,1)==0:\n",
    "            self.side=\"Head\"\n",
    "        else:\n",
    "            self.side=\"Tail\"\n",
    "\n",
    "    def get_side(self):\n",
    "        return self.side\n",
    "\n",
    "c=Coin()\n",
    "print(\"present side is :\",c.get_side())\n",
    "print(\" Now, i am tossing coin\")\n",
    "for i in range(1,10):\n",
    "    c.toss()\n",
    "    #print(c.get_side())\n",
    "    if(c.side==\"Head\"):\n",
    "        print(i)\n",
    "        break\n",
    "        \n",
    "#print(\" After tossing i got : \",c.get_side())"
   ]
  },
  {
   "cell_type": "code",
   "execution_count": null,
   "id": "bd5b3112",
   "metadata": {},
   "outputs": [],
   "source": []
  },
  {
   "cell_type": "code",
   "execution_count": null,
   "id": "c207e4c1",
   "metadata": {},
   "outputs": [],
   "source": []
  }
 ],
 "metadata": {
  "kernelspec": {
   "display_name": "Python 3 (ipykernel)",
   "language": "python",
   "name": "python3"
  },
  "language_info": {
   "codemirror_mode": {
    "name": "ipython",
    "version": 3
   },
   "file_extension": ".py",
   "mimetype": "text/x-python",
   "name": "python",
   "nbconvert_exporter": "python",
   "pygments_lexer": "ipython3",
   "version": "3.9.7"
  }
 },
 "nbformat": 4,
 "nbformat_minor": 5
}
