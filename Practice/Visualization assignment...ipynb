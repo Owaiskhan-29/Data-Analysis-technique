{
 "cells": [
  {
   "cell_type": "markdown",
   "id": "928e7dd6",
   "metadata": {},
   "source": [
    "\n",
    "### The Tips dataset contains some tipping information that was compiled by a waiter over a few months of employment in a single restaurant. Each tip was noted in the dataset.\n",
    "### Tips dataset is a data frame with 244 rows and 7 variables "
   ]
  },
  {
   "cell_type": "code",
   "execution_count": 2,
   "id": "4f69e146",
   "metadata": {},
   "outputs": [],
   "source": [
    "# importing modules\n",
    "\n",
    "import pandas as pd\n",
    "import seaborn as sns\n",
    "import matplotlib.pyplot as plt"
   ]
  },
  {
   "cell_type": "code",
   "execution_count": 3,
   "id": "68d5c31b",
   "metadata": {},
   "outputs": [],
   "source": [
    "df=sns.load_dataset(\"tips\") # reading the dataset"
   ]
  },
  {
   "cell_type": "code",
   "execution_count": 4,
   "id": "731846e9",
   "metadata": {},
   "outputs": [
    {
     "data": {
      "text/html": [
       "<div>\n",
       "<style scoped>\n",
       "    .dataframe tbody tr th:only-of-type {\n",
       "        vertical-align: middle;\n",
       "    }\n",
       "\n",
       "    .dataframe tbody tr th {\n",
       "        vertical-align: top;\n",
       "    }\n",
       "\n",
       "    .dataframe thead th {\n",
       "        text-align: right;\n",
       "    }\n",
       "</style>\n",
       "<table border=\"1\" class=\"dataframe\">\n",
       "  <thead>\n",
       "    <tr style=\"text-align: right;\">\n",
       "      <th></th>\n",
       "      <th>total_bill</th>\n",
       "      <th>tip</th>\n",
       "      <th>sex</th>\n",
       "      <th>smoker</th>\n",
       "      <th>day</th>\n",
       "      <th>time</th>\n",
       "      <th>size</th>\n",
       "    </tr>\n",
       "  </thead>\n",
       "  <tbody>\n",
       "    <tr>\n",
       "      <th>0</th>\n",
       "      <td>16.99</td>\n",
       "      <td>1.01</td>\n",
       "      <td>Female</td>\n",
       "      <td>No</td>\n",
       "      <td>Sun</td>\n",
       "      <td>Dinner</td>\n",
       "      <td>2</td>\n",
       "    </tr>\n",
       "    <tr>\n",
       "      <th>1</th>\n",
       "      <td>10.34</td>\n",
       "      <td>1.66</td>\n",
       "      <td>Male</td>\n",
       "      <td>No</td>\n",
       "      <td>Sun</td>\n",
       "      <td>Dinner</td>\n",
       "      <td>3</td>\n",
       "    </tr>\n",
       "    <tr>\n",
       "      <th>2</th>\n",
       "      <td>21.01</td>\n",
       "      <td>3.50</td>\n",
       "      <td>Male</td>\n",
       "      <td>No</td>\n",
       "      <td>Sun</td>\n",
       "      <td>Dinner</td>\n",
       "      <td>3</td>\n",
       "    </tr>\n",
       "    <tr>\n",
       "      <th>3</th>\n",
       "      <td>23.68</td>\n",
       "      <td>3.31</td>\n",
       "      <td>Male</td>\n",
       "      <td>No</td>\n",
       "      <td>Sun</td>\n",
       "      <td>Dinner</td>\n",
       "      <td>2</td>\n",
       "    </tr>\n",
       "    <tr>\n",
       "      <th>4</th>\n",
       "      <td>24.59</td>\n",
       "      <td>3.61</td>\n",
       "      <td>Female</td>\n",
       "      <td>No</td>\n",
       "      <td>Sun</td>\n",
       "      <td>Dinner</td>\n",
       "      <td>4</td>\n",
       "    </tr>\n",
       "    <tr>\n",
       "      <th>...</th>\n",
       "      <td>...</td>\n",
       "      <td>...</td>\n",
       "      <td>...</td>\n",
       "      <td>...</td>\n",
       "      <td>...</td>\n",
       "      <td>...</td>\n",
       "      <td>...</td>\n",
       "    </tr>\n",
       "    <tr>\n",
       "      <th>239</th>\n",
       "      <td>29.03</td>\n",
       "      <td>5.92</td>\n",
       "      <td>Male</td>\n",
       "      <td>No</td>\n",
       "      <td>Sat</td>\n",
       "      <td>Dinner</td>\n",
       "      <td>3</td>\n",
       "    </tr>\n",
       "    <tr>\n",
       "      <th>240</th>\n",
       "      <td>27.18</td>\n",
       "      <td>2.00</td>\n",
       "      <td>Female</td>\n",
       "      <td>Yes</td>\n",
       "      <td>Sat</td>\n",
       "      <td>Dinner</td>\n",
       "      <td>2</td>\n",
       "    </tr>\n",
       "    <tr>\n",
       "      <th>241</th>\n",
       "      <td>22.67</td>\n",
       "      <td>2.00</td>\n",
       "      <td>Male</td>\n",
       "      <td>Yes</td>\n",
       "      <td>Sat</td>\n",
       "      <td>Dinner</td>\n",
       "      <td>2</td>\n",
       "    </tr>\n",
       "    <tr>\n",
       "      <th>242</th>\n",
       "      <td>17.82</td>\n",
       "      <td>1.75</td>\n",
       "      <td>Male</td>\n",
       "      <td>No</td>\n",
       "      <td>Sat</td>\n",
       "      <td>Dinner</td>\n",
       "      <td>2</td>\n",
       "    </tr>\n",
       "    <tr>\n",
       "      <th>243</th>\n",
       "      <td>18.78</td>\n",
       "      <td>3.00</td>\n",
       "      <td>Female</td>\n",
       "      <td>No</td>\n",
       "      <td>Thur</td>\n",
       "      <td>Dinner</td>\n",
       "      <td>2</td>\n",
       "    </tr>\n",
       "  </tbody>\n",
       "</table>\n",
       "<p>244 rows × 7 columns</p>\n",
       "</div>"
      ],
      "text/plain": [
       "     total_bill   tip     sex smoker   day    time  size\n",
       "0         16.99  1.01  Female     No   Sun  Dinner     2\n",
       "1         10.34  1.66    Male     No   Sun  Dinner     3\n",
       "2         21.01  3.50    Male     No   Sun  Dinner     3\n",
       "3         23.68  3.31    Male     No   Sun  Dinner     2\n",
       "4         24.59  3.61  Female     No   Sun  Dinner     4\n",
       "..          ...   ...     ...    ...   ...     ...   ...\n",
       "239       29.03  5.92    Male     No   Sat  Dinner     3\n",
       "240       27.18  2.00  Female    Yes   Sat  Dinner     2\n",
       "241       22.67  2.00    Male    Yes   Sat  Dinner     2\n",
       "242       17.82  1.75    Male     No   Sat  Dinner     2\n",
       "243       18.78  3.00  Female     No  Thur  Dinner     2\n",
       "\n",
       "[244 rows x 7 columns]"
      ]
     },
     "execution_count": 4,
     "metadata": {},
     "output_type": "execute_result"
    }
   ],
   "source": [
    "df"
   ]
  },
  {
   "cell_type": "code",
   "execution_count": 5,
   "id": "2d1c0559",
   "metadata": {},
   "outputs": [
    {
     "name": "stdout",
     "output_type": "stream",
     "text": [
      "<class 'pandas.core.frame.DataFrame'>\n",
      "RangeIndex: 244 entries, 0 to 243\n",
      "Data columns (total 7 columns):\n",
      " #   Column      Non-Null Count  Dtype   \n",
      "---  ------      --------------  -----   \n",
      " 0   total_bill  244 non-null    float64 \n",
      " 1   tip         244 non-null    float64 \n",
      " 2   sex         244 non-null    category\n",
      " 3   smoker      244 non-null    category\n",
      " 4   day         244 non-null    category\n",
      " 5   time        244 non-null    category\n",
      " 6   size        244 non-null    int64   \n",
      "dtypes: category(4), float64(2), int64(1)\n",
      "memory usage: 7.4 KB\n"
     ]
    }
   ],
   "source": [
    "df.info() #summary "
   ]
  },
  {
   "cell_type": "markdown",
   "id": "c390ce30",
   "metadata": {},
   "source": [
    "#  Find the correlation of the data"
   ]
  },
  {
   "cell_type": "code",
   "execution_count": 17,
   "id": "a3eb7ec6",
   "metadata": {},
   "outputs": [
    {
     "name": "stderr",
     "output_type": "stream",
     "text": [
      "C:\\Users\\owais\\AppData\\Local\\Temp\\ipykernel_11824\\2974791385.py:1: FutureWarning: The default value of numeric_only in DataFrame.corr is deprecated. In a future version, it will default to False. Select only valid columns or specify the value of numeric_only to silence this warning.\n",
      "  sns.heatmap(df.corr(),annot=True,cmap=\"tab20\")\n"
     ]
    },
    {
     "data": {
      "text/plain": [
       "<AxesSubplot: >"
      ]
     },
     "execution_count": 17,
     "metadata": {},
     "output_type": "execute_result"
    },
    {
     "data": {
      "image/png": "[encoded data removed]",
      "text/plain": [
       "<Figure size 432x288 with 2 Axes>"
      ]
     },
     "metadata": {
      "needs_background": "light"
     },
     "output_type": "display_data"
    }
   ],
   "source": [
    "sns.heatmap(df.corr(),annot=True,cmap=\"tab20\")"
   ]
  },
  {
   "cell_type": "markdown",
   "id": "ed498e38",
   "metadata": {},
   "source": [
    "# Who loves smoking mostly and does that affect tip values when compared to non-smoking customers?"
   ]
  },
  {
   "cell_type": "code",
   "execution_count": 9,
   "id": "fabf7d79",
   "metadata": {},
   "outputs": [
    {
     "data": {
      "text/plain": [
       "<AxesSubplot: xlabel='sex', ylabel='tip'>"
      ]
     },
     "execution_count": 9,
     "metadata": {},
     "output_type": "execute_result"
    },
    {
     "data": {
      "image/png": "[encoded data removed]",
      "text/plain": [
       "<Figure size 432x288 with 1 Axes>"
      ]
     },
     "metadata": {
      "needs_background": "light"
     },
     "output_type": "display_data"
    }
   ],
   "source": [
    "\n",
    "sns.boxplot(y=df[\"tip\"],x=df[\"sex\"],hue=df['smoker'])"
   ]
  },
  {
   "cell_type": "code",
   "execution_count": 11,
   "id": "fda5e216",
   "metadata": {},
   "outputs": [
    {
     "data": {
      "text/plain": [
       "sex     smoker\n",
       "Male    Yes       3.051167\n",
       "        No        3.113402\n",
       "Female  Yes       2.931515\n",
       "        No        2.773519\n",
       "Name: tip, dtype: float64"
      ]
     },
     "execution_count": 11,
     "metadata": {},
     "output_type": "execute_result"
    }
   ],
   "source": [
    "df.groupby(['sex', 'smoker'])['tip'].mean()"
   ]
  },
  {
   "cell_type": "markdown",
   "id": "a5c4ee80",
   "metadata": {},
   "source": [
    "# Show the pair plot based on sex variable"
   ]
  },
  {
   "cell_type": "code",
   "execution_count": 6,
   "id": "b8063eaa",
   "metadata": {},
   "outputs": [
    {
     "data": {
      "text/plain": [
       "<seaborn.axisgrid.PairGrid at 0x21edde6f700>"
      ]
     },
     "execution_count": 6,
     "metadata": {},
     "output_type": "execute_result"
    },
    {
     "data": {
      "image/png": "[encoded data removed]",
      "text/plain": [
       "<Figure size 612.125x540 with 12 Axes>"
      ]
     },
     "metadata": {
      "needs_background": "light"
     },
     "output_type": "display_data"
    }
   ],
   "source": [
    "sns.pairplot(data=df,hue='sex')"
   ]
  },
  {
   "cell_type": "markdown",
   "id": "d4d1649c",
   "metadata": {},
   "source": [
    "# How many males and females are there?"
   ]
  },
  {
   "cell_type": "code",
   "execution_count": 9,
   "id": "cb4ca2d4",
   "metadata": {},
   "outputs": [
    {
     "data": {
      "text/plain": [
       "Male      157\n",
       "Female     87\n",
       "Name: sex, dtype: int64"
      ]
     },
     "execution_count": 9,
     "metadata": {},
     "output_type": "execute_result"
    }
   ],
   "source": [
    "df[\"sex\"].value_counts()"
   ]
  },
  {
   "cell_type": "markdown",
   "id": "cd083544",
   "metadata": {},
   "source": [
    "#### There is more men than women go to restaurants in their free time. Women don't want to rest in their free time they are working again and again. you can see about half the men, women come to the restaurant"
   ]
  },
  {
   "cell_type": "markdown",
   "id": "0e7f8768",
   "metadata": {},
   "source": [
    "# Who has paid more bill whether it is male or female?"
   ]
  },
  {
   "cell_type": "code",
   "execution_count": 10,
   "id": "1976787f",
   "metadata": {},
   "outputs": [
    {
     "data": {
      "text/plain": [
       "170    Male\n",
       "Name: sex, dtype: category\n",
       "Categories (2, object): ['Male', 'Female']"
      ]
     },
     "execution_count": 10,
     "metadata": {},
     "output_type": "execute_result"
    }
   ],
   "source": [
    "\n",
    "df.query(\"total_bill == total_bill.max()\")[\"sex\"] "
   ]
  },
  {
   "cell_type": "code",
   "execution_count": 65,
   "id": "83820f8b",
   "metadata": {},
   "outputs": [
    {
     "data": {
      "text/plain": [
       "<AxesSubplot: xlabel='sex', ylabel='total_bill'>"
      ]
     },
     "execution_count": 65,
     "metadata": {},
     "output_type": "execute_result"
    },
    {
     "data": {
      "image/png": "[encoded data removed]",
      "text/plain": [
       "<Figure size 432x288 with 1 Axes>"
      ]
     },
     "metadata": {
      "needs_background": "light"
     },
     "output_type": "display_data"
    }
   ],
   "source": [
    "sns.barplot(data=df, y=\"total_bill\",x=\"sex\")"
   ]
  },
  {
   "cell_type": "markdown",
   "id": "80e8cc4a",
   "metadata": {},
   "source": [
    "#### As you can see from the graph, men paid more bills than women. Because if both man and woman go together (may be date) then mostly men pay the bill if not so they both split the bill and pay. If lady comes with her friends or there is a celebration party then only lady pays"
   ]
  },
  {
   "cell_type": "markdown",
   "id": "e05c2851",
   "metadata": {},
   "source": [
    "# Find the average total bill of male and female based on smoker attribute? "
   ]
  },
  {
   "cell_type": "code",
   "execution_count": 14,
   "id": "6d3e3979",
   "metadata": {},
   "outputs": [
    {
     "data": {
      "text/plain": [
       "sex     smoker\n",
       "Male    Yes       22.284500\n",
       "        No        19.791237\n",
       "Female  Yes       17.977879\n",
       "        No        18.105185\n",
       "Name: total_bill, dtype: float64"
      ]
     },
     "execution_count": 14,
     "metadata": {},
     "output_type": "execute_result"
    }
   ],
   "source": [
    "df.groupby(['sex','smoker'])[\"total_bill\"].mean()"
   ]
  },
  {
   "cell_type": "markdown",
   "id": "45b1ab88",
   "metadata": {},
   "source": [
    "# Who paying the more tip on sunday?\n"
   ]
  },
  {
   "cell_type": "code",
   "execution_count": 12,
   "id": "bae189c7",
   "metadata": {},
   "outputs": [
    {
     "data": {
      "text/plain": [
       "183    Male\n",
       "Name: sex, dtype: category\n",
       "Categories (2, object): ['Male', 'Female']"
      ]
     },
     "execution_count": 12,
     "metadata": {},
     "output_type": "execute_result"
    }
   ],
   "source": [
    "df[df[\"day\"]==\"Sun\"].nlargest(1,\"tip\")[\"sex\"]"
   ]
  },
  {
   "cell_type": "code",
   "execution_count": 13,
   "id": "57058473",
   "metadata": {},
   "outputs": [
    {
     "data": {
      "text/plain": [
       "183    Male\n",
       "Name: sex, dtype: category\n",
       "Categories (2, object): ['Male', 'Female']"
      ]
     },
     "execution_count": 13,
     "metadata": {},
     "output_type": "execute_result"
    }
   ],
   "source": [
    "df.query(\"day=='Sun'\").query(\"tip==tip.max()\")[\"sex\"]"
   ]
  },
  {
   "cell_type": "markdown",
   "id": "5a50bea2",
   "metadata": {},
   "source": [
    "# Is there any relationship between total bills and tips"
   ]
  },
  {
   "cell_type": "code",
   "execution_count": 39,
   "id": "7a5a3f31",
   "metadata": {
    "scrolled": true
   },
   "outputs": [
    {
     "data": {
      "text/plain": [
       "<AxesSubplot: xlabel='total_bill', ylabel='tip'>"
      ]
     },
     "execution_count": 39,
     "metadata": {},
     "output_type": "execute_result"
    },
    {
     "data": {
      "image/png": "[encoded data removed]",
      "text/plain": [
       "<Figure size 432x288 with 1 Axes>"
      ]
     },
     "metadata": {
      "needs_background": "light"
     },
     "output_type": "display_data"
    }
   ],
   "source": [
    "sns.regplot(data=df,x=\"total_bill\",y=\"tip\")"
   ]
  },
  {
   "cell_type": "markdown",
   "id": "b55713b4",
   "metadata": {},
   "source": [
    "#### There is partially positive relationship between the tips and total bill. because mostly people give tips after they paid the bill. As you can see mostly people gives total bill between 5 dollars to 25 dollars"
   ]
  },
  {
   "cell_type": "markdown",
   "id": "c882d2fe",
   "metadata": {},
   "source": [
    "\n",
    "# Which gender has the most occupied space when the table size is 3"
   ]
  },
  {
   "cell_type": "code",
   "execution_count": 27,
   "id": "d0834cd0",
   "metadata": {},
   "outputs": [
    {
     "data": {
      "text/plain": [
       "Male      24\n",
       "Female    14\n",
       "Name: sex, dtype: int64"
      ]
     },
     "execution_count": 27,
     "metadata": {},
     "output_type": "execute_result"
    }
   ],
   "source": [
    "df[df[\"size\"]==3][\"sex\"].value_counts()\n"
   ]
  },
  {
   "cell_type": "code",
   "execution_count": 29,
   "id": "7427840b",
   "metadata": {},
   "outputs": [
    {
     "data": {
      "text/plain": [
       "<AxesSubplot: xlabel='sex', ylabel='count'>"
      ]
     },
     "execution_count": 29,
     "metadata": {},
     "output_type": "execute_result"
    },
    {
     "data": {
      "image/png": "[encoded data removed]",
      "text/plain": [
       "<Figure size 432x288 with 1 Axes>"
      ]
     },
     "metadata": {
      "needs_background": "light"
     },
     "output_type": "display_data"
    }
   ],
   "source": [
    "dff=df[df[\"size\"]==3]\n",
    "sns.countplot(data=dff,x=\"sex\")"
   ]
  },
  {
   "cell_type": "markdown",
   "id": "f46495e3",
   "metadata": {},
   "source": [
    "# What time do customers most prefer to visit the restaurant"
   ]
  },
  {
   "cell_type": "code",
   "execution_count": 34,
   "id": "ea4d6ff5",
   "metadata": {},
   "outputs": [
    {
     "data": {
      "text/plain": [
       "<AxesSubplot: xlabel='time', ylabel='count'>"
      ]
     },
     "execution_count": 34,
     "metadata": {},
     "output_type": "execute_result"
    },
    {
     "data": {
      "image/png": "[encoded data removed]",
      "text/plain": [
       "<Figure size 432x288 with 1 Axes>"
      ]
     },
     "metadata": {
      "needs_background": "light"
     },
     "output_type": "display_data"
    }
   ],
   "source": [
    "sns.countplot(data=df,x=\"time\")"
   ]
  },
  {
   "cell_type": "markdown",
   "id": "525952b8",
   "metadata": {},
   "source": [
    "#### Most people go to their work during the day. Students go to school or college and adults go to office, so people do not have time to have lunch in restaurants. That's why they come to the restaurant at night."
   ]
  },
  {
   "cell_type": "markdown",
   "id": "6f05e11c",
   "metadata": {},
   "source": [
    "# What is the different amout of data percentage with respect to gender ?How much higher is comparind to opposite gender"
   ]
  },
  {
   "cell_type": "code",
   "execution_count": 30,
   "id": "e93b200f",
   "metadata": {},
   "outputs": [
    {
     "name": "stdout",
     "output_type": "stream",
     "text": [
      "64.34426229508196\n",
      "35.65573770491803\n"
     ]
    }
   ],
   "source": [
    "male=len(df[df[\"sex\"]==\"Male\"])*100/len(df)\n",
    "female=len(df[df[\"sex\"]==\"Female\"])*100/len(df)\n",
    "print(male)\n",
    "print(female)"
   ]
  },
  {
   "cell_type": "code",
   "execution_count": 31,
   "id": "3a1baeae",
   "metadata": {},
   "outputs": [
    {
     "data": {
      "text/plain": [
       "28.688524590163933"
      ]
     },
     "execution_count": 31,
     "metadata": {},
     "output_type": "execute_result"
    }
   ],
   "source": [
    "(len(df[df[\"sex\"]==\"Male\"])-len(df[df[\"sex\"]==\"Female\"]))*100/len(df)"
   ]
  },
  {
   "cell_type": "markdown",
   "id": "63e72efa",
   "metadata": {},
   "source": [
    "# Which gender has offered most valuable tips when the total bill value is between 10 to 20 dollors"
   ]
  },
  {
   "cell_type": "code",
   "execution_count": 33,
   "id": "c2aa284a",
   "metadata": {},
   "outputs": [
    {
     "data": {
      "text/plain": [
       "172    Male\n",
       "Name: sex, dtype: category\n",
       "Categories (2, object): ['Male', 'Female']"
      ]
     },
     "execution_count": 33,
     "metadata": {},
     "output_type": "execute_result"
    }
   ],
   "source": [
    "df.query(\"10 > total_bill < 20\").nlargest(1,\"tip\")[\"sex\"]"
   ]
  },
  {
   "cell_type": "markdown",
   "id": "1df7e202",
   "metadata": {},
   "source": [
    "# Which of the table sizes 2 and 4 is often preferred?"
   ]
  },
  {
   "cell_type": "code",
   "execution_count": 45,
   "id": "4ee7f65a",
   "metadata": {},
   "outputs": [
    {
     "data": {
      "text/html": [
       "<div>\n",
       "<style scoped>\n",
       "    .dataframe tbody tr th:only-of-type {\n",
       "        vertical-align: middle;\n",
       "    }\n",
       "\n",
       "    .dataframe tbody tr th {\n",
       "        vertical-align: top;\n",
       "    }\n",
       "\n",
       "    .dataframe thead th {\n",
       "        text-align: right;\n",
       "    }\n",
       "</style>\n",
       "<table border=\"1\" class=\"dataframe\">\n",
       "  <thead>\n",
       "    <tr style=\"text-align: right;\">\n",
       "      <th></th>\n",
       "      <th>total_bill</th>\n",
       "      <th>tip</th>\n",
       "      <th>sex</th>\n",
       "      <th>smoker</th>\n",
       "      <th>day</th>\n",
       "      <th>time</th>\n",
       "      <th>size</th>\n",
       "    </tr>\n",
       "  </thead>\n",
       "  <tbody>\n",
       "    <tr>\n",
       "      <th>0</th>\n",
       "      <td>16.99</td>\n",
       "      <td>1.01</td>\n",
       "      <td>Female</td>\n",
       "      <td>No</td>\n",
       "      <td>Sun</td>\n",
       "      <td>Dinner</td>\n",
       "      <td>2</td>\n",
       "    </tr>\n",
       "    <tr>\n",
       "      <th>3</th>\n",
       "      <td>23.68</td>\n",
       "      <td>3.31</td>\n",
       "      <td>Male</td>\n",
       "      <td>No</td>\n",
       "      <td>Sun</td>\n",
       "      <td>Dinner</td>\n",
       "      <td>2</td>\n",
       "    </tr>\n",
       "    <tr>\n",
       "      <th>4</th>\n",
       "      <td>24.59</td>\n",
       "      <td>3.61</td>\n",
       "      <td>Female</td>\n",
       "      <td>No</td>\n",
       "      <td>Sun</td>\n",
       "      <td>Dinner</td>\n",
       "      <td>4</td>\n",
       "    </tr>\n",
       "    <tr>\n",
       "      <th>5</th>\n",
       "      <td>25.29</td>\n",
       "      <td>4.71</td>\n",
       "      <td>Male</td>\n",
       "      <td>No</td>\n",
       "      <td>Sun</td>\n",
       "      <td>Dinner</td>\n",
       "      <td>4</td>\n",
       "    </tr>\n",
       "    <tr>\n",
       "      <th>6</th>\n",
       "      <td>8.77</td>\n",
       "      <td>2.00</td>\n",
       "      <td>Male</td>\n",
       "      <td>No</td>\n",
       "      <td>Sun</td>\n",
       "      <td>Dinner</td>\n",
       "      <td>2</td>\n",
       "    </tr>\n",
       "    <tr>\n",
       "      <th>...</th>\n",
       "      <td>...</td>\n",
       "      <td>...</td>\n",
       "      <td>...</td>\n",
       "      <td>...</td>\n",
       "      <td>...</td>\n",
       "      <td>...</td>\n",
       "      <td>...</td>\n",
       "    </tr>\n",
       "    <tr>\n",
       "      <th>237</th>\n",
       "      <td>32.83</td>\n",
       "      <td>1.17</td>\n",
       "      <td>Male</td>\n",
       "      <td>Yes</td>\n",
       "      <td>Sat</td>\n",
       "      <td>Dinner</td>\n",
       "      <td>2</td>\n",
       "    </tr>\n",
       "    <tr>\n",
       "      <th>240</th>\n",
       "      <td>27.18</td>\n",
       "      <td>2.00</td>\n",
       "      <td>Female</td>\n",
       "      <td>Yes</td>\n",
       "      <td>Sat</td>\n",
       "      <td>Dinner</td>\n",
       "      <td>2</td>\n",
       "    </tr>\n",
       "    <tr>\n",
       "      <th>241</th>\n",
       "      <td>22.67</td>\n",
       "      <td>2.00</td>\n",
       "      <td>Male</td>\n",
       "      <td>Yes</td>\n",
       "      <td>Sat</td>\n",
       "      <td>Dinner</td>\n",
       "      <td>2</td>\n",
       "    </tr>\n",
       "    <tr>\n",
       "      <th>242</th>\n",
       "      <td>17.82</td>\n",
       "      <td>1.75</td>\n",
       "      <td>Male</td>\n",
       "      <td>No</td>\n",
       "      <td>Sat</td>\n",
       "      <td>Dinner</td>\n",
       "      <td>2</td>\n",
       "    </tr>\n",
       "    <tr>\n",
       "      <th>243</th>\n",
       "      <td>18.78</td>\n",
       "      <td>3.00</td>\n",
       "      <td>Female</td>\n",
       "      <td>No</td>\n",
       "      <td>Thur</td>\n",
       "      <td>Dinner</td>\n",
       "      <td>2</td>\n",
       "    </tr>\n",
       "  </tbody>\n",
       "</table>\n",
       "<p>193 rows × 7 columns</p>\n",
       "</div>"
      ],
      "text/plain": [
       "     total_bill   tip     sex smoker   day    time  size\n",
       "0         16.99  1.01  Female     No   Sun  Dinner     2\n",
       "3         23.68  3.31    Male     No   Sun  Dinner     2\n",
       "4         24.59  3.61  Female     No   Sun  Dinner     4\n",
       "5         25.29  4.71    Male     No   Sun  Dinner     4\n",
       "6          8.77  2.00    Male     No   Sun  Dinner     2\n",
       "..          ...   ...     ...    ...   ...     ...   ...\n",
       "237       32.83  1.17    Male    Yes   Sat  Dinner     2\n",
       "240       27.18  2.00  Female    Yes   Sat  Dinner     2\n",
       "241       22.67  2.00    Male    Yes   Sat  Dinner     2\n",
       "242       17.82  1.75    Male     No   Sat  Dinner     2\n",
       "243       18.78  3.00  Female     No  Thur  Dinner     2\n",
       "\n",
       "[193 rows x 7 columns]"
      ]
     },
     "execution_count": 45,
     "metadata": {},
     "output_type": "execute_result"
    }
   ],
   "source": [
    "df1=df[((df[\"size\"]==2)|(df[\"size\"]==4))]\n",
    "df1"
   ]
  },
  {
   "cell_type": "markdown",
   "id": "678084c1",
   "metadata": {},
   "source": [
    "# On which day more customers are comming?"
   ]
  },
  {
   "cell_type": "code",
   "execution_count": 7,
   "id": "288129bb",
   "metadata": {},
   "outputs": [
    {
     "data": {
      "text/plain": [
       "<AxesSubplot: xlabel='day', ylabel='count'>"
      ]
     },
     "execution_count": 7,
     "metadata": {},
     "output_type": "execute_result"
    },
    {
     "data": {
      "image/png": "[encoded data removed]",
      "text/plain": [
       "<Figure size 432x288 with 1 Axes>"
      ]
     },
     "metadata": {
      "needs_background": "light"
     },
     "output_type": "display_data"
    }
   ],
   "source": [
    "sns.countplot(data=df,x=\"day\")"
   ]
  },
  {
   "cell_type": "markdown",
   "id": "4a009df8",
   "metadata": {},
   "source": [
    "# Which day is more preferred for lunch time?"
   ]
  },
  {
   "cell_type": "code",
   "execution_count": 14,
   "id": "da146ae1",
   "metadata": {},
   "outputs": [
    {
     "data": {
      "text/plain": [
       "<AxesSubplot: xlabel='day', ylabel='count'>"
      ]
     },
     "execution_count": 14,
     "metadata": {},
     "output_type": "execute_result"
    },
    {
     "data": {
      "image/png": "[encoded data removed]",
      "text/plain": [
       "<Figure size 432x288 with 1 Axes>"
      ]
     },
     "metadata": {
      "needs_background": "light"
     },
     "output_type": "display_data"
    }
   ],
   "source": [
    "sns.countplot( data = df[df[\"time\"]==\"Lunch\"],x=\"day\")"
   ]
  },
  {
   "cell_type": "code",
   "execution_count": 16,
   "id": "8155846f",
   "metadata": {},
   "outputs": [
    {
     "data": {
      "text/plain": [
       "<AxesSubplot: xlabel='day', ylabel='count'>"
      ]
     },
     "execution_count": 16,
     "metadata": {},
     "output_type": "execute_result"
    },
    {
     "data": {
      "image/png": "[encoded data removed]",
      "text/plain": [
       "<Figure size 432x288 with 1 Axes>"
      ]
     },
     "metadata": {
      "needs_background": "light"
     },
     "output_type": "display_data"
    }
   ],
   "source": [
    "sns.countplot(x='day', data = df,hue=\"time\")"
   ]
  },
  {
   "cell_type": "code",
   "execution_count": null,
   "id": "0ec99ab1",
   "metadata": {},
   "outputs": [],
   "source": []
  },
  {
   "cell_type": "code",
   "execution_count": null,
   "id": "c6b2ec30",
   "metadata": {},
   "outputs": [],
   "source": []
  }
 ],
 "metadata": {
  "kernelspec": {
   "display_name": "Python 3 (ipykernel)",
   "language": "python",
   "name": "python3"
  },
  "language_info": {
   "codemirror_mode": {
    "name": "ipython",
    "version": 3
   },
   "file_extension": ".py",
   "mimetype": "text/x-python",
   "name": "python",
   "nbconvert_exporter": "python",
   "pygments_lexer": "ipython3",
   "version": "3.11.5"
  }
 },
 "nbformat": 4,
 "nbformat_minor": 5
}
