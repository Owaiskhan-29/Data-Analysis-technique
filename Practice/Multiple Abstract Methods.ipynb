{
 "cells": [
  {
   "cell_type": "code",
   "execution_count": 1,
   "id": "6fc06ae2",
   "metadata": {},
   "outputs": [
    {
     "name": "stdout",
     "output_type": "stream",
     "text": [
      "my car number is :  11\n",
      "maruthi uses usual steering\n",
      "maruthi uses hydraulic breacking system\n"
     ]
    }
   ],
   "source": [
    "from abc import *\n",
    "\n",
    "class Car(ABC):\n",
    "    def __init__(self,rno):\n",
    "        self.rno=rno\n",
    "        \n",
    "    def display(self):\n",
    "        print(\"my car number is : \",self.rno)\n",
    "        \n",
    "    @abstractmethod\n",
    "    def steering(self):\n",
    "        pass \n",
    "    \n",
    "    @abstractmethod\n",
    "    def breaking(self):\n",
    "        print(\"hy\") \n",
    "    \n",
    "class Maruthi(Car):\n",
    "    def steering(self):\n",
    "        print(\"maruthi uses usual steering\")\n",
    "        \n",
    "    def breaking(self):\n",
    "        print(\"maruthi uses hydraulic breacking system\")\n",
    "        \n",
    "m=Maruthi(11)\n",
    "m.display()\n",
    "m.steering()\n",
    "m.breaking()\n",
    "    "
   ]
  },
  {
   "cell_type": "code",
   "execution_count": null,
   "id": "4ca00357",
   "metadata": {},
   "outputs": [],
   "source": []
  }
 ],
 "metadata": {
  "kernelspec": {
   "display_name": "Python 3 (ipykernel)",
   "language": "python",
   "name": "python3"
  },
  "language_info": {
   "codemirror_mode": {
    "name": "ipython",
    "version": 3
   },
   "file_extension": ".py",
   "mimetype": "text/x-python",
   "name": "python",
   "nbconvert_exporter": "python",
   "pygments_lexer": "ipython3",
   "version": "3.10.5"
  }
 },
 "nbformat": 4,
 "nbformat_minor": 5
}
