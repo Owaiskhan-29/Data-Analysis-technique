{
 "cells": [
  {
   "cell_type": "code",
   "execution_count": 5,
   "id": "da09611f",
   "metadata": {
    "scrolled": true
   },
   "outputs": [
    {
     "name": "stdout",
     "output_type": "stream",
     "text": [
      "Benz objec\n",
      "BMW object\n",
      "BMW_7_series object\n",
      "Test objec\n",
      "20\n"
     ]
    }
   ],
   "source": [
    "class Car:   \n",
    "    def __init__(self):    #1.2.3 .4\n",
    "        self.x=10                \n",
    "        print(\"Car object\")       \n",
    "        \n",
    "class BMW(Car):                    \n",
    "    def __init__(self):    #1.2.3.4\n",
    "        self.x=20\n",
    "        print(\"BMW object\")\n",
    "        \n",
    "class BMW_3_series(BMW):      \n",
    "    pass\n",
    "\n",
    "class BMW_7_series(BMW):       \n",
    "    def __init__(self):\n",
    "        self.x=30 \n",
    "        super().__init__()   #1.2.3 \n",
    "        print(\"BMW_7_series object\")\n",
    "        \n",
    "class Benz(Car):\n",
    "    def __init__(self):\n",
    "        print(\"Benz objec\")\n",
    "        self.x=40\n",
    "        super().__init__()   # 1.2\n",
    "        \n",
    "class Test(Benz,BMW_7_series,Car):\n",
    "    def __init__(self):\n",
    "        self.x=50\n",
    "        super().__init__()      # 1\n",
    "        print(\"Test objec\")\n",
    "    \n",
    "        \n",
    "t=Test()\n",
    "print(t.x)"
   ]
  },
  {
   "cell_type": "markdown",
   "id": "a1c2b463",
   "metadata": {},
   "source": [
    "# Check"
   ]
  },
  {
   "cell_type": "code",
   "execution_count": null,
   "id": "6281e290",
   "metadata": {},
   "outputs": [],
   "source": [
    "class Car:   \n",
    "    def __init__(self):    #1.2.3 .4\n",
    "        self.x=10                \n",
    "        print(\"Car object\")       \n",
    "        \n",
    "class BMW(Car):                    \n",
    "    def __init__(self):    #1.2.3.4\n",
    "        self.x=20\n",
    "        print(\"BMW object\")\n",
    "        \n",
    "class BMW_3_series(BMW):      \n",
    "    pass\n",
    "\n",
    "class BMW_7_series(BMW):       \n",
    "    def __init__(self):\n",
    "        self.x=30 \n",
    "        super().__init__()   #1.2.3 \n",
    "        print(\"BMW_7_series object\")\n",
    "        \n",
    "class Benz(Car):\n",
    "    def __init__(self):\n",
    "        print(\"Benz objec\")\n",
    "        self.x=40\n",
    "        super().__init__()   # 1.2\n",
    "        \n",
    "class Test(Benz,BMW_7_series,Car):\n",
    "    def __init__(self):\n",
    "        self.x=50\n",
    "        super().__init__()      # 1\n",
    "        print(\"Test objec\")\n",
    "    \n",
    "        \n",
    "t=Test()\n",
    "print(t.x)"
   ]
  }
 ],
 "metadata": {
  "kernelspec": {
   "display_name": "Python 3 (ipykernel)",
   "language": "python",
   "name": "python3"
  },
  "language_info": {
   "codemirror_mode": {
    "name": "ipython",
    "version": 3
   },
   "file_extension": ".py",
   "mimetype": "text/x-python",
   "name": "python",
   "nbconvert_exporter": "python",
   "pygments_lexer": "ipython3",
   "version": "3.10.5"
  }
 },
 "nbformat": 4,
 "nbformat_minor": 5
}
