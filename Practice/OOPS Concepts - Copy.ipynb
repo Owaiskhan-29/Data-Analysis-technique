{
 "cells": [
  {
   "cell_type": "markdown",
   "id": "e654ad77",
   "metadata": {},
   "source": [
    ">>># Creating the class"
   ]
  },
  {
   "cell_type": "markdown",
   "id": "31010602",
   "metadata": {},
   "source": [
    "    If we take 'Student' class, we can write code in the class that specifies the attributes and actions performed by any student. For example, a student has attributes like name, age, marks, etc. These attributes should be written inside the Student class as variables. Similarly, a student can perform actions like talking, writing, reading, etc. These actions should be represented by methods in the Student class. So, the class Student contains these attributes and actions, as shown here:\n",
    "\n"
   ]
  },
  {
   "cell_type": "code",
   "execution_count": 11,
   "id": "37351784",
   "metadata": {},
   "outputs": [],
   "source": [
    "class Student:    \n",
    "    \n",
    "    #the below block defines attributes\n",
    "    def __init__(self): \n",
    "        self.name = 'Vishnu cele'\n",
    "        self.age = 20 \n",
    "        self.marks = 900\n",
    "    \n",
    "    # the below block defines a method \n",
    "    def talk(self):\n",
    "        print('Hi, I am,', self.name) \n",
    "        print('My age is', self.age) \n",
    "        print('My marks are', self.marks)"
   ]
  },
  {
   "cell_type": "markdown",
   "id": "5c2f3112",
   "metadata": {},
   "source": [
    "Observe that the keyword class is used to declare a class. After this, we should write the class name. So, 'Student' is our class name. Generally, a class name should start with a capital letter, hence 'S' is capital in 'Student'. In the class, we write attributes and methods. Since in Python, we cannot declare variables, we have written the variables inside a special method, i.e._init_(). This method is useful to initialize the variables. Hence, the name 'init'. The method name has two underscores before and after. This indicates that this method is internally defined and we cannot call this method explicitly. Observe the parameter 'self' written after the method name in the parentheses. 'self' is a variable that refers to current class instance. When we create an instance for the Student class, a separate memory block is allocated on the heap and that memory location is by default stored in 'self'. The instance contains the variables 'name', 'age', 'marks' which are called instance variables. To refer to instance variables, we can use the dot operator notation along with self as 'self.name', 'self.age' and 'self.marks'.\n",
    "    \n",
    "See the method talk(). This method also takes the 'self' variable as parameter. This method displays the values of the variables by referring them using 'self'.\n",
    "\n",
    "The methods that act on instances (or objects) of a class are called instance methods. Instance methods use 'self as the first parameter that refers to the location of the instance in the memory. Since instance methods know the location of instance, they can act on the instance variables. In the previous code, the two methods init__(self) and talk(self) are called instance methods.\n",
    "\n",
    "In the Student class, a student is talking to us through talk() method. He is introducing himself to us, as shown here:\n",
    "\n",
    "        Hi, I am Vishnu \n",
    "        \n",
    "        My age is 20\n",
    "        \n",
    "        My marks are 900\n",
    "        \n",
    "This is what the talk() method displays. Writing a class like this is not sufficient. It should be used. To use a class, we should create an instance (or object) to the class. Instance creation represents allotting memory necessary to store the actual data of the variables, i.e., Vishnu, 20 and 900. To create an instance, the following syntax is used:\n",
    "\n",
    "### instancename = classname()\n",
    "\n",
    "So, to create an instance (or object) to the Student class, we can write as:\n",
    "\n"
   ]
  },
  {
   "cell_type": "code",
   "execution_count": 12,
   "id": "63d20b67",
   "metadata": {},
   "outputs": [],
   "source": [
    "s1 = Student ()"
   ]
  },
  {
   "cell_type": "markdown",
   "id": "62eaf5bd",
   "metadata": {},
   "source": [
    "\n",
    "Here, 's1' is nothing but the instance name. When we create an instance like this, the following steps will take place internally:\n",
    "1. First of all, a block of memory is allocated on heap. How much memory is to be allocated is decided from the attributes and methods available in the Student class.\n",
    "2. After allocating the memory block, the special method by the name __init__(self)' is called internally. This method stores the initial data into the variables. Since this method is useful to construct the instance, it is called 'constructor'.\n",
    "3. Finally, the allocated memory location address of the instance is returned into 'sl' variable. To see this memory location in decimal number format, we can use id() function as id(s1).\n",
    "\n",
    "Now, 's1' refers to the instance of the Student class. Hence any variables or methods in the instance can be referenced by 's1' using dot operator as:"
   ]
  },
  {
   "cell_type": "code",
   "execution_count": 13,
   "id": "4d31d3d1",
   "metadata": {},
   "outputs": [
    {
     "name": "stdout",
     "output_type": "stream",
     "text": [
      "Hi, I am, Vishnu cele\n",
      "My age is 20\n",
      "My marks are 900\n"
     ]
    }
   ],
   "source": [
    "s1.name      # this refers to data in name variable, i.e. vishnu\n",
    "s1.age       #this refers to data in age variable, i.e. 20\n",
    "s1.marks     # this refers to data in marks variable, i.e. 900\n",
    "s1.talk()    # this calls the talk() method"
   ]
  },
  {
   "cell_type": "markdown",
   "id": "7ac051fe",
   "metadata": {},
   "source": [
    "#### A Python program to define Student class and create an object to it. Also, we will call the method and display the student's details."
   ]
  },
  {
   "cell_type": "code",
   "execution_count": 1,
   "id": "07639e52",
   "metadata": {},
   "outputs": [
    {
     "name": "stdout",
     "output_type": "stream",
     "text": [
      "Hi, I am Vishnu\n",
      "My age is 20\n",
      "My marks are 900\n"
     ]
    }
   ],
   "source": [
    "class Student: \n",
    "    def __init__(self):     # this is a special method called constructor.\n",
    "        self.name = 'Vishnu'\n",
    "        self.age = 20 \n",
    "        self.marks = 900\n",
    "        \n",
    " \n",
    "    def talk(self):        # this is an instance method.\n",
    "        print('Hi, I am', self.name) \n",
    "        print('My age is', self.age) \n",
    "        print('My marks are', self.marks)\n",
    "        \n",
    "# create an instance to Student class.\n",
    "s1 = Student()\n",
    "\n",
    "# call the method using the instance. \n",
    "s1.talk()\n"
   ]
  },
  {
   "cell_type": "markdown",
   "id": "acdadedf",
   "metadata": {},
   "source": [
    "\n",
    "\n",
    "\n",
    ">>># The Self Variable\n",
    "\n",
    "self is a default variable that contains the memory address of the instance of the current class. So, we can use 'self' to refer to all the instance variables and instance methods. When an instance to the class is created, the instance name contains the memory location of the instance. This memory location is internally passed to 'self'. \n",
    "\n",
    "For example,\n",
    "we create an instance to Student class as:\n",
    "#### s1 = Student \n",
    "\n",
    "Here, 'sl' contains the memory address of the instance. This memory address is internally and by default passed to 'self' variable. Since 'self' knows the memory address of the instance, it can refer to all the members of the instance. We use 'self' in two ways:\n",
    "1.  The 'self' variable is used as first parameter in the constructor, In this case, 'self can be used to refer to the instance variables inside the constructor.\n",
    "2. 'self' can be used as first parameter in the instance methods as, def talk(self): Here, talk() is instance method as it acts on the instance variables. If this method wants to act on the instance variables, it should know the memory location of the instance variables. That memory location is by default available to the talk() method through 'self."
   ]
  },
  {
   "cell_type": "markdown",
   "id": "2bdf4444",
   "metadata": {},
   "source": [
    ">>># Constructor\n",
    "\n",
    "A constructor is a special method that is used to initialize the instance variables of a class. In the constructor, we create the instance variables and initialize them with some starting values. The first parameter of the constructor will be 'self' variable that contains the memory address of the instance. \n",
    "\n",
    "For example,\n"
   ]
  },
  {
   "cell_type": "code",
   "execution_count": 2,
   "id": "37c985b9",
   "metadata": {},
   "outputs": [],
   "source": [
    "class Student:\n",
    "    \n",
    "    def __init__(self): \n",
    "        self.name = 'Vishnu'\n",
    "        self.marks = 900\n",
    "        print(self.name,self.marks)\n"
   ]
  },
  {
   "cell_type": "markdown",
   "id": "f1e7575b",
   "metadata": {},
   "source": [
    "Here, the constructor has only one parameter, i.e. 'self. Using 'self.name' and 'self.marks', we can access the instance variables of the class. A constructor is called at the time of creating an instance. So, the above constructor will be called when we create an instance as:\n"
   ]
  },
  {
   "cell_type": "code",
   "execution_count": 4,
   "id": "04d739f2",
   "metadata": {},
   "outputs": [
    {
     "name": "stdout",
     "output_type": "stream",
     "text": [
      "Vishnu 900\n"
     ]
    }
   ],
   "source": [
    "s1 = Student()"
   ]
  },
  {
   "cell_type": "markdown",
   "id": "2ca2cbb7",
   "metadata": {},
   "source": [
    "Here, 's1' is the name of the instance. Observe the empty parentheses after the class name 'Student'. These empty parentheses represent that we are not passing any values to the constructor. Suppose, we want to pass some values to the constructor, then we have to pass them in the parentheses after the class name. Let's take another example. We can write a constructor with some parameters in addition to 'self' as:"
   ]
  },
  {
   "cell_type": "code",
   "execution_count": 7,
   "id": "1c5d19da",
   "metadata": {},
   "outputs": [],
   "source": [
    "class Student:\n",
    "    def __init__(self,n,m):\n",
    "        self.name = n \n",
    "        self.marks = m\n",
    "        print(self.name,self.marks)\n"
   ]
  },
  {
   "cell_type": "markdown",
   "id": "655f283d",
   "metadata": {},
   "source": [
    "Here, the formal arguments are 'n' and 'm'.While creating an instanc we have to pass the values for them.Like as:"
   ]
  },
  {
   "cell_type": "code",
   "execution_count": 9,
   "id": "27363c09",
   "metadata": {},
   "outputs": [
    {
     "name": "stdout",
     "output_type": "stream",
     "text": [
      "Vishnu 880\n"
     ]
    }
   ],
   "source": [
    "s1 = Student ('Vishnu', 880)\n"
   ]
  },
  {
   "cell_type": "markdown",
   "id": "a8427546",
   "metadata": {},
   "source": [
    "#### A Python program to create Student class with a constructor having morethan one parameter.\n"
   ]
  },
  {
   "cell_type": "code",
   "execution_count": 14,
   "id": "b9013fe8",
   "metadata": {},
   "outputs": [
    {
     "name": "stdout",
     "output_type": "stream",
     "text": [
      "Hi Mr.X\n",
      "Your marks 0\n",
      "===========================\n",
      "Hi Vishnu\n",
      "Your marks 980\n"
     ]
    }
   ],
   "source": [
    "#instance vars and instance method - v.20\n",
    "class Student:\n",
    "    #this is constructor. \n",
    "    def __init__(self, n = \"Mr.X\", m=0):\n",
    "        self.name = n \n",
    "        self.marks = m\n",
    "        \n",
    "    # this is an instance method. \n",
    "    def display(self):\n",
    "        print('Hi', self.name) \n",
    "        print('Your marks', self.marks)\n",
    "        \n",
    "# constructor is called without any arguments\n",
    "s = Student()\n",
    "s.display() \n",
    "print(\"===========================\")\n",
    "\n",
    "# constructor is called with 2 arguments\n",
    "s1 = Student(\"Vishnu\",980)\n",
    "s1.display() \n"
   ]
  },
  {
   "cell_type": "markdown",
   "id": "65e2b06b",
   "metadata": {},
   "source": [
    ">>># Types of Variables\n",
    "\n",
    "The variables which are written inside a class are of 2 types:\n",
    "1. Instance variables\n",
    "2. Class variables or Static variables\n",
    "\n",
    "## 1. Instance variables\n",
    "Instance variables are the variables whose separate copy is created in every instance (or object). For example, if 'x' is an instance variable and if we create 3 instances, there will be 3 copies of 'x' in these 3 instances. When we modify the copy of 'x' in any instance, it will not modify the other two copies. Instance variables are defined and initialized using a constructor with 'self' parameter, Also, to access instance variables, we need instance methods with 'self as first parameter. It is possible that the instance methods may have other parameters in addition to the 'self' parameter. To access the instance variables, we can use self.variable"
   ]
  },
  {
   "cell_type": "code",
   "execution_count": 47,
   "id": "a30b2979",
   "metadata": {},
   "outputs": [
    {
     "name": "stdout",
     "output_type": "stream",
     "text": [
      "1\n",
      "2\n",
      "===========\n",
      "1\n"
     ]
    }
   ],
   "source": [
    "class A:\n",
    "    def __init__(self):\n",
    "        self.x=1 #instance var\n",
    "\n",
    "\n",
    "a1=A()\n",
    "print(a1.x)\n",
    "a1.x=2\n",
    "print(a1.x)\n",
    "\n",
    "print(\"===========\")\n",
    "\n",
    "a2=A()\n",
    "print(a2.x)\n"
   ]
  },
  {
   "cell_type": "markdown",
   "id": "c43436d9",
   "metadata": {},
   "source": [
    "#### A Python program to understand instance variables."
   ]
  },
  {
   "cell_type": "code",
   "execution_count": 20,
   "id": "dca5e606",
   "metadata": {},
   "outputs": [
    {
     "name": "stdout",
     "output_type": "stream",
     "text": [
      "x in s1= 10\n",
      "x in s2=  10\n",
      "x in sl=  20\n",
      "x in s2=  10\n"
     ]
    }
   ],
   "source": [
    "\n",
    "class Sample:  \n",
    "    def __init__(self):    #this is a constructor.\n",
    "        self.x = 10        # instance vars example\n",
    "\n",
    "s1 = Sample()\n",
    "s2 = Sample() \n",
    "print('x in s1=', s1.x) \n",
    "print('x in s2= ', s2.x)\n",
    "\n",
    "#modify x in s1\n",
    "s1.x = 20 \n",
    "print('x in sl= ', s1.x) \n",
    "print('x in s2= ', s2.x)\n"
   ]
  },
  {
   "cell_type": "markdown",
   "id": "f947d325",
   "metadata": {},
   "source": [
    "# 2. Class variables or Static variables\n",
    "Unlike instance variables, class variables are the variables whose single copy to all the instances of the class. If we modify the copy of class variable in an instance, it will modify all the copies in the other instances. For example, if 'x' is a class variable and if we create 3 instances, the same copy of x' is passed to these 3 instances. When we modify the copy of 'x' in any instance using a class method, the modified copy is sent to the other two instances."
   ]
  },
  {
   "cell_type": "code",
   "execution_count": 55,
   "id": "0890aeac",
   "metadata": {},
   "outputs": [
    {
     "name": "stdout",
     "output_type": "stream",
     "text": [
      "x in s1= 10\n",
      "x in s2= 10\n",
      "=================\n",
      "x in s1= 20\n",
      "x in s2= 20\n"
     ]
    }
   ],
   "source": [
    "class Sample:\n",
    "    x = 10     #this is a class var \n",
    "    \n",
    "    #this is a class method.\n",
    "    @classmethod\n",
    "    def modify(cls):\n",
    "        cls.x=20      # We can access the class variavle by using \"Class_Name.variable_Name\" or \"cls.Variable_Name\"\n",
    "\n",
    "        \n",
    "# create 2 instances \n",
    "s1 = Sample() \n",
    "s2 = Sample()\n",
    "print('x in s1=', s1.x) \n",
    "print('x in s2=', s2.x)\n",
    "print(\"=================\")\n",
    "\n",
    "s1.modify()\n",
    "\n",
    "print('x in s1=', s1.x) \n",
    "print('x in s2=', s2.x)\n"
   ]
  },
  {
   "cell_type": "markdown",
   "id": "41037774",
   "metadata": {},
   "source": [
    "The class variable 'x' is defined in the class and initialized with value 10. A method by the name 'modify' is used to modify the value of 'x'. This method is called 'class method' since it is acting on the class variable."
   ]
  },
  {
   "cell_type": "markdown",
   "id": "552b4afd",
   "metadata": {},
   "source": [
    "\n",
    "># Note:\n",
    "A class method contains first parameter by default as 'els' with which we can access the class variables. For example, to refer to the class variable x, we can use 'cls.x. We can also write other parameters in the class method in addition to the 'cis' parameter. The point is that the class variables are defined directly in the class. To access class variables, we need class methods with 'cls' as first parameter. We can access the class variables using the class methods as: \"cls.variable\". If we want to access the class variables from outside the class, we can use: \"classname.variable\""
   ]
  },
  {
   "cell_type": "markdown",
   "id": "47034247",
   "metadata": {},
   "source": [
    ">>># Types of Methods\n",
    "\n",
    "Functon which are writen inside the class is known as \"Method\". The purpose of a method is to process the variables provided in the class or in the method. We already know that the variables declared in the class are called class variables for static variables) and the variables declared in the constructor are called instance variables.\n",
    "\n",
    "Mainly there are 2 types of methods:\n",
    "1. Instance methods \n",
    "        Instance methods are the methods which act upon the instance variables of the class. Instance methods are bound to instances (or objects) and hence called as: instancename.method). Since instance variables are available in the instance, instance methods need to know the memory address of the instance. This is provided through 'self variable by default as first parameter for the instance method. While calling the instance methods, we need not pass any value to the 'self' variable.\n",
    " \n",
    "        \n",
    "2. Class methods\n",
    "        These methods act on class level. Class methods are the methods which act on the class variables or static variables. These methods are written using @classmethod decorator above them. By default, the first parameter for class methods is 'cls' which refers to the class itself.  These methods are generally called using the classname.method()."
   ]
  },
  {
   "cell_type": "markdown",
   "id": "d9da1a90",
   "metadata": {},
   "source": [
    "#### Progran to understand the instance metod"
   ]
  },
  {
   "cell_type": "code",
   "execution_count": 90,
   "id": "5493f686",
   "metadata": {},
   "outputs": [
    {
     "name": "stdout",
     "output_type": "stream",
     "text": [
      "head\n"
     ]
    }
   ],
   "source": [
    "# This program is to toss a coin and displaying the result\n",
    "\n",
    "class Coin:\n",
    "    def __init__(self):           # Constructor\n",
    "        self.side = \"head\"        # Instance Variavle\n",
    "        \n",
    "    def toss(self):               # Instance methso to access the instace variables\n",
    "        import random as r        # Importing the random module\n",
    "        value = r.randint(0,1)    # Drawing the number 0 or 1 randomly using the randint()\n",
    "        if(value==1):\n",
    "            return self.side\n",
    "        else:\n",
    "            self.side = \"Tail\"\n",
    "            return self.side\n",
    "        \n",
    "    def display(self):           # Instance method\n",
    "        print(self.toss())       # Calling the instance method toss()\n",
    "        \n",
    "        \n",
    "c=Coin()             # Creating an object\n",
    "c.display()          # calling the instance method display()"
   ]
  },
  {
   "cell_type": "markdown",
   "id": "fd163c13",
   "metadata": {},
   "source": [
    "#### Program to understand the class methods"
   ]
  },
  {
   "cell_type": "code",
   "execution_count": 93,
   "id": "a55ffbb3",
   "metadata": {},
   "outputs": [
    {
     "name": "stdout",
     "output_type": "stream",
     "text": [
      "10\n",
      "10\n",
      "10\n"
     ]
    }
   ],
   "source": [
    "class Sample:\n",
    "    x = 10     #this is a class var \n",
    "    \n",
    "    #this is a class method, to access the class variables\n",
    "    @classmethod\n",
    "    def display(cls):\n",
    "        print(cls.x)      # We can access the class variavle by using \"Class_Name.variable_Name\" or \"cls.Variable_Name\"\n",
    "\n",
    "\n",
    "print(Sample.x)    # accessing the class variable outside the class\n",
    "Sample.display()   # calling the clas method\n",
    "\n",
    "# We can also access the class method using object\n",
    "s=Sample()\n",
    "s.display()       # Calling the class method using the object\n"
   ]
  },
  {
   "cell_type": "markdown",
   "id": "a50506e3",
   "metadata": {},
   "source": [
    ">>># Inner Classes\n",
    "\n",
    "Writing a class within another class is called creating an inner class or nested class. For example, if we write class B inside class A, then B is called inner class or nested class. Inner classes are useful when we want to sub group the data of a class. "
   ]
  },
  {
   "cell_type": "code",
   "execution_count": 98,
   "id": "45dd10d5",
   "metadata": {},
   "outputs": [
    {
     "name": "stdout",
     "output_type": "stream",
     "text": [
      "11 shailaja\n",
      "my dob is : 22/12/2000 \n"
     ]
    }
   ],
   "source": [
    "class Outterclass:\n",
    "    def __init__(self,Id,name):\n",
    "        self.Id=Id\n",
    "        self.name=name\n",
    "        self.ic=self.Innerclass()\n",
    "    def display(self):\n",
    "        print(self.Id,self.name)\n",
    "        \n",
    "    class Innerclass:\n",
    "        def __init__(self):\n",
    "            self.dd=22\n",
    "            self.mm=12\n",
    "            self.yyyy=2000\n",
    "        def display(self):\n",
    "            print(\"my dob is : {}/{}/{} \".format(self.dd,self.mm,self.yyyy))\n",
    "            \n",
    "o=Outterclass(11,\"shailaja\")\n",
    "o.display()\n",
    "\n",
    "i=o.ic\n",
    "i.display()"
   ]
  },
  {
   "cell_type": "markdown",
   "id": "4541b526",
   "metadata": {},
   "source": [
    ">>># Points to Remember\n",
    "1. A class is a blue print or plan to create objects. \n",
    "2. Object is a real world entity. The objects of a class are also called instances.\n",
    "3. A class contains attributes which are nothing but variables. A class can contain methods which are useful to process variables.\n",
    "4. A method is a function that is written inside a class.\n",
    "5. The object class is the base class from where all other classes are derived. To use a class, generally we should create an instance. To create an instance of a class, we can write: instancename = Classname()\n",
    "6. A constructor is a special method that is useful to declare and initialize the instance variables.\n",
    "7. A constructor is called only once at the time of creating an instance or object. a self is a variable that contains by default the memory address of the instance. We need not pass anything to this variable.\n",
    "8. The 'self' variable becomes the first parameter for constructor and instance methods Instance variables are the variables whose separate copy is created in every instance (or object). Instance variables are referenced as instancename.var.\n",
    "9. Class variables are the variables whose single copy is available to all the instances of the class. Class variables are also called static variables. Class variables are referenced as classname.var.\n",
    "10. A namespace represents a memory block where names are mapped (or linked) to objects. A class will have class namespace and an instance will have its own namespace called instance namespace.\n",
    "11. The variables in the class namespace are referenced as classname.var. The variables in the instance namespace are referenced as instancename.var.\n",
    "12. Instance methods are the methods which act upon the instance variables of the class Instance methods are bound to instances (or objects) and hence called as instancename.method().\n",
    "13. Instance methods use 'self' as first default parameter.\n",
    "14. Class methods are the methods which act on the class variables or static variables. These methods are written using @classmethod decorator above them. These methods are generally called using the classname.method()\n",
    "15. Class methods are written using 'cls' as their first parameter. \n",
    "16. It is possible to create inner classes within a class. To refer to the inner class members, we can create inner class object as: innerobjecr() =  Outerclass().innerclass()\n"
   ]
  },
  {
   "cell_type": "markdown",
   "id": "4f2039c7",
   "metadata": {},
   "source": [
    ">>># Practice Programs on OOPS"
   ]
  },
  {
   "cell_type": "code",
   "execution_count": 99,
   "id": "8ae2e9ee",
   "metadata": {},
   "outputs": [
    {
     "name": "stdout",
     "output_type": "stream",
     "text": [
      "Myclass\n"
     ]
    }
   ],
   "source": [
    "# 1. program to create a class\n",
    "\n",
    "class Myclass:     #Creating the class\n",
    "    print(\"Myclass\")"
   ]
  },
  {
   "cell_type": "code",
   "execution_count": 1,
   "id": "63864306",
   "metadata": {},
   "outputs": [
    {
     "name": "stdout",
     "output_type": "stream",
     "text": [
      "Myclass\n"
     ]
    },
    {
     "data": {
      "text/plain": [
       "<__main__.Myclass at 0x198b2c07c40>"
      ]
     },
     "execution_count": 1,
     "metadata": {},
     "output_type": "execute_result"
    }
   ],
   "source": [
    "# program to create an object/instance of the class\n",
    "\n",
    "class Myclass:  #Creating the class\n",
    "    print(\"Myclass\")\n",
    "    \n",
    "Myclass()  # creating the object/instance(The process of creating the object/instance is known as \"Instantation\")"
   ]
  },
  {
   "cell_type": "code",
   "execution_count": 3,
   "id": "ef60db07",
   "metadata": {},
   "outputs": [
    {
     "name": "stdout",
     "output_type": "stream",
     "text": [
      "hi.......\n"
     ]
    },
    {
     "data": {
      "text/plain": [
       "<__main__.Myclass at 0x198b2bfb0a0>"
      ]
     },
     "execution_count": 3,
     "metadata": {},
     "output_type": "execute_result"
    }
   ],
   "source": [
    "# program to understand the constructor\n",
    "\n",
    "class Myclass:\n",
    "    def __init__(self):   # it is the constructor to construct the objects,it invokes automatically when we creat an object/instance. \n",
    "        print(\"hi.......\")          #(if you did not create object/instance constructor doesn't invokes)\n",
    "Myclass()       "
   ]
  },
  {
   "cell_type": "code",
   "execution_count": 4,
   "id": "302789f3",
   "metadata": {},
   "outputs": [
    {
     "name": "stdout",
     "output_type": "stream",
     "text": [
      "hi.......\n"
     ]
    },
    {
     "data": {
      "text/plain": [
       "<__main__.Myclass at 0x198b2bfba00>"
      ]
     },
     "execution_count": 4,
     "metadata": {},
     "output_type": "execute_result"
    }
   ],
   "source": [
    "# program to understand that, a constructor can only called/invoked when object/instance is created\n",
    "\n",
    "class Myclass:\n",
    "    def __init__(self):   # it is the constructor to construct the objects,it invokes automatically when we creat an object/instance. \n",
    "        print(\"hi.......\")          #(if you did not create object/instance constructor doesn't invokes)\n",
    "        \n",
    "Myclass()  # creating the object/instance   \n",
    "\n",
    "        "
   ]
  },
  {
   "cell_type": "code",
   "execution_count": 5,
   "id": "1bcd6f73",
   "metadata": {},
   "outputs": [
    {
     "name": "stdout",
     "output_type": "stream",
     "text": [
      "10 20\n"
     ]
    },
    {
     "data": {
      "text/plain": [
       "<__main__.Myclass at 0x198b2c07d90>"
      ]
     },
     "execution_count": 5,
     "metadata": {},
     "output_type": "execute_result"
    }
   ],
   "source": [
    "# program to pass arguments to the parameters of the constructor\n",
    "\n",
    "class Myclass:\n",
    "    def __init__(self,a,b):  # constructor with the parameters. we have to pass arguments to this parameter when we create an object/instance\n",
    "        print(a,b)  # in this case \" a \" and \" b \" are the local variables\n",
    "        \n",
    "Myclass(10,20)  #craeting the object/instance and passing arguments to the constructor\n",
    "        "
   ]
  },
  {
   "cell_type": "code",
   "execution_count": 6,
   "id": "8c7f9c76",
   "metadata": {},
   "outputs": [
    {
     "name": "stdout",
     "output_type": "stream",
     "text": [
      "Python 3\n",
      "Python 3\n"
     ]
    }
   ],
   "source": [
    "class Myclass:\n",
    "    def __init__(self):  # constructor with the parameters. we have to pass arguments to this parameter when we create an object/instance\n",
    "        self.name=\"Python\"  # creating the instance variable \"name\"\n",
    "        self.version=3      # creating the instance variable \"version\"\n",
    "        print(self.name,self.version)\n",
    "\n",
    "m=Myclass()\n",
    "\n",
    "print(m.name,m.version)"
   ]
  },
  {
   "cell_type": "code",
   "execution_count": 9,
   "id": "0480624b",
   "metadata": {},
   "outputs": [
    {
     "name": "stdout",
     "output_type": "stream",
     "text": [
      "Python 3\n",
      "Python 3\n",
      "Programming name : Python\n",
      "Version : 3\n",
      "None\n"
     ]
    }
   ],
   "source": [
    "class Myclass:\n",
    "    def __init__(self):  # constructor with the parameters. we have to pass arguments to this parameter when we create an object/instance\n",
    "        self.name=\"Python\"  # creating the instance variable \"name\"\n",
    "        self.version=3      # creating the instance variable \"version\"\n",
    "        print(self.name,self.version)\n",
    "        \n",
    "    def f(self):\n",
    "        print(\"Programming name : {}\\nVersion : {}\".format(self.name,self.version))\n",
    "        \n",
    "        \n",
    "\n",
    "m=Myclass()\n",
    "\n",
    "print(m.name,m.version)\n",
    "print(m.f())"
   ]
  },
  {
   "cell_type": "code",
   "execution_count": 10,
   "id": "6e1679c3",
   "metadata": {},
   "outputs": [
    {
     "name": "stdout",
     "output_type": "stream",
     "text": [
      "20 30 40\n",
      "20 30\n",
      "40\n"
     ]
    }
   ],
   "source": [
    "\n",
    "\n",
    "class Myclass:\n",
    "    def __init__(self,a,b,c):  # constructor with the parameters. we have to pass arguments to this parameter when we create an object/instance\n",
    "        self.x=a  # creating the instance variable \"a\"\n",
    "        self.y=b  # creating the instance variable \"b\"\n",
    "        self.z=c \n",
    "        print(self.x,self.y,self.z)\n",
    "\n",
    "m=Myclass(20,30,40)  #craeting the object/instance and passing arguments to the constructor\n",
    "print(m.x,m.y)\n",
    "print(m.z)\n",
    "\n",
    "# instance_name.variable_name\n",
    "     "
   ]
  },
  {
   "cell_type": "code",
   "execution_count": 11,
   "id": "a593a9dc",
   "metadata": {},
   "outputs": [
    {
     "name": "stdout",
     "output_type": "stream",
     "text": [
      "20 30 40\n",
      "20 30\n",
      "40\n"
     ]
    }
   ],
   "source": [
    "\n",
    "\n",
    "class Myclass:\n",
    "    def __init__(self,a,b,c):  # constructor with the parameters. we have to pass arguments to this parameter when we create an object/instance\n",
    "        self.a=a  # creating the instance variable \"a\"\n",
    "        self.b=b  # creating the instance variable \"b\"\n",
    "        self.c=c \n",
    "        print(self.a,self.b,c)\n",
    "\n",
    "m=Myclass(20,30,40)  #craeting the object/instance and passing arguments to the constructor\n",
    "print(m.a,m.b)\n",
    "print(m.c)\n",
    "\n",
    "# instance_name.variable_name\n",
    "        "
   ]
  },
  {
   "cell_type": "code",
   "execution_count": 12,
   "id": "d142e720",
   "metadata": {},
   "outputs": [
    {
     "name": "stdout",
     "output_type": "stream",
     "text": [
      "20 30 40\n",
      "20 30\n"
     ]
    }
   ],
   "source": [
    "class Myclass:\n",
    "    def __init__(self,a,b,c):  # constructor with the parameters. we have to pass arguments to this parameter when we create an object/instance\n",
    "        self.a=a  # creating the instance variable \"a\"\n",
    "        self.b=b  # creating the instance variable \"b\"\n",
    "        print(a,b,c) # were, \"a\" and \"b\" are local variables\n",
    "        print(self.a,self.b)\n",
    "        \n",
    "m=Myclass(20,30,40)  #craeting the object/instance and passing arguments to the constructor\n",
    "\n",
    "       "
   ]
  },
  {
   "cell_type": "code",
   "execution_count": 18,
   "id": "6ed8ea21",
   "metadata": {},
   "outputs": [
    {
     "name": "stdout",
     "output_type": "stream",
     "text": [
      "20\n",
      "1)  1 2\n",
      "5\n",
      "2)  1 2\n",
      "20\n",
      "20\n",
      "2\n",
      "3\n",
      "1)  1 2\n",
      "1)  1 2\n"
     ]
    }
   ],
   "source": [
    "# understanding the difference b/w the static/class and instance variables\n",
    "\n",
    "class A:\n",
    "    x=20 #static/class variable\n",
    "    print(x)\n",
    "    def __init__(self):\n",
    "        self.a=1    #instance variables\n",
    "        self.b=2\n",
    "        print(\"1) \",self.a,self.b)\n",
    "        \n",
    "    def f(self): # instance method\n",
    "        self.c=5\n",
    "        print(self.c)\n",
    "        print(\"2) \",self.a,self.b)\n",
    "        print(A.x)    # class_name.var_name\n",
    "        print(A.x)\n",
    "    \n",
    "a=A() #creating instance \n",
    "a.f()\n",
    "print(a.b)\n",
    "a.b=3\n",
    "print(a.b)\n",
    "\n",
    "c=A()\n",
    "d=A()\n",
    "\n",
    "\n"
   ]
  },
  {
   "cell_type": "code",
   "execution_count": 19,
   "id": "bc29f163",
   "metadata": {},
   "outputs": [
    {
     "name": "stdout",
     "output_type": "stream",
     "text": [
      "60\n"
     ]
    },
    {
     "data": {
      "text/plain": [
       "<__main__.A at 0x198b3d0c7f0>"
      ]
     },
     "execution_count": 19,
     "metadata": {},
     "output_type": "execute_result"
    }
   ],
   "source": [
    "class A:\n",
    "    def __init__(self,a,b,c):\n",
    "        print(a+b+c)\n",
    "        \n",
    "A(10,20,30)"
   ]
  },
  {
   "cell_type": "code",
   "execution_count": 21,
   "id": "40896fac",
   "metadata": {},
   "outputs": [
    {
     "name": "stdout",
     "output_type": "stream",
     "text": [
      "1\n",
      "2\n",
      "***********************\n",
      "3\n",
      "4\n"
     ]
    }
   ],
   "source": [
    "class A:\n",
    "    def __init__(abc,x,y):\n",
    "        abc.x=x\n",
    "        abc.y=y\n",
    "        print(x)\n",
    "        print(y)\n",
    "        \n",
    "a=A(1,2) \n",
    "print(\"***********************\")\n",
    "b=A(3,4)\n"
   ]
  },
  {
   "cell_type": "code",
   "execution_count": 22,
   "id": "f8c5e552",
   "metadata": {},
   "outputs": [
    {
     "name": "stdout",
     "output_type": "stream",
     "text": [
      "2\n"
     ]
    },
    {
     "data": {
      "text/plain": [
       "<__main__.B at 0x198b3c31c70>"
      ]
     },
     "execution_count": 22,
     "metadata": {},
     "output_type": "execute_result"
    }
   ],
   "source": [
    "class A:\n",
    "    def __init__(self,a):\n",
    "    \n",
    "        print (\"hi\")\n",
    "\n",
    "\n",
    "class B(A):\n",
    "    def __init__(self,a):\n",
    "        self.a=a\n",
    "        print(a)\n",
    "B(2)\n",
    "\n",
    "# class C(B):\n",
    "#     pass\n",
    "# B()\n"
   ]
  },
  {
   "cell_type": "code",
   "execution_count": 23,
   "id": "bfff62a5",
   "metadata": {},
   "outputs": [
    {
     "name": "stdout",
     "output_type": "stream",
     "text": [
      "20\n",
      "1729\n",
      "10\n",
      "10\n"
     ]
    }
   ],
   "source": [
    "class A:\n",
    "    x=10\n",
    "    def a():\n",
    "        y=20\n",
    "        print(y)\n",
    "    a()\n",
    "    \n",
    "    def f(self,a):\n",
    "        self.a=a\n",
    "        print(a)\n",
    "        print(A.x)\n",
    "\n",
    "A()\n",
    "A().f(1729)\n",
    "print(A.x)"
   ]
  },
  {
   "cell_type": "code",
   "execution_count": 24,
   "id": "4e4f8baf",
   "metadata": {},
   "outputs": [
    {
     "name": "stdout",
     "output_type": "stream",
     "text": [
      "hi Mr. math\n",
      "so, your  1729 ,right?\n"
     ]
    }
   ],
   "source": [
    "class Person:\n",
    "    def __init__(self):\n",
    "        self.name = \"math\"\n",
    "        self.age = 1729\n",
    "    def f(self):\n",
    "        print(\"hi Mr.\",self.name)\n",
    "        print(\"so, your \",self.age,\",right?\")\n",
    "\n",
    "p1 = Person()\n",
    "p1.f()\n",
    "\n"
   ]
  },
  {
   "cell_type": "code",
   "execution_count": 25,
   "id": "368ebb38",
   "metadata": {},
   "outputs": [
    {
     "name": "stdout",
     "output_type": "stream",
     "text": [
      "math\n",
      "22\n",
      "stats\n"
     ]
    }
   ],
   "source": [
    "# Modifing the value of the asttrible by using the obect\n",
    "\n",
    "class Person:\n",
    "    def __init__(self, name, age):\n",
    "        self.name = name\n",
    "        self.age = age\n",
    "\n",
    "p1 = Person(\"math\", 22)\n",
    "\n",
    "print(p1.name)\n",
    "print(p1.age)\n",
    "p1.name=\"stats\"\n",
    "print(p1.name)"
   ]
  },
  {
   "cell_type": "code",
   "execution_count": 27,
   "id": "cd9ad383",
   "metadata": {
    "scrolled": true
   },
   "outputs": [
    {
     "name": "stdout",
     "output_type": "stream",
     "text": [
      "1729\n"
     ]
    },
    {
     "ename": "AttributeError",
     "evalue": "'Person' object has no attribute '__name'",
     "output_type": "error",
     "traceback": [
      "\u001b[1;31m---------------------------------------------------------------------------\u001b[0m",
      "\u001b[1;31mAttributeError\u001b[0m                            Traceback (most recent call last)",
      "Input \u001b[1;32mIn [27]\u001b[0m, in \u001b[0;36m<cell line: 14>\u001b[1;34m()\u001b[0m\n\u001b[0;32m     11\u001b[0m p1 \u001b[38;5;241m=\u001b[39m Person(\u001b[38;5;124m\"\u001b[39m\u001b[38;5;124mmath\u001b[39m\u001b[38;5;124m\"\u001b[39m, \u001b[38;5;241m1729\u001b[39m)\n\u001b[0;32m     12\u001b[0m \u001b[38;5;28mprint\u001b[39m(p1\u001b[38;5;241m.\u001b[39mage)\n\u001b[1;32m---> 14\u001b[0m \u001b[38;5;28mprint\u001b[39m(\u001b[43mp1\u001b[49m\u001b[38;5;241;43m.\u001b[39;49m\u001b[43m__name\u001b[49m)\n",
      "\u001b[1;31mAttributeError\u001b[0m: 'Person' object has no attribute '__name'"
     ]
    }
   ],
   "source": [
    "\"\"\"\n",
    "restricting the changes in the modifications in the instance var by making it private\n",
    "\n",
    "\"\"\"\n",
    "\n",
    "class Person:\n",
    "    def __init__(self, __name, age):\n",
    "        self.__nme = __name     # Private variable\n",
    "        self.age = age          # Public\n",
    "\n",
    "p1 = Person(\"math\", 1729)\n",
    "print(p1.age)\n",
    "\n",
    "print(p1.__name) # gives error"
   ]
  },
  {
   "cell_type": "code",
   "execution_count": 28,
   "id": "f3d1ea37",
   "metadata": {},
   "outputs": [
    {
     "name": "stdout",
     "output_type": "stream",
     "text": [
      "math\n",
      "1729\n",
      "stats\n"
     ]
    }
   ],
   "source": [
    "\"\"\"\n",
    "It does not have to be named self , you can call it whatever you like,\n",
    "but it has to be the first parameter of any function in the class:\n",
    "\n",
    "\"\"\"\n",
    "\n",
    "class Person:\n",
    "  def __init__(py, name, age):\n",
    "    py.name = name\n",
    "    py.age = age\n",
    "\n",
    "p1 = Person(\"math\", 1729)\n",
    "\n",
    "print(p1.name)\n",
    "print(p1.age)\n",
    "p1.name=\"stats\"\n",
    "print(p1.name)"
   ]
  },
  {
   "cell_type": "code",
   "execution_count": 30,
   "id": "7617b1a8",
   "metadata": {},
   "outputs": [
    {
     "name": "stdout",
     "output_type": "stream",
     "text": [
      "1729\n",
      "1729\n",
      "1730\n",
      "1729\n"
     ]
    }
   ],
   "source": [
    "\"\"\"\n",
    "understanding the instance variables\n",
    "instance variable:whose seperate copy is created in every object/instance\n",
    "\n",
    "\"\"\"\n",
    "\n",
    "class A:\n",
    "    def __init__(self):\n",
    "        self.x=1729 #instance var\n",
    "        \n",
    "    def f(self):\n",
    "        self.x+=1\n",
    "\n",
    "a1=A()\n",
    "a2=A()\n",
    "print(a1.x)\n",
    "print(a2.x)\n",
    "\n",
    "a1.f()\n",
    "print(a1.x)\n",
    "print(a2.x)\n",
    "\n"
   ]
  },
  {
   "cell_type": "code",
   "execution_count": 31,
   "id": "683cb708",
   "metadata": {},
   "outputs": [
    {
     "name": "stdout",
     "output_type": "stream",
     "text": [
      "1729\n",
      "1729\n",
      "1730\n",
      "1730\n"
     ]
    }
   ],
   "source": [
    "\n",
    "\"\"\"\n",
    "understanding the class variables\n",
    "class variable:whose single copy is available in every object/instance\n",
    "\n",
    "\"\"\"\n",
    "\n",
    "class A:\n",
    "    x=1729\n",
    "    \n",
    "    #class method \n",
    "    @classmethod   \n",
    "    def f(cls):\n",
    "        cls.x+=1\n",
    "\n",
    "a1=A()\n",
    "a2=A()\n",
    "print(a1.x)\n",
    "print(a2.x)\n",
    "\n",
    "a1.f()\n",
    "print(a1.x)\n",
    "print(a2.x)"
   ]
  },
  {
   "cell_type": "code",
   "execution_count": 32,
   "id": "82a5f4f2",
   "metadata": {},
   "outputs": [
    {
     "name": "stdout",
     "output_type": "stream",
     "text": [
      "10\n",
      "10\n",
      "11\n",
      "11\n"
     ]
    }
   ],
   "source": [
    "# class variables, accessing the out side\n",
    "\n",
    "class A:\n",
    "    x=10\n",
    "    print(x)\n",
    "print(A.x)\n",
    "A.x+=1\n",
    "print(A.x)\n",
    "print(A.x)"
   ]
  },
  {
   "cell_type": "code",
   "execution_count": 33,
   "id": "615afb44",
   "metadata": {},
   "outputs": [
    {
     "name": "stdout",
     "output_type": "stream",
     "text": [
      "10\n",
      "10\n",
      "11\n",
      "11\n",
      "12\n",
      "11\n"
     ]
    }
   ],
   "source": [
    "# class variables, accessing the out side\n",
    "\n",
    "class A:\n",
    "    x=10\n",
    "    print(x)\n",
    "print(A.x)\n",
    "A.x+=1\n",
    "print(A.x)\n",
    "\n",
    "a1=A()\n",
    "print(a1.x)\n",
    "a1.x+=1\n",
    "print(a1.x)\n",
    "a2=A()\n",
    "print(a2.x)"
   ]
  },
  {
   "cell_type": "markdown",
   "id": "dca938c6",
   "metadata": {},
   "source": [
    "# Abstruction "
   ]
  },
  {
   "cell_type": "code",
   "execution_count": 34,
   "id": "d2a33544",
   "metadata": {},
   "outputs": [
    {
     "name": "stdout",
     "output_type": "stream",
     "text": [
      "3\n"
     ]
    },
    {
     "ename": "AttributeError",
     "evalue": "'A' object has no attribute '__x'",
     "output_type": "error",
     "traceback": [
      "\u001b[1;31m---------------------------------------------------------------------------\u001b[0m",
      "\u001b[1;31mAttributeError\u001b[0m                            Traceback (most recent call last)",
      "Input \u001b[1;32mIn [34]\u001b[0m, in \u001b[0;36m<cell line: 6>\u001b[1;34m()\u001b[0m\n\u001b[0;32m      4\u001b[0m         \u001b[38;5;28mprint\u001b[39m(\u001b[38;5;28mself\u001b[39m\u001b[38;5;241m.\u001b[39mx)        \n\u001b[0;32m      5\u001b[0m a\u001b[38;5;241m=\u001b[39mA()\n\u001b[1;32m----> 6\u001b[0m \u001b[38;5;28mprint\u001b[39m(\u001b[43ma\u001b[49m\u001b[38;5;241;43m.\u001b[39;49m\u001b[43m__x\u001b[49m)\n",
      "\u001b[1;31mAttributeError\u001b[0m: 'A' object has no attribute '__x'"
     ]
    }
   ],
   "source": [
    "class A():\n",
    "    def __init__(self):\n",
    "        self.x=3\n",
    "        print(self.x)        \n",
    "a=A()\n",
    "print(a.__x)\n"
   ]
  },
  {
   "cell_type": "code",
   "execution_count": 35,
   "id": "e39f1727",
   "metadata": {
    "scrolled": true
   },
   "outputs": [
    {
     "name": "stdout",
     "output_type": "stream",
     "text": [
      "3\n",
      "3\n"
     ]
    }
   ],
   "source": [
    "#abstruction\n",
    "class A():\n",
    "    def __init__(self):\n",
    "        self.__x=3 #private variable\n",
    "        print(self.__x)        \n",
    "a=A()\n",
    "print(a._A__x)  # name namgling\n"
   ]
  },
  {
   "cell_type": "code",
   "execution_count": 36,
   "id": "4ec66e38",
   "metadata": {},
   "outputs": [
    {
     "name": "stdout",
     "output_type": "stream",
     "text": [
      "2\n",
      "3\n",
      "2\n",
      "3\n",
      "3\n"
     ]
    }
   ],
   "source": [
    "class A:\n",
    "    def __init__(self):\n",
    "        self.x=2\n",
    "        self.__y=3\n",
    "    def f(self):\n",
    "        print(self.x)\n",
    "        print(self.__y)\n",
    "        \n",
    "class B(A):\n",
    "    def g(self):\n",
    "        print(self.x)\n",
    "        print(self._A__y)\n",
    "       \n",
    "    \n",
    "a=A()\n",
    "a.f()\n",
    "B().g()\n",
    "print(B()._A__y)\n",
    "#print(a._A__y) # name namgling\n",
    "\n"
   ]
  },
  {
   "cell_type": "code",
   "execution_count": 37,
   "id": "798e7da9",
   "metadata": {},
   "outputs": [
    {
     "name": "stdout",
     "output_type": "stream",
     "text": [
      "2\n",
      "3\n",
      "2\n",
      "3\n"
     ]
    }
   ],
   "source": [
    "\n",
    "\n",
    "class A:\n",
    "    def __init__(self):\n",
    "        self.x=2  #public var\n",
    "        self.__y=3  # private var\n",
    "    def f(self):\n",
    "        print(self.x) \n",
    "        print(self.__y)\n",
    "    \n",
    "    \n",
    "a=A()\n",
    "a.f()\n",
    "print(a.x)\n",
    "#print(a.__y)\n",
    "print(a._A__y) # object_name._class_name__y"
   ]
  },
  {
   "cell_type": "markdown",
   "id": "42efbfd7",
   "metadata": {},
   "source": [
    "An abstract class can be considered as a blueprint for other classes. It allows you to create a set of methods that must be created within any child classes built from the abstract class. A class which contains one or more abstract methods is called an abstract class. An abstract method is a method that has a declaration but does not have an implementation. While we are designing large functional units we use an abstract class. When we want to provide a common interface for different implementations of a component, we use an abstract class. \n",
    "\n",
    "\n",
    "Why use Abstract Base Classes : \n",
    "By defining an abstract base class, you can define a common Application Program Interface(API) for a set of subclasses. This capability is especially useful in situations where a third-party is going to provide implementations, such as with plugins, but can also help you when working in a large team or with a large code-base where keeping all classes in your mind is difficult or not possible. \n",
    "\n",
    "\n",
    "How Abstract Base classes work : \n",
    "By default, Python does not provide abstract classes. Python comes with a module that provides the base for defining Abstract Base classes(ABC) and that module name is ABC. ABC works by decorating methods of the base class as abstract and then registering concrete classes as implementations of the abstract base. A method becomes abstract when decorated with the keyword @abstractmethod."
   ]
  },
  {
   "cell_type": "code",
   "execution_count": 38,
   "id": "a36e4806",
   "metadata": {},
   "outputs": [
    {
     "name": "stdout",
     "output_type": "stream",
     "text": [
      "sum is :  3\n",
      "difference is :  -1\n",
      "sum is :  2\n"
     ]
    }
   ],
   "source": [
    "from abc import ABC,abstractmethod\n",
    "\n",
    "class A(ABC):\n",
    "    \n",
    "    @abstractmethod\n",
    "    def x(self,a,b):\n",
    "        pass\n",
    "    \n",
    "class B1(A):\n",
    "    def x(self,a,b):\n",
    "        print(\"sum is : \",a+b)\n",
    "        \n",
    "\n",
    "class B2(A):\n",
    "    def x(self,a,b):\n",
    "        print(\"difference is : \",a-b)\n",
    "        \n",
    "class B3(A):\n",
    "    def x(self,a,b):\n",
    "        print(\"sum is : \",a*b)\n",
    "        \n",
    "\n",
    "B1().x(1,2)\n",
    "B2().x(1,2)\n",
    "B3().x(1,2)"
   ]
  },
  {
   "cell_type": "code",
   "execution_count": 39,
   "id": "4426492f",
   "metadata": {
    "scrolled": true
   },
   "outputs": [
    {
     "name": "stdout",
     "output_type": "stream",
     "text": [
      "1\n"
     ]
    }
   ],
   "source": [
    "class A:\n",
    "    def f(self):\n",
    "        x=13\n",
    "        print(x)\n",
    "       \n",
    "class B(A):\n",
    "    def f(self):\n",
    "        x=1\n",
    "        print(x)\n",
    "B().f()\n"
   ]
  },
  {
   "cell_type": "code",
   "execution_count": 40,
   "id": "71912c28",
   "metadata": {},
   "outputs": [
    {
     "name": "stdout",
     "output_type": "stream",
     "text": [
      "1 2\n"
     ]
    }
   ],
   "source": [
    "class A:\n",
    "    def f(self):\n",
    "        x=10\n",
    "        print(x)\n",
    "        \n",
    "    def f(self,x):\n",
    "        self.x=20\n",
    "        print(self.x)\n",
    "        \n",
    "    def f(self,x,y):\n",
    "        self.x=x\n",
    "        self.y=y\n",
    "        print(self.x,self.y)\n",
    "        \n",
    "        \n",
    "A().f(1,2)\n",
    "       \n",
    "       \n",
    "       "
   ]
  },
  {
   "cell_type": "code",
   "execution_count": 41,
   "id": "5aee2bc7",
   "metadata": {},
   "outputs": [
    {
     "name": "stdout",
     "output_type": "stream",
     "text": [
      "my car number is :  11\n",
      "maruthi uses usual steering\n",
      "maruthi uses hydraulic breacking system\n"
     ]
    }
   ],
   "source": [
    "from abc import *\n",
    "\n",
    "class Car(ABC):\n",
    "    def __init__(self,rno):\n",
    "        self.rno=rno\n",
    "        \n",
    "    def display(self):\n",
    "        print(\"my car number is : \",self.rno)\n",
    "        \n",
    "    @abstractmethod\n",
    "    def steering(self):\n",
    "        pass \n",
    "    \n",
    "    @abstractmethod\n",
    "    def breaking(self):\n",
    "        pass \n",
    "    \n",
    "class Maruthi(Car):\n",
    "    def steering(self):\n",
    "        print(\"maruthi uses usual steering\")\n",
    "        \n",
    "    def breaking(self):\n",
    "        print(\"maruthi uses hydraulic breacking system\")\n",
    "        \n",
    "m=Maruthi(11)\n",
    "m.display()\n",
    "m.steering()\n",
    "m.breaking()\n",
    "    "
   ]
  },
  {
   "cell_type": "code",
   "execution_count": 42,
   "id": "b68e4204",
   "metadata": {},
   "outputs": [
    {
     "name": "stdout",
     "output_type": "stream",
     "text": [
      "A class\n"
     ]
    },
    {
     "data": {
      "text/plain": [
       "<__main__.B at 0x198b3d0b820>"
      ]
     },
     "execution_count": 42,
     "metadata": {},
     "output_type": "execute_result"
    }
   ],
   "source": [
    "class A:\n",
    "    def __init__(self):\n",
    "        print(\"A class\")\n",
    "        \n",
    "class B(A):\n",
    "    def __init__(self):\n",
    "        super().__init__()\n",
    "\n",
    "B()"
   ]
  },
  {
   "cell_type": "markdown",
   "id": "c725af53",
   "metadata": {},
   "source": [
    "# Types of methods in class(instance,class,static methods)"
   ]
  },
  {
   "cell_type": "code",
   "execution_count": 44,
   "id": "13d28d43",
   "metadata": {
    "scrolled": false
   },
   "outputs": [
    {
     "name": "stdout",
     "output_type": "stream",
     "text": [
      "how many students : 2\n",
      "Enter name : Sunny\n",
      "Enter marks : 99\n",
      "hi Sunny\n",
      "your marks  99\n",
      "Enter name : Chinnu\n",
      "Enter marks : 98\n",
      "hi Chinnu\n",
      "your marks  98\n"
     ]
    }
   ],
   "source": [
    "#instance methods\n",
    "#accessor and mutator\n",
    "\n",
    "\"\"\"\n",
    "\n",
    "\"\"\"\n",
    "\n",
    "class A:\n",
    "    \n",
    "    #mutator method\n",
    "    def setName(self,name):\n",
    "        self.name=name\n",
    "    \n",
    "    #accessor method\n",
    "    def getName(self):\n",
    "        return self.name\n",
    "    \n",
    "    #mutator method\n",
    "    def setMarks(self,marks):\n",
    "        self.marks=marks\n",
    "        \n",
    "    #accessor method\n",
    "    def getMarks(self):\n",
    "        return self.marks\n",
    "    \n",
    "    \n",
    "n=int(input(\"how many students : \"))\n",
    "i=0\n",
    "while(i<n):\n",
    "    #creating instance\n",
    "    a=A()\n",
    "    name=input(\"Enter name : \")\n",
    "    a.setName(name)\n",
    "    marks=int(input(\"Enter marks : \"))\n",
    "    a.setMarks(marks)\n",
    "    i+=1\n",
    "    \n",
    "    print(\"hi\",a.getName())\n",
    "    print(\"your marks \",a.getMarks())    \n",
    "        "
   ]
  },
  {
   "cell_type": "code",
   "execution_count": 45,
   "id": "c1c11c76",
   "metadata": {},
   "outputs": [
    {
     "name": "stdout",
     "output_type": "stream",
     "text": [
      "10\n",
      "10\n",
      "********************************\n",
      "1\n",
      "10\n",
      "1\n",
      "10\n"
     ]
    }
   ],
   "source": [
    "#class methods\n",
    "\n",
    "\"\"\"\n",
    "class methods are the methods whose work on the class/static variables\n",
    "they work on class level\n",
    "writen using the \"@classmethod\" decorator\n",
    "first parameter is the \"cls\"\n",
    "calling formate is \"class_name.method()\"\n",
    "\"\"\"\n",
    "class A:\n",
    "    x=10\n",
    "    @classmethod\n",
    "    def f(cls):\n",
    "        print(cls.x)\n",
    "\n",
    "A().f()\n",
    "A.f()\n",
    "    \n",
    "    \n",
    "print(\"********************************\")\n",
    "\n",
    "class A:\n",
    "    x=10\n",
    "    @classmethod\n",
    "    def f(cls,y):\n",
    "        print(y)\n",
    "        print(cls.x)\n",
    "\n",
    "A().f(1) # this argument is taken by \"y\"\n",
    "A.f(1)    "
   ]
  },
  {
   "cell_type": "code",
   "execution_count": 46,
   "id": "636f69d0",
   "metadata": {},
   "outputs": [
    {
     "name": "stdout",
     "output_type": "stream",
     "text": [
      "enter the number to find the squareroot :25\n",
      "suareroot of 25 is 5.0\n"
     ]
    }
   ],
   "source": [
    "#static method\n",
    "\n",
    "\"\"\"\n",
    "static methods are used when some processing is related to the class,\n",
    "but,does not need the  class or its instaces to perform any work\n",
    "\n",
    "\"\"\"\n",
    "\n",
    "import math\n",
    "class A:\n",
    "    #creating thr static method\n",
    "    @staticmethod\n",
    "    def f(x):\n",
    "        return math.sqrt(x)\n",
    "    \n",
    "num=int(input('enter the number to find the squareroot :'))\n",
    "print(\"suareroot of {} is {}\".format(num,A.f(num)))\n",
    "\n"
   ]
  },
  {
   "cell_type": "markdown",
   "id": "279ad443",
   "metadata": {},
   "source": [
    "# inner class and outter class"
   ]
  },
  {
   "cell_type": "code",
   "execution_count": 48,
   "id": "a01659ee",
   "metadata": {},
   "outputs": [
    {
     "name": "stdout",
     "output_type": "stream",
     "text": [
      "11 shailaja\n",
      "my dob is : 22/12/2000 \n"
     ]
    }
   ],
   "source": [
    "#inner class \n",
    "\n",
    "class Outterclass:\n",
    "    def __init__(self,Id,name):\n",
    "        self.Id=Id\n",
    "        self.name=name\n",
    "        self.ic=self.Innerclass()\n",
    "    def display(self):\n",
    "        print(self.Id,self.name)\n",
    "        \n",
    "    class Innerclass:\n",
    "        def __init__(self):\n",
    "            self.dd=22\n",
    "            self.mm=12\n",
    "            self.yyyy=2000\n",
    "        def display(self):\n",
    "            print(\"my dob is : {}/{}/{} \".format(self.dd,self.mm,self.yyyy))\n",
    "            \n",
    "o=Outterclass(11,\"shailaja\")\n",
    "o.display()\n",
    "\n",
    "i=o.ic\n",
    "i.display()"
   ]
  },
  {
   "cell_type": "code",
   "execution_count": 49,
   "id": "cf06bd16",
   "metadata": {},
   "outputs": [
    {
     "name": "stdout",
     "output_type": "stream",
     "text": [
      "this is outter class\n",
      "this is inner class\n",
      "this is inner class\n"
     ]
    }
   ],
   "source": [
    "#inner class\n",
    "\n",
    "class A:\n",
    "    def display(self):\n",
    "        print(\"this is outter class\")\n",
    "    \n",
    "    class B:\n",
    "        def display(self):\n",
    "            print(\"this is inner class\")\n",
    "            \n",
    "a=A()\n",
    "a.display()\n",
    "#A().B().display()\n",
    "\n",
    "b=A().B() #creating the B class obeject as a sub object to the A class\n",
    "b.display()\n",
    "A().B().display()\n",
    "        "
   ]
  },
  {
   "cell_type": "markdown",
   "id": "9c969172",
   "metadata": {},
   "source": [
    "# inheritance"
   ]
  },
  {
   "cell_type": "markdown",
   "id": "b373fc1f",
   "metadata": {},
   "source": [
    "Definition: inheriting the properties of one class to other\n",
    "\n",
    "Types:\n",
    "1. single\n",
    "2. multiple\n",
    "3. multi level"
   ]
  },
  {
   "cell_type": "markdown",
   "id": "610cc7b8",
   "metadata": {},
   "source": [
    "# 1. Single"
   ]
  },
  {
   "cell_type": "code",
   "execution_count": null,
   "id": "c37bb975",
   "metadata": {},
   "outputs": [],
   "source": [
    "class A:\n",
    "    .......\n",
    "    \n",
    "class B(A):\n",
    "    ........\n",
    "    \n",
    "class C(A):\n",
    "    ........\n",
    "    \n",
    "class D(A):\n",
    "    ......\n",
    "    \n"
   ]
  },
  {
   "cell_type": "markdown",
   "id": "01b60c66",
   "metadata": {},
   "source": [
    "# Multiple"
   ]
  },
  {
   "cell_type": "code",
   "execution_count": null,
   "id": "768d60b8",
   "metadata": {},
   "outputs": [],
   "source": [
    "class A:\n",
    "    .......\n",
    "    \n",
    "class B:\n",
    "    ........\n",
    "    \n",
    "class C(A,B):\n",
    "    ........\n",
    "    \n",
    "class D(A,B,C):\n",
    "    ......\n"
   ]
  },
  {
   "cell_type": "markdown",
   "id": "d8b6c79a",
   "metadata": {},
   "source": [
    "# Multi Level"
   ]
  },
  {
   "cell_type": "code",
   "execution_count": null,
   "id": "da47fb06",
   "metadata": {},
   "outputs": [],
   "source": [
    "class A:\n",
    "    .......\n",
    "    \n",
    "class B(A):\n",
    "    ........\n",
    "    \n",
    "class C(B):\n",
    "    ........\n",
    "    \n",
    "class D(C):\n",
    "    ......"
   ]
  },
  {
   "cell_type": "code",
   "execution_count": 50,
   "id": "a539652f",
   "metadata": {},
   "outputs": [
    {
     "name": "stdout",
     "output_type": "stream",
     "text": [
      "I am in A Class\n"
     ]
    }
   ],
   "source": [
    "# Single inheritance\n",
    "class A:\n",
    "    def f(self):\n",
    "        print(\"I am in A Class\")\n",
    "        \n",
    "class B(A):\n",
    "    pass\n",
    "\n",
    "b=B()\n",
    "b.f()"
   ]
  },
  {
   "cell_type": "code",
   "execution_count": 51,
   "id": "91c9ccd1",
   "metadata": {},
   "outputs": [
    {
     "name": "stdout",
     "output_type": "stream",
     "text": [
      "Programming :  python \n",
      "Version :  100\n"
     ]
    }
   ],
   "source": [
    "# Single inheritance\n",
    "\n",
    "class A:  # base class & super class\n",
    "    def __init__(self):\n",
    "        self.name='python'\n",
    "        \n",
    "class B(A):\n",
    "    def __init__(self):\n",
    "        self.version=100\n",
    "        super().__init__()  # calling the base class constructor\n",
    "        \n",
    "\n",
    "    def display(self):\n",
    "        print(\"Programming : \",self.name,\"\\nVersion : \",self.version)\n",
    " \n",
    "b=B()\n",
    "b.display()\n",
    "    "
   ]
  },
  {
   "cell_type": "code",
   "execution_count": 5,
   "id": "c9efb07e",
   "metadata": {},
   "outputs": [
    {
     "name": "stdout",
     "output_type": "stream",
     "text": [
      "I am inside the C class\n",
      "I am inside the B class\n",
      "I am inside the A class\n"
     ]
    }
   ],
   "source": [
    "# Multiple Inheritance\n",
    "\n",
    "class A:\n",
    "    def f(self):\n",
    "        print(\"I am inside the A class\")\n",
    "        \n",
    "class B:\n",
    "    def h(self):\n",
    "        print(\"I am inside the B class\")\n",
    "        \n",
    "\n",
    "class C(A,B):\n",
    "    def g(self):\n",
    "        print(\"I am inside the C class\")\n",
    "        \n",
    "    \n",
    "c=C()\n",
    "c.g()\n",
    "c.h()\n",
    "c.f()"
   ]
  },
  {
   "cell_type": "code",
   "execution_count": 54,
   "id": "d90904d7",
   "metadata": {},
   "outputs": [
    {
     "name": "stdout",
     "output_type": "stream",
     "text": [
      "I am inside the C class\n",
      "I am inside the B class\n",
      "I am inside the A class\n"
     ]
    }
   ],
   "source": [
    "# Multi level\n",
    "\n",
    "class A: \n",
    "    def f(self):\n",
    "        print(\"I am inside the A class\")\n",
    "        \n",
    "class B(A): \n",
    "    def h(self):\n",
    "        print(\"I am inside the B class\")\n",
    "        \n",
    "\n",
    "class C(B):\n",
    "    def g(self):\n",
    "        print(\"I am inside the C class\")\n",
    "        \n",
    "    \n",
    "c=C()\n",
    "c.g()\n",
    "c.h()\n",
    "c.f()"
   ]
  },
  {
   "cell_type": "code",
   "execution_count": 17,
   "id": "42e8fc35",
   "metadata": {},
   "outputs": [
    {
     "name": "stdout",
     "output_type": "stream",
     "text": [
      "I am A class constructor\n",
      "I am inside the B class\n",
      "I am inside the A class\n"
     ]
    }
   ],
   "source": [
    "class A:\n",
    "    def __init__(self):\n",
    "        print(\"I am A class constructor\")\n",
    "        \n",
    "    def f(self):\n",
    "        print(\"I am inside the A class\")\n",
    "        \n",
    "class B(A):\n",
    "    def __init__(self):\n",
    "        super().__init__()\n",
    "        \n",
    "    def g(self):\n",
    "        print(\"I am inside the B class\")\n",
    "        \n",
    "        \n",
    "b=B()\n",
    "b.g()\n",
    "b.f()"
   ]
  },
  {
   "cell_type": "markdown",
   "id": "cbdfd50d",
   "metadata": {},
   "source": [
    "# Single inheritance"
   ]
  },
  {
   "cell_type": "code",
   "execution_count": 72,
   "id": "bd8a63e6",
   "metadata": {},
   "outputs": [
    {
     "name": "stdout",
     "output_type": "stream",
     "text": [
      "10 20\n"
     ]
    }
   ],
   "source": [
    "\n",
    "class A:\n",
    "    def f(self):\n",
    "        self.x=10\n",
    "        \n",
    "class B(A):\n",
    "    def g(self):\n",
    "        self.y=20\n",
    "        \n",
    "    def display(self):\n",
    "        print(self.x,self.y)\n",
    "        \n",
    "b=B()\n",
    "b.f()\n",
    "b.g()\n",
    "b.display()        "
   ]
  },
  {
   "cell_type": "code",
   "execution_count": 56,
   "id": "d7982de8",
   "metadata": {},
   "outputs": [
    {
     "name": "stdout",
     "output_type": "stream",
     "text": [
      "Mr Y\n"
     ]
    }
   ],
   "source": [
    "class Person:\n",
    "  def __init__(self, fname, lname):\n",
    "    self.firstname = fname\n",
    "    self.lastname = lname\n",
    "\n",
    "  def printname(self):\n",
    "    print(self.firstname, self.lastname)\n",
    "\n",
    "#Use the Person class to create an object, and then execute the printname method:\n",
    "\n",
    "# x = Person(\"Mr\", \"X\")\n",
    "# x.printname()\n",
    "\n",
    "class Student(Person):\n",
    "  pass\n",
    "y = Student(\"Mr\", \"Y\")\n",
    "y.printname()\n"
   ]
  },
  {
   "cell_type": "code",
   "execution_count": 57,
   "id": "acae9085",
   "metadata": {},
   "outputs": [
    {
     "name": "stdout",
     "output_type": "stream",
     "text": [
      "I am g method\n",
      "23\n"
     ]
    }
   ],
   "source": [
    "class A:\n",
    "    def __init__(self,x):\n",
    "        self.x=x\n",
    "        \n",
    "    def f(self):\n",
    "        print(self.x) \n",
    "        \n",
    "    def g():\n",
    "        print(\"I am g method\")\n",
    "    g()\n",
    "        \n",
    "        \n",
    "a=A(23)\n",
    "a.f()\n"
   ]
  },
  {
   "cell_type": "code",
   "execution_count": 58,
   "id": "2cd9666b",
   "metadata": {},
   "outputs": [
    {
     "name": "stdout",
     "output_type": "stream",
     "text": [
      "hi\n"
     ]
    },
    {
     "data": {
      "text/plain": [
       "<__main__.A at 0x198b3ef8dc0>"
      ]
     },
     "execution_count": 58,
     "metadata": {},
     "output_type": "execute_result"
    }
   ],
   "source": [
    "class A:\n",
    "    def __init__(self):\n",
    "        print(\"hi\")\n",
    "A()"
   ]
  },
  {
   "cell_type": "code",
   "execution_count": 60,
   "id": "aa7a93e9",
   "metadata": {},
   "outputs": [
    {
     "name": "stdout",
     "output_type": "stream",
     "text": [
      "CASE(1)\n",
      "hi\n",
      "*************************************\n",
      "CASE(2)\n",
      "hello\n",
      "*************************************\n",
      "CASE(3)\n",
      "hi\n",
      "hello\n"
     ]
    },
    {
     "data": {
      "text/plain": [
       "<__main__.B at 0x198b3e0c0a0>"
      ]
     },
     "execution_count": 60,
     "metadata": {},
     "output_type": "execute_result"
    }
   ],
   "source": [
    "\"\"\"\n",
    "\n",
    "CASE(1): If a sub_class does not have the constructor, then when we create a object to the sub_class,\n",
    "then the super_class constructor automatically invocked.\n",
    "\n",
    "CASE(2): but, if you have constructor in the sub_class , then when we ctreate object to the sub_class,\n",
    "then it invock the sub_class constructor only but not super class.\n",
    "\n",
    "CASE(3): In this case to access the super_class constructor when we have sub_class constructor too, we \n",
    "have to use \"super()\" method.\n",
    "\n",
    "\"\"\"\n",
    "\n",
    "print(\"CASE(1)\")\n",
    "\n",
    "class A:\n",
    "    def __init__(self):\n",
    "        print(\"hi\")\n",
    "    \n",
    "class B(A):\n",
    "    pass\n",
    "B()\n",
    "\n",
    "print(\"*************************************\")\n",
    "\n",
    "print(\"CASE(2)\")\n",
    "class A:\n",
    "    def __init__(self):\n",
    "        print(\"hi\")\n",
    "    \n",
    "class B(A):\n",
    "    def __init__(self):\n",
    "        print(\"hello\")\n",
    "        \n",
    "B()\n",
    "\n",
    "print(\"*************************************\")\n",
    "\n",
    "print(\"CASE(3)\")\n",
    "class A:\n",
    "    def __init__(self):\n",
    "        print(\"hi\")\n",
    "    \n",
    "class B(A):\n",
    "    def __init__(self):\n",
    "        super().__init__()\n",
    "        print(\"hello\")\n",
    "        \n",
    "B()"
   ]
  },
  {
   "cell_type": "code",
   "execution_count": 61,
   "id": "9930e412",
   "metadata": {},
   "outputs": [
    {
     "name": "stdout",
     "output_type": "stream",
     "text": [
      "1 2\n"
     ]
    }
   ],
   "source": [
    "#the super method\n",
    "\n",
    "class A:\n",
    "    def __init__(self,a):\n",
    "        self.a=a\n",
    "class B(A):\n",
    "    def __init__(self,a,b): # \"b\" is sub_class constructor parameter,\"a\" is super_class constructor parameter\n",
    "        super().__init__(a) #calling super class constructor\n",
    "        self.b=b #initializing the sub_class constructor parameter\n",
    "        \n",
    "    def f(self):\n",
    "        print(self.a,self.b)\n",
    "        \n",
    "b=B(1,2)\n",
    "b.f()"
   ]
  },
  {
   "cell_type": "code",
   "execution_count": 62,
   "id": "5847c9ac",
   "metadata": {},
   "outputs": [
    {
     "name": "stdout",
     "output_type": "stream",
     "text": [
      "A class\n",
      "B class\n",
      "C class\n"
     ]
    },
    {
     "data": {
      "text/plain": [
       "<__main__.C at 0x198b3def340>"
      ]
     },
     "execution_count": 62,
     "metadata": {},
     "output_type": "execute_result"
    }
   ],
   "source": [
    "class A:\n",
    "    def __init__(self):\n",
    "        print(\"A class\")\n",
    "        super().__init__()\n",
    "\n",
    "class B:\n",
    "    def __init__(self):\n",
    "        print(\"B class\")\n",
    "    \n",
    "class C(A,B):\n",
    "    def __init__(self):\n",
    "        super().__init__()\n",
    "        print(\"C class\")\n",
    "        \n",
    "C()"
   ]
  },
  {
   "cell_type": "code",
   "execution_count": 63,
   "id": "33670f6e",
   "metadata": {},
   "outputs": [
    {
     "name": "stdout",
     "output_type": "stream",
     "text": [
      "A class\n",
      "B class\n",
      "C class\n"
     ]
    },
    {
     "data": {
      "text/plain": [
       "<__main__.C at 0x198b3e02c10>"
      ]
     },
     "execution_count": 63,
     "metadata": {},
     "output_type": "execute_result"
    }
   ],
   "source": [
    "class A:\n",
    "    def __init__(self):\n",
    "        print(\"A class\")\n",
    "        super().__init__()\n",
    "\n",
    "class B:\n",
    "    def __init__(self):\n",
    "        super().__init__()\n",
    "        print(\"B class\")\n",
    "        \n",
    "    \n",
    "class C(A,B):\n",
    "    def __init__(self):\n",
    "        super().__init__()\n",
    "        print(\"C class\")\n",
    "        \n",
    "C()"
   ]
  },
  {
   "cell_type": "code",
   "execution_count": 64,
   "id": "cd43eb62",
   "metadata": {},
   "outputs": [
    {
     "name": "stdout",
     "output_type": "stream",
     "text": [
      "done\n"
     ]
    }
   ],
   "source": [
    "class car():\n",
    "    def wheel(self):\n",
    "        self.run()\n",
    "    def run(self):\n",
    "        print(\"done\")\n",
    "        pass\n",
    "    def milege(self):\n",
    "        return str(120/0)\n",
    "c = car()\n",
    "c.wheel()"
   ]
  },
  {
   "cell_type": "code",
   "execution_count": 65,
   "id": "b0a68b72",
   "metadata": {},
   "outputs": [
    {
     "name": "stdout",
     "output_type": "stream",
     "text": [
      "D class \n",
      "A class \n",
      "B class \n",
      "C class \n"
     ]
    },
    {
     "data": {
      "text/plain": [
       "<__main__.D at 0x198b3e02f70>"
      ]
     },
     "execution_count": 65,
     "metadata": {},
     "output_type": "execute_result"
    }
   ],
   "source": [
    "class A:\n",
    "    def __init__(self):\n",
    "        print(\"A class \")\n",
    "        super().__init__()\n",
    "        \n",
    "class B:\n",
    "    def __init__(self):\n",
    "        print(\"B class \")\n",
    "        super().__init__()\n",
    "    \n",
    "        \n",
    "class C:\n",
    "    def __init__(self):\n",
    "        print(\"C class \")\n",
    "\n",
    "        \n",
    "class D(A,B,C):\n",
    "    def __init__(self):\n",
    "        print(\"D class \")\n",
    "        super().__init__()\n",
    "        \n",
    "        \n",
    "        \n",
    "D()"
   ]
  },
  {
   "cell_type": "code",
   "execution_count": 66,
   "id": "1ef1f494",
   "metadata": {},
   "outputs": [
    {
     "name": "stdout",
     "output_type": "stream",
     "text": [
      "hello\n",
      "hi\n"
     ]
    }
   ],
   "source": [
    "class A:\n",
    "    def __init__(self):\n",
    "        print(\"hi\")\n",
    "class B(A):\n",
    "    print(\"hello\")\n",
    "\n",
    "b=B()\n"
   ]
  },
  {
   "cell_type": "code",
   "execution_count": 67,
   "id": "8f0ab32c",
   "metadata": {},
   "outputs": [
    {
     "name": "stdout",
     "output_type": "stream",
     "text": [
      "B class\n",
      "B class\n"
     ]
    },
    {
     "data": {
      "text/plain": [
       "<__main__.B at 0x198b3e02ac0>"
      ]
     },
     "execution_count": 67,
     "metadata": {},
     "output_type": "execute_result"
    }
   ],
   "source": [
    "class A:\n",
    "    def __init__(self):\n",
    "        print(\"A class\")\n",
    "\n",
    "\n",
    "class B(A):\n",
    "    def __init__(self):\n",
    "        print(\"B class\")\n",
    "        \n",
    "    \n",
    "class C(B):\n",
    "#     def __init__(self):\n",
    "#         print(\"C class\")\n",
    "            pass\n",
    "        \n",
    "C()\n",
    "B()"
   ]
  },
  {
   "cell_type": "code",
   "execution_count": 68,
   "id": "420165c1",
   "metadata": {},
   "outputs": [
    {
     "ename": "NameError",
     "evalue": "name 'f' is not defined",
     "output_type": "error",
     "traceback": [
      "\u001b[1;31m---------------------------------------------------------------------------\u001b[0m",
      "\u001b[1;31mNameError\u001b[0m                                 Traceback (most recent call last)",
      "Input \u001b[1;32mIn [68]\u001b[0m, in \u001b[0;36m<cell line: 6>\u001b[1;34m()\u001b[0m\n\u001b[0;32m      3\u001b[0m         x\u001b[38;5;241m=\u001b[39m\u001b[38;5;241m10\u001b[39m\n\u001b[0;32m      4\u001b[0m         \u001b[38;5;28mprint\u001b[39m(x)\n\u001b[1;32m----> 6\u001b[0m \u001b[38;5;28;01mclass\u001b[39;00m \u001b[38;5;21;01mB\u001b[39;00m(A):\n\u001b[0;32m      7\u001b[0m     f()\n",
      "Input \u001b[1;32mIn [68]\u001b[0m, in \u001b[0;36mB\u001b[1;34m()\u001b[0m\n\u001b[0;32m      6\u001b[0m \u001b[38;5;28;01mclass\u001b[39;00m \u001b[38;5;21;01mB\u001b[39;00m(A):\n\u001b[1;32m----> 7\u001b[0m     \u001b[43mf\u001b[49m()\n",
      "\u001b[1;31mNameError\u001b[0m: name 'f' is not defined"
     ]
    }
   ],
   "source": [
    "class A:\n",
    "    def f():\n",
    "        x=10\n",
    "        print(x)\n",
    "        \n",
    "class B(A):\n",
    "    f()"
   ]
  },
  {
   "cell_type": "code",
   "execution_count": 69,
   "id": "98f45208",
   "metadata": {},
   "outputs": [
    {
     "name": "stdout",
     "output_type": "stream",
     "text": [
      "Benz objec\n",
      "BMW_7_series object\n",
      "Test objec\n",
      "30\n"
     ]
    },
    {
     "data": {
      "text/plain": [
       "'\\nself.x=20\\n\\n\\n'"
      ]
     },
     "execution_count": 69,
     "metadata": {},
     "output_type": "execute_result"
    }
   ],
   "source": [
    "class Car:   \n",
    "    def __init__(self):    \n",
    "        self.x=10                \n",
    "        print(\"Car object\")       \n",
    "        \n",
    "class BMW(Car):                  \n",
    "    def __init__(self):\n",
    "        self.x=20\n",
    "        print(\"BMW object\")\n",
    "        \n",
    "class BMW_3_series(BMW):      \n",
    "    pass\n",
    "\n",
    "class BMW_7_series(BMW):        \n",
    "    def __init__(self):\n",
    "        self.x=30\n",
    "        #super().__init__()  \n",
    "        print(\"BMW_7_series object\")\n",
    "        \n",
    "class Benz(Car):\n",
    "    def __init__(self):\n",
    "        print(\"Benz objec\")\n",
    "        self.x=40\n",
    "        super().__init__()  \n",
    "        \n",
    "class Test(Benz,BMW_7_series,BMW_3_series):\n",
    "    def __init__(self):\n",
    "        self.x=50     \n",
    "        super().__init__()  \n",
    "        print(\"Test objec\")\n",
    "        \n",
    "        \n",
    "t=Test()\n",
    "print(t.x)\n",
    "\n",
    "\n",
    "\n",
    "\"\"\"\n",
    "self.x=20\n",
    "\n",
    "\n",
    "\"\"\""
   ]
  },
  {
   "cell_type": "markdown",
   "id": "68ce6512",
   "metadata": {},
   "source": [
    "# Polymorphism\n",
    "\n",
    "we have two types of concepts in polymorphism : \n",
    "1) Method overloading ( does not supported by the python).\n",
    "2) Method overriding  ( does not supported by the python) "
   ]
  },
  {
   "cell_type": "markdown",
   "id": "3eb9766e",
   "metadata": {},
   "source": [
    "\"\"\"\n",
    "Method Overriding : -\n",
    "\n",
    "Method overriding is a concept of object oriented programming that allows us to change the implementation of a function in the child class that is defined in the parent class. It is the ability of a child class to change the implementation of any method which is already provided by one of its parent class\n",
    "\n",
    "\"\"\""
   ]
  },
  {
   "cell_type": "code",
   "execution_count": 70,
   "id": "d210887b",
   "metadata": {},
   "outputs": [
    {
     "name": "stdout",
     "output_type": "stream",
     "text": [
      " I am in child class....\n"
     ]
    }
   ],
   "source": [
    "# program to understand Method overriding\n",
    "\n",
    "class Parent:\n",
    "    def display(self): # overrided\n",
    "        print(\" I am in parent class....\")\n",
    "        \n",
    "class Child(Parent):\n",
    "    def display(self):  #overriding\n",
    "        print(\" I am in child class....\")\n",
    "\n",
    "c=Child()\n",
    "c.display()"
   ]
  },
  {
   "cell_type": "code",
   "execution_count": 72,
   "id": "f9f00d43",
   "metadata": {},
   "outputs": [
    {
     "name": "stdout",
     "output_type": "stream",
     "text": [
      "I had initialized my variables\n",
      "hi Mr.X\n",
      "23\n",
      "Mr.X is  21  years old.\n"
     ]
    }
   ],
   "source": [
    "# constructor\n",
    "\n",
    "class A:\n",
    "\n",
    "    def __init__(self,name,age):   # constructor(used to construct the objects OR to initialize the variables)\n",
    "        self.name=name  \n",
    "        self.age=age\n",
    "        print(\"I had initialized my variables\")\n",
    "        \n",
    "    def f(self,x): \n",
    "        self.x=x\n",
    "        print(self.x)\n",
    "        print(self.name,\"is \",self.age,\" years old.\")\n",
    "        \n",
    "    def g(self):\n",
    "        print(\"hi\",self.name)\n",
    "        \n",
    "        \n",
    "a=A(\"Mr.X\",21)\n",
    "a.g()\n",
    "a.f(23)\n",
    "\n",
    "\n"
   ]
  },
  {
   "cell_type": "code",
   "execution_count": 73,
   "id": "17b69b2c",
   "metadata": {},
   "outputs": [
    {
     "name": "stdout",
     "output_type": "stream",
     "text": [
      "1 2\n"
     ]
    }
   ],
   "source": [
    "class A:\n",
    "    def __init__(self):\n",
    "        self.x=1\n",
    "        self.y=2\n",
    "        \n",
    "    def f(self):\n",
    "        print(self.x,self.y)\n",
    "        \n",
    "    \n",
    "a=A()\n",
    "a.f()"
   ]
  },
  {
   "cell_type": "code",
   "execution_count": 75,
   "id": "ef3a8e50",
   "metadata": {},
   "outputs": [
    {
     "name": "stdout",
     "output_type": "stream",
     "text": [
      "B class\n",
      "A class\n"
     ]
    },
    {
     "data": {
      "text/plain": [
       "<__main__.B at 0x198b3cfd940>"
      ]
     },
     "execution_count": 75,
     "metadata": {},
     "output_type": "execute_result"
    }
   ],
   "source": [
    "class A:    # parent/super/base class\n",
    "    def __init__(self):\n",
    "        print(\"A class\")\n",
    "        \n",
    "class B(A):  # child/sub/derived class\n",
    "    def __init__(self):\n",
    "        print(\"B class\")\n",
    "        super().__init__()\n",
    "\n",
    "B()"
   ]
  },
  {
   "cell_type": "code",
   "execution_count": null,
   "id": "b70e3058",
   "metadata": {},
   "outputs": [],
   "source": []
  }
 ],
 "metadata": {
  "kernelspec": {
   "display_name": "Python 3 (ipykernel)",
   "language": "python",
   "name": "python3"
  },
  "language_info": {
   "codemirror_mode": {
    "name": "ipython",
    "version": 3
   },
   "file_extension": ".py",
   "mimetype": "text/x-python",
   "name": "python",
   "nbconvert_exporter": "python",
   "pygments_lexer": "ipython3",
   "version": "3.9.12"
  }
 },
 "nbformat": 4,
 "nbformat_minor": 5
}
