{
 "cells": [
  {
   "cell_type": "markdown",
   "id": "1c268ab2",
   "metadata": {},
   "source": [
    ">>><h1><font color=\"MediumVioletRed\">OOPS(Object Orianted Programming System)</font></h1>"
   ]
  },
  {
   "cell_type": "markdown",
   "id": "a28c6437",
   "metadata": {},
   "source": [
    "The languages like C, Pascal, Fortran etc., are called Procedure Oriented Programming languages since in these languages, a programmer uses procedures or functions to perform a task. While developing software, the main task is divided into several sub tasks and each sub task is represented as a procedure or function. The main task is thus composed of several procedures and functions. This approach is called Procedure oriented approach.\n",
    "![](oops1.png)                                                                                                                  \n",
    "On the other hand, languages like C++, Java and Python use classes and objects in their programs and are called Object Oriented Programming languages. A class is a module which itself contains data and methods (functions) to achieve the task. The main task is divided into several sub tasks, and these are represented as classes. Each class can perform several inter-related tasks for which several methods are written in a class. This approach is called Object Oriented approach.\n",
    "![](oops2.png)\n",
    "\n",
    "\n",
    "><h2><font color=\"DarkMagenta\">Specialty of Python Language</font></h2>\n",
    "\n",
    "In OOPS, all programs involve creation of classes and objects. This makes programs lengthy. For example, we have to write all the statements of the program inside a class and then create objects to the class. Then use the features of the class through objects. This type of programming requires much code to perform a simple task like adding two numbers. Also, the program execution takes more time. So, for simple tasks, it is still better to go for procedure oriented approach which offers less code and more speed. For example, a C program executes faster than its equivalent program written in Python or Java!\n",
    "\n",
    "Even though, Python is an object oriented programming language like Java, it does not force the programmers to write programs in complete object oriented way. Unlike Java, Python has a blend of both the object oriented and procedure oriented features. Hence, Python programmers can write programs using procedure oriented approach (like C) or object oriented approach (like Java) depending on their requirements. This is definitely an advantage for Python programmers!\n",
    "\n",
    "><h2><font color=\"DarkMagenta\">Features of Object Oriented Programming System (OOPS)</font></h2>\n",
    "\n",
    "There are five important features related to Object Oriented Programming System. They are:\n",
    "\n",
    "1. Classes and objects\n",
    "2. Encapsulation\n",
    "3. Abstraction\n",
    "4. Inheritance\n",
    "5. Polymorphism\n",
    "\n",
    "\n",
    "><h2><font color=\"DarkMagenta\">Classes and Objects</font></h2>\n",
    "\n",
    "The entire OOPS methodology has been derived from a single root concept called objeer An object is anything that really exists in the world and can be distinguished from others This definition specifies that everything in this world is an object. For example, a table, a ball, a car, a dog, a person, etc. will come under objects. Then what is not an object? If something does not really exist, then it is not an object. For example, our thoughts, imagination, plans, ideas etc. are not objects, because they do not physically exist.\n",
    "\n",
    "Every object has some behavior. The behavior of an object is represented by attributes and actions. For example, let's take a person whose name is 'Raju' Raju is an object because he exists physically. He has attributes like name, age, sex, etc. These attributes can be represented by variables in our programming. For example, 'name' is a string type variable, 'age' is an integer type variable.\n",
    "\n",
    "Similarly, Raju can perform some actions like talking, walking, eating and sleeping. We may not write code for such actions in programming. But, we can consider calculations and processing of data as actions. These actions are performed by methods. We should understand that a function written inside a class is called a method. So an object contains variables and methods.\n",
    "\n",
    "It is possible that some objects may have similar behavior. Such objects belong to same category called a class. For example, not only Raju, but all the other persons have various common attributes and actions. So they are all objects of same class, Person Now observe that the 'Person' will not exist physically but only Raju, Ravi, Sita, etc. exist physically. This means, a class is a group name and does not exist physically, but objects exist physically.\n",
    "![](oops3.png)\n",
    "\n"
   ]
  },
  {
   "cell_type": "markdown",
   "id": "56d98d1a",
   "metadata": {},
   "source": [
    "><h2><font color=\"DarkMagenta\">1. Creating Classes and Objects in Python</font></h2>\n"
   ]
  },
  {
   "cell_type": "markdown",
   "id": "e9db22c2",
   "metadata": {},
   "source": [
    "Let's create a class with the name Person for which Raju is objects. A class is created by using the keyword, class. A class describes the attributes and actions performed by its objects. So, we write the attributes (variables) and actions (methods or functions) in the class as:"
   ]
  },
  {
   "cell_type": "code",
   "execution_count": 2,
   "id": "5f8489c5",
   "metadata": {},
   "outputs": [
    {
     "name": "stdout",
     "output_type": "stream",
     "text": [
      "Raju\n",
      "22\n"
     ]
    }
   ],
   "source": [
    "# Creating a class\n",
    "class Person:\n",
    "    # attributes means variables\n",
    "    name=\"Raju\"                      # Class or static variable\n",
    "    age=20                           # Class or static variable \n",
    "    \n",
    "    # actions means methods/function\n",
    "    def talk(cls):                   # Class or static method\n",
    "        print(Person.name)           # accessing the class variables \"name\"\n",
    "        print(Person.age)            # accessing the class variables \"age\"\n",
    "          \n",
    "p=Person()                           # Creating the object\n",
    "p.talk()                             # calling the class/ static method"
   ]
  },
  {
   "cell_type": "code",
   "execution_count": 1,
   "id": "eebee280",
   "metadata": {},
   "outputs": [
    {
     "name": "stdout",
     "output_type": "stream",
     "text": [
      "Raju\n",
      "22\n"
     ]
    }
   ],
   "source": [
    "# Creating a class\n",
    "class Person:\n",
    "    # attributes means variables\n",
    "    name=\"Raju\"                      # Class or static variable\n",
    "    age=22                           # Class or static variable \n",
    "    \n",
    "    # actions means methods/function\n",
    "    def talk(self):                  # instance method\n",
    "        print(Person.name)           # accessing the class variables \"name\"\n",
    "        print(Person.age)            # accessing the class variables \"age\"\n",
    "          \n",
    "    \n",
    "p=Person()                           # Creating the object for \"Person\" class\n",
    "p.talk()                             # calling the instance method"
   ]
  },
  {
   "cell_type": "markdown",
   "id": "66166779",
   "metadata": {},
   "source": [
    "\n",
    "><h1><font color=\"DarkMagenta\">2. Encapsulation</font></h1>\n",
    "\n",
    "Encapsulation is a mechanism where the data (variables) and the code (methods) that act on the data will bind together. For example, if we take a class, we write the variables and methods inside the class. Thus, class is binding them together. So class is an example for encapsulation.\n",
    "\n",
    "The variables and methods of a class are called 'members' of the class. All the members of a class are by default available outside the class. That means they are public by default. Public means available to other programs and classes. Python follows Uniform Access that says that in OOPS, all the members of the class whether they are variables or methods should be accessible in a uniform manner. So, Python variables and methods are available outside alike. That means both are public by default. Usually, in C++ and Java languages, the variables are kept private, that means they are not available outside the class and the methods are kept public meaning that they are available to other programs. But in Python, both the variables and methods are public by default.\n",
    "\n",
    "Encapsulation isolates the members of a class from the members of another class. The reason is when objects are created, each object shares different memory and hence there will not be any overwriting of data. This gives an advantage to the programmer to use same names for the members of two different classes. For example, a programmer can declare and use the variables like id', 'name', and 'address' in different classes like Employee, Customer, or Student classes.\n",
    "\n",
    "<h1><font color=\"DarkMagenta\">Encapslation in Python</font></h1>\n",
    "\n",
    "Encapsulation is nothing but writing attributes (variables) and methods inside a class. The methods process the data available in the variables. Hence data and code are bundled up together in the class. For example, we can write a Student class with 'id' and 'name' as attributes along with the display() method that displays this data. This Student class becomes an example for encapsulation."
   ]
  },
  {
   "cell_type": "code",
   "execution_count": 1,
   "id": "801e6b96",
   "metadata": {},
   "outputs": [
    {
     "name": "stdout",
     "output_type": "stream",
     "text": [
      "Student id is :  10\n",
      "Student name is :  Raju\n"
     ]
    }
   ],
   "source": [
    "# Class is an example encapslation\n",
    "class Student:\n",
    "    x=1729\n",
    "    # Declaring and initializing the variables\n",
    "    def __init__(self):                         # Constructor/ special method\n",
    "        self.id=10\n",
    "        self.name=\"Raju\"\n",
    "        \n",
    "    # Method to display the student details\n",
    "    def display(self):                            # instance method\n",
    "        print(\"Student id is : \",self.id)\n",
    "        print(\"Student name is : \",self.name)\n",
    "        \n",
    "\n",
    "s=Student()   # Creating the object to the \"Student\" class\n",
    "s.display()\n"
   ]
  },
  {
   "cell_type": "markdown",
   "id": "0bdf1236",
   "metadata": {},
   "source": [
    "Observe the first method: def _init_(self). This is called a special function since its name is starting and ending with two underscores. If a variable or method name starts and ends with two underscores, they are built-in variables or methods which are defined for a specific purpose. The programmer should not create any variable or method like them. It means we should not create variables or methods with two underscores before and after their names.\n",
    "\n",
    "The purpose of the special method def init(self) is to declare and initialize the instance variables of a class. Instance variables are the variables whose copy is available in the object (or instance). The first parameter for this method is 'self' that represents the object (or instance) of the present class. So, self.id refers to the variable in the object. In the Student class, we have written another method by the name display) that displays the instance variables."
   ]
  },
  {
   "cell_type": "code",
   "execution_count": 6,
   "id": "41aee263",
   "metadata": {},
   "outputs": [
    {
     "name": "stdout",
     "output_type": "stream",
     "text": [
      "Student id is :  10\n",
      "Student name is :  Raju\n",
      "Student id is :  20\n",
      "Student name is :  Raju\n",
      "Student id is :  10\n",
      "Student name is :  Raju\n",
      "Student id is :  30\n",
      "Student name is :  Raju\n",
      "10\n",
      "20\n",
      "30\n"
     ]
    }
   ],
   "source": [
    "s1=Student()   # Creating another object to the \"Student\" class\n",
    "s1.display()\n",
    "\n",
    "s1.id=20       # Changing the value of the instance variable\n",
    "s1.display()\n",
    "\n",
    "s2=Student()   # Creating another object to the \"Student\" class\n",
    "s2.display()\n",
    "\n",
    "s2.id=30       # Changing the value of the instance variable\n",
    "s2.display()\n",
    "\n",
    "print(s.id)\n",
    "print(s1.id)\n",
    "print(s2.id)"
   ]
  },
  {
   "cell_type": "markdown",
   "id": "4179e66e",
   "metadata": {},
   "source": [
    "><h2><font color=\"DarkMagenta\">3.Abstaction</font></h2>\n",
    "\n",
    "There may be a lot of data, a class contains and the user does not need the entire data. The user requires only some part of the available data. In this case, we can hide the unnecessary data from the user and expose only that data that is of interest to the user. This is called abstraction.\n",
    "\n",
    "A good example for abstraction is a car. Any car will have some parts like engine, radiator, battery, mechanical and electrical equipment etc. The user of the car (driver) should know how to drive the car and does not require any knowledge of these parts. For example driver is never bothered about how the engine is designed and the internal parts of the engine. This is why the car manufacturers hide these parts from the driver in a separate panel, generally at the front of the car.\n",
    "\n",
    "\n",
    "<h1><font color=\"DarkMagenta\">Abstraction in Python</font></h1>\n",
    "\n",
    "Everything, written in the class will come under public. That means everything written in the class is available outside the class to other people. Suppose, we do not want to make a variable available outside the class or to other members inside the class, we can write the variable with two double scores before it as: var. This is like a private variable in Python. In the following example, y' is a private variable since it is written  as : __y"
   ]
  },
  {
   "cell_type": "code",
   "execution_count": 9,
   "id": "9f26234a",
   "metadata": {},
   "outputs": [
    {
     "name": "stdout",
     "output_type": "stream",
     "text": [
      "1\n"
     ]
    },
    {
     "ename": "AttributeError",
     "evalue": "'Myclass' object has no attribute '__y'",
     "output_type": "error",
     "traceback": [
      "\u001b[1;31m---------------------------------------------------------------------------\u001b[0m",
      "\u001b[1;31mAttributeError\u001b[0m                            Traceback (most recent call last)",
      "\u001b[1;32mC:\\Users\\SHAILA~1\\AppData\\Local\\Temp/ipykernel_4224/1113000792.py\u001b[0m in \u001b[0;36m<module>\u001b[1;34m\u001b[0m\n\u001b[0;32m      6\u001b[0m \u001b[0mm\u001b[0m\u001b[1;33m=\u001b[0m\u001b[0mMyclass\u001b[0m\u001b[1;33m(\u001b[0m\u001b[1;33m)\u001b[0m\u001b[1;33m\u001b[0m\u001b[1;33m\u001b[0m\u001b[0m\n\u001b[0;32m      7\u001b[0m \u001b[0mprint\u001b[0m\u001b[1;33m(\u001b[0m\u001b[0mm\u001b[0m\u001b[1;33m.\u001b[0m\u001b[0mx\u001b[0m\u001b[1;33m)\u001b[0m\u001b[1;33m\u001b[0m\u001b[1;33m\u001b[0m\u001b[0m\n\u001b[1;32m----> 8\u001b[1;33m \u001b[0mprint\u001b[0m\u001b[1;33m(\u001b[0m\u001b[0mm\u001b[0m\u001b[1;33m.\u001b[0m\u001b[0m__y\u001b[0m\u001b[1;33m)\u001b[0m \u001b[1;31m# give error\u001b[0m\u001b[1;33m\u001b[0m\u001b[1;33m\u001b[0m\u001b[0m\n\u001b[0m",
      "\u001b[1;31mAttributeError\u001b[0m: 'Myclass' object has no attribute '__y'"
     ]
    }
   ],
   "source": [
    "class Myclass:\n",
    "    def __init__(self):      # Constructor\n",
    "        self.x=1            # instance variable, it is public variable\n",
    "        self.__y=10         # it is a private variable\n",
    "        \n",
    "m=Myclass()\n",
    "print(m.x)\n",
    "print(m.__y) # give error"
   ]
  },
  {
   "cell_type": "code",
   "execution_count": 10,
   "id": "9670d21a",
   "metadata": {},
   "outputs": [
    {
     "name": "stdout",
     "output_type": "stream",
     "text": [
      "10\n"
     ]
    }
   ],
   "source": [
    "# we have to use name namgling to access the private variable.\n",
    "print(m._Myclass__y)  # displaying the value of the private variable\n"
   ]
  },
  {
   "cell_type": "code",
   "execution_count": 19,
   "id": "9c7e4c8e",
   "metadata": {},
   "outputs": [
    {
     "name": "stdout",
     "output_type": "stream",
     "text": [
      "Displaying the public and private variables inside the method\n",
      "10\n",
      "20\n",
      "Displaying the public and private variables with instance/object\n",
      "10\n",
      "20\n"
     ]
    }
   ],
   "source": [
    "# Understanding the Public and private variable\n",
    "\n",
    "class Myclass:\n",
    "    def __init__(self):  # Constructor\n",
    "        self.x=10        # public variable\n",
    "        self.__y=20      # private variable\n",
    "        \n",
    "    # displayting the variables\n",
    "    def display(self):\n",
    "        print(\"Displaying the public and private variables inside the method\")\n",
    "        print(self.x)    # displaying the public variable inside the method\n",
    "        print(self._Myclass__y)   # displaying the private variable inside the method\n",
    "        \n",
    "m=Myclass()\n",
    "m.display()\n",
    "print(\"Displaying the public and private variables with instance/object\")\n",
    "print(m.x)\n",
    "print(m._Myclass__y)"
   ]
  },
  {
   "cell_type": "markdown",
   "id": "9bdc5476",
   "metadata": {},
   "source": [
    "><h1><font color=\"DarkMagenta\">4. Inheritance</font></h1>\n",
    "\n",
    "Creating new classes from existing classes, so that the new classes will acquire all the features of the existing classes is called Inheritance. A good example for Inheritance in nature is parents producing the children and children inheriting the qualities of the parents. Let's take a class A with some members i.e., variables and methods. If we feel another class B wants almost same members, then we can derive or create class B from A as:\n",
    "\n",
    "#### class B(A):\n",
    "\n",
    "Now, all the features of A are available to B. If an object to B is created, it contains all the members of class A and also its own members. Thus, the programmer can access and use all the members of both the classes A and B. Thus, class B becomes more useful. This is called inheritance. The original class (A) is called the base class or super class and the derived class (B) is called the sub class or derived class.\n",
    "\n",
    "There are three advantages of inheritance. First, we can create more useful classes needed by the application (software). Next, the process of creating the new classes is very easy, since they are built upon already existing classes. The last, but very important advantage is managing the code becomes easy, since the programmer creates several classes in a hierarchical manner, and segregates the code into several modules."
   ]
  },
  {
   "cell_type": "markdown",
   "id": "9fea623e",
   "metadata": {},
   "source": [
    "\n",
    "\n",
    "><h2><font color=\"DarkMagenta\">5. Polymorphism</font></h2>\n",
    "\n",
    "The word Polymorphism' came from two Greek words 'poly' meaning many and 'morphos' meaning 'forms. Thus, polymorphism represents the ability to assume several different forms. In programming, if an object or method is exhibiting different behavior in different contexts, it is called polymorphic nature.\n",
    "\n",
    "Polymorphism provides flexibility in writing programs in such a way that the programmer uses same method call to perform different operations depending on the requirement."
   ]
  },
  {
   "cell_type": "code",
   "execution_count": 20,
   "id": "96877b43",
   "metadata": {},
   "outputs": [
    {
     "name": "stdout",
     "output_type": "stream",
     "text": [
      "30\n",
      "Hello World\n"
     ]
    }
   ],
   "source": [
    "class A:\n",
    "    def add(x,y):\n",
    "        print(x+y)\n",
    "        \n",
    "    # adding the 2 integers\n",
    "    add(10,20)\n",
    "    \n",
    "    # adding 2 strings\n",
    "    add(\"Hello \",\"World\")"
   ]
  },
  {
   "cell_type": "markdown",
   "id": "564998d9",
   "metadata": {},
   "source": [
    "\n",
    "\n",
    "><h1><font color=\"MediumVioletRed\">Points to Remember</font></h1>\n",
    "\n",
    "1. Procedure oriented approach is the methodology where programming is done using procedures and functions. This is followed by languages like C, Pascal and FORTRAN\n",
    "\n",
    "2. Object oriented approach is the methodology where programming is done using classes and objects. This is followed in the languages like C++, Java and Python. \n",
    "\n",
    "3. Python programmers can write programs using procedure oriented approach (like C) or object oriented approach (like Java) depending on their requirements.\n",
    "\n",
    "4. An object is anything that really exists in the world and can be distinguished from others.\n",
    "\n",
    "5. Every object has some behavior that is characterized by attributes and actions. Attributes are represented by variables and actions are performed by methods. So an object contains variables and methods.\n",
    "\n",
    "6. A function written inside a class is called method.\n",
    "\n",
    "7. A class is a model or blueprint for creating objects. A class also contains variables and methods.\n",
    "\n",
    "8. Objects are created from a class.\n",
    "\n",
    "9. An object does not exist without a class; however, a class can exist without any object.\n",
    "\n",
    "10. Encapsulation is a mechanism where the data (variables) and the code (methods) that act on the data will bind together.\n",
    "\n",
    "11. Class is an example for encapsulation since it contains data and code. \n",
    "\n",
    "12. Hiding unnecessary data and code from the user is called abstraction.\n",
    "\n",
    "13. To hide variables or methods, we should declare them as private members. This is done by writing two underscores before the names of the variable or method.\n",
    "\n",
    "14. Private members can be accessed using name mangling where the class name is used with single underscore before it and two underscores after it in the form of instancename. Classname_variable or instancename. Classname_method().\n",
    "\n",
    "15. Creating new classes from existing classes, so that new classes will acquire all the features of the existing classes is called Inheritance.\n",
    "\n",
    "16. In inheritance, the already existing class is called base class or super class. The newly created class is called sub class or derived class. \n",
    "\n",
    "17. Polymorphism represents the ability of an or method to assume several different forms.\n",
    "\n",
    "18. The programming languages which follow all the five features of OOPS namely, classes and objects, encapsulation, abstraction, inheritance and polymorphism are called object oriented programming languages. For example, C++, Java and Python will come into this category."
   ]
  },
  {
   "cell_type": "code",
   "execution_count": 1,
   "id": "ae1eb90e",
   "metadata": {},
   "outputs": [],
   "source": [
    "from abc import ABC, abstractmethod\n",
    "\n",
    "\n"
   ]
  },
  {
   "cell_type": "code",
   "execution_count": 2,
   "id": "b9f798f5",
   "metadata": {},
   "outputs": [],
   "source": [
    "class Fan(ABC):\n",
    "    @abstractmethod\n",
    "    def d(self):\n",
    "        pass\n"
   ]
  },
  {
   "cell_type": "code",
   "execution_count": null,
   "id": "441e2b8a",
   "metadata": {},
   "outputs": [],
   "source": []
  }
 ],
 "metadata": {
  "kernelspec": {
   "display_name": "Python 3 (ipykernel)",
   "language": "python",
   "name": "python3"
  },
  "language_info": {
   "codemirror_mode": {
    "name": "ipython",
    "version": 3
   },
   "file_extension": ".py",
   "mimetype": "text/x-python",
   "name": "python",
   "nbconvert_exporter": "python",
   "pygments_lexer": "ipython3",
   "version": "3.11.5"
  },
  "vscode": {
   "interpreter": {
    "hash": "d87298137906627a6291ac900a983458e9e0db22d505aaf999838d1f58a1eb51"
   }
  }
 },
 "nbformat": 4,
 "nbformat_minor": 5
}
