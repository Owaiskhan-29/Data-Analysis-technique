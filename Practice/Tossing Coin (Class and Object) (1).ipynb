{
 "cells": [
  {
   "cell_type": "code",
   "execution_count": 1,
   "id": "6eb8883b",
   "metadata": {},
   "outputs": [
    {
     "name": "stdout",
     "output_type": "stream",
     "text": [
      "present side is : Head\n",
      " Now, i am tossing coin\n",
      " After tossing i got :  Tail\n"
     ]
    }
   ],
   "source": [
    "import random\n",
    "class Coin:\n",
    "    def __init__(self):\n",
    "        self.__side=\"Head\"\n",
    "        \n",
    "    def toss(self):\n",
    "        if random.randint(0,1)==0:\n",
    "            self.__side=\"Head\"\n",
    "        else:\n",
    "            self.__side=\"Tail\"\n",
    "\n",
    "    def get_side(self):\n",
    "        return self.__side\n",
    "\n",
    "c=Coin()\n",
    "print(\"present side is :\",c.get_side())\n",
    "print(\" Now, i am tossing coin\")\n",
    "c.toss()\n",
    "c.__side=\"Head\"\n",
    "print(\" After tossing i got : \",c.get_side())"
   ]
  },
  {
   "cell_type": "code",
   "execution_count": null,
   "id": "843a784b",
   "metadata": {},
   "outputs": [],
   "source": []
  }
 ],
 "metadata": {
  "kernelspec": {
   "display_name": "Python 3 (ipykernel)",
   "language": "python",
   "name": "python3"
  },
  "language_info": {
   "codemirror_mode": {
    "name": "ipython",
    "version": 3
   },
   "file_extension": ".py",
   "mimetype": "text/x-python",
   "name": "python",
   "nbconvert_exporter": "python",
   "pygments_lexer": "ipython3",
   "version": "3.11.5"
  }
 },
 "nbformat": 4,
 "nbformat_minor": 5
}
