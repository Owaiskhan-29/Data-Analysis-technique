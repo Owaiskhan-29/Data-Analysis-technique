{
 "cells": [
  {
   "cell_type": "code",
   "execution_count": null,
   "id": "2d4925c8",
   "metadata": {},
   "outputs": [],
   "source": [
    "class A:\n",
    "    def f(self):\n",
    "        print(\"I am A class\")\n",
    "        \n",
    "class B(A):\n",
    "    def f(self): #Overring the base class method\n",
    "        print(\"I am B class\")\n",
    "        \n",
    "B().f()"
   ]
  }
 ],
 "metadata": {
  "kernelspec": {
   "display_name": "Python 3 (ipykernel)",
   "language": "python",
   "name": "python3"
  },
  "language_info": {
   "codemirror_mode": {
    "name": "ipython",
    "version": 3
   },
   "file_extension": ".py",
   "mimetype": "text/x-python",
   "name": "python",
   "nbconvert_exporter": "python",
   "pygments_lexer": "ipython3",
   "version": "3.11.5"
  }
 },
 "nbformat": 4,
 "nbformat_minor": 5
}
