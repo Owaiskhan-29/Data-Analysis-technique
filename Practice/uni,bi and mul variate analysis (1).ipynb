{
 "cells": [
  {
   "cell_type": "markdown",
   "id": "a29df5a3",
   "metadata": {},
   "source": [
    "# uni  : one variable\n",
    "# bi    : two variables\n",
    "# mul : multiple variables"
   ]
  },
  {
   "cell_type": "code",
   "execution_count": 2,
   "id": "2352b11d",
   "metadata": {},
   "outputs": [],
   "source": [
    "import pandas as pd"
   ]
  },
  {
   "cell_type": "code",
   "execution_count": 3,
   "id": "0e816f3b",
   "metadata": {},
   "outputs": [],
   "source": [
    "import matplotlib.pyplot as plt"
   ]
  },
  {
   "cell_type": "code",
   "execution_count": 4,
   "id": "3e4ed56f",
   "metadata": {},
   "outputs": [],
   "source": [
    "import seaborn as sns"
   ]
  },
  {
   "cell_type": "code",
   "execution_count": 5,
   "id": "33fe7679",
   "metadata": {},
   "outputs": [],
   "source": [
    "df=sns.load_dataset(\"tips\")"
   ]
  },
  {
   "cell_type": "code",
   "execution_count": 6,
   "id": "dfa4801a",
   "metadata": {},
   "outputs": [
    {
     "data": {
      "text/html": [
       "<div>\n",
       "<style scoped>\n",
       "    .dataframe tbody tr th:only-of-type {\n",
       "        vertical-align: middle;\n",
       "    }\n",
       "\n",
       "    .dataframe tbody tr th {\n",
       "        vertical-align: top;\n",
       "    }\n",
       "\n",
       "    .dataframe thead th {\n",
       "        text-align: right;\n",
       "    }\n",
       "</style>\n",
       "<table border=\"1\" class=\"dataframe\">\n",
       "  <thead>\n",
       "    <tr style=\"text-align: right;\">\n",
       "      <th></th>\n",
       "      <th>total_bill</th>\n",
       "      <th>tip</th>\n",
       "      <th>sex</th>\n",
       "      <th>smoker</th>\n",
       "      <th>day</th>\n",
       "      <th>time</th>\n",
       "      <th>size</th>\n",
       "    </tr>\n",
       "  </thead>\n",
       "  <tbody>\n",
       "    <tr>\n",
       "      <th>0</th>\n",
       "      <td>16.99</td>\n",
       "      <td>1.01</td>\n",
       "      <td>Female</td>\n",
       "      <td>No</td>\n",
       "      <td>Sun</td>\n",
       "      <td>Dinner</td>\n",
       "      <td>2</td>\n",
       "    </tr>\n",
       "    <tr>\n",
       "      <th>1</th>\n",
       "      <td>10.34</td>\n",
       "      <td>1.66</td>\n",
       "      <td>Male</td>\n",
       "      <td>No</td>\n",
       "      <td>Sun</td>\n",
       "      <td>Dinner</td>\n",
       "      <td>3</td>\n",
       "    </tr>\n",
       "    <tr>\n",
       "      <th>2</th>\n",
       "      <td>21.01</td>\n",
       "      <td>3.50</td>\n",
       "      <td>Male</td>\n",
       "      <td>No</td>\n",
       "      <td>Sun</td>\n",
       "      <td>Dinner</td>\n",
       "      <td>3</td>\n",
       "    </tr>\n",
       "    <tr>\n",
       "      <th>3</th>\n",
       "      <td>23.68</td>\n",
       "      <td>3.31</td>\n",
       "      <td>Male</td>\n",
       "      <td>No</td>\n",
       "      <td>Sun</td>\n",
       "      <td>Dinner</td>\n",
       "      <td>2</td>\n",
       "    </tr>\n",
       "    <tr>\n",
       "      <th>4</th>\n",
       "      <td>24.59</td>\n",
       "      <td>3.61</td>\n",
       "      <td>Female</td>\n",
       "      <td>No</td>\n",
       "      <td>Sun</td>\n",
       "      <td>Dinner</td>\n",
       "      <td>4</td>\n",
       "    </tr>\n",
       "    <tr>\n",
       "      <th>...</th>\n",
       "      <td>...</td>\n",
       "      <td>...</td>\n",
       "      <td>...</td>\n",
       "      <td>...</td>\n",
       "      <td>...</td>\n",
       "      <td>...</td>\n",
       "      <td>...</td>\n",
       "    </tr>\n",
       "    <tr>\n",
       "      <th>239</th>\n",
       "      <td>29.03</td>\n",
       "      <td>5.92</td>\n",
       "      <td>Male</td>\n",
       "      <td>No</td>\n",
       "      <td>Sat</td>\n",
       "      <td>Dinner</td>\n",
       "      <td>3</td>\n",
       "    </tr>\n",
       "    <tr>\n",
       "      <th>240</th>\n",
       "      <td>27.18</td>\n",
       "      <td>2.00</td>\n",
       "      <td>Female</td>\n",
       "      <td>Yes</td>\n",
       "      <td>Sat</td>\n",
       "      <td>Dinner</td>\n",
       "      <td>2</td>\n",
       "    </tr>\n",
       "    <tr>\n",
       "      <th>241</th>\n",
       "      <td>22.67</td>\n",
       "      <td>2.00</td>\n",
       "      <td>Male</td>\n",
       "      <td>Yes</td>\n",
       "      <td>Sat</td>\n",
       "      <td>Dinner</td>\n",
       "      <td>2</td>\n",
       "    </tr>\n",
       "    <tr>\n",
       "      <th>242</th>\n",
       "      <td>17.82</td>\n",
       "      <td>1.75</td>\n",
       "      <td>Male</td>\n",
       "      <td>No</td>\n",
       "      <td>Sat</td>\n",
       "      <td>Dinner</td>\n",
       "      <td>2</td>\n",
       "    </tr>\n",
       "    <tr>\n",
       "      <th>243</th>\n",
       "      <td>18.78</td>\n",
       "      <td>3.00</td>\n",
       "      <td>Female</td>\n",
       "      <td>No</td>\n",
       "      <td>Thur</td>\n",
       "      <td>Dinner</td>\n",
       "      <td>2</td>\n",
       "    </tr>\n",
       "  </tbody>\n",
       "</table>\n",
       "<p>244 rows × 7 columns</p>\n",
       "</div>"
      ],
      "text/plain": [
       "     total_bill   tip     sex smoker   day    time  size\n",
       "0         16.99  1.01  Female     No   Sun  Dinner     2\n",
       "1         10.34  1.66    Male     No   Sun  Dinner     3\n",
       "2         21.01  3.50    Male     No   Sun  Dinner     3\n",
       "3         23.68  3.31    Male     No   Sun  Dinner     2\n",
       "4         24.59  3.61  Female     No   Sun  Dinner     4\n",
       "..          ...   ...     ...    ...   ...     ...   ...\n",
       "239       29.03  5.92    Male     No   Sat  Dinner     3\n",
       "240       27.18  2.00  Female    Yes   Sat  Dinner     2\n",
       "241       22.67  2.00    Male    Yes   Sat  Dinner     2\n",
       "242       17.82  1.75    Male     No   Sat  Dinner     2\n",
       "243       18.78  3.00  Female     No  Thur  Dinner     2\n",
       "\n",
       "[244 rows x 7 columns]"
      ]
     },
     "execution_count": 6,
     "metadata": {},
     "output_type": "execute_result"
    }
   ],
   "source": [
    "df"
   ]
  },
  {
   "cell_type": "markdown",
   "id": "430dcbba",
   "metadata": {},
   "source": [
    "# heatmap()"
   ]
  },
  {
   "cell_type": "markdown",
   "id": "e79badba",
   "metadata": {},
   "source": [
    "correlation range : 0 t0 1\n",
    "0.7 t0 1.0 : more corr\n",
    "0.1 to 0.3 : very less corr\n",
    "0.3 to 0.6 : partial corr\n"
   ]
  },
  {
   "cell_type": "code",
   "execution_count": 7,
   "id": "b564cfb5",
   "metadata": {
    "scrolled": true
   },
   "outputs": [
    {
     "name": "stderr",
     "output_type": "stream",
     "text": [
      "C:\\Users\\owais\\AppData\\Local\\Temp\\ipykernel_9852\\1134722465.py:1: FutureWarning: The default value of numeric_only in DataFrame.corr is deprecated. In a future version, it will default to False. Select only valid columns or specify the value of numeric_only to silence this warning.\n",
      "  df.corr()\n"
     ]
    },
    {
     "data": {
      "text/html": [
       "<div>\n",
       "<style scoped>\n",
       "    .dataframe tbody tr th:only-of-type {\n",
       "        vertical-align: middle;\n",
       "    }\n",
       "\n",
       "    .dataframe tbody tr th {\n",
       "        vertical-align: top;\n",
       "    }\n",
       "\n",
       "    .dataframe thead th {\n",
       "        text-align: right;\n",
       "    }\n",
       "</style>\n",
       "<table border=\"1\" class=\"dataframe\">\n",
       "  <thead>\n",
       "    <tr style=\"text-align: right;\">\n",
       "      <th></th>\n",
       "      <th>total_bill</th>\n",
       "      <th>tip</th>\n",
       "      <th>size</th>\n",
       "    </tr>\n",
       "  </thead>\n",
       "  <tbody>\n",
       "    <tr>\n",
       "      <th>total_bill</th>\n",
       "      <td>1.000000</td>\n",
       "      <td>0.675734</td>\n",
       "      <td>0.598315</td>\n",
       "    </tr>\n",
       "    <tr>\n",
       "      <th>tip</th>\n",
       "      <td>0.675734</td>\n",
       "      <td>1.000000</td>\n",
       "      <td>0.489299</td>\n",
       "    </tr>\n",
       "    <tr>\n",
       "      <th>size</th>\n",
       "      <td>0.598315</td>\n",
       "      <td>0.489299</td>\n",
       "      <td>1.000000</td>\n",
       "    </tr>\n",
       "  </tbody>\n",
       "</table>\n",
       "</div>"
      ],
      "text/plain": [
       "            total_bill       tip      size\n",
       "total_bill    1.000000  0.675734  0.598315\n",
       "tip           0.675734  1.000000  0.489299\n",
       "size          0.598315  0.489299  1.000000"
      ]
     },
     "execution_count": 7,
     "metadata": {},
     "output_type": "execute_result"
    }
   ],
   "source": [
    "df.corr()"
   ]
  },
  {
   "cell_type": "code",
   "execution_count": 8,
   "id": "a295c618",
   "metadata": {
    "scrolled": false
   },
   "outputs": [
    {
     "name": "stderr",
     "output_type": "stream",
     "text": [
      "C:\\Users\\owais\\AppData\\Local\\Temp\\ipykernel_9852\\58359773.py:1: FutureWarning: The default value of numeric_only in DataFrame.corr is deprecated. In a future version, it will default to False. Select only valid columns or specify the value of numeric_only to silence this warning.\n",
      "  sns.heatmap(df.corr())\n"
     ]
    },
    {
     "data": {
      "text/plain": [
       "<AxesSubplot: >"
      ]
     },
     "execution_count": 8,
     "metadata": {},
     "output_type": "execute_result"
    },
    {
     "data": {
      "image/png": "[encoded data removed]",
      "text/plain": [
       "<Figure size 432x288 with 2 Axes>"
      ]
     },
     "metadata": {
      "needs_background": "light"
     },
     "output_type": "display_data"
    }
   ],
   "source": [
    "sns.heatmap(df.corr())"
   ]
  },
  {
   "cell_type": "code",
   "execution_count": 9,
   "id": "90b2d724",
   "metadata": {},
   "outputs": [
    {
     "name": "stderr",
     "output_type": "stream",
     "text": [
      "C:\\Users\\owais\\AppData\\Local\\Temp\\ipykernel_9852\\2974791385.py:1: FutureWarning: The default value of numeric_only in DataFrame.corr is deprecated. In a future version, it will default to False. Select only valid columns or specify the value of numeric_only to silence this warning.\n",
      "  sns.heatmap(df.corr(),annot=True,cmap=\"tab20\")\n"
     ]
    },
    {
     "data": {
      "text/plain": [
       "<AxesSubplot: >"
      ]
     },
     "execution_count": 9,
     "metadata": {},
     "output_type": "execute_result"
    },
    {
     "data": {
      "image/png": "[encoded data removed]",
      "text/plain": [
       "<Figure size 432x288 with 2 Axes>"
      ]
     },
     "metadata": {
      "needs_background": "light"
     },
     "output_type": "display_data"
    }
   ],
   "source": [
    "sns.heatmap(df.corr(),annot=True,cmap=\"tab20\")"
   ]
  },
  {
   "cell_type": "code",
   "execution_count": 10,
   "id": "51689fe6",
   "metadata": {},
   "outputs": [
    {
     "data": {
      "text/plain": [
       "<AxesSubplot: >"
      ]
     },
     "execution_count": 10,
     "metadata": {},
     "output_type": "execute_result"
    },
    {
     "data": {
      "image/png": "[encoded data removed]",
      "text/plain": [
       "<Figure size 432x288 with 2 Axes>"
      ]
     },
     "metadata": {
      "needs_background": "light"
     },
     "output_type": "display_data"
    }
   ],
   "source": [
    "sns.heatmap(df[[\"total_bill\",\"tip\"]].corr(),annot=True,cmap=\"tab20\")"
   ]
  },
  {
   "cell_type": "markdown",
   "id": "c976f164",
   "metadata": {},
   "source": [
    "# jointplot()"
   ]
  },
  {
   "cell_type": "code",
   "execution_count": 11,
   "id": "143f0bd0",
   "metadata": {},
   "outputs": [
    {
     "data": {
      "text/plain": [
       "Index(['total_bill', 'tip', 'sex', 'smoker', 'day', 'time', 'size'], dtype='object')"
      ]
     },
     "execution_count": 11,
     "metadata": {},
     "output_type": "execute_result"
    }
   ],
   "source": [
    "df.columns"
   ]
  },
  {
   "cell_type": "code",
   "execution_count": 12,
   "id": "029b89b1",
   "metadata": {},
   "outputs": [
    {
     "data": {
      "text/plain": [
       "<seaborn.axisgrid.JointGrid at 0x2df5c93b6a0>"
      ]
     },
     "execution_count": 12,
     "metadata": {},
     "output_type": "execute_result"
    },
    {
     "data": {
      "image/png": "[encoded data removed]",
      "text/plain": [
       "<Figure size 432x432 with 3 Axes>"
      ]
     },
     "metadata": {
      "needs_background": "light"
     },
     "output_type": "display_data"
    }
   ],
   "source": [
    "sns.jointplot(data=df,x=\"total_bill\",y=\"tip\")"
   ]
  },
  {
   "cell_type": "code",
   "execution_count": 13,
   "id": "4d0782a3",
   "metadata": {
    "scrolled": true
   },
   "outputs": [
    {
     "data": {
      "text/plain": [
       "<seaborn.axisgrid.JointGrid at 0x2df5cafa050>"
      ]
     },
     "execution_count": 13,
     "metadata": {},
     "output_type": "execute_result"
    },
    {
     "data": {
      "image/png": "[encoded data removed]",
      "text/plain": [
       "<Figure size 432x432 with 3 Axes>"
      ]
     },
     "metadata": {
      "needs_background": "light"
     },
     "output_type": "display_data"
    }
   ],
   "source": [
    "sns.jointplot(data=df,x=\"total_bill\",y=\"tip\",kind=\"hex\")"
   ]
  },
  {
   "cell_type": "markdown",
   "id": "e2f8ed01",
   "metadata": {},
   "source": [
    "# hexbin()"
   ]
  },
  {
   "cell_type": "code",
   "execution_count": 14,
   "id": "ec492ef8",
   "metadata": {},
   "outputs": [
    {
     "data": {
      "text/plain": [
       "<AxesSubplot: xlabel='total_bill', ylabel='tip'>"
      ]
     },
     "execution_count": 14,
     "metadata": {},
     "output_type": "execute_result"
    },
    {
     "data": {
      "image/png": "[encoded data removed]",
      "text/plain": [
       "<Figure size 432x288 with 2 Axes>"
      ]
     },
     "metadata": {
      "needs_background": "light"
     },
     "output_type": "display_data"
    }
   ],
   "source": [
    "df.plot.hexbin(x=\"total_bill\",y=\"tip\",gridsize=10,color=\"teal\")"
   ]
  },
  {
   "cell_type": "code",
   "execution_count": 15,
   "id": "9eac322c",
   "metadata": {
    "scrolled": false
   },
   "outputs": [
    {
     "data": {
      "text/plain": [
       "<seaborn.axisgrid.JointGrid at 0x2df5dd5d990>"
      ]
     },
     "execution_count": 15,
     "metadata": {},
     "output_type": "execute_result"
    },
    {
     "data": {
      "image/png": "[encoded data removed]",
      "text/plain": [
       "<Figure size 432x432 with 3 Axes>"
      ]
     },
     "metadata": {
      "needs_background": "light"
     },
     "output_type": "display_data"
    }
   ],
   "source": [
    "sns.jointplot(data=df,x=\"total_bill\",y=\"tip\",hue=\"time\")"
   ]
  },
  {
   "cell_type": "markdown",
   "id": "b92a0d8d",
   "metadata": {},
   "source": [
    "# barplot()"
   ]
  },
  {
   "cell_type": "code",
   "execution_count": 16,
   "id": "91b17937",
   "metadata": {
    "scrolled": true
   },
   "outputs": [
    {
     "data": {
      "text/plain": [
       "<AxesSubplot: xlabel='time', ylabel='tip'>"
      ]
     },
     "execution_count": 16,
     "metadata": {},
     "output_type": "execute_result"
    },
    {
     "data": {
      "image/png": "[encoded data removed]",
      "text/plain": [
       "<Figure size 432x288 with 1 Axes>"
      ]
     },
     "metadata": {
      "needs_background": "light"
     },
     "output_type": "display_data"
    }
   ],
   "source": [
    "sns.barplot(data=df,x=\"time\",y=\"tip\")"
   ]
  },
  {
   "cell_type": "code",
   "execution_count": 17,
   "id": "b2954b8c",
   "metadata": {},
   "outputs": [
    {
     "data": {
      "text/plain": [
       "<AxesSubplot: xlabel='time', ylabel='tip'>"
      ]
     },
     "execution_count": 17,
     "metadata": {},
     "output_type": "execute_result"
    },
    {
     "data": {
      "image/png": "[encoded data removed]",
      "text/plain": [
       "<Figure size 432x288 with 1 Axes>"
      ]
     },
     "metadata": {
      "needs_background": "light"
     },
     "output_type": "display_data"
    }
   ],
   "source": [
    "sns.barplot(data=df,x=\"time\",y=\"tip\",hue=\"sex\")"
   ]
  },
  {
   "cell_type": "code",
   "execution_count": 18,
   "id": "94913031",
   "metadata": {},
   "outputs": [
    {
     "ename": "ValueError",
     "evalue": "could not convert string to float: 'Dinner'",
     "output_type": "error",
     "traceback": [
      "\u001b[1;31m---------------------------------------------------------------------------\u001b[0m",
      "\u001b[1;31mValueError\u001b[0m                                Traceback (most recent call last)",
      "Input \u001b[1;32mIn [18]\u001b[0m, in \u001b[0;36m<cell line: 1>\u001b[1;34m()\u001b[0m\n\u001b[1;32m----> 1\u001b[0m \u001b[43msns\u001b[49m\u001b[38;5;241;43m.\u001b[39;49m\u001b[43mcountplot\u001b[49m\u001b[43m(\u001b[49m\u001b[43mdf\u001b[49m\u001b[43m[\u001b[49m\u001b[38;5;124;43m\"\u001b[39;49m\u001b[38;5;124;43mtime\u001b[39;49m\u001b[38;5;124;43m\"\u001b[39;49m\u001b[43m]\u001b[49m\u001b[43m)\u001b[49m\n",
      "File \u001b[1;32m~\\AppData\\Local\\Programs\\Python\\Python310\\lib\\site-packages\\seaborn\\categorical.py:2939\u001b[0m, in \u001b[0;36mcountplot\u001b[1;34m(data, x, y, hue, order, hue_order, orient, color, palette, saturation, width, dodge, ax, **kwargs)\u001b[0m\n\u001b[0;32m   2936\u001b[0m \u001b[38;5;28;01melif\u001b[39;00m x \u001b[38;5;129;01mis\u001b[39;00m \u001b[38;5;129;01mnot\u001b[39;00m \u001b[38;5;28;01mNone\u001b[39;00m \u001b[38;5;129;01mand\u001b[39;00m y \u001b[38;5;129;01mis\u001b[39;00m \u001b[38;5;129;01mnot\u001b[39;00m \u001b[38;5;28;01mNone\u001b[39;00m:\n\u001b[0;32m   2937\u001b[0m     \u001b[38;5;28;01mraise\u001b[39;00m \u001b[38;5;167;01mValueError\u001b[39;00m(\u001b[38;5;124m\"\u001b[39m\u001b[38;5;124mCannot pass values for both `x` and `y`\u001b[39m\u001b[38;5;124m\"\u001b[39m)\n\u001b[1;32m-> 2939\u001b[0m plotter \u001b[38;5;241m=\u001b[39m \u001b[43m_CountPlotter\u001b[49m\u001b[43m(\u001b[49m\n\u001b[0;32m   2940\u001b[0m \u001b[43m    \u001b[49m\u001b[43mx\u001b[49m\u001b[43m,\u001b[49m\u001b[43m \u001b[49m\u001b[43my\u001b[49m\u001b[43m,\u001b[49m\u001b[43m \u001b[49m\u001b[43mhue\u001b[49m\u001b[43m,\u001b[49m\u001b[43m \u001b[49m\u001b[43mdata\u001b[49m\u001b[43m,\u001b[49m\u001b[43m \u001b[49m\u001b[43morder\u001b[49m\u001b[43m,\u001b[49m\u001b[43m \u001b[49m\u001b[43mhue_order\u001b[49m\u001b[43m,\u001b[49m\n\u001b[0;32m   2941\u001b[0m \u001b[43m    \u001b[49m\u001b[43mestimator\u001b[49m\u001b[43m,\u001b[49m\u001b[43m \u001b[49m\u001b[43merrorbar\u001b[49m\u001b[43m,\u001b[49m\u001b[43m \u001b[49m\u001b[43mn_boot\u001b[49m\u001b[43m,\u001b[49m\u001b[43m \u001b[49m\u001b[43munits\u001b[49m\u001b[43m,\u001b[49m\u001b[43m \u001b[49m\u001b[43mseed\u001b[49m\u001b[43m,\u001b[49m\n\u001b[0;32m   2942\u001b[0m \u001b[43m    \u001b[49m\u001b[43morient\u001b[49m\u001b[43m,\u001b[49m\u001b[43m \u001b[49m\u001b[43mcolor\u001b[49m\u001b[43m,\u001b[49m\u001b[43m \u001b[49m\u001b[43mpalette\u001b[49m\u001b[43m,\u001b[49m\u001b[43m \u001b[49m\u001b[43msaturation\u001b[49m\u001b[43m,\u001b[49m\n\u001b[0;32m   2943\u001b[0m \u001b[43m    \u001b[49m\u001b[43mwidth\u001b[49m\u001b[43m,\u001b[49m\u001b[43m \u001b[49m\u001b[43merrcolor\u001b[49m\u001b[43m,\u001b[49m\u001b[43m \u001b[49m\u001b[43merrwidth\u001b[49m\u001b[43m,\u001b[49m\u001b[43m \u001b[49m\u001b[43mcapsize\u001b[49m\u001b[43m,\u001b[49m\u001b[43m \u001b[49m\u001b[43mdodge\u001b[49m\n\u001b[0;32m   2944\u001b[0m \u001b[43m\u001b[49m\u001b[43m)\u001b[49m\n\u001b[0;32m   2946\u001b[0m plotter\u001b[38;5;241m.\u001b[39mvalue_label \u001b[38;5;241m=\u001b[39m \u001b[38;5;124m\"\u001b[39m\u001b[38;5;124mcount\u001b[39m\u001b[38;5;124m\"\u001b[39m\n\u001b[0;32m   2948\u001b[0m \u001b[38;5;28;01mif\u001b[39;00m ax \u001b[38;5;129;01mis\u001b[39;00m \u001b[38;5;28;01mNone\u001b[39;00m:\n",
      "File \u001b[1;32m~\\AppData\\Local\\Programs\\Python\\Python310\\lib\\site-packages\\seaborn\\categorical.py:1530\u001b[0m, in \u001b[0;36m_BarPlotter.__init__\u001b[1;34m(self, x, y, hue, data, order, hue_order, estimator, errorbar, n_boot, units, seed, orient, color, palette, saturation, width, errcolor, errwidth, capsize, dodge)\u001b[0m\n\u001b[0;32m   1525\u001b[0m \u001b[38;5;28;01mdef\u001b[39;00m \u001b[38;5;21m__init__\u001b[39m(\u001b[38;5;28mself\u001b[39m, x, y, hue, data, order, hue_order,\n\u001b[0;32m   1526\u001b[0m              estimator, errorbar, n_boot, units, seed,\n\u001b[0;32m   1527\u001b[0m              orient, color, palette, saturation, width,\n\u001b[0;32m   1528\u001b[0m              errcolor, errwidth, capsize, dodge):\n\u001b[0;32m   1529\u001b[0m     \u001b[38;5;124;03m\"\"\"Initialize the plotter.\"\"\"\u001b[39;00m\n\u001b[1;32m-> 1530\u001b[0m     \u001b[38;5;28;43mself\u001b[39;49m\u001b[38;5;241;43m.\u001b[39;49m\u001b[43mestablish_variables\u001b[49m\u001b[43m(\u001b[49m\u001b[43mx\u001b[49m\u001b[43m,\u001b[49m\u001b[43m \u001b[49m\u001b[43my\u001b[49m\u001b[43m,\u001b[49m\u001b[43m \u001b[49m\u001b[43mhue\u001b[49m\u001b[43m,\u001b[49m\u001b[43m \u001b[49m\u001b[43mdata\u001b[49m\u001b[43m,\u001b[49m\u001b[43m \u001b[49m\u001b[43morient\u001b[49m\u001b[43m,\u001b[49m\n\u001b[0;32m   1531\u001b[0m \u001b[43m                             \u001b[49m\u001b[43morder\u001b[49m\u001b[43m,\u001b[49m\u001b[43m \u001b[49m\u001b[43mhue_order\u001b[49m\u001b[43m,\u001b[49m\u001b[43m \u001b[49m\u001b[43munits\u001b[49m\u001b[43m)\u001b[49m\n\u001b[0;32m   1532\u001b[0m     \u001b[38;5;28mself\u001b[39m\u001b[38;5;241m.\u001b[39mestablish_colors(color, palette, saturation)\n\u001b[0;32m   1533\u001b[0m     \u001b[38;5;28mself\u001b[39m\u001b[38;5;241m.\u001b[39mestimate_statistic(estimator, errorbar, n_boot, seed)\n",
      "File \u001b[1;32m~\\AppData\\Local\\Programs\\Python\\Python310\\lib\\site-packages\\seaborn\\categorical.py:516\u001b[0m, in \u001b[0;36m_CategoricalPlotter.establish_variables\u001b[1;34m(self, x, y, hue, data, orient, order, hue_order, units)\u001b[0m\n\u001b[0;32m    513\u001b[0m     plot_data \u001b[38;5;241m=\u001b[39m data\n\u001b[0;32m    515\u001b[0m \u001b[38;5;66;03m# Convert to a list of arrays, the common representation\u001b[39;00m\n\u001b[1;32m--> 516\u001b[0m plot_data \u001b[38;5;241m=\u001b[39m [np\u001b[38;5;241m.\u001b[39masarray(d, \u001b[38;5;28mfloat\u001b[39m) \u001b[38;5;28;01mfor\u001b[39;00m d \u001b[38;5;129;01min\u001b[39;00m plot_data]\n\u001b[0;32m    518\u001b[0m \u001b[38;5;66;03m# The group names will just be numeric indices\u001b[39;00m\n\u001b[0;32m    519\u001b[0m group_names \u001b[38;5;241m=\u001b[39m \u001b[38;5;28mlist\u001b[39m(\u001b[38;5;28mrange\u001b[39m(\u001b[38;5;28mlen\u001b[39m(plot_data)))\n",
      "File \u001b[1;32m~\\AppData\\Local\\Programs\\Python\\Python310\\lib\\site-packages\\seaborn\\categorical.py:516\u001b[0m, in \u001b[0;36m<listcomp>\u001b[1;34m(.0)\u001b[0m\n\u001b[0;32m    513\u001b[0m     plot_data \u001b[38;5;241m=\u001b[39m data\n\u001b[0;32m    515\u001b[0m \u001b[38;5;66;03m# Convert to a list of arrays, the common representation\u001b[39;00m\n\u001b[1;32m--> 516\u001b[0m plot_data \u001b[38;5;241m=\u001b[39m [\u001b[43mnp\u001b[49m\u001b[38;5;241;43m.\u001b[39;49m\u001b[43masarray\u001b[49m\u001b[43m(\u001b[49m\u001b[43md\u001b[49m\u001b[43m,\u001b[49m\u001b[43m \u001b[49m\u001b[38;5;28;43mfloat\u001b[39;49m\u001b[43m)\u001b[49m \u001b[38;5;28;01mfor\u001b[39;00m d \u001b[38;5;129;01min\u001b[39;00m plot_data]\n\u001b[0;32m    518\u001b[0m \u001b[38;5;66;03m# The group names will just be numeric indices\u001b[39;00m\n\u001b[0;32m    519\u001b[0m group_names \u001b[38;5;241m=\u001b[39m \u001b[38;5;28mlist\u001b[39m(\u001b[38;5;28mrange\u001b[39m(\u001b[38;5;28mlen\u001b[39m(plot_data)))\n",
      "File \u001b[1;32m~\\AppData\\Local\\Programs\\Python\\Python310\\lib\\site-packages\\pandas\\core\\series.py:894\u001b[0m, in \u001b[0;36mSeries.__array__\u001b[1;34m(self, dtype)\u001b[0m\n\u001b[0;32m    847\u001b[0m \u001b[38;5;28;01mdef\u001b[39;00m \u001b[38;5;21m__array__\u001b[39m(\u001b[38;5;28mself\u001b[39m, dtype: npt\u001b[38;5;241m.\u001b[39mDTypeLike \u001b[38;5;241m|\u001b[39m \u001b[38;5;28;01mNone\u001b[39;00m \u001b[38;5;241m=\u001b[39m \u001b[38;5;28;01mNone\u001b[39;00m) \u001b[38;5;241m-\u001b[39m\u001b[38;5;241m>\u001b[39m np\u001b[38;5;241m.\u001b[39mndarray:\n\u001b[0;32m    848\u001b[0m     \u001b[38;5;124;03m\"\"\"\u001b[39;00m\n\u001b[0;32m    849\u001b[0m \u001b[38;5;124;03m    Return the values as a NumPy array.\u001b[39;00m\n\u001b[0;32m    850\u001b[0m \n\u001b[1;32m   (...)\u001b[0m\n\u001b[0;32m    892\u001b[0m \u001b[38;5;124;03m          dtype='datetime64[ns]')\u001b[39;00m\n\u001b[0;32m    893\u001b[0m \u001b[38;5;124;03m    \"\"\"\u001b[39;00m\n\u001b[1;32m--> 894\u001b[0m     \u001b[38;5;28;01mreturn\u001b[39;00m \u001b[43mnp\u001b[49m\u001b[38;5;241;43m.\u001b[39;49m\u001b[43masarray\u001b[49m\u001b[43m(\u001b[49m\u001b[38;5;28;43mself\u001b[39;49m\u001b[38;5;241;43m.\u001b[39;49m\u001b[43m_values\u001b[49m\u001b[43m,\u001b[49m\u001b[43m \u001b[49m\u001b[43mdtype\u001b[49m\u001b[43m)\u001b[49m\n",
      "File \u001b[1;32m~\\AppData\\Local\\Programs\\Python\\Python310\\lib\\site-packages\\pandas\\core\\arrays\\_mixins.py:85\u001b[0m, in \u001b[0;36mravel_compat.<locals>.method\u001b[1;34m(self, *args, **kwargs)\u001b[0m\n\u001b[0;32m     82\u001b[0m \u001b[38;5;129m@wraps\u001b[39m(meth)\n\u001b[0;32m     83\u001b[0m \u001b[38;5;28;01mdef\u001b[39;00m \u001b[38;5;21mmethod\u001b[39m(\u001b[38;5;28mself\u001b[39m, \u001b[38;5;241m*\u001b[39margs, \u001b[38;5;241m*\u001b[39m\u001b[38;5;241m*\u001b[39mkwargs):\n\u001b[0;32m     84\u001b[0m     \u001b[38;5;28;01mif\u001b[39;00m \u001b[38;5;28mself\u001b[39m\u001b[38;5;241m.\u001b[39mndim \u001b[38;5;241m==\u001b[39m \u001b[38;5;241m1\u001b[39m:\n\u001b[1;32m---> 85\u001b[0m         \u001b[38;5;28;01mreturn\u001b[39;00m meth(\u001b[38;5;28mself\u001b[39m, \u001b[38;5;241m*\u001b[39margs, \u001b[38;5;241m*\u001b[39m\u001b[38;5;241m*\u001b[39mkwargs)\n\u001b[0;32m     87\u001b[0m     flags \u001b[38;5;241m=\u001b[39m \u001b[38;5;28mself\u001b[39m\u001b[38;5;241m.\u001b[39m_ndarray\u001b[38;5;241m.\u001b[39mflags\n\u001b[0;32m     88\u001b[0m     flat \u001b[38;5;241m=\u001b[39m \u001b[38;5;28mself\u001b[39m\u001b[38;5;241m.\u001b[39mravel(\u001b[38;5;124m\"\u001b[39m\u001b[38;5;124mK\u001b[39m\u001b[38;5;124m\"\u001b[39m)\n",
      "File \u001b[1;32m~\\AppData\\Local\\Programs\\Python\\Python310\\lib\\site-packages\\pandas\\core\\arrays\\categorical.py:1610\u001b[0m, in \u001b[0;36mCategorical.__array__\u001b[1;34m(self, dtype)\u001b[0m\n\u001b[0;32m   1608\u001b[0m ret \u001b[38;5;241m=\u001b[39m take_nd(\u001b[38;5;28mself\u001b[39m\u001b[38;5;241m.\u001b[39mcategories\u001b[38;5;241m.\u001b[39m_values, \u001b[38;5;28mself\u001b[39m\u001b[38;5;241m.\u001b[39m_codes)\n\u001b[0;32m   1609\u001b[0m \u001b[38;5;28;01mif\u001b[39;00m dtype \u001b[38;5;129;01mand\u001b[39;00m \u001b[38;5;129;01mnot\u001b[39;00m is_dtype_equal(dtype, \u001b[38;5;28mself\u001b[39m\u001b[38;5;241m.\u001b[39mcategories\u001b[38;5;241m.\u001b[39mdtype):\n\u001b[1;32m-> 1610\u001b[0m     \u001b[38;5;28;01mreturn\u001b[39;00m \u001b[43mnp\u001b[49m\u001b[38;5;241;43m.\u001b[39;49m\u001b[43masarray\u001b[49m\u001b[43m(\u001b[49m\u001b[43mret\u001b[49m\u001b[43m,\u001b[49m\u001b[43m \u001b[49m\u001b[43mdtype\u001b[49m\u001b[43m)\u001b[49m\n\u001b[0;32m   1611\u001b[0m \u001b[38;5;66;03m# When we're a Categorical[ExtensionArray], like Interval,\u001b[39;00m\n\u001b[0;32m   1612\u001b[0m \u001b[38;5;66;03m# we need to ensure __array__ gets all the way to an\u001b[39;00m\n\u001b[0;32m   1613\u001b[0m \u001b[38;5;66;03m# ndarray.\u001b[39;00m\n\u001b[0;32m   1614\u001b[0m \u001b[38;5;28;01mreturn\u001b[39;00m np\u001b[38;5;241m.\u001b[39masarray(ret)\n",
      "\u001b[1;31mValueError\u001b[0m: could not convert string to float: 'Dinner'"
     ]
    }
   ],
   "source": [
    "sns.countplot(df[\"time\"])"
   ]
  },
  {
   "cell_type": "markdown",
   "id": "657d9946",
   "metadata": {},
   "source": [
    "# violinplot()"
   ]
  },
  {
   "cell_type": "code",
   "execution_count": 19,
   "id": "389a7daf",
   "metadata": {},
   "outputs": [
    {
     "data": {
      "text/plain": [
       "<AxesSubplot: xlabel='sex', ylabel='total_bill'>"
      ]
     },
     "execution_count": 19,
     "metadata": {},
     "output_type": "execute_result"
    },
    {
     "data": {
      "image/png": "[encoded data removed]",
      "text/plain": [
       "<Figure size 432x288 with 1 Axes>"
      ]
     },
     "metadata": {
      "needs_background": "light"
     },
     "output_type": "display_data"
    }
   ],
   "source": [
    "sns.violinplot(data=df,x=\"sex\",y=\"total_bill\",hue=\"time\")"
   ]
  },
  {
   "cell_type": "markdown",
   "id": "4850a69d",
   "metadata": {},
   "source": [
    "# pairplot()"
   ]
  },
  {
   "cell_type": "code",
   "execution_count": 20,
   "id": "f3305117",
   "metadata": {
    "scrolled": false
   },
   "outputs": [
    {
     "data": {
      "text/plain": [
       "<seaborn.axisgrid.PairGrid at 0x2df62254280>"
      ]
     },
     "execution_count": 20,
     "metadata": {},
     "output_type": "execute_result"
    },
    {
     "data": {
      "image/png": "[encoded data removed]",
      "text/plain": [
       "<Figure size 360x360 with 6 Axes>"
      ]
     },
     "metadata": {
      "needs_background": "light"
     },
     "output_type": "display_data"
    }
   ],
   "source": [
    "sns.pairplot(df[[\"total_bill\",\"tip\"]])"
   ]
  },
  {
   "cell_type": "code",
   "execution_count": 21,
   "id": "ebf122c9",
   "metadata": {},
   "outputs": [
    {
     "data": {
      "text/plain": [
       "Index(['total_bill', 'tip', 'sex', 'smoker', 'day', 'time', 'size'], dtype='object')"
      ]
     },
     "execution_count": 21,
     "metadata": {},
     "output_type": "execute_result"
    }
   ],
   "source": [
    "df.columns"
   ]
  },
  {
   "cell_type": "code",
   "execution_count": 22,
   "id": "f1f46236",
   "metadata": {},
   "outputs": [
    {
     "name": "stderr",
     "output_type": "stream",
     "text": [
      "C:\\Users\\owais\\AppData\\Local\\Temp\\ipykernel_9852\\372662679.py:3: UserWarning: \n",
      "\n",
      "`distplot` is a deprecated function and will be removed in seaborn v0.14.0.\n",
      "\n",
      "Please adapt your code to use either `displot` (a figure-level function with\n",
      "similar flexibility) or `histplot` (an axes-level function for histograms).\n",
      "\n",
      "For a guide to updating your code to use the new functions, please see\n",
      "https://gist.github.com/mwaskom/de44147ed2974457ad6372750bbe5751\n",
      "\n",
      "  a=sns.distplot(df[\"tip\"],ax=axes[0][0])\n",
      "C:\\Users\\owais\\AppData\\Local\\Temp\\ipykernel_9852\\372662679.py:9: UserWarning: \n",
      "\n",
      "`distplot` is a deprecated function and will be removed in seaborn v0.14.0.\n",
      "\n",
      "Please adapt your code to use either `displot` (a figure-level function with\n",
      "similar flexibility) or `histplot` (an axes-level function for histograms).\n",
      "\n",
      "For a guide to updating your code to use the new functions, please see\n",
      "https://gist.github.com/mwaskom/de44147ed2974457ad6372750bbe5751\n",
      "\n",
      "  a=sns.distplot(df[\"total_bill\"],ax=axes[1][0])\n"
     ]
    },
    {
     "data": {
      "text/plain": [
       "Text(0.5, 1.0, 'bocplot of total_bill')"
      ]
     },
     "execution_count": 22,
     "metadata": {},
     "output_type": "execute_result"
    },
    {
     "data": {
      "image/png": "[encoded data removed]",
      "text/plain": [
       "<Figure size 1080x720 with 4 Axes>"
      ]
     },
     "metadata": {
      "needs_background": "light"
     },
     "output_type": "display_data"
    }
   ],
   "source": [
    "fig,axes=plt.subplots(nrows=2,ncols=2)\n",
    "fig.set_size_inches(15,10)\n",
    "a=sns.distplot(df[\"tip\"],ax=axes[0][0])\n",
    "a.set_title(\"histogram of tip\")\n",
    "\n",
    "a=sns.boxplot(df[\"tip\"],ax=axes[0][1])\n",
    "a.set_title(\"bocplot of tip\")\n",
    "\n",
    "a=sns.distplot(df[\"total_bill\"],ax=axes[1][0])\n",
    "a.set_title(\"histogram of total_bill\")\n",
    "\n",
    "a=sns.boxplot(df[\"total_bill\"],ax=axes[1][1])\n",
    "a.set_title(\"bocplot of total_bill\")"
   ]
  },
  {
   "cell_type": "code",
   "execution_count": 23,
   "id": "0a984c1a",
   "metadata": {},
   "outputs": [
    {
     "data": {
      "text/plain": [
       "total_bill    0\n",
       "tip           0\n",
       "sex           0\n",
       "smoker        0\n",
       "day           0\n",
       "time          0\n",
       "size          0\n",
       "dtype: int64"
      ]
     },
     "execution_count": 23,
     "metadata": {},
     "output_type": "execute_result"
    }
   ],
   "source": [
    "df.isnull().sum()"
   ]
  },
  {
   "cell_type": "code",
   "execution_count": null,
   "id": "f1d8b2b4",
   "metadata": {
    "scrolled": true
   },
   "outputs": [],
   "source": []
  },
  {
   "cell_type": "code",
   "execution_count": 24,
   "id": "db03bd0a",
   "metadata": {},
   "outputs": [
    {
     "name": "stdout",
     "output_type": "stream",
     "text": [
      "Requirement already satisfied: missingno in c:\\users\\owais\\appdata\\local\\programs\\python\\python310\\lib\\site-packages (0.5.1)\n",
      "Requirement already satisfied: seaborn in c:\\users\\owais\\appdata\\local\\programs\\python\\python310\\lib\\site-packages (from missingno) (0.12.0)\n",
      "Requirement already satisfied: numpy in c:\\users\\owais\\appdata\\local\\programs\\python\\python310\\lib\\site-packages (from missingno) (1.23.3)\n",
      "Requirement already satisfied: matplotlib in c:\\users\\owais\\appdata\\local\\programs\\python\\python310\\lib\\site-packages (from missingno) (3.6.0)\n",
      "Requirement already satisfied: scipy in c:\\users\\owais\\appdata\\local\\programs\\python\\python310\\lib\\site-packages (from missingno) (1.9.2)\n",
      "Requirement already satisfied: contourpy>=1.0.1 in c:\\users\\owais\\appdata\\local\\programs\\python\\python310\\lib\\site-packages (from matplotlib->missingno) (1.0.5)\n",
      "Requirement already satisfied: packaging>=20.0 in c:\\users\\owais\\appdata\\local\\programs\\python\\python310\\lib\\site-packages (from matplotlib->missingno) (21.3)\n",
      "Requirement already satisfied: fonttools>=4.22.0 in c:\\users\\owais\\appdata\\local\\programs\\python\\python310\\lib\\site-packages (from matplotlib->missingno) (4.37.3)\n",
      "Requirement already satisfied: pillow>=6.2.0 in c:\\users\\owais\\appdata\\local\\programs\\python\\python310\\lib\\site-packages (from matplotlib->missingno) (9.2.0)\n",
      "Requirement already satisfied: python-dateutil>=2.7 in c:\\users\\owais\\appdata\\local\\programs\\python\\python310\\lib\\site-packages (from matplotlib->missingno) (2.8.2)\n",
      "Requirement already satisfied: kiwisolver>=1.0.1 in c:\\users\\owais\\appdata\\local\\programs\\python\\python310\\lib\\site-packages (from matplotlib->missingno) (1.4.4)\n",
      "Requirement already satisfied: pyparsing>=2.2.1 in c:\\users\\owais\\appdata\\local\\programs\\python\\python310\\lib\\site-packages (from matplotlib->missingno) (3.0.9)\n",
      "Requirement already satisfied: cycler>=0.10 in c:\\users\\owais\\appdata\\local\\programs\\python\\python310\\lib\\site-packages (from matplotlib->missingno) (0.11.0)\n",
      "Requirement already satisfied: pandas>=0.25 in c:\\users\\owais\\appdata\\local\\programs\\python\\python310\\lib\\site-packages (from seaborn->missingno) (1.5.0)\n",
      "Requirement already satisfied: pytz>=2020.1 in c:\\users\\owais\\appdata\\local\\programs\\python\\python310\\lib\\site-packages (from pandas>=0.25->seaborn->missingno) (2022.2.1)\n",
      "Requirement already satisfied: six>=1.5 in c:\\users\\owais\\appdata\\local\\programs\\python\\python310\\lib\\site-packages (from python-dateutil>=2.7->matplotlib->missingno) (1.16.0)\n",
      "Note: you may need to restart the kernel to use updated packages.\n"
     ]
    },
    {
     "name": "stderr",
     "output_type": "stream",
     "text": [
      "WARNING: You are using pip version 22.0.4; however, version 22.3 is available.\n",
      "You should consider upgrading via the 'C:\\Users\\owais\\AppData\\Local\\Programs\\Python\\Python310\\python.exe -m pip install --upgrade pip' command.\n"
     ]
    }
   ],
   "source": [
    "pip install missingno"
   ]
  },
  {
   "cell_type": "code",
   "execution_count": 25,
   "id": "1e87ec61",
   "metadata": {},
   "outputs": [
    {
     "data": {
      "text/plain": [
       "(244, 7)"
      ]
     },
     "execution_count": 25,
     "metadata": {},
     "output_type": "execute_result"
    }
   ],
   "source": [
    "df.shape"
   ]
  },
  {
   "cell_type": "code",
   "execution_count": 26,
   "id": "60a583f2",
   "metadata": {},
   "outputs": [],
   "source": [
    "import missingno as mn"
   ]
  },
  {
   "cell_type": "code",
   "execution_count": 27,
   "id": "22c199f5",
   "metadata": {},
   "outputs": [
    {
     "data": {
      "text/plain": [
       "<AxesSubplot: >"
      ]
     },
     "execution_count": 27,
     "metadata": {},
     "output_type": "execute_result"
    },
    {
     "data": {
      "image/png": "[encoded data removed]",
      "text/plain": [
       "<Figure size 720x576 with 3 Axes>"
      ]
     },
     "metadata": {
      "needs_background": "light"
     },
     "output_type": "display_data"
    }
   ],
   "source": [
    "mn.bar(df,figsize=(10,8),color=\"yellowgreen\")"
   ]
  },
  {
   "cell_type": "code",
   "execution_count": 28,
   "id": "dab87542",
   "metadata": {},
   "outputs": [
    {
     "data": {
      "text/html": [
       "<div>\n",
       "<style scoped>\n",
       "    .dataframe tbody tr th:only-of-type {\n",
       "        vertical-align: middle;\n",
       "    }\n",
       "\n",
       "    .dataframe tbody tr th {\n",
       "        vertical-align: top;\n",
       "    }\n",
       "\n",
       "    .dataframe thead th {\n",
       "        text-align: right;\n",
       "    }\n",
       "</style>\n",
       "<table border=\"1\" class=\"dataframe\">\n",
       "  <thead>\n",
       "    <tr style=\"text-align: right;\">\n",
       "      <th></th>\n",
       "      <th>total_bill</th>\n",
       "      <th>tip</th>\n",
       "      <th>sex</th>\n",
       "      <th>smoker</th>\n",
       "      <th>day</th>\n",
       "      <th>time</th>\n",
       "      <th>size</th>\n",
       "    </tr>\n",
       "  </thead>\n",
       "  <tbody>\n",
       "    <tr>\n",
       "      <th>0</th>\n",
       "      <td>16.99</td>\n",
       "      <td>1.01</td>\n",
       "      <td>Female</td>\n",
       "      <td>No</td>\n",
       "      <td>Sun</td>\n",
       "      <td>Dinner</td>\n",
       "      <td>2</td>\n",
       "    </tr>\n",
       "    <tr>\n",
       "      <th>1</th>\n",
       "      <td>10.34</td>\n",
       "      <td>1.66</td>\n",
       "      <td>Male</td>\n",
       "      <td>No</td>\n",
       "      <td>Sun</td>\n",
       "      <td>Dinner</td>\n",
       "      <td>3</td>\n",
       "    </tr>\n",
       "    <tr>\n",
       "      <th>2</th>\n",
       "      <td>21.01</td>\n",
       "      <td>3.50</td>\n",
       "      <td>Male</td>\n",
       "      <td>No</td>\n",
       "      <td>Sun</td>\n",
       "      <td>Dinner</td>\n",
       "      <td>3</td>\n",
       "    </tr>\n",
       "    <tr>\n",
       "      <th>3</th>\n",
       "      <td>23.68</td>\n",
       "      <td>3.31</td>\n",
       "      <td>Male</td>\n",
       "      <td>No</td>\n",
       "      <td>Sun</td>\n",
       "      <td>Dinner</td>\n",
       "      <td>2</td>\n",
       "    </tr>\n",
       "    <tr>\n",
       "      <th>4</th>\n",
       "      <td>24.59</td>\n",
       "      <td>3.61</td>\n",
       "      <td>Female</td>\n",
       "      <td>No</td>\n",
       "      <td>Sun</td>\n",
       "      <td>Dinner</td>\n",
       "      <td>4</td>\n",
       "    </tr>\n",
       "    <tr>\n",
       "      <th>...</th>\n",
       "      <td>...</td>\n",
       "      <td>...</td>\n",
       "      <td>...</td>\n",
       "      <td>...</td>\n",
       "      <td>...</td>\n",
       "      <td>...</td>\n",
       "      <td>...</td>\n",
       "    </tr>\n",
       "    <tr>\n",
       "      <th>239</th>\n",
       "      <td>29.03</td>\n",
       "      <td>5.92</td>\n",
       "      <td>Male</td>\n",
       "      <td>No</td>\n",
       "      <td>Sat</td>\n",
       "      <td>Dinner</td>\n",
       "      <td>3</td>\n",
       "    </tr>\n",
       "    <tr>\n",
       "      <th>240</th>\n",
       "      <td>27.18</td>\n",
       "      <td>2.00</td>\n",
       "      <td>Female</td>\n",
       "      <td>Yes</td>\n",
       "      <td>Sat</td>\n",
       "      <td>Dinner</td>\n",
       "      <td>2</td>\n",
       "    </tr>\n",
       "    <tr>\n",
       "      <th>241</th>\n",
       "      <td>22.67</td>\n",
       "      <td>2.00</td>\n",
       "      <td>Male</td>\n",
       "      <td>Yes</td>\n",
       "      <td>Sat</td>\n",
       "      <td>Dinner</td>\n",
       "      <td>2</td>\n",
       "    </tr>\n",
       "    <tr>\n",
       "      <th>242</th>\n",
       "      <td>17.82</td>\n",
       "      <td>1.75</td>\n",
       "      <td>Male</td>\n",
       "      <td>No</td>\n",
       "      <td>Sat</td>\n",
       "      <td>Dinner</td>\n",
       "      <td>2</td>\n",
       "    </tr>\n",
       "    <tr>\n",
       "      <th>243</th>\n",
       "      <td>18.78</td>\n",
       "      <td>3.00</td>\n",
       "      <td>Female</td>\n",
       "      <td>No</td>\n",
       "      <td>Thur</td>\n",
       "      <td>Dinner</td>\n",
       "      <td>2</td>\n",
       "    </tr>\n",
       "  </tbody>\n",
       "</table>\n",
       "<p>244 rows × 7 columns</p>\n",
       "</div>"
      ],
      "text/plain": [
       "     total_bill   tip     sex smoker   day    time  size\n",
       "0         16.99  1.01  Female     No   Sun  Dinner     2\n",
       "1         10.34  1.66    Male     No   Sun  Dinner     3\n",
       "2         21.01  3.50    Male     No   Sun  Dinner     3\n",
       "3         23.68  3.31    Male     No   Sun  Dinner     2\n",
       "4         24.59  3.61  Female     No   Sun  Dinner     4\n",
       "..          ...   ...     ...    ...   ...     ...   ...\n",
       "239       29.03  5.92    Male     No   Sat  Dinner     3\n",
       "240       27.18  2.00  Female    Yes   Sat  Dinner     2\n",
       "241       22.67  2.00    Male    Yes   Sat  Dinner     2\n",
       "242       17.82  1.75    Male     No   Sat  Dinner     2\n",
       "243       18.78  3.00  Female     No  Thur  Dinner     2\n",
       "\n",
       "[244 rows x 7 columns]"
      ]
     },
     "execution_count": 28,
     "metadata": {},
     "output_type": "execute_result"
    }
   ],
   "source": [
    "df"
   ]
  },
  {
   "cell_type": "code",
   "execution_count": 29,
   "id": "6a14d095",
   "metadata": {},
   "outputs": [
    {
     "data": {
      "text/plain": [
       "['Female',\n",
       " 'Male',\n",
       " 'Male',\n",
       " 'Male',\n",
       " 'Female',\n",
       " 'Male',\n",
       " 'Male',\n",
       " 'Male',\n",
       " 'Male',\n",
       " 'Male',\n",
       " 'Male',\n",
       " 'Female',\n",
       " 'Male',\n",
       " 'Male',\n",
       " 'Female',\n",
       " 'Male',\n",
       " 'Female',\n",
       " 'Male',\n",
       " 'Female',\n",
       " 'Male',\n",
       " 'Male',\n",
       " 'Female',\n",
       " 'Female',\n",
       " 'Male',\n",
       " 'Male',\n",
       " 'Male',\n",
       " 'Male',\n",
       " 'Male',\n",
       " 'Male',\n",
       " 'Female',\n",
       " 'Male',\n",
       " 'Male',\n",
       " 'Female',\n",
       " 'Female',\n",
       " 'Male',\n",
       " 'Male',\n",
       " 'Male',\n",
       " 'Female',\n",
       " 'Male',\n",
       " 'Male',\n",
       " 'Male',\n",
       " 'Male',\n",
       " 'Male',\n",
       " 'Male',\n",
       " 'Male',\n",
       " 'Male',\n",
       " 'Male',\n",
       " 'Male',\n",
       " 'Male',\n",
       " 'Male',\n",
       " 'Male',\n",
       " 'Female',\n",
       " 'Female',\n",
       " 'Male',\n",
       " 'Male',\n",
       " 'Male',\n",
       " 'Male',\n",
       " 'Female',\n",
       " 'Male',\n",
       " 'Male',\n",
       " 'Male',\n",
       " 'Male',\n",
       " 'Male',\n",
       " 'Male',\n",
       " 'Male',\n",
       " 'Male',\n",
       " 'Female',\n",
       " 'Female',\n",
       " 'Male',\n",
       " 'Male',\n",
       " 'Male',\n",
       " 'Female',\n",
       " 'Female',\n",
       " 'Female',\n",
       " 'Female',\n",
       " 'Male',\n",
       " 'Male',\n",
       " 'Male',\n",
       " 'Male',\n",
       " 'Male',\n",
       " 'Male',\n",
       " 'Male',\n",
       " 'Female',\n",
       " 'Male',\n",
       " 'Male',\n",
       " 'Female',\n",
       " 'Male',\n",
       " 'Male',\n",
       " 'Male',\n",
       " 'Male',\n",
       " 'Male',\n",
       " 'Male',\n",
       " 'Female',\n",
       " 'Female',\n",
       " 'Female',\n",
       " 'Male',\n",
       " 'Male',\n",
       " 'Male',\n",
       " 'Male',\n",
       " 'Male',\n",
       " 'Female',\n",
       " 'Female',\n",
       " 'Female',\n",
       " 'Female',\n",
       " 'Female',\n",
       " 'Male',\n",
       " 'Male',\n",
       " 'Male',\n",
       " 'Male',\n",
       " 'Female',\n",
       " 'Male',\n",
       " 'Female',\n",
       " 'Male',\n",
       " 'Male',\n",
       " 'Female',\n",
       " 'Female',\n",
       " 'Male',\n",
       " 'Female',\n",
       " 'Female',\n",
       " 'Female',\n",
       " 'Male',\n",
       " 'Female',\n",
       " 'Male',\n",
       " 'Male',\n",
       " 'Female',\n",
       " 'Female',\n",
       " 'Male',\n",
       " 'Female',\n",
       " 'Female',\n",
       " 'Male',\n",
       " 'Male',\n",
       " 'Female',\n",
       " 'Female',\n",
       " 'Female',\n",
       " 'Female',\n",
       " 'Female',\n",
       " 'Female',\n",
       " 'Female',\n",
       " 'Male',\n",
       " 'Female',\n",
       " 'Female',\n",
       " 'Male',\n",
       " 'Male',\n",
       " 'Female',\n",
       " 'Female',\n",
       " 'Female',\n",
       " 'Female',\n",
       " 'Female',\n",
       " 'Male',\n",
       " 'Male',\n",
       " 'Male',\n",
       " 'Male',\n",
       " 'Male',\n",
       " 'Male',\n",
       " 'Male',\n",
       " 'Female',\n",
       " 'Male',\n",
       " 'Female',\n",
       " 'Female',\n",
       " 'Male',\n",
       " 'Male',\n",
       " 'Male',\n",
       " 'Female',\n",
       " 'Male',\n",
       " 'Female',\n",
       " 'Male',\n",
       " 'Male',\n",
       " 'Male',\n",
       " 'Female',\n",
       " 'Female',\n",
       " 'Male',\n",
       " 'Male',\n",
       " 'Male',\n",
       " 'Male',\n",
       " 'Male',\n",
       " 'Male',\n",
       " 'Male',\n",
       " 'Male',\n",
       " 'Female',\n",
       " 'Male',\n",
       " 'Male',\n",
       " 'Male',\n",
       " 'Male',\n",
       " 'Male',\n",
       " 'Male',\n",
       " 'Male',\n",
       " 'Female',\n",
       " 'Male',\n",
       " 'Female',\n",
       " 'Male',\n",
       " 'Male',\n",
       " 'Female',\n",
       " 'Male',\n",
       " 'Male',\n",
       " 'Male',\n",
       " 'Male',\n",
       " 'Male',\n",
       " 'Female',\n",
       " 'Female',\n",
       " 'Male',\n",
       " 'Male',\n",
       " 'Female',\n",
       " 'Female',\n",
       " 'Female',\n",
       " 'Male',\n",
       " 'Female',\n",
       " 'Male',\n",
       " 'Male',\n",
       " 'Male',\n",
       " 'Female',\n",
       " 'Male',\n",
       " 'Male',\n",
       " 'Male',\n",
       " 'Female',\n",
       " 'Female',\n",
       " 'Female',\n",
       " 'Male',\n",
       " 'Male',\n",
       " 'Male',\n",
       " 'Female',\n",
       " 'Male',\n",
       " 'Female',\n",
       " 'Male',\n",
       " 'Female',\n",
       " 'Male',\n",
       " 'Female',\n",
       " 'Female',\n",
       " 'Male',\n",
       " 'Male',\n",
       " 'Female',\n",
       " 'Male',\n",
       " 'Male',\n",
       " 'Male',\n",
       " 'Male',\n",
       " 'Male',\n",
       " 'Male',\n",
       " 'Male',\n",
       " 'Male',\n",
       " 'Female',\n",
       " 'Male',\n",
       " 'Female',\n",
       " 'Male',\n",
       " 'Male',\n",
       " 'Female']"
      ]
     },
     "execution_count": 29,
     "metadata": {},
     "output_type": "execute_result"
    }
   ],
   "source": [
    "sex_list=list(df[\"sex\"])\n",
    "sex_list"
   ]
  },
  {
   "cell_type": "markdown",
   "id": "7178dfcb",
   "metadata": {},
   "source": [
    "# apply()"
   ]
  },
  {
   "cell_type": "code",
   "execution_count": 30,
   "id": "098345b3",
   "metadata": {},
   "outputs": [
    {
     "data": {
      "text/plain": [
       "0"
      ]
     },
     "execution_count": 30,
     "metadata": {},
     "output_type": "execute_result"
    }
   ],
   "source": [
    "def encode_(sex):\n",
    "    if sex==\"Female\":\n",
    "        return 1\n",
    "    else:\n",
    "        return 0\n",
    "    \n",
    "encode_(\"Male\")\n",
    "    \n",
    "    "
   ]
  },
  {
   "cell_type": "code",
   "execution_count": 44,
   "id": "e8d784fa",
   "metadata": {},
   "outputs": [],
   "source": [
    "df[\"sex_code\"]=df[\"sex\"].apply(encode_)"
   ]
  },
  {
   "cell_type": "code",
   "execution_count": 45,
   "id": "41f89555",
   "metadata": {},
   "outputs": [
    {
     "data": {
      "text/html": [
       "<div>\n",
       "<style scoped>\n",
       "    .dataframe tbody tr th:only-of-type {\n",
       "        vertical-align: middle;\n",
       "    }\n",
       "\n",
       "    .dataframe tbody tr th {\n",
       "        vertical-align: top;\n",
       "    }\n",
       "\n",
       "    .dataframe thead th {\n",
       "        text-align: right;\n",
       "    }\n",
       "</style>\n",
       "<table border=\"1\" class=\"dataframe\">\n",
       "  <thead>\n",
       "    <tr style=\"text-align: right;\">\n",
       "      <th></th>\n",
       "      <th>total_bill</th>\n",
       "      <th>tip</th>\n",
       "      <th>sex</th>\n",
       "      <th>smoker</th>\n",
       "      <th>day</th>\n",
       "      <th>time</th>\n",
       "      <th>size</th>\n",
       "      <th>sex_code</th>\n",
       "    </tr>\n",
       "  </thead>\n",
       "  <tbody>\n",
       "    <tr>\n",
       "      <th>0</th>\n",
       "      <td>16.99</td>\n",
       "      <td>1.01</td>\n",
       "      <td>Female</td>\n",
       "      <td>No</td>\n",
       "      <td>Sun</td>\n",
       "      <td>Dinner</td>\n",
       "      <td>2</td>\n",
       "      <td>1</td>\n",
       "    </tr>\n",
       "    <tr>\n",
       "      <th>1</th>\n",
       "      <td>10.34</td>\n",
       "      <td>1.66</td>\n",
       "      <td>Male</td>\n",
       "      <td>No</td>\n",
       "      <td>Sun</td>\n",
       "      <td>Dinner</td>\n",
       "      <td>3</td>\n",
       "      <td>0</td>\n",
       "    </tr>\n",
       "    <tr>\n",
       "      <th>2</th>\n",
       "      <td>21.01</td>\n",
       "      <td>3.50</td>\n",
       "      <td>Male</td>\n",
       "      <td>No</td>\n",
       "      <td>Sun</td>\n",
       "      <td>Dinner</td>\n",
       "      <td>3</td>\n",
       "      <td>0</td>\n",
       "    </tr>\n",
       "    <tr>\n",
       "      <th>3</th>\n",
       "      <td>23.68</td>\n",
       "      <td>3.31</td>\n",
       "      <td>Male</td>\n",
       "      <td>No</td>\n",
       "      <td>Sun</td>\n",
       "      <td>Dinner</td>\n",
       "      <td>2</td>\n",
       "      <td>0</td>\n",
       "    </tr>\n",
       "    <tr>\n",
       "      <th>4</th>\n",
       "      <td>24.59</td>\n",
       "      <td>3.61</td>\n",
       "      <td>Female</td>\n",
       "      <td>No</td>\n",
       "      <td>Sun</td>\n",
       "      <td>Dinner</td>\n",
       "      <td>4</td>\n",
       "      <td>1</td>\n",
       "    </tr>\n",
       "    <tr>\n",
       "      <th>...</th>\n",
       "      <td>...</td>\n",
       "      <td>...</td>\n",
       "      <td>...</td>\n",
       "      <td>...</td>\n",
       "      <td>...</td>\n",
       "      <td>...</td>\n",
       "      <td>...</td>\n",
       "      <td>...</td>\n",
       "    </tr>\n",
       "    <tr>\n",
       "      <th>239</th>\n",
       "      <td>29.03</td>\n",
       "      <td>5.92</td>\n",
       "      <td>Male</td>\n",
       "      <td>No</td>\n",
       "      <td>Sat</td>\n",
       "      <td>Dinner</td>\n",
       "      <td>3</td>\n",
       "      <td>0</td>\n",
       "    </tr>\n",
       "    <tr>\n",
       "      <th>240</th>\n",
       "      <td>27.18</td>\n",
       "      <td>2.00</td>\n",
       "      <td>Female</td>\n",
       "      <td>Yes</td>\n",
       "      <td>Sat</td>\n",
       "      <td>Dinner</td>\n",
       "      <td>2</td>\n",
       "      <td>1</td>\n",
       "    </tr>\n",
       "    <tr>\n",
       "      <th>241</th>\n",
       "      <td>22.67</td>\n",
       "      <td>2.00</td>\n",
       "      <td>Male</td>\n",
       "      <td>Yes</td>\n",
       "      <td>Sat</td>\n",
       "      <td>Dinner</td>\n",
       "      <td>2</td>\n",
       "      <td>0</td>\n",
       "    </tr>\n",
       "    <tr>\n",
       "      <th>242</th>\n",
       "      <td>17.82</td>\n",
       "      <td>1.75</td>\n",
       "      <td>Male</td>\n",
       "      <td>No</td>\n",
       "      <td>Sat</td>\n",
       "      <td>Dinner</td>\n",
       "      <td>2</td>\n",
       "      <td>0</td>\n",
       "    </tr>\n",
       "    <tr>\n",
       "      <th>243</th>\n",
       "      <td>18.78</td>\n",
       "      <td>3.00</td>\n",
       "      <td>Female</td>\n",
       "      <td>No</td>\n",
       "      <td>Thur</td>\n",
       "      <td>Dinner</td>\n",
       "      <td>2</td>\n",
       "      <td>1</td>\n",
       "    </tr>\n",
       "  </tbody>\n",
       "</table>\n",
       "<p>244 rows × 8 columns</p>\n",
       "</div>"
      ],
      "text/plain": [
       "     total_bill   tip     sex smoker   day    time  size sex_code\n",
       "0         16.99  1.01  Female     No   Sun  Dinner     2        1\n",
       "1         10.34  1.66    Male     No   Sun  Dinner     3        0\n",
       "2         21.01  3.50    Male     No   Sun  Dinner     3        0\n",
       "3         23.68  3.31    Male     No   Sun  Dinner     2        0\n",
       "4         24.59  3.61  Female     No   Sun  Dinner     4        1\n",
       "..          ...   ...     ...    ...   ...     ...   ...      ...\n",
       "239       29.03  5.92    Male     No   Sat  Dinner     3        0\n",
       "240       27.18  2.00  Female    Yes   Sat  Dinner     2        1\n",
       "241       22.67  2.00    Male    Yes   Sat  Dinner     2        0\n",
       "242       17.82  1.75    Male     No   Sat  Dinner     2        0\n",
       "243       18.78  3.00  Female     No  Thur  Dinner     2        1\n",
       "\n",
       "[244 rows x 8 columns]"
      ]
     },
     "execution_count": 45,
     "metadata": {},
     "output_type": "execute_result"
    }
   ],
   "source": [
    "df"
   ]
  },
  {
   "cell_type": "code",
   "execution_count": 43,
   "id": "ab6f61f0",
   "metadata": {
    "scrolled": false
   },
   "outputs": [
    {
     "data": {
      "text/html": [
       "<div>\n",
       "<style scoped>\n",
       "    .dataframe tbody tr th:only-of-type {\n",
       "        vertical-align: middle;\n",
       "    }\n",
       "\n",
       "    .dataframe tbody tr th {\n",
       "        vertical-align: top;\n",
       "    }\n",
       "\n",
       "    .dataframe thead th {\n",
       "        text-align: right;\n",
       "    }\n",
       "</style>\n",
       "<table border=\"1\" class=\"dataframe\">\n",
       "  <thead>\n",
       "    <tr style=\"text-align: right;\">\n",
       "      <th></th>\n",
       "      <th>total_bill</th>\n",
       "      <th>tip</th>\n",
       "      <th>sex</th>\n",
       "      <th>smoker</th>\n",
       "      <th>day</th>\n",
       "      <th>time</th>\n",
       "      <th>size</th>\n",
       "    </tr>\n",
       "  </thead>\n",
       "  <tbody>\n",
       "    <tr>\n",
       "      <th>0</th>\n",
       "      <td>16.99</td>\n",
       "      <td>1.01</td>\n",
       "      <td>Female</td>\n",
       "      <td>No</td>\n",
       "      <td>Sun</td>\n",
       "      <td>Dinner</td>\n",
       "      <td>2</td>\n",
       "    </tr>\n",
       "    <tr>\n",
       "      <th>1</th>\n",
       "      <td>10.34</td>\n",
       "      <td>1.66</td>\n",
       "      <td>Male</td>\n",
       "      <td>No</td>\n",
       "      <td>Sun</td>\n",
       "      <td>Dinner</td>\n",
       "      <td>3</td>\n",
       "    </tr>\n",
       "    <tr>\n",
       "      <th>2</th>\n",
       "      <td>21.01</td>\n",
       "      <td>3.50</td>\n",
       "      <td>Male</td>\n",
       "      <td>No</td>\n",
       "      <td>Sun</td>\n",
       "      <td>Dinner</td>\n",
       "      <td>3</td>\n",
       "    </tr>\n",
       "    <tr>\n",
       "      <th>3</th>\n",
       "      <td>23.68</td>\n",
       "      <td>3.31</td>\n",
       "      <td>Male</td>\n",
       "      <td>No</td>\n",
       "      <td>Sun</td>\n",
       "      <td>Dinner</td>\n",
       "      <td>2</td>\n",
       "    </tr>\n",
       "    <tr>\n",
       "      <th>4</th>\n",
       "      <td>24.59</td>\n",
       "      <td>3.61</td>\n",
       "      <td>Female</td>\n",
       "      <td>No</td>\n",
       "      <td>Sun</td>\n",
       "      <td>Dinner</td>\n",
       "      <td>4</td>\n",
       "    </tr>\n",
       "    <tr>\n",
       "      <th>...</th>\n",
       "      <td>...</td>\n",
       "      <td>...</td>\n",
       "      <td>...</td>\n",
       "      <td>...</td>\n",
       "      <td>...</td>\n",
       "      <td>...</td>\n",
       "      <td>...</td>\n",
       "    </tr>\n",
       "    <tr>\n",
       "      <th>239</th>\n",
       "      <td>29.03</td>\n",
       "      <td>5.92</td>\n",
       "      <td>Male</td>\n",
       "      <td>No</td>\n",
       "      <td>Sat</td>\n",
       "      <td>Dinner</td>\n",
       "      <td>3</td>\n",
       "    </tr>\n",
       "    <tr>\n",
       "      <th>240</th>\n",
       "      <td>27.18</td>\n",
       "      <td>2.00</td>\n",
       "      <td>Female</td>\n",
       "      <td>Yes</td>\n",
       "      <td>Sat</td>\n",
       "      <td>Dinner</td>\n",
       "      <td>2</td>\n",
       "    </tr>\n",
       "    <tr>\n",
       "      <th>241</th>\n",
       "      <td>22.67</td>\n",
       "      <td>2.00</td>\n",
       "      <td>Male</td>\n",
       "      <td>Yes</td>\n",
       "      <td>Sat</td>\n",
       "      <td>Dinner</td>\n",
       "      <td>2</td>\n",
       "    </tr>\n",
       "    <tr>\n",
       "      <th>242</th>\n",
       "      <td>17.82</td>\n",
       "      <td>1.75</td>\n",
       "      <td>Male</td>\n",
       "      <td>No</td>\n",
       "      <td>Sat</td>\n",
       "      <td>Dinner</td>\n",
       "      <td>2</td>\n",
       "    </tr>\n",
       "    <tr>\n",
       "      <th>243</th>\n",
       "      <td>18.78</td>\n",
       "      <td>3.00</td>\n",
       "      <td>Female</td>\n",
       "      <td>No</td>\n",
       "      <td>Thur</td>\n",
       "      <td>Dinner</td>\n",
       "      <td>2</td>\n",
       "    </tr>\n",
       "  </tbody>\n",
       "</table>\n",
       "<p>244 rows × 7 columns</p>\n",
       "</div>"
      ],
      "text/plain": [
       "     total_bill   tip     sex smoker   day    time  size\n",
       "0         16.99  1.01  Female     No   Sun  Dinner     2\n",
       "1         10.34  1.66    Male     No   Sun  Dinner     3\n",
       "2         21.01  3.50    Male     No   Sun  Dinner     3\n",
       "3         23.68  3.31    Male     No   Sun  Dinner     2\n",
       "4         24.59  3.61  Female     No   Sun  Dinner     4\n",
       "..          ...   ...     ...    ...   ...     ...   ...\n",
       "239       29.03  5.92    Male     No   Sat  Dinner     3\n",
       "240       27.18  2.00  Female    Yes   Sat  Dinner     2\n",
       "241       22.67  2.00    Male    Yes   Sat  Dinner     2\n",
       "242       17.82  1.75    Male     No   Sat  Dinner     2\n",
       "243       18.78  3.00  Female     No  Thur  Dinner     2\n",
       "\n",
       "[244 rows x 7 columns]"
      ]
     },
     "execution_count": 43,
     "metadata": {},
     "output_type": "execute_result"
    }
   ],
   "source": [
    "df"
   ]
  },
  {
   "cell_type": "code",
   "execution_count": 47,
   "id": "7c999153",
   "metadata": {},
   "outputs": [],
   "source": [
    "df.drop([\"sex\"],axis=1,inplace=True)"
   ]
  },
  {
   "cell_type": "code",
   "execution_count": 48,
   "id": "bec07a9d",
   "metadata": {},
   "outputs": [
    {
     "data": {
      "text/html": [
       "<div>\n",
       "<style scoped>\n",
       "    .dataframe tbody tr th:only-of-type {\n",
       "        vertical-align: middle;\n",
       "    }\n",
       "\n",
       "    .dataframe tbody tr th {\n",
       "        vertical-align: top;\n",
       "    }\n",
       "\n",
       "    .dataframe thead th {\n",
       "        text-align: right;\n",
       "    }\n",
       "</style>\n",
       "<table border=\"1\" class=\"dataframe\">\n",
       "  <thead>\n",
       "    <tr style=\"text-align: right;\">\n",
       "      <th></th>\n",
       "      <th>total_bill</th>\n",
       "      <th>tip</th>\n",
       "      <th>smoker</th>\n",
       "      <th>day</th>\n",
       "      <th>time</th>\n",
       "      <th>size</th>\n",
       "      <th>sex_code</th>\n",
       "    </tr>\n",
       "  </thead>\n",
       "  <tbody>\n",
       "    <tr>\n",
       "      <th>0</th>\n",
       "      <td>16.99</td>\n",
       "      <td>1.01</td>\n",
       "      <td>No</td>\n",
       "      <td>Sun</td>\n",
       "      <td>Dinner</td>\n",
       "      <td>2</td>\n",
       "      <td>1</td>\n",
       "    </tr>\n",
       "    <tr>\n",
       "      <th>1</th>\n",
       "      <td>10.34</td>\n",
       "      <td>1.66</td>\n",
       "      <td>No</td>\n",
       "      <td>Sun</td>\n",
       "      <td>Dinner</td>\n",
       "      <td>3</td>\n",
       "      <td>0</td>\n",
       "    </tr>\n",
       "    <tr>\n",
       "      <th>2</th>\n",
       "      <td>21.01</td>\n",
       "      <td>3.50</td>\n",
       "      <td>No</td>\n",
       "      <td>Sun</td>\n",
       "      <td>Dinner</td>\n",
       "      <td>3</td>\n",
       "      <td>0</td>\n",
       "    </tr>\n",
       "    <tr>\n",
       "      <th>3</th>\n",
       "      <td>23.68</td>\n",
       "      <td>3.31</td>\n",
       "      <td>No</td>\n",
       "      <td>Sun</td>\n",
       "      <td>Dinner</td>\n",
       "      <td>2</td>\n",
       "      <td>0</td>\n",
       "    </tr>\n",
       "    <tr>\n",
       "      <th>4</th>\n",
       "      <td>24.59</td>\n",
       "      <td>3.61</td>\n",
       "      <td>No</td>\n",
       "      <td>Sun</td>\n",
       "      <td>Dinner</td>\n",
       "      <td>4</td>\n",
       "      <td>1</td>\n",
       "    </tr>\n",
       "    <tr>\n",
       "      <th>...</th>\n",
       "      <td>...</td>\n",
       "      <td>...</td>\n",
       "      <td>...</td>\n",
       "      <td>...</td>\n",
       "      <td>...</td>\n",
       "      <td>...</td>\n",
       "      <td>...</td>\n",
       "    </tr>\n",
       "    <tr>\n",
       "      <th>239</th>\n",
       "      <td>29.03</td>\n",
       "      <td>5.92</td>\n",
       "      <td>No</td>\n",
       "      <td>Sat</td>\n",
       "      <td>Dinner</td>\n",
       "      <td>3</td>\n",
       "      <td>0</td>\n",
       "    </tr>\n",
       "    <tr>\n",
       "      <th>240</th>\n",
       "      <td>27.18</td>\n",
       "      <td>2.00</td>\n",
       "      <td>Yes</td>\n",
       "      <td>Sat</td>\n",
       "      <td>Dinner</td>\n",
       "      <td>2</td>\n",
       "      <td>1</td>\n",
       "    </tr>\n",
       "    <tr>\n",
       "      <th>241</th>\n",
       "      <td>22.67</td>\n",
       "      <td>2.00</td>\n",
       "      <td>Yes</td>\n",
       "      <td>Sat</td>\n",
       "      <td>Dinner</td>\n",
       "      <td>2</td>\n",
       "      <td>0</td>\n",
       "    </tr>\n",
       "    <tr>\n",
       "      <th>242</th>\n",
       "      <td>17.82</td>\n",
       "      <td>1.75</td>\n",
       "      <td>No</td>\n",
       "      <td>Sat</td>\n",
       "      <td>Dinner</td>\n",
       "      <td>2</td>\n",
       "      <td>0</td>\n",
       "    </tr>\n",
       "    <tr>\n",
       "      <th>243</th>\n",
       "      <td>18.78</td>\n",
       "      <td>3.00</td>\n",
       "      <td>No</td>\n",
       "      <td>Thur</td>\n",
       "      <td>Dinner</td>\n",
       "      <td>2</td>\n",
       "      <td>1</td>\n",
       "    </tr>\n",
       "  </tbody>\n",
       "</table>\n",
       "<p>244 rows × 7 columns</p>\n",
       "</div>"
      ],
      "text/plain": [
       "     total_bill   tip smoker   day    time  size sex_code\n",
       "0         16.99  1.01     No   Sun  Dinner     2        1\n",
       "1         10.34  1.66     No   Sun  Dinner     3        0\n",
       "2         21.01  3.50     No   Sun  Dinner     3        0\n",
       "3         23.68  3.31     No   Sun  Dinner     2        0\n",
       "4         24.59  3.61     No   Sun  Dinner     4        1\n",
       "..          ...   ...    ...   ...     ...   ...      ...\n",
       "239       29.03  5.92     No   Sat  Dinner     3        0\n",
       "240       27.18  2.00    Yes   Sat  Dinner     2        1\n",
       "241       22.67  2.00    Yes   Sat  Dinner     2        0\n",
       "242       17.82  1.75     No   Sat  Dinner     2        0\n",
       "243       18.78  3.00     No  Thur  Dinner     2        1\n",
       "\n",
       "[244 rows x 7 columns]"
      ]
     },
     "execution_count": 48,
     "metadata": {},
     "output_type": "execute_result"
    }
   ],
   "source": [
    "df"
   ]
  },
  {
   "cell_type": "code",
   "execution_count": 52,
   "id": "12ece617",
   "metadata": {},
   "outputs": [
    {
     "data": {
      "text/html": [
       "<div>\n",
       "<style scoped>\n",
       "    .dataframe tbody tr th:only-of-type {\n",
       "        vertical-align: middle;\n",
       "    }\n",
       "\n",
       "    .dataframe tbody tr th {\n",
       "        vertical-align: top;\n",
       "    }\n",
       "\n",
       "    .dataframe thead th {\n",
       "        text-align: right;\n",
       "    }\n",
       "</style>\n",
       "<table border=\"1\" class=\"dataframe\">\n",
       "  <thead>\n",
       "    <tr style=\"text-align: right;\">\n",
       "      <th></th>\n",
       "      <th>total_bill</th>\n",
       "      <th>tip</th>\n",
       "      <th>smoker</th>\n",
       "      <th>size</th>\n",
       "      <th>sex_code</th>\n",
       "    </tr>\n",
       "  </thead>\n",
       "  <tbody>\n",
       "    <tr>\n",
       "      <th>0</th>\n",
       "      <td>16.99</td>\n",
       "      <td>1.01</td>\n",
       "      <td>No</td>\n",
       "      <td>2</td>\n",
       "      <td>1</td>\n",
       "    </tr>\n",
       "    <tr>\n",
       "      <th>1</th>\n",
       "      <td>10.34</td>\n",
       "      <td>1.66</td>\n",
       "      <td>No</td>\n",
       "      <td>3</td>\n",
       "      <td>0</td>\n",
       "    </tr>\n",
       "    <tr>\n",
       "      <th>2</th>\n",
       "      <td>21.01</td>\n",
       "      <td>3.50</td>\n",
       "      <td>No</td>\n",
       "      <td>3</td>\n",
       "      <td>0</td>\n",
       "    </tr>\n",
       "    <tr>\n",
       "      <th>3</th>\n",
       "      <td>23.68</td>\n",
       "      <td>3.31</td>\n",
       "      <td>No</td>\n",
       "      <td>2</td>\n",
       "      <td>0</td>\n",
       "    </tr>\n",
       "    <tr>\n",
       "      <th>4</th>\n",
       "      <td>24.59</td>\n",
       "      <td>3.61</td>\n",
       "      <td>No</td>\n",
       "      <td>4</td>\n",
       "      <td>1</td>\n",
       "    </tr>\n",
       "    <tr>\n",
       "      <th>...</th>\n",
       "      <td>...</td>\n",
       "      <td>...</td>\n",
       "      <td>...</td>\n",
       "      <td>...</td>\n",
       "      <td>...</td>\n",
       "    </tr>\n",
       "    <tr>\n",
       "      <th>239</th>\n",
       "      <td>29.03</td>\n",
       "      <td>5.92</td>\n",
       "      <td>No</td>\n",
       "      <td>3</td>\n",
       "      <td>0</td>\n",
       "    </tr>\n",
       "    <tr>\n",
       "      <th>240</th>\n",
       "      <td>27.18</td>\n",
       "      <td>2.00</td>\n",
       "      <td>Yes</td>\n",
       "      <td>2</td>\n",
       "      <td>1</td>\n",
       "    </tr>\n",
       "    <tr>\n",
       "      <th>241</th>\n",
       "      <td>22.67</td>\n",
       "      <td>2.00</td>\n",
       "      <td>Yes</td>\n",
       "      <td>2</td>\n",
       "      <td>0</td>\n",
       "    </tr>\n",
       "    <tr>\n",
       "      <th>242</th>\n",
       "      <td>17.82</td>\n",
       "      <td>1.75</td>\n",
       "      <td>No</td>\n",
       "      <td>2</td>\n",
       "      <td>0</td>\n",
       "    </tr>\n",
       "    <tr>\n",
       "      <th>243</th>\n",
       "      <td>18.78</td>\n",
       "      <td>3.00</td>\n",
       "      <td>No</td>\n",
       "      <td>2</td>\n",
       "      <td>1</td>\n",
       "    </tr>\n",
       "  </tbody>\n",
       "</table>\n",
       "<p>244 rows × 5 columns</p>\n",
       "</div>"
      ],
      "text/plain": [
       "     total_bill   tip smoker  size sex_code\n",
       "0         16.99  1.01     No     2        1\n",
       "1         10.34  1.66     No     3        0\n",
       "2         21.01  3.50     No     3        0\n",
       "3         23.68  3.31     No     2        0\n",
       "4         24.59  3.61     No     4        1\n",
       "..          ...   ...    ...   ...      ...\n",
       "239       29.03  5.92     No     3        0\n",
       "240       27.18  2.00    Yes     2        1\n",
       "241       22.67  2.00    Yes     2        0\n",
       "242       17.82  1.75     No     2        0\n",
       "243       18.78  3.00     No     2        1\n",
       "\n",
       "[244 rows x 5 columns]"
      ]
     },
     "execution_count": 52,
     "metadata": {},
     "output_type": "execute_result"
    }
   ],
   "source": [
    "df.drop([\"day\",\"time\"],axis=1)"
   ]
  },
  {
   "cell_type": "code",
   "execution_count": 51,
   "id": "73ca3793",
   "metadata": {},
   "outputs": [
    {
     "data": {
      "text/html": [
       "<div>\n",
       "<style scoped>\n",
       "    .dataframe tbody tr th:only-of-type {\n",
       "        vertical-align: middle;\n",
       "    }\n",
       "\n",
       "    .dataframe tbody tr th {\n",
       "        vertical-align: top;\n",
       "    }\n",
       "\n",
       "    .dataframe thead th {\n",
       "        text-align: right;\n",
       "    }\n",
       "</style>\n",
       "<table border=\"1\" class=\"dataframe\">\n",
       "  <thead>\n",
       "    <tr style=\"text-align: right;\">\n",
       "      <th></th>\n",
       "      <th>total_bill</th>\n",
       "      <th>tip</th>\n",
       "      <th>smoker</th>\n",
       "      <th>day</th>\n",
       "      <th>time</th>\n",
       "      <th>size</th>\n",
       "      <th>sex_code</th>\n",
       "    </tr>\n",
       "  </thead>\n",
       "  <tbody>\n",
       "    <tr>\n",
       "      <th>0</th>\n",
       "      <td>16.99</td>\n",
       "      <td>1.01</td>\n",
       "      <td>No</td>\n",
       "      <td>Sun</td>\n",
       "      <td>Dinner</td>\n",
       "      <td>2</td>\n",
       "      <td>1</td>\n",
       "    </tr>\n",
       "    <tr>\n",
       "      <th>1</th>\n",
       "      <td>10.34</td>\n",
       "      <td>1.66</td>\n",
       "      <td>No</td>\n",
       "      <td>Sun</td>\n",
       "      <td>Dinner</td>\n",
       "      <td>3</td>\n",
       "      <td>0</td>\n",
       "    </tr>\n",
       "    <tr>\n",
       "      <th>2</th>\n",
       "      <td>21.01</td>\n",
       "      <td>3.50</td>\n",
       "      <td>No</td>\n",
       "      <td>Sun</td>\n",
       "      <td>Dinner</td>\n",
       "      <td>3</td>\n",
       "      <td>0</td>\n",
       "    </tr>\n",
       "    <tr>\n",
       "      <th>3</th>\n",
       "      <td>23.68</td>\n",
       "      <td>3.31</td>\n",
       "      <td>No</td>\n",
       "      <td>Sun</td>\n",
       "      <td>Dinner</td>\n",
       "      <td>2</td>\n",
       "      <td>0</td>\n",
       "    </tr>\n",
       "    <tr>\n",
       "      <th>4</th>\n",
       "      <td>24.59</td>\n",
       "      <td>3.61</td>\n",
       "      <td>No</td>\n",
       "      <td>Sun</td>\n",
       "      <td>Dinner</td>\n",
       "      <td>4</td>\n",
       "      <td>1</td>\n",
       "    </tr>\n",
       "    <tr>\n",
       "      <th>...</th>\n",
       "      <td>...</td>\n",
       "      <td>...</td>\n",
       "      <td>...</td>\n",
       "      <td>...</td>\n",
       "      <td>...</td>\n",
       "      <td>...</td>\n",
       "      <td>...</td>\n",
       "    </tr>\n",
       "    <tr>\n",
       "      <th>239</th>\n",
       "      <td>29.03</td>\n",
       "      <td>5.92</td>\n",
       "      <td>No</td>\n",
       "      <td>Sat</td>\n",
       "      <td>Dinner</td>\n",
       "      <td>3</td>\n",
       "      <td>0</td>\n",
       "    </tr>\n",
       "    <tr>\n",
       "      <th>240</th>\n",
       "      <td>27.18</td>\n",
       "      <td>2.00</td>\n",
       "      <td>Yes</td>\n",
       "      <td>Sat</td>\n",
       "      <td>Dinner</td>\n",
       "      <td>2</td>\n",
       "      <td>1</td>\n",
       "    </tr>\n",
       "    <tr>\n",
       "      <th>241</th>\n",
       "      <td>22.67</td>\n",
       "      <td>2.00</td>\n",
       "      <td>Yes</td>\n",
       "      <td>Sat</td>\n",
       "      <td>Dinner</td>\n",
       "      <td>2</td>\n",
       "      <td>0</td>\n",
       "    </tr>\n",
       "    <tr>\n",
       "      <th>242</th>\n",
       "      <td>17.82</td>\n",
       "      <td>1.75</td>\n",
       "      <td>No</td>\n",
       "      <td>Sat</td>\n",
       "      <td>Dinner</td>\n",
       "      <td>2</td>\n",
       "      <td>0</td>\n",
       "    </tr>\n",
       "    <tr>\n",
       "      <th>243</th>\n",
       "      <td>18.78</td>\n",
       "      <td>3.00</td>\n",
       "      <td>No</td>\n",
       "      <td>Thur</td>\n",
       "      <td>Dinner</td>\n",
       "      <td>2</td>\n",
       "      <td>1</td>\n",
       "    </tr>\n",
       "  </tbody>\n",
       "</table>\n",
       "<p>244 rows × 7 columns</p>\n",
       "</div>"
      ],
      "text/plain": [
       "     total_bill   tip smoker   day    time  size sex_code\n",
       "0         16.99  1.01     No   Sun  Dinner     2        1\n",
       "1         10.34  1.66     No   Sun  Dinner     3        0\n",
       "2         21.01  3.50     No   Sun  Dinner     3        0\n",
       "3         23.68  3.31     No   Sun  Dinner     2        0\n",
       "4         24.59  3.61     No   Sun  Dinner     4        1\n",
       "..          ...   ...    ...   ...     ...   ...      ...\n",
       "239       29.03  5.92     No   Sat  Dinner     3        0\n",
       "240       27.18  2.00    Yes   Sat  Dinner     2        1\n",
       "241       22.67  2.00    Yes   Sat  Dinner     2        0\n",
       "242       17.82  1.75     No   Sat  Dinner     2        0\n",
       "243       18.78  3.00     No  Thur  Dinner     2        1\n",
       "\n",
       "[244 rows x 7 columns]"
      ]
     },
     "execution_count": 51,
     "metadata": {},
     "output_type": "execute_result"
    }
   ],
   "source": [
    "df"
   ]
  },
  {
   "cell_type": "markdown",
   "id": "090bcb52",
   "metadata": {},
   "source": [
    "# Scalar Operation:"
   ]
  },
  {
   "cell_type": "markdown",
   "id": "667642bb",
   "metadata": {},
   "source": [
    "###  Applying the arthimatic Operations to the series"
   ]
  },
  {
   "cell_type": "code",
   "execution_count": 59,
   "id": "e6205d3d",
   "metadata": {
    "scrolled": false
   },
   "outputs": [
    {
     "data": {
      "text/plain": [
       "0      0.336667\n",
       "1      0.553333\n",
       "2      1.166667\n",
       "3      1.103333\n",
       "4      1.203333\n",
       "         ...   \n",
       "239    1.973333\n",
       "240    0.666667\n",
       "241    0.666667\n",
       "242    0.583333\n",
       "243    1.000000\n",
       "Name: tip, Length: 244, dtype: float64"
      ]
     },
     "execution_count": 59,
     "metadata": {},
     "output_type": "execute_result"
    }
   ],
   "source": [
    "df[\"tip\"]/3"
   ]
  },
  {
   "cell_type": "markdown",
   "id": "b3de2f41",
   "metadata": {},
   "source": [
    "# Displaying the complete dataset"
   ]
  },
  {
   "cell_type": "code",
   "execution_count": 62,
   "id": "39009181",
   "metadata": {
    "scrolled": true
   },
   "outputs": [
    {
     "name": "stdout",
     "output_type": "stream",
     "text": [
      "     total_bill    tip smoker   day    time  size sex_code\n",
      "0         16.99   1.01     No   Sun  Dinner     2        1\n",
      "1         10.34   1.66     No   Sun  Dinner     3        0\n",
      "2         21.01   3.50     No   Sun  Dinner     3        0\n",
      "3         23.68   3.31     No   Sun  Dinner     2        0\n",
      "4         24.59   3.61     No   Sun  Dinner     4        1\n",
      "5         25.29   4.71     No   Sun  Dinner     4        0\n",
      "6          8.77   2.00     No   Sun  Dinner     2        0\n",
      "7         26.88   3.12     No   Sun  Dinner     4        0\n",
      "8         15.04   1.96     No   Sun  Dinner     2        0\n",
      "9         14.78   3.23     No   Sun  Dinner     2        0\n",
      "10        10.27   1.71     No   Sun  Dinner     2        0\n",
      "11        35.26   5.00     No   Sun  Dinner     4        1\n",
      "12        15.42   1.57     No   Sun  Dinner     2        0\n",
      "13        18.43   3.00     No   Sun  Dinner     4        0\n",
      "14        14.83   3.02     No   Sun  Dinner     2        1\n",
      "15        21.58   3.92     No   Sun  Dinner     2        0\n",
      "16        10.33   1.67     No   Sun  Dinner     3        1\n",
      "17        16.29   3.71     No   Sun  Dinner     3        0\n",
      "18        16.97   3.50     No   Sun  Dinner     3        1\n",
      "19        20.65   3.35     No   Sat  Dinner     3        0\n",
      "20        17.92   4.08     No   Sat  Dinner     2        0\n",
      "21        20.29   2.75     No   Sat  Dinner     2        1\n",
      "22        15.77   2.23     No   Sat  Dinner     2        1\n",
      "23        39.42   7.58     No   Sat  Dinner     4        0\n",
      "24        19.82   3.18     No   Sat  Dinner     2        0\n",
      "25        17.81   2.34     No   Sat  Dinner     4        0\n",
      "26        13.37   2.00     No   Sat  Dinner     2        0\n",
      "27        12.69   2.00     No   Sat  Dinner     2        0\n",
      "28        21.70   4.30     No   Sat  Dinner     2        0\n",
      "29        19.65   3.00     No   Sat  Dinner     2        1\n",
      "30         9.55   1.45     No   Sat  Dinner     2        0\n",
      "31        18.35   2.50     No   Sat  Dinner     4        0\n",
      "32        15.06   3.00     No   Sat  Dinner     2        1\n",
      "33        20.69   2.45     No   Sat  Dinner     4        1\n",
      "34        17.78   3.27     No   Sat  Dinner     2        0\n",
      "35        24.06   3.60     No   Sat  Dinner     3        0\n",
      "36        16.31   2.00     No   Sat  Dinner     3        0\n",
      "37        16.93   3.07     No   Sat  Dinner     3        1\n",
      "38        18.69   2.31     No   Sat  Dinner     3        0\n",
      "39        31.27   5.00     No   Sat  Dinner     3        0\n",
      "40        16.04   2.24     No   Sat  Dinner     3        0\n",
      "41        17.46   2.54     No   Sun  Dinner     2        0\n",
      "42        13.94   3.06     No   Sun  Dinner     2        0\n",
      "43         9.68   1.32     No   Sun  Dinner     2        0\n",
      "44        30.40   5.60     No   Sun  Dinner     4        0\n",
      "45        18.29   3.00     No   Sun  Dinner     2        0\n",
      "46        22.23   5.00     No   Sun  Dinner     2        0\n",
      "47        32.40   6.00     No   Sun  Dinner     4        0\n",
      "48        28.55   2.05     No   Sun  Dinner     3        0\n",
      "49        18.04   3.00     No   Sun  Dinner     2        0\n",
      "50        12.54   2.50     No   Sun  Dinner     2        0\n",
      "51        10.29   2.60     No   Sun  Dinner     2        1\n",
      "52        34.81   5.20     No   Sun  Dinner     4        1\n",
      "53         9.94   1.56     No   Sun  Dinner     2        0\n",
      "54        25.56   4.34     No   Sun  Dinner     4        0\n",
      "55        19.49   3.51     No   Sun  Dinner     2        0\n",
      "56        38.01   3.00    Yes   Sat  Dinner     4        0\n",
      "57        26.41   1.50     No   Sat  Dinner     2        1\n",
      "58        11.24   1.76    Yes   Sat  Dinner     2        0\n",
      "59        48.27   6.73     No   Sat  Dinner     4        0\n",
      "60        20.29   3.21    Yes   Sat  Dinner     2        0\n",
      "61        13.81   2.00    Yes   Sat  Dinner     2        0\n",
      "62        11.02   1.98    Yes   Sat  Dinner     2        0\n",
      "63        18.29   3.76    Yes   Sat  Dinner     4        0\n",
      "64        17.59   2.64     No   Sat  Dinner     3        0\n",
      "65        20.08   3.15     No   Sat  Dinner     3        0\n",
      "66        16.45   2.47     No   Sat  Dinner     2        1\n",
      "67         3.07   1.00    Yes   Sat  Dinner     1        1\n",
      "68        20.23   2.01     No   Sat  Dinner     2        0\n",
      "69        15.01   2.09    Yes   Sat  Dinner     2        0\n",
      "70        12.02   1.97     No   Sat  Dinner     2        0\n",
      "71        17.07   3.00     No   Sat  Dinner     3        1\n",
      "72        26.86   3.14    Yes   Sat  Dinner     2        1\n",
      "73        25.28   5.00    Yes   Sat  Dinner     2        1\n",
      "74        14.73   2.20     No   Sat  Dinner     2        1\n",
      "75        10.51   1.25     No   Sat  Dinner     2        0\n",
      "76        17.92   3.08    Yes   Sat  Dinner     2        0\n",
      "77        27.20   4.00     No  Thur   Lunch     4        0\n",
      "78        22.76   3.00     No  Thur   Lunch     2        0\n",
      "79        17.29   2.71     No  Thur   Lunch     2        0\n",
      "80        19.44   3.00    Yes  Thur   Lunch     2        0\n",
      "81        16.66   3.40     No  Thur   Lunch     2        0\n",
      "82        10.07   1.83     No  Thur   Lunch     1        1\n",
      "83        32.68   5.00    Yes  Thur   Lunch     2        0\n",
      "84        15.98   2.03     No  Thur   Lunch     2        0\n",
      "85        34.83   5.17     No  Thur   Lunch     4        1\n",
      "86        13.03   2.00     No  Thur   Lunch     2        0\n",
      "87        18.28   4.00     No  Thur   Lunch     2        0\n",
      "88        24.71   5.85     No  Thur   Lunch     2        0\n",
      "89        21.16   3.00     No  Thur   Lunch     2        0\n",
      "90        28.97   3.00    Yes   Fri  Dinner     2        0\n",
      "91        22.49   3.50     No   Fri  Dinner     2        0\n",
      "92         5.75   1.00    Yes   Fri  Dinner     2        1\n",
      "93        16.32   4.30    Yes   Fri  Dinner     2        1\n",
      "94        22.75   3.25     No   Fri  Dinner     2        1\n",
      "95        40.17   4.73    Yes   Fri  Dinner     4        0\n",
      "96        27.28   4.00    Yes   Fri  Dinner     2        0\n",
      "97        12.03   1.50    Yes   Fri  Dinner     2        0\n",
      "98        21.01   3.00    Yes   Fri  Dinner     2        0\n",
      "99        12.46   1.50     No   Fri  Dinner     2        0\n",
      "100       11.35   2.50    Yes   Fri  Dinner     2        1\n",
      "101       15.38   3.00    Yes   Fri  Dinner     2        1\n",
      "102       44.30   2.50    Yes   Sat  Dinner     3        1\n",
      "103       22.42   3.48    Yes   Sat  Dinner     2        1\n",
      "104       20.92   4.08     No   Sat  Dinner     2        1\n",
      "105       15.36   1.64    Yes   Sat  Dinner     2        0\n",
      "106       20.49   4.06    Yes   Sat  Dinner     2        0\n",
      "107       25.21   4.29    Yes   Sat  Dinner     2        0\n",
      "108       18.24   3.76     No   Sat  Dinner     2        0\n",
      "109       14.31   4.00    Yes   Sat  Dinner     2        1\n",
      "110       14.00   3.00     No   Sat  Dinner     2        0\n",
      "111        7.25   1.00     No   Sat  Dinner     1        1\n",
      "112       38.07   4.00     No   Sun  Dinner     3        0\n",
      "113       23.95   2.55     No   Sun  Dinner     2        0\n",
      "114       25.71   4.00     No   Sun  Dinner     3        1\n",
      "115       17.31   3.50     No   Sun  Dinner     2        1\n",
      "116       29.93   5.07     No   Sun  Dinner     4        0\n",
      "117       10.65   1.50     No  Thur   Lunch     2        1\n",
      "118       12.43   1.80     No  Thur   Lunch     2        1\n",
      "119       24.08   2.92     No  Thur   Lunch     4        1\n",
      "120       11.69   2.31     No  Thur   Lunch     2        0\n",
      "121       13.42   1.68     No  Thur   Lunch     2        1\n",
      "122       14.26   2.50     No  Thur   Lunch     2        0\n",
      "123       15.95   2.00     No  Thur   Lunch     2        0\n",
      "124       12.48   2.52     No  Thur   Lunch     2        1\n",
      "125       29.80   4.20     No  Thur   Lunch     6        1\n",
      "126        8.52   1.48     No  Thur   Lunch     2        0\n",
      "127       14.52   2.00     No  Thur   Lunch     2        1\n",
      "128       11.38   2.00     No  Thur   Lunch     2        1\n",
      "129       22.82   2.18     No  Thur   Lunch     3        0\n",
      "130       19.08   1.50     No  Thur   Lunch     2        0\n",
      "131       20.27   2.83     No  Thur   Lunch     2        1\n",
      "132       11.17   1.50     No  Thur   Lunch     2        1\n",
      "133       12.26   2.00     No  Thur   Lunch     2        1\n",
      "134       18.26   3.25     No  Thur   Lunch     2        1\n",
      "135        8.51   1.25     No  Thur   Lunch     2        1\n",
      "136       10.33   2.00     No  Thur   Lunch     2        1\n",
      "137       14.15   2.00     No  Thur   Lunch     2        1\n",
      "138       16.00   2.00    Yes  Thur   Lunch     2        0\n",
      "139       13.16   2.75     No  Thur   Lunch     2        1\n",
      "140       17.47   3.50     No  Thur   Lunch     2        1\n",
      "141       34.30   6.70     No  Thur   Lunch     6        0\n",
      "142       41.19   5.00     No  Thur   Lunch     5        0\n",
      "143       27.05   5.00     No  Thur   Lunch     6        1\n",
      "144       16.43   2.30     No  Thur   Lunch     2        1\n",
      "145        8.35   1.50     No  Thur   Lunch     2        1\n",
      "146       18.64   1.36     No  Thur   Lunch     3        1\n",
      "147       11.87   1.63     No  Thur   Lunch     2        1\n",
      "148        9.78   1.73     No  Thur   Lunch     2        0\n",
      "149        7.51   2.00     No  Thur   Lunch     2        0\n",
      "150       14.07   2.50     No   Sun  Dinner     2        0\n",
      "151       13.13   2.00     No   Sun  Dinner     2        0\n",
      "152       17.26   2.74     No   Sun  Dinner     3        0\n",
      "153       24.55   2.00     No   Sun  Dinner     4        0\n",
      "154       19.77   2.00     No   Sun  Dinner     4        0\n",
      "155       29.85   5.14     No   Sun  Dinner     5        1\n",
      "156       48.17   5.00     No   Sun  Dinner     6        0\n",
      "157       25.00   3.75     No   Sun  Dinner     4        1\n",
      "158       13.39   2.61     No   Sun  Dinner     2        1\n",
      "159       16.49   2.00     No   Sun  Dinner     4        0\n",
      "160       21.50   3.50     No   Sun  Dinner     4        0\n",
      "161       12.66   2.50     No   Sun  Dinner     2        0\n",
      "162       16.21   2.00     No   Sun  Dinner     3        1\n",
      "163       13.81   2.00     No   Sun  Dinner     2        0\n",
      "164       17.51   3.00    Yes   Sun  Dinner     2        1\n",
      "165       24.52   3.48     No   Sun  Dinner     3        0\n",
      "166       20.76   2.24     No   Sun  Dinner     2        0\n",
      "167       31.71   4.50     No   Sun  Dinner     4        0\n",
      "168       10.59   1.61    Yes   Sat  Dinner     2        1\n",
      "169       10.63   2.00    Yes   Sat  Dinner     2        1\n",
      "170       50.81  10.00    Yes   Sat  Dinner     3        0\n",
      "171       15.81   3.16    Yes   Sat  Dinner     2        0\n",
      "172        7.25   5.15    Yes   Sun  Dinner     2        0\n",
      "173       31.85   3.18    Yes   Sun  Dinner     2        0\n",
      "174       16.82   4.00    Yes   Sun  Dinner     2        0\n",
      "175       32.90   3.11    Yes   Sun  Dinner     2        0\n",
      "176       17.89   2.00    Yes   Sun  Dinner     2        0\n",
      "177       14.48   2.00    Yes   Sun  Dinner     2        0\n",
      "178        9.60   4.00    Yes   Sun  Dinner     2        1\n",
      "179       34.63   3.55    Yes   Sun  Dinner     2        0\n",
      "180       34.65   3.68    Yes   Sun  Dinner     4        0\n",
      "181       23.33   5.65    Yes   Sun  Dinner     2        0\n",
      "182       45.35   3.50    Yes   Sun  Dinner     3        0\n",
      "183       23.17   6.50    Yes   Sun  Dinner     4        0\n",
      "184       40.55   3.00    Yes   Sun  Dinner     2        0\n",
      "185       20.69   5.00     No   Sun  Dinner     5        0\n",
      "186       20.90   3.50    Yes   Sun  Dinner     3        1\n",
      "187       30.46   2.00    Yes   Sun  Dinner     5        0\n",
      "188       18.15   3.50    Yes   Sun  Dinner     3        1\n",
      "189       23.10   4.00    Yes   Sun  Dinner     3        0\n",
      "190       15.69   1.50    Yes   Sun  Dinner     2        0\n",
      "191       19.81   4.19    Yes  Thur   Lunch     2        1\n",
      "192       28.44   2.56    Yes  Thur   Lunch     2        0\n",
      "193       15.48   2.02    Yes  Thur   Lunch     2        0\n",
      "194       16.58   4.00    Yes  Thur   Lunch     2        0\n",
      "195        7.56   1.44     No  Thur   Lunch     2        0\n",
      "196       10.34   2.00    Yes  Thur   Lunch     2        0\n",
      "197       43.11   5.00    Yes  Thur   Lunch     4        1\n",
      "198       13.00   2.00    Yes  Thur   Lunch     2        1\n",
      "199       13.51   2.00    Yes  Thur   Lunch     2        0\n",
      "200       18.71   4.00    Yes  Thur   Lunch     3        0\n",
      "201       12.74   2.01    Yes  Thur   Lunch     2        1\n",
      "202       13.00   2.00    Yes  Thur   Lunch     2        1\n",
      "203       16.40   2.50    Yes  Thur   Lunch     2        1\n",
      "204       20.53   4.00    Yes  Thur   Lunch     4        0\n",
      "205       16.47   3.23    Yes  Thur   Lunch     3        1\n",
      "206       26.59   3.41    Yes   Sat  Dinner     3        0\n",
      "207       38.73   3.00    Yes   Sat  Dinner     4        0\n",
      "208       24.27   2.03    Yes   Sat  Dinner     2        0\n",
      "209       12.76   2.23    Yes   Sat  Dinner     2        1\n",
      "210       30.06   2.00    Yes   Sat  Dinner     3        0\n",
      "211       25.89   5.16    Yes   Sat  Dinner     4        0\n",
      "212       48.33   9.00     No   Sat  Dinner     4        0\n",
      "213       13.27   2.50    Yes   Sat  Dinner     2        1\n",
      "214       28.17   6.50    Yes   Sat  Dinner     3        1\n",
      "215       12.90   1.10    Yes   Sat  Dinner     2        1\n",
      "216       28.15   3.00    Yes   Sat  Dinner     5        0\n",
      "217       11.59   1.50    Yes   Sat  Dinner     2        0\n",
      "218        7.74   1.44    Yes   Sat  Dinner     2        0\n",
      "219       30.14   3.09    Yes   Sat  Dinner     4        1\n",
      "220       12.16   2.20    Yes   Fri   Lunch     2        0\n",
      "221       13.42   3.48    Yes   Fri   Lunch     2        1\n",
      "222        8.58   1.92    Yes   Fri   Lunch     1        0\n",
      "223       15.98   3.00     No   Fri   Lunch     3        1\n",
      "224       13.42   1.58    Yes   Fri   Lunch     2        0\n",
      "225       16.27   2.50    Yes   Fri   Lunch     2        1\n",
      "226       10.09   2.00    Yes   Fri   Lunch     2        1\n",
      "227       20.45   3.00     No   Sat  Dinner     4        0\n",
      "228       13.28   2.72     No   Sat  Dinner     2        0\n",
      "229       22.12   2.88    Yes   Sat  Dinner     2        1\n",
      "230       24.01   2.00    Yes   Sat  Dinner     4        0\n",
      "231       15.69   3.00    Yes   Sat  Dinner     3        0\n",
      "232       11.61   3.39     No   Sat  Dinner     2        0\n",
      "233       10.77   1.47     No   Sat  Dinner     2        0\n",
      "234       15.53   3.00    Yes   Sat  Dinner     2        0\n",
      "235       10.07   1.25     No   Sat  Dinner     2        0\n",
      "236       12.60   1.00    Yes   Sat  Dinner     2        0\n",
      "237       32.83   1.17    Yes   Sat  Dinner     2        0\n",
      "238       35.83   4.67     No   Sat  Dinner     3        1\n",
      "239       29.03   5.92     No   Sat  Dinner     3        0\n",
      "240       27.18   2.00    Yes   Sat  Dinner     2        1\n",
      "241       22.67   2.00    Yes   Sat  Dinner     2        0\n",
      "242       17.82   1.75     No   Sat  Dinner     2        0\n",
      "243       18.78   3.00     No  Thur  Dinner     2        1\n"
     ]
    }
   ],
   "source": [
    "print(df.to_string())"
   ]
  },
  {
   "cell_type": "code",
   "execution_count": 66,
   "id": "38b62d64",
   "metadata": {},
   "outputs": [
    {
     "name": "stdout",
     "output_type": "stream",
     "text": [
      "|     |   total_bill |   tip | smoker   | day   | time   |   size |   sex_code |\n",
      "|----:|-------------:|------:|:---------|:------|:-------|-------:|-----------:|\n",
      "|   0 |        16.99 |  1.01 | No       | Sun   | Dinner |      2 |          1 |\n",
      "|   1 |        10.34 |  1.66 | No       | Sun   | Dinner |      3 |          0 |\n",
      "|   2 |        21.01 |  3.5  | No       | Sun   | Dinner |      3 |          0 |\n",
      "|   3 |        23.68 |  3.31 | No       | Sun   | Dinner |      2 |          0 |\n",
      "|   4 |        24.59 |  3.61 | No       | Sun   | Dinner |      4 |          1 |\n",
      "|   5 |        25.29 |  4.71 | No       | Sun   | Dinner |      4 |          0 |\n",
      "|   6 |         8.77 |  2    | No       | Sun   | Dinner |      2 |          0 |\n",
      "|   7 |        26.88 |  3.12 | No       | Sun   | Dinner |      4 |          0 |\n",
      "|   8 |        15.04 |  1.96 | No       | Sun   | Dinner |      2 |          0 |\n",
      "|   9 |        14.78 |  3.23 | No       | Sun   | Dinner |      2 |          0 |\n",
      "|  10 |        10.27 |  1.71 | No       | Sun   | Dinner |      2 |          0 |\n",
      "|  11 |        35.26 |  5    | No       | Sun   | Dinner |      4 |          1 |\n",
      "|  12 |        15.42 |  1.57 | No       | Sun   | Dinner |      2 |          0 |\n",
      "|  13 |        18.43 |  3    | No       | Sun   | Dinner |      4 |          0 |\n",
      "|  14 |        14.83 |  3.02 | No       | Sun   | Dinner |      2 |          1 |\n",
      "|  15 |        21.58 |  3.92 | No       | Sun   | Dinner |      2 |          0 |\n",
      "|  16 |        10.33 |  1.67 | No       | Sun   | Dinner |      3 |          1 |\n",
      "|  17 |        16.29 |  3.71 | No       | Sun   | Dinner |      3 |          0 |\n",
      "|  18 |        16.97 |  3.5  | No       | Sun   | Dinner |      3 |          1 |\n",
      "|  19 |        20.65 |  3.35 | No       | Sat   | Dinner |      3 |          0 |\n",
      "|  20 |        17.92 |  4.08 | No       | Sat   | Dinner |      2 |          0 |\n",
      "|  21 |        20.29 |  2.75 | No       | Sat   | Dinner |      2 |          1 |\n",
      "|  22 |        15.77 |  2.23 | No       | Sat   | Dinner |      2 |          1 |\n",
      "|  23 |        39.42 |  7.58 | No       | Sat   | Dinner |      4 |          0 |\n",
      "|  24 |        19.82 |  3.18 | No       | Sat   | Dinner |      2 |          0 |\n",
      "|  25 |        17.81 |  2.34 | No       | Sat   | Dinner |      4 |          0 |\n",
      "|  26 |        13.37 |  2    | No       | Sat   | Dinner |      2 |          0 |\n",
      "|  27 |        12.69 |  2    | No       | Sat   | Dinner |      2 |          0 |\n",
      "|  28 |        21.7  |  4.3  | No       | Sat   | Dinner |      2 |          0 |\n",
      "|  29 |        19.65 |  3    | No       | Sat   | Dinner |      2 |          1 |\n",
      "|  30 |         9.55 |  1.45 | No       | Sat   | Dinner |      2 |          0 |\n",
      "|  31 |        18.35 |  2.5  | No       | Sat   | Dinner |      4 |          0 |\n",
      "|  32 |        15.06 |  3    | No       | Sat   | Dinner |      2 |          1 |\n",
      "|  33 |        20.69 |  2.45 | No       | Sat   | Dinner |      4 |          1 |\n",
      "|  34 |        17.78 |  3.27 | No       | Sat   | Dinner |      2 |          0 |\n",
      "|  35 |        24.06 |  3.6  | No       | Sat   | Dinner |      3 |          0 |\n",
      "|  36 |        16.31 |  2    | No       | Sat   | Dinner |      3 |          0 |\n",
      "|  37 |        16.93 |  3.07 | No       | Sat   | Dinner |      3 |          1 |\n",
      "|  38 |        18.69 |  2.31 | No       | Sat   | Dinner |      3 |          0 |\n",
      "|  39 |        31.27 |  5    | No       | Sat   | Dinner |      3 |          0 |\n",
      "|  40 |        16.04 |  2.24 | No       | Sat   | Dinner |      3 |          0 |\n",
      "|  41 |        17.46 |  2.54 | No       | Sun   | Dinner |      2 |          0 |\n",
      "|  42 |        13.94 |  3.06 | No       | Sun   | Dinner |      2 |          0 |\n",
      "|  43 |         9.68 |  1.32 | No       | Sun   | Dinner |      2 |          0 |\n",
      "|  44 |        30.4  |  5.6  | No       | Sun   | Dinner |      4 |          0 |\n",
      "|  45 |        18.29 |  3    | No       | Sun   | Dinner |      2 |          0 |\n",
      "|  46 |        22.23 |  5    | No       | Sun   | Dinner |      2 |          0 |\n",
      "|  47 |        32.4  |  6    | No       | Sun   | Dinner |      4 |          0 |\n",
      "|  48 |        28.55 |  2.05 | No       | Sun   | Dinner |      3 |          0 |\n",
      "|  49 |        18.04 |  3    | No       | Sun   | Dinner |      2 |          0 |\n",
      "|  50 |        12.54 |  2.5  | No       | Sun   | Dinner |      2 |          0 |\n",
      "|  51 |        10.29 |  2.6  | No       | Sun   | Dinner |      2 |          1 |\n",
      "|  52 |        34.81 |  5.2  | No       | Sun   | Dinner |      4 |          1 |\n",
      "|  53 |         9.94 |  1.56 | No       | Sun   | Dinner |      2 |          0 |\n",
      "|  54 |        25.56 |  4.34 | No       | Sun   | Dinner |      4 |          0 |\n",
      "|  55 |        19.49 |  3.51 | No       | Sun   | Dinner |      2 |          0 |\n",
      "|  56 |        38.01 |  3    | Yes      | Sat   | Dinner |      4 |          0 |\n",
      "|  57 |        26.41 |  1.5  | No       | Sat   | Dinner |      2 |          1 |\n",
      "|  58 |        11.24 |  1.76 | Yes      | Sat   | Dinner |      2 |          0 |\n",
      "|  59 |        48.27 |  6.73 | No       | Sat   | Dinner |      4 |          0 |\n",
      "|  60 |        20.29 |  3.21 | Yes      | Sat   | Dinner |      2 |          0 |\n",
      "|  61 |        13.81 |  2    | Yes      | Sat   | Dinner |      2 |          0 |\n",
      "|  62 |        11.02 |  1.98 | Yes      | Sat   | Dinner |      2 |          0 |\n",
      "|  63 |        18.29 |  3.76 | Yes      | Sat   | Dinner |      4 |          0 |\n",
      "|  64 |        17.59 |  2.64 | No       | Sat   | Dinner |      3 |          0 |\n",
      "|  65 |        20.08 |  3.15 | No       | Sat   | Dinner |      3 |          0 |\n",
      "|  66 |        16.45 |  2.47 | No       | Sat   | Dinner |      2 |          1 |\n",
      "|  67 |         3.07 |  1    | Yes      | Sat   | Dinner |      1 |          1 |\n",
      "|  68 |        20.23 |  2.01 | No       | Sat   | Dinner |      2 |          0 |\n",
      "|  69 |        15.01 |  2.09 | Yes      | Sat   | Dinner |      2 |          0 |\n",
      "|  70 |        12.02 |  1.97 | No       | Sat   | Dinner |      2 |          0 |\n",
      "|  71 |        17.07 |  3    | No       | Sat   | Dinner |      3 |          1 |\n",
      "|  72 |        26.86 |  3.14 | Yes      | Sat   | Dinner |      2 |          1 |\n",
      "|  73 |        25.28 |  5    | Yes      | Sat   | Dinner |      2 |          1 |\n",
      "|  74 |        14.73 |  2.2  | No       | Sat   | Dinner |      2 |          1 |\n",
      "|  75 |        10.51 |  1.25 | No       | Sat   | Dinner |      2 |          0 |\n",
      "|  76 |        17.92 |  3.08 | Yes      | Sat   | Dinner |      2 |          0 |\n",
      "|  77 |        27.2  |  4    | No       | Thur  | Lunch  |      4 |          0 |\n",
      "|  78 |        22.76 |  3    | No       | Thur  | Lunch  |      2 |          0 |\n",
      "|  79 |        17.29 |  2.71 | No       | Thur  | Lunch  |      2 |          0 |\n",
      "|  80 |        19.44 |  3    | Yes      | Thur  | Lunch  |      2 |          0 |\n",
      "|  81 |        16.66 |  3.4  | No       | Thur  | Lunch  |      2 |          0 |\n",
      "|  82 |        10.07 |  1.83 | No       | Thur  | Lunch  |      1 |          1 |\n",
      "|  83 |        32.68 |  5    | Yes      | Thur  | Lunch  |      2 |          0 |\n",
      "|  84 |        15.98 |  2.03 | No       | Thur  | Lunch  |      2 |          0 |\n",
      "|  85 |        34.83 |  5.17 | No       | Thur  | Lunch  |      4 |          1 |\n",
      "|  86 |        13.03 |  2    | No       | Thur  | Lunch  |      2 |          0 |\n",
      "|  87 |        18.28 |  4    | No       | Thur  | Lunch  |      2 |          0 |\n",
      "|  88 |        24.71 |  5.85 | No       | Thur  | Lunch  |      2 |          0 |\n",
      "|  89 |        21.16 |  3    | No       | Thur  | Lunch  |      2 |          0 |\n",
      "|  90 |        28.97 |  3    | Yes      | Fri   | Dinner |      2 |          0 |\n",
      "|  91 |        22.49 |  3.5  | No       | Fri   | Dinner |      2 |          0 |\n",
      "|  92 |         5.75 |  1    | Yes      | Fri   | Dinner |      2 |          1 |\n",
      "|  93 |        16.32 |  4.3  | Yes      | Fri   | Dinner |      2 |          1 |\n",
      "|  94 |        22.75 |  3.25 | No       | Fri   | Dinner |      2 |          1 |\n",
      "|  95 |        40.17 |  4.73 | Yes      | Fri   | Dinner |      4 |          0 |\n",
      "|  96 |        27.28 |  4    | Yes      | Fri   | Dinner |      2 |          0 |\n",
      "|  97 |        12.03 |  1.5  | Yes      | Fri   | Dinner |      2 |          0 |\n",
      "|  98 |        21.01 |  3    | Yes      | Fri   | Dinner |      2 |          0 |\n",
      "|  99 |        12.46 |  1.5  | No       | Fri   | Dinner |      2 |          0 |\n",
      "| 100 |        11.35 |  2.5  | Yes      | Fri   | Dinner |      2 |          1 |\n",
      "| 101 |        15.38 |  3    | Yes      | Fri   | Dinner |      2 |          1 |\n",
      "| 102 |        44.3  |  2.5  | Yes      | Sat   | Dinner |      3 |          1 |\n",
      "| 103 |        22.42 |  3.48 | Yes      | Sat   | Dinner |      2 |          1 |\n",
      "| 104 |        20.92 |  4.08 | No       | Sat   | Dinner |      2 |          1 |\n",
      "| 105 |        15.36 |  1.64 | Yes      | Sat   | Dinner |      2 |          0 |\n",
      "| 106 |        20.49 |  4.06 | Yes      | Sat   | Dinner |      2 |          0 |\n",
      "| 107 |        25.21 |  4.29 | Yes      | Sat   | Dinner |      2 |          0 |\n",
      "| 108 |        18.24 |  3.76 | No       | Sat   | Dinner |      2 |          0 |\n",
      "| 109 |        14.31 |  4    | Yes      | Sat   | Dinner |      2 |          1 |\n",
      "| 110 |        14    |  3    | No       | Sat   | Dinner |      2 |          0 |\n",
      "| 111 |         7.25 |  1    | No       | Sat   | Dinner |      1 |          1 |\n",
      "| 112 |        38.07 |  4    | No       | Sun   | Dinner |      3 |          0 |\n",
      "| 113 |        23.95 |  2.55 | No       | Sun   | Dinner |      2 |          0 |\n",
      "| 114 |        25.71 |  4    | No       | Sun   | Dinner |      3 |          1 |\n",
      "| 115 |        17.31 |  3.5  | No       | Sun   | Dinner |      2 |          1 |\n",
      "| 116 |        29.93 |  5.07 | No       | Sun   | Dinner |      4 |          0 |\n",
      "| 117 |        10.65 |  1.5  | No       | Thur  | Lunch  |      2 |          1 |\n",
      "| 118 |        12.43 |  1.8  | No       | Thur  | Lunch  |      2 |          1 |\n",
      "| 119 |        24.08 |  2.92 | No       | Thur  | Lunch  |      4 |          1 |\n",
      "| 120 |        11.69 |  2.31 | No       | Thur  | Lunch  |      2 |          0 |\n",
      "| 121 |        13.42 |  1.68 | No       | Thur  | Lunch  |      2 |          1 |\n",
      "| 122 |        14.26 |  2.5  | No       | Thur  | Lunch  |      2 |          0 |\n",
      "| 123 |        15.95 |  2    | No       | Thur  | Lunch  |      2 |          0 |\n",
      "| 124 |        12.48 |  2.52 | No       | Thur  | Lunch  |      2 |          1 |\n",
      "| 125 |        29.8  |  4.2  | No       | Thur  | Lunch  |      6 |          1 |\n",
      "| 126 |         8.52 |  1.48 | No       | Thur  | Lunch  |      2 |          0 |\n",
      "| 127 |        14.52 |  2    | No       | Thur  | Lunch  |      2 |          1 |\n",
      "| 128 |        11.38 |  2    | No       | Thur  | Lunch  |      2 |          1 |\n",
      "| 129 |        22.82 |  2.18 | No       | Thur  | Lunch  |      3 |          0 |\n",
      "| 130 |        19.08 |  1.5  | No       | Thur  | Lunch  |      2 |          0 |\n",
      "| 131 |        20.27 |  2.83 | No       | Thur  | Lunch  |      2 |          1 |\n",
      "| 132 |        11.17 |  1.5  | No       | Thur  | Lunch  |      2 |          1 |\n",
      "| 133 |        12.26 |  2    | No       | Thur  | Lunch  |      2 |          1 |\n",
      "| 134 |        18.26 |  3.25 | No       | Thur  | Lunch  |      2 |          1 |\n",
      "| 135 |         8.51 |  1.25 | No       | Thur  | Lunch  |      2 |          1 |\n",
      "| 136 |        10.33 |  2    | No       | Thur  | Lunch  |      2 |          1 |\n",
      "| 137 |        14.15 |  2    | No       | Thur  | Lunch  |      2 |          1 |\n",
      "| 138 |        16    |  2    | Yes      | Thur  | Lunch  |      2 |          0 |\n",
      "| 139 |        13.16 |  2.75 | No       | Thur  | Lunch  |      2 |          1 |\n",
      "| 140 |        17.47 |  3.5  | No       | Thur  | Lunch  |      2 |          1 |\n",
      "| 141 |        34.3  |  6.7  | No       | Thur  | Lunch  |      6 |          0 |\n",
      "| 142 |        41.19 |  5    | No       | Thur  | Lunch  |      5 |          0 |\n",
      "| 143 |        27.05 |  5    | No       | Thur  | Lunch  |      6 |          1 |\n",
      "| 144 |        16.43 |  2.3  | No       | Thur  | Lunch  |      2 |          1 |\n",
      "| 145 |         8.35 |  1.5  | No       | Thur  | Lunch  |      2 |          1 |\n",
      "| 146 |        18.64 |  1.36 | No       | Thur  | Lunch  |      3 |          1 |\n",
      "| 147 |        11.87 |  1.63 | No       | Thur  | Lunch  |      2 |          1 |\n",
      "| 148 |         9.78 |  1.73 | No       | Thur  | Lunch  |      2 |          0 |\n",
      "| 149 |         7.51 |  2    | No       | Thur  | Lunch  |      2 |          0 |\n",
      "| 150 |        14.07 |  2.5  | No       | Sun   | Dinner |      2 |          0 |\n",
      "| 151 |        13.13 |  2    | No       | Sun   | Dinner |      2 |          0 |\n",
      "| 152 |        17.26 |  2.74 | No       | Sun   | Dinner |      3 |          0 |\n",
      "| 153 |        24.55 |  2    | No       | Sun   | Dinner |      4 |          0 |\n",
      "| 154 |        19.77 |  2    | No       | Sun   | Dinner |      4 |          0 |\n",
      "| 155 |        29.85 |  5.14 | No       | Sun   | Dinner |      5 |          1 |\n",
      "| 156 |        48.17 |  5    | No       | Sun   | Dinner |      6 |          0 |\n",
      "| 157 |        25    |  3.75 | No       | Sun   | Dinner |      4 |          1 |\n",
      "| 158 |        13.39 |  2.61 | No       | Sun   | Dinner |      2 |          1 |\n",
      "| 159 |        16.49 |  2    | No       | Sun   | Dinner |      4 |          0 |\n",
      "| 160 |        21.5  |  3.5  | No       | Sun   | Dinner |      4 |          0 |\n",
      "| 161 |        12.66 |  2.5  | No       | Sun   | Dinner |      2 |          0 |\n",
      "| 162 |        16.21 |  2    | No       | Sun   | Dinner |      3 |          1 |\n",
      "| 163 |        13.81 |  2    | No       | Sun   | Dinner |      2 |          0 |\n",
      "| 164 |        17.51 |  3    | Yes      | Sun   | Dinner |      2 |          1 |\n",
      "| 165 |        24.52 |  3.48 | No       | Sun   | Dinner |      3 |          0 |\n",
      "| 166 |        20.76 |  2.24 | No       | Sun   | Dinner |      2 |          0 |\n",
      "| 167 |        31.71 |  4.5  | No       | Sun   | Dinner |      4 |          0 |\n",
      "| 168 |        10.59 |  1.61 | Yes      | Sat   | Dinner |      2 |          1 |\n",
      "| 169 |        10.63 |  2    | Yes      | Sat   | Dinner |      2 |          1 |\n",
      "| 170 |        50.81 | 10    | Yes      | Sat   | Dinner |      3 |          0 |\n",
      "| 171 |        15.81 |  3.16 | Yes      | Sat   | Dinner |      2 |          0 |\n",
      "| 172 |         7.25 |  5.15 | Yes      | Sun   | Dinner |      2 |          0 |\n",
      "| 173 |        31.85 |  3.18 | Yes      | Sun   | Dinner |      2 |          0 |\n",
      "| 174 |        16.82 |  4    | Yes      | Sun   | Dinner |      2 |          0 |\n",
      "| 175 |        32.9  |  3.11 | Yes      | Sun   | Dinner |      2 |          0 |\n",
      "| 176 |        17.89 |  2    | Yes      | Sun   | Dinner |      2 |          0 |\n",
      "| 177 |        14.48 |  2    | Yes      | Sun   | Dinner |      2 |          0 |\n",
      "| 178 |         9.6  |  4    | Yes      | Sun   | Dinner |      2 |          1 |\n",
      "| 179 |        34.63 |  3.55 | Yes      | Sun   | Dinner |      2 |          0 |\n",
      "| 180 |        34.65 |  3.68 | Yes      | Sun   | Dinner |      4 |          0 |\n",
      "| 181 |        23.33 |  5.65 | Yes      | Sun   | Dinner |      2 |          0 |\n",
      "| 182 |        45.35 |  3.5  | Yes      | Sun   | Dinner |      3 |          0 |\n",
      "| 183 |        23.17 |  6.5  | Yes      | Sun   | Dinner |      4 |          0 |\n",
      "| 184 |        40.55 |  3    | Yes      | Sun   | Dinner |      2 |          0 |\n",
      "| 185 |        20.69 |  5    | No       | Sun   | Dinner |      5 |          0 |\n",
      "| 186 |        20.9  |  3.5  | Yes      | Sun   | Dinner |      3 |          1 |\n",
      "| 187 |        30.46 |  2    | Yes      | Sun   | Dinner |      5 |          0 |\n",
      "| 188 |        18.15 |  3.5  | Yes      | Sun   | Dinner |      3 |          1 |\n",
      "| 189 |        23.1  |  4    | Yes      | Sun   | Dinner |      3 |          0 |\n",
      "| 190 |        15.69 |  1.5  | Yes      | Sun   | Dinner |      2 |          0 |\n",
      "| 191 |        19.81 |  4.19 | Yes      | Thur  | Lunch  |      2 |          1 |\n",
      "| 192 |        28.44 |  2.56 | Yes      | Thur  | Lunch  |      2 |          0 |\n",
      "| 193 |        15.48 |  2.02 | Yes      | Thur  | Lunch  |      2 |          0 |\n",
      "| 194 |        16.58 |  4    | Yes      | Thur  | Lunch  |      2 |          0 |\n",
      "| 195 |         7.56 |  1.44 | No       | Thur  | Lunch  |      2 |          0 |\n",
      "| 196 |        10.34 |  2    | Yes      | Thur  | Lunch  |      2 |          0 |\n",
      "| 197 |        43.11 |  5    | Yes      | Thur  | Lunch  |      4 |          1 |\n",
      "| 198 |        13    |  2    | Yes      | Thur  | Lunch  |      2 |          1 |\n",
      "| 199 |        13.51 |  2    | Yes      | Thur  | Lunch  |      2 |          0 |\n",
      "| 200 |        18.71 |  4    | Yes      | Thur  | Lunch  |      3 |          0 |\n",
      "| 201 |        12.74 |  2.01 | Yes      | Thur  | Lunch  |      2 |          1 |\n",
      "| 202 |        13    |  2    | Yes      | Thur  | Lunch  |      2 |          1 |\n",
      "| 203 |        16.4  |  2.5  | Yes      | Thur  | Lunch  |      2 |          1 |\n",
      "| 204 |        20.53 |  4    | Yes      | Thur  | Lunch  |      4 |          0 |\n",
      "| 205 |        16.47 |  3.23 | Yes      | Thur  | Lunch  |      3 |          1 |\n",
      "| 206 |        26.59 |  3.41 | Yes      | Sat   | Dinner |      3 |          0 |\n",
      "| 207 |        38.73 |  3    | Yes      | Sat   | Dinner |      4 |          0 |\n",
      "| 208 |        24.27 |  2.03 | Yes      | Sat   | Dinner |      2 |          0 |\n",
      "| 209 |        12.76 |  2.23 | Yes      | Sat   | Dinner |      2 |          1 |\n",
      "| 210 |        30.06 |  2    | Yes      | Sat   | Dinner |      3 |          0 |\n",
      "| 211 |        25.89 |  5.16 | Yes      | Sat   | Dinner |      4 |          0 |\n",
      "| 212 |        48.33 |  9    | No       | Sat   | Dinner |      4 |          0 |\n",
      "| 213 |        13.27 |  2.5  | Yes      | Sat   | Dinner |      2 |          1 |\n",
      "| 214 |        28.17 |  6.5  | Yes      | Sat   | Dinner |      3 |          1 |\n",
      "| 215 |        12.9  |  1.1  | Yes      | Sat   | Dinner |      2 |          1 |\n",
      "| 216 |        28.15 |  3    | Yes      | Sat   | Dinner |      5 |          0 |\n",
      "| 217 |        11.59 |  1.5  | Yes      | Sat   | Dinner |      2 |          0 |\n",
      "| 218 |         7.74 |  1.44 | Yes      | Sat   | Dinner |      2 |          0 |\n",
      "| 219 |        30.14 |  3.09 | Yes      | Sat   | Dinner |      4 |          1 |\n",
      "| 220 |        12.16 |  2.2  | Yes      | Fri   | Lunch  |      2 |          0 |\n",
      "| 221 |        13.42 |  3.48 | Yes      | Fri   | Lunch  |      2 |          1 |\n",
      "| 222 |         8.58 |  1.92 | Yes      | Fri   | Lunch  |      1 |          0 |\n",
      "| 223 |        15.98 |  3    | No       | Fri   | Lunch  |      3 |          1 |\n",
      "| 224 |        13.42 |  1.58 | Yes      | Fri   | Lunch  |      2 |          0 |\n",
      "| 225 |        16.27 |  2.5  | Yes      | Fri   | Lunch  |      2 |          1 |\n",
      "| 226 |        10.09 |  2    | Yes      | Fri   | Lunch  |      2 |          1 |\n",
      "| 227 |        20.45 |  3    | No       | Sat   | Dinner |      4 |          0 |\n",
      "| 228 |        13.28 |  2.72 | No       | Sat   | Dinner |      2 |          0 |\n",
      "| 229 |        22.12 |  2.88 | Yes      | Sat   | Dinner |      2 |          1 |\n",
      "| 230 |        24.01 |  2    | Yes      | Sat   | Dinner |      4 |          0 |\n",
      "| 231 |        15.69 |  3    | Yes      | Sat   | Dinner |      3 |          0 |\n",
      "| 232 |        11.61 |  3.39 | No       | Sat   | Dinner |      2 |          0 |\n",
      "| 233 |        10.77 |  1.47 | No       | Sat   | Dinner |      2 |          0 |\n",
      "| 234 |        15.53 |  3    | Yes      | Sat   | Dinner |      2 |          0 |\n",
      "| 235 |        10.07 |  1.25 | No       | Sat   | Dinner |      2 |          0 |\n",
      "| 236 |        12.6  |  1    | Yes      | Sat   | Dinner |      2 |          0 |\n",
      "| 237 |        32.83 |  1.17 | Yes      | Sat   | Dinner |      2 |          0 |\n",
      "| 238 |        35.83 |  4.67 | No       | Sat   | Dinner |      3 |          1 |\n",
      "| 239 |        29.03 |  5.92 | No       | Sat   | Dinner |      3 |          0 |\n",
      "| 240 |        27.18 |  2    | Yes      | Sat   | Dinner |      2 |          1 |\n",
      "| 241 |        22.67 |  2    | Yes      | Sat   | Dinner |      2 |          0 |\n",
      "| 242 |        17.82 |  1.75 | No       | Sat   | Dinner |      2 |          0 |\n",
      "| 243 |        18.78 |  3    | No       | Thur  | Dinner |      2 |          1 |\n"
     ]
    }
   ],
   "source": [
    "print(df.to_markdown())"
   ]
  },
  {
   "cell_type": "code",
   "execution_count": null,
   "id": "d4558702",
   "metadata": {},
   "outputs": [],
   "source": []
  }
 ],
 "metadata": {
  "kernelspec": {
   "display_name": "Python 3 (ipykernel)",
   "language": "python",
   "name": "python3"
  },
  "language_info": {
   "codemirror_mode": {
    "name": "ipython",
    "version": 3
   },
   "file_extension": ".py",
   "mimetype": "text/x-python",
   "name": "python",
   "nbconvert_exporter": "python",
   "pygments_lexer": "ipython3",
   "version": "3.11.5"
  }
 },
 "nbformat": 4,
 "nbformat_minor": 5
}
